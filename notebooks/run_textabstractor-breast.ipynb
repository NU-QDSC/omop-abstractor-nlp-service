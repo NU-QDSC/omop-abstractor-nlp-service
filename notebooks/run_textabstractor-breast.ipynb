{
 "cells": [
  {
   "cell_type": "code",
   "execution_count": 1,
   "id": "1b726056-b2d3-4ced-a43d-edd8212adaf3",
   "metadata": {},
   "outputs": [],
   "source": [
    "%load_ext autoreload\n",
    "%autoreload 2"
   ]
  },
  {
   "cell_type": "code",
   "execution_count": 2,
   "id": "e512dac9-4574-41a4-ad08-883dd8aaa033",
   "metadata": {},
   "outputs": [],
   "source": [
    "import json\n",
    "from pathlib import Path\n",
    "from typing import Dict, List\n",
    "from rich import print\n",
    "from rich.console import Console\n",
    "from rich.text import Text\n",
    "import textabstractor\n",
    "from textabstractor.dataclasses import *\n",
    "import clinspacy\n",
    "\n",
    "console = Console()"
   ]
  },
  {
   "cell_type": "code",
   "execution_count": 3,
   "id": "bd9fdc99-8f83-4c23-98a5-9d30d77e4aad",
   "metadata": {},
   "outputs": [],
   "source": [
    "def load_schemas() -> Dict[int, AbstractionSchema]:\n",
    "    schemas = {}\n",
    "    for i in range(285, 300):\n",
    "        json_text = Path(f\"../textabstractor_testdata/breast/{str(i)}.json\").read_text()\n",
    "        json_dict = json.loads(json_text)\n",
    "        schemas[i] = AbstractionSchema(**json_dict['abstractor_abstraction_schema'])\n",
    "    return schemas"
   ]
  },
  {
   "cell_type": "code",
   "execution_count": 18,
   "id": "1ebc8b9f-a54b-4921-8935-435bbc0db257",
   "metadata": {},
   "outputs": [],
   "source": [
    "note_text1 = Path(\"../../clinspacy/tests/data/breast/note-1-text.txt\").read_text()\n",
    "note_text2 = Path(\"../../clinspacy/tests/data/breast/note-2-text.txt\").read_text()\n",
    "note_text3 = Path(\"../../clinspacy/tests/data/breast/note-3-text.txt\").read_text()\n",
    "note_text4 = Path(\"../../clinspacy/tests/data/breast/note-4-text.txt\").read_text()\n",
    "request = SuggestRequest(**json.loads(Path(\"../textabstractor_testdata/breast/request.json\").read_text()))"
   ]
  },
  {
   "cell_type": "code",
   "execution_count": 19,
   "id": "d1d35f7c-3f9a-45ca-8a3d-125c65337d42",
   "metadata": {},
   "outputs": [],
   "source": [
    "# preload the schema cache\n",
    "schemas = load_schemas()\n",
    "for schema_meta_data in request.abstractor_abstraction_schemas:\n",
    "    textabstractor.textabstract.schema_cache[schema_meta_data.abstractor_abstraction_schema_uri] = (\n",
    "        schema_meta_data, schemas[schema_meta_data.abstractor_abstraction_schema_id]\n",
    "    )"
   ]
  },
  {
   "cell_type": "code",
   "execution_count": 20,
   "id": "9818c41b-a43f-4397-9b64-6b4c5edd4618",
   "metadata": {},
   "outputs": [],
   "source": [
    "request.text = note_text2\n",
    "suggestions = textabstractor.textabstract.extract_suggestions(\n",
    "    request=request\n",
    ")"
   ]
  },
  {
   "cell_type": "code",
   "execution_count": 29,
   "id": "43dca41c-94f2-49b8-9943-f0eae707bffc",
   "metadata": {},
   "outputs": [
    {
     "data": {
      "text/html": [
       "<pre style=\"white-space:pre;overflow-x:auto;line-height:normal;font-family:Menlo,'DejaVu Sans Mono',consolas,'Courier New',monospace\">A. Right sentinel lymph nodes, excision:\n",
       "\n",
       "</pre>\n"
      ],
      "text/plain": [
       "A. Right sentinel lymph nodes, excision:\n",
       "\n"
      ]
     },
     "metadata": {},
     "output_type": "display_data"
    },
    {
     "data": {
      "text/html": [
       "<pre style=\"white-space:pre;overflow-x:auto;line-height:normal;font-family:Menlo,'DejaVu Sans Mono',consolas,'Courier New',monospace\">============================================================================================\n",
       "</pre>\n"
      ],
      "text/plain": [
       "============================================================================================\n"
      ]
     },
     "metadata": {},
     "output_type": "display_data"
    },
    {
     "data": {
      "text/html": [
       "<pre style=\"white-space:pre;overflow-x:auto;line-height:normal;font-family:Menlo,'DejaVu Sans Mono',consolas,'Courier New',monospace\">?\n",
       "</pre>\n"
      ],
      "text/plain": [
       "?\n"
      ]
     },
     "metadata": {},
     "output_type": "display_data"
    },
    {
     "data": {
      "text/html": [
       "<pre style=\"white-space:pre;overflow-x:auto;line-height:normal;font-family:Menlo,'DejaVu Sans Mono',consolas,'Courier New',monospace\">============================================================================================\n",
       "</pre>\n"
      ],
      "text/plain": [
       "============================================================================================\n"
      ]
     },
     "metadata": {},
     "output_type": "display_data"
    },
    {
     "data": {
      "text/html": [
       "<pre style=\"white-space:pre;overflow-x:auto;line-height:normal;font-family:Menlo,'DejaVu Sans Mono',consolas,'Courier New',monospace\">Metastatic carcinoma involving two of three lymph nodes <span style=\"font-weight: bold\">(</span><span style=\"color: #008080; text-decoration-color: #008080; font-weight: bold\">2</span>/<span style=\"color: #008080; text-decoration-color: #008080; font-weight: bold\">3</span><span style=\"font-weight: bold\">)</span>.\n",
       "\n",
       "</pre>\n"
      ],
      "text/plain": [
       "Metastatic carcinoma involving two of three lymph nodes \u001b[1m(\u001b[0m\u001b[1;36m2\u001b[0m/\u001b[1;36m3\u001b[0m\u001b[1m)\u001b[0m.\n",
       "\n"
      ]
     },
     "metadata": {},
     "output_type": "display_data"
    },
    {
     "data": {
      "text/html": [
       "<pre style=\"white-space:pre;overflow-x:auto;line-height:normal;font-family:Menlo,'DejaVu Sans Mono',consolas,'Courier New',monospace\">============================================================================================\n",
       "</pre>\n"
      ],
      "text/plain": [
       "============================================================================================\n"
      ]
     },
     "metadata": {},
     "output_type": "display_data"
    },
    {
     "data": {
      "text/html": [
       "<pre style=\"white-space:pre;overflow-x:auto;line-height:normal;font-family:Menlo,'DejaVu Sans Mono',consolas,'Courier New',monospace\">?\n",
       "</pre>\n"
      ],
      "text/plain": [
       "?\n"
      ]
     },
     "metadata": {},
     "output_type": "display_data"
    },
    {
     "data": {
      "text/html": [
       "<pre style=\"white-space:pre;overflow-x:auto;line-height:normal;font-family:Menlo,'DejaVu Sans Mono',consolas,'Courier New',monospace\">============================================================================================\n",
       "</pre>\n"
      ],
      "text/plain": [
       "============================================================================================\n"
      ]
     },
     "metadata": {},
     "output_type": "display_data"
    },
    {
     "data": {
      "text/html": [
       "<pre style=\"white-space:pre;overflow-x:auto;line-height:normal;font-family:Menlo,'DejaVu Sans Mono',consolas,'Courier New',monospace\">Largest metastatic focus measures <span style=\"color: #008080; text-decoration-color: #008080; font-weight: bold\">0.5</span> cm in greatest dimension.\n",
       "\n",
       "</pre>\n"
      ],
      "text/plain": [
       "Largest metastatic focus measures \u001b[1;36m0.5\u001b[0m cm in greatest dimension.\n",
       "\n"
      ]
     },
     "metadata": {},
     "output_type": "display_data"
    },
    {
     "data": {
      "text/html": [
       "<pre style=\"white-space:pre;overflow-x:auto;line-height:normal;font-family:Menlo,'DejaVu Sans Mono',consolas,'Courier New',monospace\">============================================================================================\n",
       "</pre>\n"
      ],
      "text/plain": [
       "============================================================================================\n"
      ]
     },
     "metadata": {},
     "output_type": "display_data"
    },
    {
     "data": {
      "text/html": [
       "<pre style=\"white-space:pre;overflow-x:auto;line-height:normal;font-family:Menlo,'DejaVu Sans Mono',consolas,'Courier New',monospace\">?\n",
       "</pre>\n"
      ],
      "text/plain": [
       "?\n"
      ]
     },
     "metadata": {},
     "output_type": "display_data"
    },
    {
     "data": {
      "text/html": [
       "<pre style=\"white-space:pre;overflow-x:auto;line-height:normal;font-family:Menlo,'DejaVu Sans Mono',consolas,'Courier New',monospace\">============================================================================================\n",
       "</pre>\n"
      ],
      "text/plain": [
       "============================================================================================\n"
      ]
     },
     "metadata": {},
     "output_type": "display_data"
    },
    {
     "data": {
      "text/html": [
       "<pre style=\"white-space:pre;overflow-x:auto;line-height:normal;font-family:Menlo,'DejaVu Sans Mono',consolas,'Courier New',monospace\">Extranodal extension is not identified.\n",
       "\n",
       "\n",
       "</pre>\n"
      ],
      "text/plain": [
       "Extranodal extension is not identified.\n",
       "\n",
       "\n"
      ]
     },
     "metadata": {},
     "output_type": "display_data"
    },
    {
     "data": {
      "text/html": [
       "<pre style=\"white-space:pre;overflow-x:auto;line-height:normal;font-family:Menlo,'DejaVu Sans Mono',consolas,'Courier New',monospace\">============================================================================================\n",
       "</pre>\n"
      ],
      "text/plain": [
       "============================================================================================\n"
      ]
     },
     "metadata": {},
     "output_type": "display_data"
    },
    {
     "data": {
      "text/html": [
       "<pre style=\"white-space:pre;overflow-x:auto;line-height:normal;font-family:Menlo,'DejaVu Sans Mono',consolas,'Courier New',monospace\">B. Left breast, needle localization segmental mastectomy:\n",
       "\n",
       "</pre>\n"
      ],
      "text/plain": [
       "B. Left breast, needle localization segmental mastectomy:\n",
       "\n"
      ]
     },
     "metadata": {},
     "output_type": "display_data"
    },
    {
     "data": {
      "text/html": [
       "<pre style=\"white-space:pre;overflow-x:auto;line-height:normal;font-family:Menlo,'DejaVu Sans Mono',consolas,'Courier New',monospace\">============================================================================================\n",
       "</pre>\n"
      ],
      "text/plain": [
       "============================================================================================\n"
      ]
     },
     "metadata": {},
     "output_type": "display_data"
    },
    {
     "data": {
      "text/html": [
       "<pre style=\"white-space:pre;overflow-x:auto;line-height:normal;font-family:Menlo,'DejaVu Sans Mono',consolas,'Courier New',monospace\">?\n",
       "</pre>\n"
      ],
      "text/plain": [
       "?\n"
      ]
     },
     "metadata": {},
     "output_type": "display_data"
    },
    {
     "data": {
      "text/html": [
       "<pre style=\"white-space:pre;overflow-x:auto;line-height:normal;font-family:Menlo,'DejaVu Sans Mono',consolas,'Courier New',monospace\">============================================================================================\n",
       "</pre>\n"
      ],
      "text/plain": [
       "============================================================================================\n"
      ]
     },
     "metadata": {},
     "output_type": "display_data"
    },
    {
     "data": {
      "text/html": [
       "<pre style=\"white-space:pre;overflow-x:auto;line-height:normal;font-family:Menlo,'DejaVu Sans Mono',consolas,'Courier New',monospace\">Breast tissue with usual ductal hyperplasia, columnar cell change, cystic apocrine \n",
       "metaplasia, sclerosing adenosis, fibroadenomatous change, pseudoangiomatous stromal \n",
       "hyperplasia <span style=\"font-weight: bold\">(</span>PASH<span style=\"font-weight: bold\">)</span>, and microcysts.\n",
       "\n",
       "</pre>\n"
      ],
      "text/plain": [
       "Breast tissue with usual ductal hyperplasia, columnar cell change, cystic apocrine \n",
       "metaplasia, sclerosing adenosis, fibroadenomatous change, pseudoangiomatous stromal \n",
       "hyperplasia \u001b[1m(\u001b[0mPASH\u001b[1m)\u001b[0m, and microcysts.\n",
       "\n"
      ]
     },
     "metadata": {},
     "output_type": "display_data"
    },
    {
     "data": {
      "text/html": [
       "<pre style=\"white-space:pre;overflow-x:auto;line-height:normal;font-family:Menlo,'DejaVu Sans Mono',consolas,'Courier New',monospace\">============================================================================================\n",
       "</pre>\n"
      ],
      "text/plain": [
       "============================================================================================\n"
      ]
     },
     "metadata": {},
     "output_type": "display_data"
    },
    {
     "data": {
      "text/html": [
       "<pre style=\"white-space:pre;overflow-x:auto;line-height:normal;font-family:Menlo,'DejaVu Sans Mono',consolas,'Courier New',monospace\">?\n",
       "</pre>\n"
      ],
      "text/plain": [
       "?\n"
      ]
     },
     "metadata": {},
     "output_type": "display_data"
    },
    {
     "data": {
      "text/html": [
       "<pre style=\"white-space:pre;overflow-x:auto;line-height:normal;font-family:Menlo,'DejaVu Sans Mono',consolas,'Courier New',monospace\">============================================================================================\n",
       "</pre>\n"
      ],
      "text/plain": [
       "============================================================================================\n"
      ]
     },
     "metadata": {},
     "output_type": "display_data"
    },
    {
     "data": {
      "text/html": [
       "<pre style=\"white-space:pre;overflow-x:auto;line-height:normal;font-family:Menlo,'DejaVu Sans Mono',consolas,'Courier New',monospace\">Biopsy site changes present.\n",
       "\n",
       "</pre>\n"
      ],
      "text/plain": [
       "Biopsy site changes present.\n",
       "\n"
      ]
     },
     "metadata": {},
     "output_type": "display_data"
    },
    {
     "data": {
      "text/html": [
       "<pre style=\"white-space:pre;overflow-x:auto;line-height:normal;font-family:Menlo,'DejaVu Sans Mono',consolas,'Courier New',monospace\">============================================================================================\n",
       "</pre>\n"
      ],
      "text/plain": [
       "============================================================================================\n"
      ]
     },
     "metadata": {},
     "output_type": "display_data"
    },
    {
     "data": {
      "text/html": [
       "<pre style=\"white-space:pre;overflow-x:auto;line-height:normal;font-family:Menlo,'DejaVu Sans Mono',consolas,'Courier New',monospace\">?\n",
       "</pre>\n"
      ],
      "text/plain": [
       "?\n"
      ]
     },
     "metadata": {},
     "output_type": "display_data"
    },
    {
     "data": {
      "text/html": [
       "<pre style=\"white-space:pre;overflow-x:auto;line-height:normal;font-family:Menlo,'DejaVu Sans Mono',consolas,'Courier New',monospace\">============================================================================================\n",
       "</pre>\n"
      ],
      "text/plain": [
       "============================================================================================\n"
      ]
     },
     "metadata": {},
     "output_type": "display_data"
    },
    {
     "data": {
      "text/html": [
       "<pre style=\"white-space:pre;overflow-x:auto;line-height:normal;font-family:Menlo,'DejaVu Sans Mono',consolas,'Courier New',monospace\">Microcalcifications are associated with benign breast ducts.\n",
       "\n",
       "\n",
       "</pre>\n"
      ],
      "text/plain": [
       "Microcalcifications are associated with benign breast ducts.\n",
       "\n",
       "\n"
      ]
     },
     "metadata": {},
     "output_type": "display_data"
    },
    {
     "data": {
      "text/html": [
       "<pre style=\"white-space:pre;overflow-x:auto;line-height:normal;font-family:Menlo,'DejaVu Sans Mono',consolas,'Courier New',monospace\">============================================================================================\n",
       "</pre>\n"
      ],
      "text/plain": [
       "============================================================================================\n"
      ]
     },
     "metadata": {},
     "output_type": "display_data"
    },
    {
     "data": {
      "text/html": [
       "<pre style=\"white-space:pre;overflow-x:auto;line-height:normal;font-family:Menlo,'DejaVu Sans Mono',consolas,'Courier New',monospace\">C. Right breast, skin sparing mastectomy:\n",
       "\n",
       "</pre>\n"
      ],
      "text/plain": [
       "C. Right breast, skin sparing mastectomy:\n",
       "\n"
      ]
     },
     "metadata": {},
     "output_type": "display_data"
    },
    {
     "data": {
      "text/html": [
       "<pre style=\"white-space:pre;overflow-x:auto;line-height:normal;font-family:Menlo,'DejaVu Sans Mono',consolas,'Courier New',monospace\">============================================================================================\n",
       "</pre>\n"
      ],
      "text/plain": [
       "============================================================================================\n"
      ]
     },
     "metadata": {},
     "output_type": "display_data"
    },
    {
     "data": {
      "text/html": [
       "<pre style=\"white-space:pre;overflow-x:auto;line-height:normal;font-family:Menlo,'DejaVu Sans Mono',consolas,'Courier New',monospace\">?\n",
       "</pre>\n"
      ],
      "text/plain": [
       "?\n"
      ]
     },
     "metadata": {},
     "output_type": "display_data"
    },
    {
     "data": {
      "text/html": [
       "<pre style=\"white-space:pre;overflow-x:auto;line-height:normal;font-family:Menlo,'DejaVu Sans Mono',consolas,'Courier New',monospace\">============================================================================================\n",
       "</pre>\n"
      ],
      "text/plain": [
       "============================================================================================\n"
      ]
     },
     "metadata": {},
     "output_type": "display_data"
    },
    {
     "data": {
      "text/html": [
       "<pre style=\"white-space:pre;overflow-x:auto;line-height:normal;font-family:Menlo,'DejaVu Sans Mono',consolas,'Courier New',monospace\">Invasive ductal carcinoma, grade <span style=\"color: #008080; text-decoration-color: #008080; font-weight: bold\">2</span> <span style=\"font-weight: bold\">(</span><span style=\"color: #008080; text-decoration-color: #008080; font-weight: bold\">3</span>+<span style=\"color: #008080; text-decoration-color: #008080; font-weight: bold\">3</span>+<span style=\"color: #008080; text-decoration-color: #008080; font-weight: bold\">1</span><span style=\"font-weight: bold\">)</span>, measuring <span style=\"color: #008080; text-decoration-color: #008080; font-weight: bold\">2.5</span> cm in greatest dimension, involving\n",
       "<span style=\"color: #008080; text-decoration-color: #008080; font-weight: bold\">20</span>% of a <span style=\"color: #008080; text-decoration-color: #008080; font-weight: bold\">9.3</span> x <span style=\"color: #008080; text-decoration-color: #008080; font-weight: bold\">5.5</span> cm tumor bed <span style=\"font-weight: bold\">(</span>see note<span style=\"font-weight: bold\">)</span>.\n",
       "\n",
       "</pre>\n"
      ],
      "text/plain": [
       "Invasive ductal carcinoma, grade \u001b[1;36m2\u001b[0m \u001b[1m(\u001b[0m\u001b[1;36m3\u001b[0m+\u001b[1;36m3\u001b[0m+\u001b[1;36m1\u001b[0m\u001b[1m)\u001b[0m, measuring \u001b[1;36m2.5\u001b[0m cm in greatest dimension, involving\n",
       "\u001b[1;36m20\u001b[0m% of a \u001b[1;36m9.3\u001b[0m x \u001b[1;36m5.5\u001b[0m cm tumor bed \u001b[1m(\u001b[0msee note\u001b[1m)\u001b[0m.\n",
       "\n"
      ]
     },
     "metadata": {},
     "output_type": "display_data"
    },
    {
     "data": {
      "text/html": [
       "<pre style=\"white-space:pre;overflow-x:auto;line-height:normal;font-family:Menlo,'DejaVu Sans Mono',consolas,'Courier New',monospace\">============================================================================================\n",
       "</pre>\n"
      ],
      "text/plain": [
       "============================================================================================\n"
      ]
     },
     "metadata": {},
     "output_type": "display_data"
    },
    {
     "data": {
      "text/html": [
       "<pre style=\"white-space:pre;overflow-x:auto;line-height:normal;font-family:Menlo,'DejaVu Sans Mono',consolas,'Courier New',monospace\">?\n",
       "</pre>\n"
      ],
      "text/plain": [
       "?\n"
      ]
     },
     "metadata": {},
     "output_type": "display_data"
    },
    {
     "data": {
      "text/html": [
       "<pre style=\"white-space:pre;overflow-x:auto;line-height:normal;font-family:Menlo,'DejaVu Sans Mono',consolas,'Courier New',monospace\">============================================================================================\n",
       "</pre>\n"
      ],
      "text/plain": [
       "============================================================================================\n"
      ]
     },
     "metadata": {},
     "output_type": "display_data"
    },
    {
     "data": {
      "text/html": [
       "<pre style=\"white-space:pre;overflow-x:auto;line-height:normal;font-family:Menlo,'DejaVu Sans Mono',consolas,'Courier New',monospace\">Margins are negative, with invasive carcinoma closest at <span style=\"color: #008080; text-decoration-color: #008080; font-weight: bold\">0.3</span> cm from the posterior margin.\n",
       "\n",
       "</pre>\n"
      ],
      "text/plain": [
       "Margins are negative, with invasive carcinoma closest at \u001b[1;36m0.3\u001b[0m cm from the posterior margin.\n",
       "\n"
      ]
     },
     "metadata": {},
     "output_type": "display_data"
    },
    {
     "data": {
      "text/html": [
       "<pre style=\"white-space:pre;overflow-x:auto;line-height:normal;font-family:Menlo,'DejaVu Sans Mono',consolas,'Courier New',monospace\">============================================================================================\n",
       "</pre>\n"
      ],
      "text/plain": [
       "============================================================================================\n"
      ]
     },
     "metadata": {},
     "output_type": "display_data"
    },
    {
     "data": {
      "text/html": [
       "<pre style=\"white-space:pre;overflow-x:auto;line-height:normal;font-family:Menlo,'DejaVu Sans Mono',consolas,'Courier New',monospace\">?\n",
       "</pre>\n"
      ],
      "text/plain": [
       "?\n"
      ]
     },
     "metadata": {},
     "output_type": "display_data"
    },
    {
     "data": {
      "text/html": [
       "<pre style=\"white-space:pre;overflow-x:auto;line-height:normal;font-family:Menlo,'DejaVu Sans Mono',consolas,'Courier New',monospace\">============================================================================================\n",
       "</pre>\n"
      ],
      "text/plain": [
       "============================================================================================\n"
      ]
     },
     "metadata": {},
     "output_type": "display_data"
    },
    {
     "data": {
      "text/html": [
       "<pre style=\"white-space:pre;overflow-x:auto;line-height:normal;font-family:Menlo,'DejaVu Sans Mono',consolas,'Courier New',monospace\">Extensive lymph-vascular space invasion is present.\n",
       "\n",
       "</pre>\n"
      ],
      "text/plain": [
       "Extensive lymph-vascular space invasion is present.\n",
       "\n"
      ]
     },
     "metadata": {},
     "output_type": "display_data"
    },
    {
     "data": {
      "text/html": [
       "<pre style=\"white-space:pre;overflow-x:auto;line-height:normal;font-family:Menlo,'DejaVu Sans Mono',consolas,'Courier New',monospace\">============================================================================================\n",
       "</pre>\n"
      ],
      "text/plain": [
       "============================================================================================\n"
      ]
     },
     "metadata": {},
     "output_type": "display_data"
    },
    {
     "data": {
      "text/html": [
       "<pre style=\"white-space:pre;overflow-x:auto;line-height:normal;font-family:Menlo,'DejaVu Sans Mono',consolas,'Courier New',monospace\">?\n",
       "</pre>\n"
      ],
      "text/plain": [
       "?\n"
      ]
     },
     "metadata": {},
     "output_type": "display_data"
    },
    {
     "data": {
      "text/html": [
       "<pre style=\"white-space:pre;overflow-x:auto;line-height:normal;font-family:Menlo,'DejaVu Sans Mono',consolas,'Courier New',monospace\">============================================================================================\n",
       "</pre>\n"
      ],
      "text/plain": [
       "============================================================================================\n"
      ]
     },
     "metadata": {},
     "output_type": "display_data"
    },
    {
     "data": {
      "text/html": [
       "<pre style=\"white-space:pre;overflow-x:auto;line-height:normal;font-family:Menlo,'DejaVu Sans Mono',consolas,'Courier New',monospace\">Biopsy site and therapy related changes are present.\n",
       "\n",
       "</pre>\n"
      ],
      "text/plain": [
       "Biopsy site and therapy related changes are present.\n",
       "\n"
      ]
     },
     "metadata": {},
     "output_type": "display_data"
    },
    {
     "data": {
      "text/html": [
       "<pre style=\"white-space:pre;overflow-x:auto;line-height:normal;font-family:Menlo,'DejaVu Sans Mono',consolas,'Courier New',monospace\">============================================================================================\n",
       "</pre>\n"
      ],
      "text/plain": [
       "============================================================================================\n"
      ]
     },
     "metadata": {},
     "output_type": "display_data"
    },
    {
     "data": {
      "text/html": [
       "<pre style=\"white-space:pre;overflow-x:auto;line-height:normal;font-family:Menlo,'DejaVu Sans Mono',consolas,'Courier New',monospace\">?\n",
       "</pre>\n"
      ],
      "text/plain": [
       "?\n"
      ]
     },
     "metadata": {},
     "output_type": "display_data"
    },
    {
     "data": {
      "text/html": [
       "<pre style=\"white-space:pre;overflow-x:auto;line-height:normal;font-family:Menlo,'DejaVu Sans Mono',consolas,'Courier New',monospace\">============================================================================================\n",
       "</pre>\n"
      ],
      "text/plain": [
       "============================================================================================\n"
      ]
     },
     "metadata": {},
     "output_type": "display_data"
    },
    {
     "data": {
      "text/html": [
       "<pre style=\"white-space:pre;overflow-x:auto;line-height:normal;font-family:Menlo,'DejaVu Sans Mono',consolas,'Courier New',monospace\">Background breast tissue with fibroadenoma <span style=\"font-weight: bold\">(</span><span style=\"color: #008080; text-decoration-color: #008080; font-weight: bold\">0.7</span> cm<span style=\"font-weight: bold\">)</span>, usual ductal hyperplasia, \n",
       "fibroadenomatous change, pseudoangiomatous stromal hyperplasia <span style=\"font-weight: bold\">(</span>PASH<span style=\"font-weight: bold\">)</span>, and microcysts.\n",
       "\n",
       "</pre>\n"
      ],
      "text/plain": [
       "Background breast tissue with fibroadenoma \u001b[1m(\u001b[0m\u001b[1;36m0.7\u001b[0m cm\u001b[1m)\u001b[0m, usual ductal hyperplasia, \n",
       "fibroadenomatous change, pseudoangiomatous stromal hyperplasia \u001b[1m(\u001b[0mPASH\u001b[1m)\u001b[0m, and microcysts.\n",
       "\n"
      ]
     },
     "metadata": {},
     "output_type": "display_data"
    },
    {
     "data": {
      "text/html": [
       "<pre style=\"white-space:pre;overflow-x:auto;line-height:normal;font-family:Menlo,'DejaVu Sans Mono',consolas,'Courier New',monospace\">============================================================================================\n",
       "</pre>\n"
      ],
      "text/plain": [
       "============================================================================================\n"
      ]
     },
     "metadata": {},
     "output_type": "display_data"
    },
    {
     "data": {
      "text/html": [
       "<pre style=\"white-space:pre;overflow-x:auto;line-height:normal;font-family:Menlo,'DejaVu Sans Mono',consolas,'Courier New',monospace\">?\n",
       "</pre>\n"
      ],
      "text/plain": [
       "?\n"
      ]
     },
     "metadata": {},
     "output_type": "display_data"
    },
    {
     "data": {
      "text/html": [
       "<pre style=\"white-space:pre;overflow-x:auto;line-height:normal;font-family:Menlo,'DejaVu Sans Mono',consolas,'Courier New',monospace\">============================================================================================\n",
       "</pre>\n"
      ],
      "text/plain": [
       "============================================================================================\n"
      ]
     },
     "metadata": {},
     "output_type": "display_data"
    },
    {
     "data": {
      "text/html": [
       "<pre style=\"white-space:pre;overflow-x:auto;line-height:normal;font-family:Menlo,'DejaVu Sans Mono',consolas,'Courier New',monospace\">Microcalcifications are associated with benign breast tissue.\n",
       "\n",
       "</pre>\n"
      ],
      "text/plain": [
       "Microcalcifications are associated with benign breast tissue.\n",
       "\n"
      ]
     },
     "metadata": {},
     "output_type": "display_data"
    },
    {
     "data": {
      "text/html": [
       "<pre style=\"white-space:pre;overflow-x:auto;line-height:normal;font-family:Menlo,'DejaVu Sans Mono',consolas,'Courier New',monospace\">============================================================================================\n",
       "</pre>\n"
      ],
      "text/plain": [
       "============================================================================================\n"
      ]
     },
     "metadata": {},
     "output_type": "display_data"
    },
    {
     "data": {
      "text/html": [
       "<pre style=\"white-space:pre;overflow-x:auto;line-height:normal;font-family:Menlo,'DejaVu Sans Mono',consolas,'Courier New',monospace\">?\n",
       "</pre>\n"
      ],
      "text/plain": [
       "?\n"
      ]
     },
     "metadata": {},
     "output_type": "display_data"
    },
    {
     "data": {
      "text/html": [
       "<pre style=\"white-space:pre;overflow-x:auto;line-height:normal;font-family:Menlo,'DejaVu Sans Mono',consolas,'Courier New',monospace\">============================================================================================\n",
       "</pre>\n"
      ],
      "text/plain": [
       "============================================================================================\n"
      ]
     },
     "metadata": {},
     "output_type": "display_data"
    },
    {
     "data": {
      "text/html": [
       "<pre style=\"white-space:pre;overflow-x:auto;line-height:normal;font-family:Menlo,'DejaVu Sans Mono',consolas,'Courier New',monospace\">Benign nipple and skin.\n",
       "\n",
       "\n",
       "</pre>\n"
      ],
      "text/plain": [
       "Benign nipple and skin.\n",
       "\n",
       "\n"
      ]
     },
     "metadata": {},
     "output_type": "display_data"
    },
    {
     "data": {
      "text/html": [
       "<pre style=\"white-space:pre;overflow-x:auto;line-height:normal;font-family:Menlo,'DejaVu Sans Mono',consolas,'Courier New',monospace\">============================================================================================\n",
       "</pre>\n"
      ],
      "text/plain": [
       "============================================================================================\n"
      ]
     },
     "metadata": {},
     "output_type": "display_data"
    },
    {
     "data": {
      "text/html": [
       "<pre style=\"white-space:pre;overflow-x:auto;line-height:normal;font-family:Menlo,'DejaVu Sans Mono',consolas,'Courier New',monospace\">D. Right axillary lymph nodes, dissection:\n",
       "\n",
       "</pre>\n"
      ],
      "text/plain": [
       "D. Right axillary lymph nodes, dissection:\n",
       "\n"
      ]
     },
     "metadata": {},
     "output_type": "display_data"
    },
    {
     "data": {
      "text/html": [
       "<pre style=\"white-space:pre;overflow-x:auto;line-height:normal;font-family:Menlo,'DejaVu Sans Mono',consolas,'Courier New',monospace\">============================================================================================\n",
       "</pre>\n"
      ],
      "text/plain": [
       "============================================================================================\n"
      ]
     },
     "metadata": {},
     "output_type": "display_data"
    },
    {
     "data": {
      "text/html": [
       "<pre style=\"white-space:pre;overflow-x:auto;line-height:normal;font-family:Menlo,'DejaVu Sans Mono',consolas,'Courier New',monospace\">?\n",
       "</pre>\n"
      ],
      "text/plain": [
       "?\n"
      ]
     },
     "metadata": {},
     "output_type": "display_data"
    },
    {
     "data": {
      "text/html": [
       "<pre style=\"white-space:pre;overflow-x:auto;line-height:normal;font-family:Menlo,'DejaVu Sans Mono',consolas,'Courier New',monospace\">============================================================================================\n",
       "</pre>\n"
      ],
      "text/plain": [
       "============================================================================================\n"
      ]
     },
     "metadata": {},
     "output_type": "display_data"
    },
    {
     "data": {
      "text/html": [
       "<pre style=\"white-space:pre;overflow-x:auto;line-height:normal;font-family:Menlo,'DejaVu Sans Mono',consolas,'Courier New',monospace\">Metastatic carcinoma involving one of ten lymph nodes <span style=\"font-weight: bold\">(</span><span style=\"color: #008080; text-decoration-color: #008080; font-weight: bold\">1</span>/<span style=\"color: #008080; text-decoration-color: #008080; font-weight: bold\">10</span><span style=\"font-weight: bold\">)</span> and isolated tumor cells \n",
       "involving one of ten lymph nodes.\n",
       "\n",
       "</pre>\n"
      ],
      "text/plain": [
       "Metastatic carcinoma involving one of ten lymph nodes \u001b[1m(\u001b[0m\u001b[1;36m1\u001b[0m/\u001b[1;36m10\u001b[0m\u001b[1m)\u001b[0m and isolated tumor cells \n",
       "involving one of ten lymph nodes.\n",
       "\n"
      ]
     },
     "metadata": {},
     "output_type": "display_data"
    },
    {
     "data": {
      "text/html": [
       "<pre style=\"white-space:pre;overflow-x:auto;line-height:normal;font-family:Menlo,'DejaVu Sans Mono',consolas,'Courier New',monospace\">============================================================================================\n",
       "</pre>\n"
      ],
      "text/plain": [
       "============================================================================================\n"
      ]
     },
     "metadata": {},
     "output_type": "display_data"
    },
    {
     "data": {
      "text/html": [
       "<pre style=\"white-space:pre;overflow-x:auto;line-height:normal;font-family:Menlo,'DejaVu Sans Mono',consolas,'Courier New',monospace\">?\n",
       "</pre>\n"
      ],
      "text/plain": [
       "?\n"
      ]
     },
     "metadata": {},
     "output_type": "display_data"
    },
    {
     "data": {
      "text/html": [
       "<pre style=\"white-space:pre;overflow-x:auto;line-height:normal;font-family:Menlo,'DejaVu Sans Mono',consolas,'Courier New',monospace\">============================================================================================\n",
       "</pre>\n"
      ],
      "text/plain": [
       "============================================================================================\n"
      ]
     },
     "metadata": {},
     "output_type": "display_data"
    },
    {
     "data": {
      "text/html": [
       "<pre style=\"white-space:pre;overflow-x:auto;line-height:normal;font-family:Menlo,'DejaVu Sans Mono',consolas,'Courier New',monospace\">Largest metastatic focus measures <span style=\"color: #008080; text-decoration-color: #008080; font-weight: bold\">0.4</span> cm in greatest dimension.\n",
       "\n",
       "</pre>\n"
      ],
      "text/plain": [
       "Largest metastatic focus measures \u001b[1;36m0.4\u001b[0m cm in greatest dimension.\n",
       "\n"
      ]
     },
     "metadata": {},
     "output_type": "display_data"
    },
    {
     "data": {
      "text/html": [
       "<pre style=\"white-space:pre;overflow-x:auto;line-height:normal;font-family:Menlo,'DejaVu Sans Mono',consolas,'Courier New',monospace\">============================================================================================\n",
       "</pre>\n"
      ],
      "text/plain": [
       "============================================================================================\n"
      ]
     },
     "metadata": {},
     "output_type": "display_data"
    },
    {
     "data": {
      "text/html": [
       "<pre style=\"white-space:pre;overflow-x:auto;line-height:normal;font-family:Menlo,'DejaVu Sans Mono',consolas,'Courier New',monospace\">?\n",
       "</pre>\n"
      ],
      "text/plain": [
       "?\n"
      ]
     },
     "metadata": {},
     "output_type": "display_data"
    },
    {
     "data": {
      "text/html": [
       "<pre style=\"white-space:pre;overflow-x:auto;line-height:normal;font-family:Menlo,'DejaVu Sans Mono',consolas,'Courier New',monospace\">============================================================================================\n",
       "</pre>\n"
      ],
      "text/plain": [
       "============================================================================================\n"
      ]
     },
     "metadata": {},
     "output_type": "display_data"
    },
    {
     "data": {
      "text/html": [
       "<pre style=\"white-space:pre;overflow-x:auto;line-height:normal;font-family:Menlo,'DejaVu Sans Mono',consolas,'Courier New',monospace\">No extranodal extension is identified.\n",
       "\n",
       "\n",
       "</pre>\n"
      ],
      "text/plain": [
       "No extranodal extension is identified.\n",
       "\n",
       "\n"
      ]
     },
     "metadata": {},
     "output_type": "display_data"
    },
    {
     "data": {
      "text/html": [
       "<pre style=\"white-space:pre;overflow-x:auto;line-height:normal;font-family:Menlo,'DejaVu Sans Mono',consolas,'Courier New',monospace\">============================================================================================\n",
       "</pre>\n"
      ],
      "text/plain": [
       "============================================================================================\n"
      ]
     },
     "metadata": {},
     "output_type": "display_data"
    },
    {
     "data": {
      "text/html": [
       "<pre style=\"white-space:pre;overflow-x:auto;line-height:normal;font-family:Menlo,'DejaVu Sans Mono',consolas,'Courier New',monospace\">Note for part C: The patient is post neoadjuvant chemotherapy.\n",
       "</pre>\n"
      ],
      "text/plain": [
       "Note for part C: The patient is post neoadjuvant chemotherapy.\n"
      ]
     },
     "metadata": {},
     "output_type": "display_data"
    },
    {
     "data": {
      "text/html": [
       "<pre style=\"white-space:pre;overflow-x:auto;line-height:normal;font-family:Menlo,'DejaVu Sans Mono',consolas,'Courier New',monospace\">============================================================================================\n",
       "</pre>\n"
      ],
      "text/plain": [
       "============================================================================================\n"
      ]
     },
     "metadata": {},
     "output_type": "display_data"
    },
    {
     "data": {
      "text/html": [
       "<pre style=\"white-space:pre;overflow-x:auto;line-height:normal;font-family:Menlo,'DejaVu Sans Mono',consolas,'Courier New',monospace\">The grossly appreciated tumor bed measures <span style=\"color: #008080; text-decoration-color: #008080; font-weight: bold\">9.3</span> x <span style=\"color: #008080; text-decoration-color: #008080; font-weight: bold\">5.5</span> cm.\n",
       "</pre>\n"
      ],
      "text/plain": [
       "The grossly appreciated tumor bed measures \u001b[1;36m9.3\u001b[0m x \u001b[1;36m5.5\u001b[0m cm.\n"
      ]
     },
     "metadata": {},
     "output_type": "display_data"
    },
    {
     "data": {
      "text/html": [
       "<pre style=\"white-space:pre;overflow-x:auto;line-height:normal;font-family:Menlo,'DejaVu Sans Mono',consolas,'Courier New',monospace\">============================================================================================\n",
       "</pre>\n"
      ],
      "text/plain": [
       "============================================================================================\n"
      ]
     },
     "metadata": {},
     "output_type": "display_data"
    },
    {
     "data": {
      "text/html": [
       "<pre style=\"white-space:pre;overflow-x:auto;line-height:normal;font-family:Menlo,'DejaVu Sans Mono',consolas,'Courier New',monospace\">The overall tumor cellularity is <span style=\"color: #008080; text-decoration-color: #008080; font-weight: bold\">20</span>% and <span style=\"color: #008080; text-decoration-color: #008080; font-weight: bold\">0</span>% of the residual tumor is ductal carcinoma in situ\n",
       "<span style=\"font-weight: bold\">(</span>DCIS<span style=\"font-weight: bold\">)</span>.\n",
       "</pre>\n"
      ],
      "text/plain": [
       "The overall tumor cellularity is \u001b[1;36m20\u001b[0m% and \u001b[1;36m0\u001b[0m% of the residual tumor is ductal carcinoma in situ\n",
       "\u001b[1m(\u001b[0mDCIS\u001b[1m)\u001b[0m.\n"
      ]
     },
     "metadata": {},
     "output_type": "display_data"
    },
    {
     "data": {
      "text/html": [
       "<pre style=\"white-space:pre;overflow-x:auto;line-height:normal;font-family:Menlo,'DejaVu Sans Mono',consolas,'Courier New',monospace\">============================================================================================\n",
       "</pre>\n"
      ],
      "text/plain": [
       "============================================================================================\n"
      ]
     },
     "metadata": {},
     "output_type": "display_data"
    },
    {
     "data": {
      "text/html": [
       "<pre style=\"white-space:pre;overflow-x:auto;line-height:normal;font-family:Menlo,'DejaVu Sans Mono',consolas,'Courier New',monospace\">The largest single focus of residual invasive carcinoma measures <span style=\"color: #008080; text-decoration-color: #008080; font-weight: bold\">2.5</span> cm, and the calculated \n",
       "Residual Cancer Burden <span style=\"font-weight: bold\">(</span>RCB<span style=\"font-weight: bold\">)</span> score is <span style=\"color: #008080; text-decoration-color: #008080; font-weight: bold\">3.717</span> <span style=\"font-weight: bold\">(</span>Class RCB-III<span style=\"font-weight: bold\">)</span>.\n",
       "\n",
       "\n",
       "</pre>\n"
      ],
      "text/plain": [
       "The largest single focus of residual invasive carcinoma measures \u001b[1;36m2.5\u001b[0m cm, and the calculated \n",
       "Residual Cancer Burden \u001b[1m(\u001b[0mRCB\u001b[1m)\u001b[0m score is \u001b[1;36m3.717\u001b[0m \u001b[1m(\u001b[0mClass RCB-III\u001b[1m)\u001b[0m.\n",
       "\n",
       "\n"
      ]
     },
     "metadata": {},
     "output_type": "display_data"
    },
    {
     "data": {
      "text/html": [
       "<pre style=\"white-space:pre;overflow-x:auto;line-height:normal;font-family:Menlo,'DejaVu Sans Mono',consolas,'Courier New',monospace\">============================================================================================\n",
       "</pre>\n"
      ],
      "text/plain": [
       "============================================================================================\n"
      ]
     },
     "metadata": {},
     "output_type": "display_data"
    },
    {
     "data": {
      "text/html": [
       "<pre style=\"white-space:pre;overflow-x:auto;line-height:normal;font-family:Menlo,'DejaVu Sans Mono',consolas,'Courier New',monospace\">Invasive Breast Cancer Staging Summary\n",
       "\n",
       "</pre>\n"
      ],
      "text/plain": [
       "Invasive Breast Cancer Staging Summary\n",
       "\n"
      ]
     },
     "metadata": {},
     "output_type": "display_data"
    },
    {
     "data": {
      "text/html": [
       "<pre style=\"white-space:pre;overflow-x:auto;line-height:normal;font-family:Menlo,'DejaVu Sans Mono',consolas,'Courier New',monospace\">============================================================================================\n",
       "</pre>\n"
      ],
      "text/plain": [
       "============================================================================================\n"
      ]
     },
     "metadata": {},
     "output_type": "display_data"
    },
    {
     "data": {
      "text/html": [
       "<pre style=\"white-space:pre;overflow-x:auto;line-height:normal;font-family:Menlo,'DejaVu Sans Mono',consolas,'Courier New',monospace\">Specimen Submitted: Right breast, skin sparing mastectomy\n",
       "\n",
       "</pre>\n"
      ],
      "text/plain": [
       "Specimen Submitted: Right breast, skin sparing mastectomy\n",
       "\n"
      ]
     },
     "metadata": {},
     "output_type": "display_data"
    },
    {
     "data": {
      "text/html": [
       "<pre style=\"white-space:pre;overflow-x:auto;line-height:normal;font-family:Menlo,'DejaVu Sans Mono',consolas,'Courier New',monospace\">============================================================================================\n",
       "</pre>\n"
      ],
      "text/plain": [
       "============================================================================================\n"
      ]
     },
     "metadata": {},
     "output_type": "display_data"
    },
    {
     "data": {
      "text/html": [
       "<pre style=\"white-space:pre;overflow-x:auto;line-height:normal;font-family:Menlo,'DejaVu Sans Mono',consolas,'Courier New',monospace\">Specimen Dimensions: <span style=\"color: #008080; text-decoration-color: #008080; font-weight: bold\">24.0</span> x <span style=\"color: #008080; text-decoration-color: #008080; font-weight: bold\">22.2</span> x <span style=\"color: #008080; text-decoration-color: #008080; font-weight: bold\">4.1</span> cm\n",
       "\n",
       "</pre>\n"
      ],
      "text/plain": [
       "Specimen Dimensions: \u001b[1;36m24.0\u001b[0m x \u001b[1;36m22.2\u001b[0m x \u001b[1;36m4.1\u001b[0m cm\n",
       "\n"
      ]
     },
     "metadata": {},
     "output_type": "display_data"
    },
    {
     "data": {
      "text/html": [
       "<pre style=\"white-space:pre;overflow-x:auto;line-height:normal;font-family:Menlo,'DejaVu Sans Mono',consolas,'Courier New',monospace\">============================================================================================\n",
       "</pre>\n"
      ],
      "text/plain": [
       "============================================================================================\n"
      ]
     },
     "metadata": {},
     "output_type": "display_data"
    },
    {
     "data": {
      "text/html": [
       "<pre style=\"white-space:pre;overflow-x:auto;line-height:normal;font-family:Menlo,'DejaVu Sans Mono',consolas,'Courier New',monospace\">Tumor Size: <span style=\"color: #008080; text-decoration-color: #008080; font-weight: bold\">2.5</span> cm\n",
       "\n",
       "</pre>\n"
      ],
      "text/plain": [
       "Tumor Size: \u001b[1;36m2.5\u001b[0m cm\n",
       "\n"
      ]
     },
     "metadata": {},
     "output_type": "display_data"
    },
    {
     "data": {
      "text/html": [
       "<pre style=\"white-space:pre;overflow-x:auto;line-height:normal;font-family:Menlo,'DejaVu Sans Mono',consolas,'Courier New',monospace\">============================================================================================\n",
       "</pre>\n"
      ],
      "text/plain": [
       "============================================================================================\n"
      ]
     },
     "metadata": {},
     "output_type": "display_data"
    },
    {
     "data": {
      "text/html": [
       "<pre style=\"white-space:pre;overflow-x:auto;line-height:normal;font-family:Menlo,'DejaVu Sans Mono',consolas,'Courier New',monospace\"><span style=\"font-weight: bold\">(</span>Based on the most representative gross or microscopic measurement of the invasive component \n",
       "only<span style=\"font-weight: bold\">)</span>\n",
       "\n",
       "</pre>\n"
      ],
      "text/plain": [
       "\u001b[1m(\u001b[0mBased on the most representative gross or microscopic measurement of the invasive component \n",
       "only\u001b[1m)\u001b[0m\n",
       "\n"
      ]
     },
     "metadata": {},
     "output_type": "display_data"
    },
    {
     "data": {
      "text/html": [
       "<pre style=\"white-space:pre;overflow-x:auto;line-height:normal;font-family:Menlo,'DejaVu Sans Mono',consolas,'Courier New',monospace\">============================================================================================\n",
       "</pre>\n"
      ],
      "text/plain": [
       "============================================================================================\n"
      ]
     },
     "metadata": {},
     "output_type": "display_data"
    },
    {
     "data": {
      "text/html": [
       "<pre style=\"white-space:pre;overflow-x:auto;line-height:normal;font-family:Menlo,'DejaVu Sans Mono',consolas,'Courier New',monospace\">Histologic Type: Invasive ductal carcinoma\n",
       "\n",
       "</pre>\n"
      ],
      "text/plain": [
       "Histologic Type: Invasive ductal carcinoma\n",
       "\n"
      ]
     },
     "metadata": {},
     "output_type": "display_data"
    },
    {
     "data": {
      "text/html": [
       "<pre style=\"white-space:pre;overflow-x:auto;line-height:normal;font-family:Menlo,'DejaVu Sans Mono',consolas,'Courier New',monospace\">============================================================================================\n",
       "</pre>\n"
      ],
      "text/plain": [
       "============================================================================================\n"
      ]
     },
     "metadata": {},
     "output_type": "display_data"
    },
    {
     "data": {
      "text/html": [
       "<pre style=\"white-space:pre;overflow-x:auto;line-height:normal;font-family:Menlo,'DejaVu Sans Mono',consolas,'Courier New',monospace\">Grade <span style=\"font-weight: bold\">(</span>cumulative<span style=\"font-weight: bold\">)</span>: <span style=\"color: #008080; text-decoration-color: #008080; font-weight: bold\">2</span>\n",
       "\n",
       "</pre>\n"
      ],
      "text/plain": [
       "Grade \u001b[1m(\u001b[0mcumulative\u001b[1m)\u001b[0m: \u001b[1;36m2\u001b[0m\n",
       "\n"
      ]
     },
     "metadata": {},
     "output_type": "display_data"
    },
    {
     "data": {
      "text/html": [
       "<pre style=\"white-space:pre;overflow-x:auto;line-height:normal;font-family:Menlo,'DejaVu Sans Mono',consolas,'Courier New',monospace\">============================================================================================\n",
       "</pre>\n"
      ],
      "text/plain": [
       "============================================================================================\n"
      ]
     },
     "metadata": {},
     "output_type": "display_data"
    },
    {
     "data": {
      "text/html": [
       "<pre style=\"white-space:pre;overflow-x:auto;line-height:normal;font-family:Menlo,'DejaVu Sans Mono',consolas,'Courier New',monospace\">Tubule Formation: <span style=\"color: #008080; text-decoration-color: #008080; font-weight: bold\">3</span>\n",
       "\n",
       "</pre>\n"
      ],
      "text/plain": [
       "Tubule Formation: \u001b[1;36m3\u001b[0m\n",
       "\n"
      ]
     },
     "metadata": {},
     "output_type": "display_data"
    },
    {
     "data": {
      "text/html": [
       "<pre style=\"white-space:pre;overflow-x:auto;line-height:normal;font-family:Menlo,'DejaVu Sans Mono',consolas,'Courier New',monospace\">============================================================================================\n",
       "</pre>\n"
      ],
      "text/plain": [
       "============================================================================================\n"
      ]
     },
     "metadata": {},
     "output_type": "display_data"
    },
    {
     "data": {
      "text/html": [
       "<pre style=\"white-space:pre;overflow-x:auto;line-height:normal;font-family:Menlo,'DejaVu Sans Mono',consolas,'Courier New',monospace\">Nuclear Pleomorphism: <span style=\"color: #008080; text-decoration-color: #008080; font-weight: bold\">3</span>\n",
       "\n",
       "</pre>\n"
      ],
      "text/plain": [
       "Nuclear Pleomorphism: \u001b[1;36m3\u001b[0m\n",
       "\n"
      ]
     },
     "metadata": {},
     "output_type": "display_data"
    },
    {
     "data": {
      "text/html": [
       "<pre style=\"white-space:pre;overflow-x:auto;line-height:normal;font-family:Menlo,'DejaVu Sans Mono',consolas,'Courier New',monospace\">============================================================================================\n",
       "</pre>\n"
      ],
      "text/plain": [
       "============================================================================================\n"
      ]
     },
     "metadata": {},
     "output_type": "display_data"
    },
    {
     "data": {
      "text/html": [
       "<pre style=\"white-space:pre;overflow-x:auto;line-height:normal;font-family:Menlo,'DejaVu Sans Mono',consolas,'Courier New',monospace\">Mitotic Rate: <span style=\"color: #008080; text-decoration-color: #008080; font-weight: bold\">1</span>\n",
       "\n",
       "</pre>\n"
      ],
      "text/plain": [
       "Mitotic Rate: \u001b[1;36m1\u001b[0m\n",
       "\n"
      ]
     },
     "metadata": {},
     "output_type": "display_data"
    },
    {
     "data": {
      "text/html": [
       "<pre style=\"white-space:pre;overflow-x:auto;line-height:normal;font-family:Menlo,'DejaVu Sans Mono',consolas,'Courier New',monospace\">============================================================================================\n",
       "</pre>\n"
      ],
      "text/plain": [
       "============================================================================================\n"
      ]
     },
     "metadata": {},
     "output_type": "display_data"
    },
    {
     "data": {
      "text/html": [
       "<pre style=\"white-space:pre;overflow-x:auto;line-height:normal;font-family:Menlo,'DejaVu Sans Mono',consolas,'Courier New',monospace\">Lymph-vascular Invasion: Present <span style=\"font-weight: bold\">(</span>extensive<span style=\"font-weight: bold\">)</span>\n",
       "\n",
       "</pre>\n"
      ],
      "text/plain": [
       "Lymph-vascular Invasion: Present \u001b[1m(\u001b[0mextensive\u001b[1m)\u001b[0m\n",
       "\n"
      ]
     },
     "metadata": {},
     "output_type": "display_data"
    },
    {
     "data": {
      "text/html": [
       "<pre style=\"white-space:pre;overflow-x:auto;line-height:normal;font-family:Menlo,'DejaVu Sans Mono',consolas,'Courier New',monospace\">============================================================================================\n",
       "</pre>\n"
      ],
      "text/plain": [
       "============================================================================================\n"
      ]
     },
     "metadata": {},
     "output_type": "display_data"
    },
    {
     "data": {
      "text/html": [
       "<pre style=\"white-space:pre;overflow-x:auto;line-height:normal;font-family:Menlo,'DejaVu Sans Mono',consolas,'Courier New',monospace\">DCIS as Extensive Intraductal Component: Not identified\n",
       "\n",
       "</pre>\n"
      ],
      "text/plain": [
       "DCIS as Extensive Intraductal Component: Not identified\n",
       "\n"
      ]
     },
     "metadata": {},
     "output_type": "display_data"
    },
    {
     "data": {
      "text/html": [
       "<pre style=\"white-space:pre;overflow-x:auto;line-height:normal;font-family:Menlo,'DejaVu Sans Mono',consolas,'Courier New',monospace\">============================================================================================\n",
       "</pre>\n"
      ],
      "text/plain": [
       "============================================================================================\n"
      ]
     },
     "metadata": {},
     "output_type": "display_data"
    },
    {
     "data": {
      "text/html": [
       "<pre style=\"white-space:pre;overflow-x:auto;line-height:normal;font-family:Menlo,'DejaVu Sans Mono',consolas,'Courier New',monospace\">DCIS Measurement/Proportion: N/A\n",
       "\n",
       "</pre>\n"
      ],
      "text/plain": [
       "DCIS Measurement/Proportion: N/A\n",
       "\n"
      ]
     },
     "metadata": {},
     "output_type": "display_data"
    },
    {
     "data": {
      "text/html": [
       "<pre style=\"white-space:pre;overflow-x:auto;line-height:normal;font-family:Menlo,'DejaVu Sans Mono',consolas,'Courier New',monospace\">============================================================================================\n",
       "</pre>\n"
      ],
      "text/plain": [
       "============================================================================================\n"
      ]
     },
     "metadata": {},
     "output_type": "display_data"
    },
    {
     "data": {
      "text/html": [
       "<pre style=\"white-space:pre;overflow-x:auto;line-height:normal;font-family:Menlo,'DejaVu Sans Mono',consolas,'Courier New',monospace\">LCIS: Not identified\n",
       "\n",
       "</pre>\n"
      ],
      "text/plain": [
       "LCIS: Not identified\n",
       "\n"
      ]
     },
     "metadata": {},
     "output_type": "display_data"
    },
    {
     "data": {
      "text/html": [
       "<pre style=\"white-space:pre;overflow-x:auto;line-height:normal;font-family:Menlo,'DejaVu Sans Mono',consolas,'Courier New',monospace\">============================================================================================\n",
       "</pre>\n"
      ],
      "text/plain": [
       "============================================================================================\n"
      ]
     },
     "metadata": {},
     "output_type": "display_data"
    },
    {
     "data": {
      "text/html": [
       "<pre style=\"white-space:pre;overflow-x:auto;line-height:normal;font-family:Menlo,'DejaVu Sans Mono',consolas,'Courier New',monospace\">Calcifications: Present\n",
       "\n",
       "</pre>\n"
      ],
      "text/plain": [
       "Calcifications: Present\n",
       "\n"
      ]
     },
     "metadata": {},
     "output_type": "display_data"
    },
    {
     "data": {
      "text/html": [
       "<pre style=\"white-space:pre;overflow-x:auto;line-height:normal;font-family:Menlo,'DejaVu Sans Mono',consolas,'Courier New',monospace\">============================================================================================\n",
       "</pre>\n"
      ],
      "text/plain": [
       "============================================================================================\n"
      ]
     },
     "metadata": {},
     "output_type": "display_data"
    },
    {
     "data": {
      "text/html": [
       "<pre style=\"white-space:pre;overflow-x:auto;line-height:normal;font-family:Menlo,'DejaVu Sans Mono',consolas,'Courier New',monospace\">Locations of Calcifications: Benign breast ducts\n",
       "\n",
       "</pre>\n"
      ],
      "text/plain": [
       "Locations of Calcifications: Benign breast ducts\n",
       "\n"
      ]
     },
     "metadata": {},
     "output_type": "display_data"
    },
    {
     "data": {
      "text/html": [
       "<pre style=\"white-space:pre;overflow-x:auto;line-height:normal;font-family:Menlo,'DejaVu Sans Mono',consolas,'Courier New',monospace\">============================================================================================\n",
       "</pre>\n"
      ],
      "text/plain": [
       "============================================================================================\n"
      ]
     },
     "metadata": {},
     "output_type": "display_data"
    },
    {
     "data": {
      "text/html": [
       "<pre style=\"white-space:pre;overflow-x:auto;line-height:normal;font-family:Menlo,'DejaVu Sans Mono',consolas,'Courier New',monospace\">Margins of Excision:\n",
       "\n",
       "</pre>\n"
      ],
      "text/plain": [
       "Margins of Excision:\n",
       "\n"
      ]
     },
     "metadata": {},
     "output_type": "display_data"
    },
    {
     "data": {
      "text/html": [
       "<pre style=\"white-space:pre;overflow-x:auto;line-height:normal;font-family:Menlo,'DejaVu Sans Mono',consolas,'Courier New',monospace\">============================================================================================\n",
       "</pre>\n"
      ],
      "text/plain": [
       "============================================================================================\n"
      ]
     },
     "metadata": {},
     "output_type": "display_data"
    },
    {
     "data": {
      "text/html": [
       "<pre style=\"white-space:pre;overflow-x:auto;line-height:normal;font-family:Menlo,'DejaVu Sans Mono',consolas,'Courier New',monospace\">Invasive Cancer: Negative\n",
       "\n",
       "</pre>\n"
      ],
      "text/plain": [
       "Invasive Cancer: Negative\n",
       "\n"
      ]
     },
     "metadata": {},
     "output_type": "display_data"
    },
    {
     "data": {
      "text/html": [
       "<pre style=\"white-space:pre;overflow-x:auto;line-height:normal;font-family:Menlo,'DejaVu Sans Mono',consolas,'Courier New',monospace\">============================================================================================\n",
       "</pre>\n"
      ],
      "text/plain": [
       "============================================================================================\n"
      ]
     },
     "metadata": {},
     "output_type": "display_data"
    },
    {
     "data": {
      "text/html": [
       "<pre style=\"white-space:pre;overflow-x:auto;line-height:normal;font-family:Menlo,'DejaVu Sans Mono',consolas,'Courier New',monospace\">Distance to Margin: Closest at <span style=\"color: #008080; text-decoration-color: #008080; font-weight: bold\">0.3</span> cm from the posterior margin\n",
       "\n",
       "</pre>\n"
      ],
      "text/plain": [
       "Distance to Margin: Closest at \u001b[1;36m0.3\u001b[0m cm from the posterior margin\n",
       "\n"
      ]
     },
     "metadata": {},
     "output_type": "display_data"
    },
    {
     "data": {
      "text/html": [
       "<pre style=\"white-space:pre;overflow-x:auto;line-height:normal;font-family:Menlo,'DejaVu Sans Mono',consolas,'Courier New',monospace\">============================================================================================\n",
       "</pre>\n"
      ],
      "text/plain": [
       "============================================================================================\n"
      ]
     },
     "metadata": {},
     "output_type": "display_data"
    },
    {
     "data": {
      "text/html": [
       "<pre style=\"white-space:pre;overflow-x:auto;line-height:normal;font-family:Menlo,'DejaVu Sans Mono',consolas,'Courier New',monospace\">Margin Widely Free <span style=\"font-weight: bold\">(</span>more than <span style=\"color: #008080; text-decoration-color: #008080; font-weight: bold\">0.5</span> cm<span style=\"font-weight: bold\">)</span> No\n",
       "\n",
       "</pre>\n"
      ],
      "text/plain": [
       "Margin Widely Free \u001b[1m(\u001b[0mmore than \u001b[1;36m0.5\u001b[0m cm\u001b[1m)\u001b[0m No\n",
       "\n"
      ]
     },
     "metadata": {},
     "output_type": "display_data"
    },
    {
     "data": {
      "text/html": [
       "<pre style=\"white-space:pre;overflow-x:auto;line-height:normal;font-family:Menlo,'DejaVu Sans Mono',consolas,'Courier New',monospace\">============================================================================================\n",
       "</pre>\n"
      ],
      "text/plain": [
       "============================================================================================\n"
      ]
     },
     "metadata": {},
     "output_type": "display_data"
    },
    {
     "data": {
      "text/html": [
       "<pre style=\"white-space:pre;overflow-x:auto;line-height:normal;font-family:Menlo,'DejaVu Sans Mono',consolas,'Courier New',monospace\">DCIS: Not identified\n",
       "\n",
       "</pre>\n"
      ],
      "text/plain": [
       "DCIS: Not identified\n",
       "\n"
      ]
     },
     "metadata": {},
     "output_type": "display_data"
    },
    {
     "data": {
      "text/html": [
       "<pre style=\"white-space:pre;overflow-x:auto;line-height:normal;font-family:Menlo,'DejaVu Sans Mono',consolas,'Courier New',monospace\">============================================================================================\n",
       "</pre>\n"
      ],
      "text/plain": [
       "============================================================================================\n"
      ]
     },
     "metadata": {},
     "output_type": "display_data"
    },
    {
     "data": {
      "text/html": [
       "<pre style=\"white-space:pre;overflow-x:auto;line-height:normal;font-family:Menlo,'DejaVu Sans Mono',consolas,'Courier New',monospace\">Distance to Margin: N/A\n",
       "\n",
       "</pre>\n"
      ],
      "text/plain": [
       "Distance to Margin: N/A\n",
       "\n"
      ]
     },
     "metadata": {},
     "output_type": "display_data"
    },
    {
     "data": {
      "text/html": [
       "<pre style=\"white-space:pre;overflow-x:auto;line-height:normal;font-family:Menlo,'DejaVu Sans Mono',consolas,'Courier New',monospace\">============================================================================================\n",
       "</pre>\n"
      ],
      "text/plain": [
       "============================================================================================\n"
      ]
     },
     "metadata": {},
     "output_type": "display_data"
    },
    {
     "data": {
      "text/html": [
       "<pre style=\"white-space:pre;overflow-x:auto;line-height:normal;font-family:Menlo,'DejaVu Sans Mono',consolas,'Courier New',monospace\">Margin Widely Free <span style=\"font-weight: bold\">(</span>more than <span style=\"color: #008080; text-decoration-color: #008080; font-weight: bold\">0.5</span> cm<span style=\"font-weight: bold\">)</span> N/A\n",
       "\n",
       "</pre>\n"
      ],
      "text/plain": [
       "Margin Widely Free \u001b[1m(\u001b[0mmore than \u001b[1;36m0.5\u001b[0m cm\u001b[1m)\u001b[0m N/A\n",
       "\n"
      ]
     },
     "metadata": {},
     "output_type": "display_data"
    },
    {
     "data": {
      "text/html": [
       "<pre style=\"white-space:pre;overflow-x:auto;line-height:normal;font-family:Menlo,'DejaVu Sans Mono',consolas,'Courier New',monospace\">============================================================================================\n",
       "</pre>\n"
      ],
      "text/plain": [
       "============================================================================================\n"
      ]
     },
     "metadata": {},
     "output_type": "display_data"
    },
    {
     "data": {
      "text/html": [
       "<pre style=\"white-space:pre;overflow-x:auto;line-height:normal;font-family:Menlo,'DejaVu Sans Mono',consolas,'Courier New',monospace\"># Axillary Lymph Nodes Examined: <span style=\"color: #008080; text-decoration-color: #008080; font-weight: bold\">13</span>\n",
       "\n",
       "</pre>\n"
      ],
      "text/plain": [
       "# Axillary Lymph Nodes Examined: \u001b[1;36m13\u001b[0m\n",
       "\n"
      ]
     },
     "metadata": {},
     "output_type": "display_data"
    },
    {
     "data": {
      "text/html": [
       "<pre style=\"white-space:pre;overflow-x:auto;line-height:normal;font-family:Menlo,'DejaVu Sans Mono',consolas,'Courier New',monospace\">============================================================================================\n",
       "</pre>\n"
      ],
      "text/plain": [
       "============================================================================================\n"
      ]
     },
     "metadata": {},
     "output_type": "display_data"
    },
    {
     "data": {
      "text/html": [
       "<pre style=\"white-space:pre;overflow-x:auto;line-height:normal;font-family:Menlo,'DejaVu Sans Mono',consolas,'Courier New',monospace\">Number of Positive Versus Total: <span style=\"color: #008080; text-decoration-color: #008080; font-weight: bold\">3</span>/<span style=\"color: #008080; text-decoration-color: #008080; font-weight: bold\">17</span>\n",
       "\n",
       "</pre>\n"
      ],
      "text/plain": [
       "Number of Positive Versus Total: \u001b[1;36m3\u001b[0m/\u001b[1;36m17\u001b[0m\n",
       "\n"
      ]
     },
     "metadata": {},
     "output_type": "display_data"
    },
    {
     "data": {
      "text/html": [
       "<pre style=\"white-space:pre;overflow-x:auto;line-height:normal;font-family:Menlo,'DejaVu Sans Mono',consolas,'Courier New',monospace\">============================================================================================\n",
       "</pre>\n"
      ],
      "text/plain": [
       "============================================================================================\n"
      ]
     },
     "metadata": {},
     "output_type": "display_data"
    },
    {
     "data": {
      "text/html": [
       "<pre style=\"white-space:pre;overflow-x:auto;line-height:normal;font-family:Menlo,'DejaVu Sans Mono',consolas,'Courier New',monospace\">Size of Largest Metastasis: <span style=\"color: #008080; text-decoration-color: #008080; font-weight: bold\">0.5</span> cm\n",
       "\n",
       "</pre>\n"
      ],
      "text/plain": [
       "Size of Largest Metastasis: \u001b[1;36m0.5\u001b[0m cm\n",
       "\n"
      ]
     },
     "metadata": {},
     "output_type": "display_data"
    },
    {
     "data": {
      "text/html": [
       "<pre style=\"white-space:pre;overflow-x:auto;line-height:normal;font-family:Menlo,'DejaVu Sans Mono',consolas,'Courier New',monospace\">============================================================================================\n",
       "</pre>\n"
      ],
      "text/plain": [
       "============================================================================================\n"
      ]
     },
     "metadata": {},
     "output_type": "display_data"
    },
    {
     "data": {
      "text/html": [
       "<pre style=\"white-space:pre;overflow-x:auto;line-height:normal;font-family:Menlo,'DejaVu Sans Mono',consolas,'Courier New',monospace\">Extranodal Extension: Not identified\n",
       "\n",
       "</pre>\n"
      ],
      "text/plain": [
       "Extranodal Extension: Not identified\n",
       "\n"
      ]
     },
     "metadata": {},
     "output_type": "display_data"
    },
    {
     "data": {
      "text/html": [
       "<pre style=\"white-space:pre;overflow-x:auto;line-height:normal;font-family:Menlo,'DejaVu Sans Mono',consolas,'Courier New',monospace\">============================================================================================\n",
       "</pre>\n"
      ],
      "text/plain": [
       "============================================================================================\n"
      ]
     },
     "metadata": {},
     "output_type": "display_data"
    },
    {
     "data": {
      "text/html": [
       "<pre style=\"white-space:pre;overflow-x:auto;line-height:normal;font-family:Menlo,'DejaVu Sans Mono',consolas,'Courier New',monospace\">Breast Tumor Markers: Examined on block C5, see table below\n",
       "\n",
       "</pre>\n"
      ],
      "text/plain": [
       "Breast Tumor Markers: Examined on block C5, see table below\n",
       "\n"
      ]
     },
     "metadata": {},
     "output_type": "display_data"
    },
    {
     "data": {
      "text/html": [
       "<pre style=\"white-space:pre;overflow-x:auto;line-height:normal;font-family:Menlo,'DejaVu Sans Mono',consolas,'Courier New',monospace\">============================================================================================\n",
       "</pre>\n"
      ],
      "text/plain": [
       "============================================================================================\n"
      ]
     },
     "metadata": {},
     "output_type": "display_data"
    },
    {
     "data": {
      "text/html": [
       "<pre style=\"white-space:pre;overflow-x:auto;line-height:normal;font-family:Menlo,'DejaVu Sans Mono',consolas,'Courier New',monospace\">ER: See table below\n",
       "\n",
       "</pre>\n"
      ],
      "text/plain": [
       "ER: See table below\n",
       "\n"
      ]
     },
     "metadata": {},
     "output_type": "display_data"
    },
    {
     "data": {
      "text/html": [
       "<pre style=\"white-space:pre;overflow-x:auto;line-height:normal;font-family:Menlo,'DejaVu Sans Mono',consolas,'Courier New',monospace\">============================================================================================\n",
       "</pre>\n"
      ],
      "text/plain": [
       "============================================================================================\n"
      ]
     },
     "metadata": {},
     "output_type": "display_data"
    },
    {
     "data": {
      "text/html": [
       "<pre style=\"white-space:pre;overflow-x:auto;line-height:normal;font-family:Menlo,'DejaVu Sans Mono',consolas,'Courier New',monospace\">PR: See table below\n",
       "\n",
       "</pre>\n"
      ],
      "text/plain": [
       "PR: See table below\n",
       "\n"
      ]
     },
     "metadata": {},
     "output_type": "display_data"
    },
    {
     "data": {
      "text/html": [
       "<pre style=\"white-space:pre;overflow-x:auto;line-height:normal;font-family:Menlo,'DejaVu Sans Mono',consolas,'Courier New',monospace\">============================================================================================\n",
       "</pre>\n"
      ],
      "text/plain": [
       "============================================================================================\n"
      ]
     },
     "metadata": {},
     "output_type": "display_data"
    },
    {
     "data": {
      "text/html": [
       "<pre style=\"white-space:pre;overflow-x:auto;line-height:normal;font-family:Menlo,'DejaVu Sans Mono',consolas,'Courier New',monospace\">HER2: See table below\n",
       "\n",
       "</pre>\n"
      ],
      "text/plain": [
       "HER2: See table below\n",
       "\n"
      ]
     },
     "metadata": {},
     "output_type": "display_data"
    },
    {
     "data": {
      "text/html": [
       "<pre style=\"white-space:pre;overflow-x:auto;line-height:normal;font-family:Menlo,'DejaVu Sans Mono',consolas,'Courier New',monospace\">============================================================================================\n",
       "</pre>\n"
      ],
      "text/plain": [
       "============================================================================================\n"
      ]
     },
     "metadata": {},
     "output_type": "display_data"
    },
    {
     "data": {
      "text/html": [
       "<pre style=\"white-space:pre;overflow-x:auto;line-height:normal;font-family:Menlo,'DejaVu Sans Mono',consolas,'Courier New',monospace\">Ki-<span style=\"color: #008080; text-decoration-color: #008080; font-weight: bold\">67</span> See table below\n",
       "\n",
       "</pre>\n"
      ],
      "text/plain": [
       "Ki-\u001b[1;36m67\u001b[0m See table below\n",
       "\n"
      ]
     },
     "metadata": {},
     "output_type": "display_data"
    },
    {
     "data": {
      "text/html": [
       "<pre style=\"white-space:pre;overflow-x:auto;line-height:normal;font-family:Menlo,'DejaVu Sans Mono',consolas,'Courier New',monospace\">============================================================================================\n",
       "</pre>\n"
      ],
      "text/plain": [
       "============================================================================================\n"
      ]
     },
     "metadata": {},
     "output_type": "display_data"
    },
    {
     "data": {
      "text/html": [
       "<pre style=\"white-space:pre;overflow-x:auto;line-height:normal;font-family:Menlo,'DejaVu Sans Mono',consolas,'Courier New',monospace\">p53: See table below\n",
       "\n",
       "</pre>\n"
      ],
      "text/plain": [
       "p53: See table below\n",
       "\n"
      ]
     },
     "metadata": {},
     "output_type": "display_data"
    },
    {
     "data": {
      "text/html": [
       "<pre style=\"white-space:pre;overflow-x:auto;line-height:normal;font-family:Menlo,'DejaVu Sans Mono',consolas,'Courier New',monospace\">============================================================================================\n",
       "</pre>\n"
      ],
      "text/plain": [
       "============================================================================================\n"
      ]
     },
     "metadata": {},
     "output_type": "display_data"
    },
    {
     "data": {
      "text/html": [
       "<pre style=\"white-space:pre;overflow-x:auto;line-height:normal;font-family:Menlo,'DejaVu Sans Mono',consolas,'Courier New',monospace\">TNM Staging: ypT2, N1a\n",
       "\n",
       "</pre>\n"
      ],
      "text/plain": [
       "TNM Staging: ypT2, N1a\n",
       "\n"
      ]
     },
     "metadata": {},
     "output_type": "display_data"
    },
    {
     "data": {
      "text/html": [
       "<pre style=\"white-space:pre;overflow-x:auto;line-height:normal;font-family:Menlo,'DejaVu Sans Mono',consolas,'Courier New',monospace\">============================================================================================\n",
       "</pre>\n"
      ],
      "text/plain": [
       "============================================================================================\n"
      ]
     },
     "metadata": {},
     "output_type": "display_data"
    },
    {
     "data": {
      "text/html": [
       "<pre style=\"white-space:pre;overflow-x:auto;line-height:normal;font-family:Menlo,'DejaVu Sans Mono',consolas,'Courier New',monospace\">Grading of invasive carcinoma is based on the modified Bloom-Richardson system as described \n",
       "in Protocol for the Examination of Specimens from Patients with Invasive Carcinoma of the \n",
       "Breast, a publication of the College of American Pathologists <span style=\"font-weight: bold\">(</span>CAP<span style=\"font-weight: bold\">)</span>, updated in December \n",
       "<span style=\"color: #008080; text-decoration-color: #008080; font-weight: bold\">2013</span>.\n",
       "</pre>\n"
      ],
      "text/plain": [
       "Grading of invasive carcinoma is based on the modified Bloom-Richardson system as described \n",
       "in Protocol for the Examination of Specimens from Patients with Invasive Carcinoma of the \n",
       "Breast, a publication of the College of American Pathologists \u001b[1m(\u001b[0mCAP\u001b[1m)\u001b[0m, updated in December \n",
       "\u001b[1;36m2013\u001b[0m.\n"
      ]
     },
     "metadata": {},
     "output_type": "display_data"
    },
    {
     "data": {
      "text/html": [
       "<pre style=\"white-space:pre;overflow-x:auto;line-height:normal;font-family:Menlo,'DejaVu Sans Mono',consolas,'Courier New',monospace\">============================================================================================\n",
       "</pre>\n"
      ],
      "text/plain": [
       "============================================================================================\n"
      ]
     },
     "metadata": {},
     "output_type": "display_data"
    },
    {
     "data": {
      "text/html": [
       "<pre style=\"white-space:pre;overflow-x:auto;line-height:normal;font-family:Menlo,'DejaVu Sans Mono',consolas,'Courier New',monospace\">The TNM staging is based on the recommendations of the American Joint Commission on Cancer \n",
       "<span style=\"font-weight: bold\">(</span>AJCC, 8th Edition, <span style=\"color: #008080; text-decoration-color: #008080; font-weight: bold\">2017</span><span style=\"font-weight: bold\">)</span>.\n",
       "\n",
       "\n",
       "\n",
       "</pre>\n"
      ],
      "text/plain": [
       "The TNM staging is based on the recommendations of the American Joint Commission on Cancer \n",
       "\u001b[1m(\u001b[0mAJCC, 8th Edition, \u001b[1;36m2017\u001b[0m\u001b[1m)\u001b[0m.\n",
       "\n",
       "\n",
       "\n"
      ]
     },
     "metadata": {},
     "output_type": "display_data"
    },
    {
     "data": {
      "text/html": [
       "<pre style=\"white-space:pre;overflow-x:auto;line-height:normal;font-family:Menlo,'DejaVu Sans Mono',consolas,'Courier New',monospace\">============================================================================================\n",
       "</pre>\n"
      ],
      "text/plain": [
       "============================================================================================\n"
      ]
     },
     "metadata": {},
     "output_type": "display_data"
    },
    {
     "data": {
      "text/html": [
       "<pre style=\"white-space:pre;overflow-x:auto;line-height:normal;font-family:Menlo,'DejaVu Sans Mono',consolas,'Courier New',monospace\">BREAST CANCER TUMOR MARKERS FOR POST NEOADJUVANT TREATMENT INVASIVE CARCINOMA: Breast Tumor \n",
       "Markers were examined on block C5 and the results are as follows:\n",
       "\n",
       "</pre>\n"
      ],
      "text/plain": [
       "BREAST CANCER TUMOR MARKERS FOR POST NEOADJUVANT TREATMENT INVASIVE CARCINOMA: Breast Tumor \n",
       "Markers were examined on block C5 and the results are as follows:\n",
       "\n"
      ]
     },
     "metadata": {},
     "output_type": "display_data"
    },
    {
     "data": {
      "text/html": [
       "<pre style=\"white-space:pre;overflow-x:auto;line-height:normal;font-family:Menlo,'DejaVu Sans Mono',consolas,'Courier New',monospace\">============================================================================================\n",
       "</pre>\n"
      ],
      "text/plain": [
       "============================================================================================\n"
      ]
     },
     "metadata": {},
     "output_type": "display_data"
    },
    {
     "data": {
      "text/html": [
       "<pre style=\"white-space:pre;overflow-x:auto;line-height:normal;font-family:Menlo,'DejaVu Sans Mono',consolas,'Courier New',monospace\">ANTIGEN RESULT/INTENSITY OF STAINING INTERPRETATION\n",
       "\n",
       "</pre>\n"
      ],
      "text/plain": [
       "ANTIGEN RESULT/INTENSITY OF STAINING INTERPRETATION\n",
       "\n"
      ]
     },
     "metadata": {},
     "output_type": "display_data"
    },
    {
     "data": {
      "text/html": [
       "<pre style=\"white-space:pre;overflow-x:auto;line-height:normal;font-family:Menlo,'DejaVu Sans Mono',consolas,'Courier New',monospace\">============================================================================================\n",
       "</pre>\n"
      ],
      "text/plain": [
       "============================================================================================\n"
      ]
     },
     "metadata": {},
     "output_type": "display_data"
    },
    {
     "data": {
      "text/html": [
       "<pre style=\"white-space:pre;overflow-x:auto;line-height:normal;font-family:Menlo,'DejaVu Sans Mono',consolas,'Courier New',monospace\">Estrogen Receptor <span style=\"color: #008080; text-decoration-color: #008080; font-weight: bold\">0</span>%; N/A Negative\n",
       "\n",
       "</pre>\n"
      ],
      "text/plain": [
       "Estrogen Receptor \u001b[1;36m0\u001b[0m%; N/A Negative\n",
       "\n"
      ]
     },
     "metadata": {},
     "output_type": "display_data"
    },
    {
     "data": {
      "text/html": [
       "<pre style=\"white-space:pre;overflow-x:auto;line-height:normal;font-family:Menlo,'DejaVu Sans Mono',consolas,'Courier New',monospace\">============================================================================================\n",
       "</pre>\n"
      ],
      "text/plain": [
       "============================================================================================\n"
      ]
     },
     "metadata": {},
     "output_type": "display_data"
    },
    {
     "data": {
      "text/html": [
       "<pre style=\"white-space:pre;overflow-x:auto;line-height:normal;font-family:Menlo,'DejaVu Sans Mono',consolas,'Courier New',monospace\">Progesterone Receptor <span style=\"color: #008080; text-decoration-color: #008080; font-weight: bold\">0</span>%; N/A Negative\n",
       "\n",
       "</pre>\n"
      ],
      "text/plain": [
       "Progesterone Receptor \u001b[1;36m0\u001b[0m%; N/A Negative\n",
       "\n"
      ]
     },
     "metadata": {},
     "output_type": "display_data"
    },
    {
     "data": {
      "text/html": [
       "<pre style=\"white-space:pre;overflow-x:auto;line-height:normal;font-family:Menlo,'DejaVu Sans Mono',consolas,'Courier New',monospace\">============================================================================================\n",
       "</pre>\n"
      ],
      "text/plain": [
       "============================================================================================\n"
      ]
     },
     "metadata": {},
     "output_type": "display_data"
    },
    {
     "data": {
      "text/html": [
       "<pre style=\"white-space:pre;overflow-x:auto;line-height:normal;font-family:Menlo,'DejaVu Sans Mono',consolas,'Courier New',monospace\">HER-<span style=\"color: #008080; text-decoration-color: #008080; font-weight: bold\">2</span>/neu Score <span style=\"color: #008080; text-decoration-color: #008080; font-weight: bold\">2</span>+ Equivocal* FISH has been requested on block C5\n",
       "\n",
       "</pre>\n"
      ],
      "text/plain": [
       "HER-\u001b[1;36m2\u001b[0m/neu Score \u001b[1;36m2\u001b[0m+ Equivocal* FISH has been requested on block C5\n",
       "\n"
      ]
     },
     "metadata": {},
     "output_type": "display_data"
    },
    {
     "data": {
      "text/html": [
       "<pre style=\"white-space:pre;overflow-x:auto;line-height:normal;font-family:Menlo,'DejaVu Sans Mono',consolas,'Courier New',monospace\">============================================================================================\n",
       "</pre>\n"
      ],
      "text/plain": [
       "============================================================================================\n"
      ]
     },
     "metadata": {},
     "output_type": "display_data"
    },
    {
     "data": {
      "text/html": [
       "<pre style=\"white-space:pre;overflow-x:auto;line-height:normal;font-family:Menlo,'DejaVu Sans Mono',consolas,'Courier New',monospace\">Ki-<span style=\"color: #008080; text-decoration-color: #008080; font-weight: bold\">67</span> &lt;<span style=\"color: #008080; text-decoration-color: #008080; font-weight: bold\">5</span>% Low <span style=\"font-weight: bold\">(</span>favorable<span style=\"font-weight: bold\">)</span>\n",
       "\n",
       "</pre>\n"
      ],
      "text/plain": [
       "Ki-\u001b[1;36m67\u001b[0m <\u001b[1;36m5\u001b[0m% Low \u001b[1m(\u001b[0mfavorable\u001b[1m)\u001b[0m\n",
       "\n"
      ]
     },
     "metadata": {},
     "output_type": "display_data"
    },
    {
     "data": {
      "text/html": [
       "<pre style=\"white-space:pre;overflow-x:auto;line-height:normal;font-family:Menlo,'DejaVu Sans Mono',consolas,'Courier New',monospace\">============================================================================================\n",
       "</pre>\n"
      ],
      "text/plain": [
       "============================================================================================\n"
      ]
     },
     "metadata": {},
     "output_type": "display_data"
    },
    {
     "data": {
      "text/html": [
       "<pre style=\"white-space:pre;overflow-x:auto;line-height:normal;font-family:Menlo,'DejaVu Sans Mono',consolas,'Courier New',monospace\">p53 &gt;<span style=\"color: #008080; text-decoration-color: #008080; font-weight: bold\">95</span>% Positive\n",
       "\n",
       "\n",
       "</pre>\n"
      ],
      "text/plain": [
       "p53 >\u001b[1;36m95\u001b[0m% Positive\n",
       "\n",
       "\n"
      ]
     },
     "metadata": {},
     "output_type": "display_data"
    },
    {
     "data": {
      "text/html": [
       "<pre style=\"white-space:pre;overflow-x:auto;line-height:normal;font-family:Menlo,'DejaVu Sans Mono',consolas,'Courier New',monospace\">============================================================================================\n",
       "</pre>\n"
      ],
      "text/plain": [
       "============================================================================================\n"
      ]
     },
     "metadata": {},
     "output_type": "display_data"
    },
    {
     "data": {
      "text/html": [
       "<pre style=\"white-space:pre;overflow-x:auto;line-height:normal;font-family:Menlo,'DejaVu Sans Mono',consolas,'Courier New',monospace\">REFERENCE RANGES:\n",
       "\n",
       "</pre>\n"
      ],
      "text/plain": [
       "REFERENCE RANGES:\n",
       "\n"
      ]
     },
     "metadata": {},
     "output_type": "display_data"
    },
    {
     "data": {
      "text/html": [
       "<pre style=\"white-space:pre;overflow-x:auto;line-height:normal;font-family:Menlo,'DejaVu Sans Mono',consolas,'Courier New',monospace\">============================================================================================\n",
       "</pre>\n"
      ],
      "text/plain": [
       "============================================================================================\n"
      ]
     },
     "metadata": {},
     "output_type": "display_data"
    },
    {
     "data": {
      "text/html": [
       "<pre style=\"white-space:pre;overflow-x:auto;line-height:normal;font-family:Menlo,'DejaVu Sans Mono',consolas,'Courier New',monospace\">ESTROGEN RECEPTOR AND PROGESTERONE RECEPTOR: <span style=\"font-weight: bold\">(</span>nuclear staining in invasive tumor cells<span style=\"font-weight: bold\">)</span>:\n",
       "\n",
       "</pre>\n"
      ],
      "text/plain": [
       "ESTROGEN RECEPTOR AND PROGESTERONE RECEPTOR: \u001b[1m(\u001b[0mnuclear staining in invasive tumor cells\u001b[1m)\u001b[0m:\n",
       "\n"
      ]
     },
     "metadata": {},
     "output_type": "display_data"
    },
    {
     "data": {
      "text/html": [
       "<pre style=\"white-space:pre;overflow-x:auto;line-height:normal;font-family:Menlo,'DejaVu Sans Mono',consolas,'Courier New',monospace\">============================================================================================\n",
       "</pre>\n"
      ],
      "text/plain": [
       "============================================================================================\n"
      ]
     },
     "metadata": {},
     "output_type": "display_data"
    },
    {
     "data": {
      "text/html": [
       "<pre style=\"white-space:pre;overflow-x:auto;line-height:normal;font-family:Menlo,'DejaVu Sans Mono',consolas,'Courier New',monospace\"><span style=\"color: #008080; text-decoration-color: #008080; font-weight: bold\">0</span>% NEGATIVE\n",
       "\n",
       "</pre>\n"
      ],
      "text/plain": [
       "\u001b[1;36m0\u001b[0m% NEGATIVE\n",
       "\n"
      ]
     },
     "metadata": {},
     "output_type": "display_data"
    },
    {
     "data": {
      "text/html": [
       "<pre style=\"white-space:pre;overflow-x:auto;line-height:normal;font-family:Menlo,'DejaVu Sans Mono',consolas,'Courier New',monospace\">============================================================================================\n",
       "</pre>\n"
      ],
      "text/plain": [
       "============================================================================================\n"
      ]
     },
     "metadata": {},
     "output_type": "display_data"
    },
    {
     "data": {
      "text/html": [
       "<pre style=\"white-space:pre;overflow-x:auto;line-height:normal;font-family:Menlo,'DejaVu Sans Mono',consolas,'Courier New',monospace\"><span style=\"color: #008080; text-decoration-color: #008080; font-weight: bold\">1</span>-<span style=\"color: #008080; text-decoration-color: #008080; font-weight: bold\">9</span>% LOW POSITIVE\n",
       "\n",
       "</pre>\n"
      ],
      "text/plain": [
       "\u001b[1;36m1\u001b[0m-\u001b[1;36m9\u001b[0m% LOW POSITIVE\n",
       "\n"
      ]
     },
     "metadata": {},
     "output_type": "display_data"
    },
    {
     "data": {
      "text/html": [
       "<pre style=\"white-space:pre;overflow-x:auto;line-height:normal;font-family:Menlo,'DejaVu Sans Mono',consolas,'Courier New',monospace\">============================================================================================\n",
       "</pre>\n"
      ],
      "text/plain": [
       "============================================================================================\n"
      ]
     },
     "metadata": {},
     "output_type": "display_data"
    },
    {
     "data": {
      "text/html": [
       "<pre style=\"white-space:pre;overflow-x:auto;line-height:normal;font-family:Menlo,'DejaVu Sans Mono',consolas,'Courier New',monospace\">?\n",
       "</pre>\n"
      ],
      "text/plain": [
       "?\n"
      ]
     },
     "metadata": {},
     "output_type": "display_data"
    },
    {
     "data": {
      "text/html": [
       "<pre style=\"white-space:pre;overflow-x:auto;line-height:normal;font-family:Menlo,'DejaVu Sans Mono',consolas,'Courier New',monospace\">============================================================================================\n",
       "</pre>\n"
      ],
      "text/plain": [
       "============================================================================================\n"
      ]
     },
     "metadata": {},
     "output_type": "display_data"
    },
    {
     "data": {
      "text/html": [
       "<pre style=\"white-space:pre;overflow-x:auto;line-height:normal;font-family:Menlo,'DejaVu Sans Mono',consolas,'Courier New',monospace\"><span style=\"color: #008080; text-decoration-color: #008080; font-weight: bold\">10</span>% POSITIVE\n",
       "\n",
       "\n",
       "</pre>\n"
      ],
      "text/plain": [
       "\u001b[1;36m10\u001b[0m% POSITIVE\n",
       "\n",
       "\n"
      ]
     },
     "metadata": {},
     "output_type": "display_data"
    },
    {
     "data": {
      "text/html": [
       "<pre style=\"white-space:pre;overflow-x:auto;line-height:normal;font-family:Menlo,'DejaVu Sans Mono',consolas,'Courier New',monospace\">============================================================================================\n",
       "</pre>\n"
      ],
      "text/plain": [
       "============================================================================================\n"
      ]
     },
     "metadata": {},
     "output_type": "display_data"
    },
    {
     "data": {
      "text/html": [
       "<pre style=\"white-space:pre;overflow-x:auto;line-height:normal;font-family:Menlo,'DejaVu Sans Mono',consolas,'Courier New',monospace\">Comments for specific Scenarios: ER: <span style=\"color: #008080; text-decoration-color: #008080; font-weight: bold\">1</span>-<span style=\"color: #008080; text-decoration-color: #008080; font-weight: bold\">10</span>% staining: The cancer in this sample has a low \n",
       "level <span style=\"font-weight: bold\">(</span><span style=\"color: #008080; text-decoration-color: #008080; font-weight: bold\">1</span>%<span style=\"color: #008080; text-decoration-color: #008080; font-weight: bold\">-10</span>%<span style=\"font-weight: bold\">)</span> ER expression by IHC.\n",
       "</pre>\n"
      ],
      "text/plain": [
       "Comments for specific Scenarios: ER: \u001b[1;36m1\u001b[0m-\u001b[1;36m10\u001b[0m% staining: The cancer in this sample has a low \n",
       "level \u001b[1m(\u001b[0m\u001b[1;36m1\u001b[0m%\u001b[1;36m-10\u001b[0m%\u001b[1m)\u001b[0m ER expression by IHC.\n"
      ]
     },
     "metadata": {},
     "output_type": "display_data"
    },
    {
     "data": {
      "text/html": [
       "<pre style=\"white-space:pre;overflow-x:auto;line-height:normal;font-family:Menlo,'DejaVu Sans Mono',consolas,'Courier New',monospace\">============================================================================================\n",
       "</pre>\n"
      ],
      "text/plain": [
       "============================================================================================\n"
      ]
     },
     "metadata": {},
     "output_type": "display_data"
    },
    {
     "data": {
      "text/html": [
       "<pre style=\"white-space:pre;overflow-x:auto;line-height:normal;font-family:Menlo,'DejaVu Sans Mono',consolas,'Courier New',monospace\">There are limited data on the overall benefit of endocrine therapies for patients with low \n",
       "level <span style=\"font-weight: bold\">(</span><span style=\"color: #008080; text-decoration-color: #008080; font-weight: bold\">1</span>%<span style=\"color: #008080; text-decoration-color: #008080; font-weight: bold\">-10</span>%<span style=\"font-weight: bold\">)</span> ER expression, but they currently suggest possible benefit, so patients are \n",
       "considered eligible for endocrine treatment.\n",
       "</pre>\n"
      ],
      "text/plain": [
       "There are limited data on the overall benefit of endocrine therapies for patients with low \n",
       "level \u001b[1m(\u001b[0m\u001b[1;36m1\u001b[0m%\u001b[1;36m-10\u001b[0m%\u001b[1m)\u001b[0m ER expression, but they currently suggest possible benefit, so patients are \n",
       "considered eligible for endocrine treatment.\n"
      ]
     },
     "metadata": {},
     "output_type": "display_data"
    },
    {
     "data": {
      "text/html": [
       "<pre style=\"white-space:pre;overflow-x:auto;line-height:normal;font-family:Menlo,'DejaVu Sans Mono',consolas,'Courier New',monospace\">============================================================================================\n",
       "</pre>\n"
      ],
      "text/plain": [
       "============================================================================================\n"
      ]
     },
     "metadata": {},
     "output_type": "display_data"
    },
    {
     "data": {
      "text/html": [
       "<pre style=\"white-space:pre;overflow-x:auto;line-height:normal;font-family:Menlo,'DejaVu Sans Mono',consolas,'Courier New',monospace\">There are data that suggest invasive cancers with these results are heterogeneous in both \n",
       "behavior and biology and often have gene expression profiles more similar to ER-negative \n",
       "cancers.\n",
       "\n",
       "\n",
       "</pre>\n"
      ],
      "text/plain": [
       "There are data that suggest invasive cancers with these results are heterogeneous in both \n",
       "behavior and biology and often have gene expression profiles more similar to ER-negative \n",
       "cancers.\n",
       "\n",
       "\n"
      ]
     },
     "metadata": {},
     "output_type": "display_data"
    },
    {
     "data": {
      "text/html": [
       "<pre style=\"white-space:pre;overflow-x:auto;line-height:normal;font-family:Menlo,'DejaVu Sans Mono',consolas,'Courier New',monospace\">============================================================================================\n",
       "</pre>\n"
      ],
      "text/plain": [
       "============================================================================================\n"
      ]
     },
     "metadata": {},
     "output_type": "display_data"
    },
    {
     "data": {
      "text/html": [
       "<pre style=\"white-space:pre;overflow-x:auto;line-height:normal;font-family:Menlo,'DejaVu Sans Mono',consolas,'Courier New',monospace\">HER-<span style=\"color: #008080; text-decoration-color: #008080; font-weight: bold\">2</span>/neu <span style=\"font-weight: bold\">(</span>membranous staining in invasive tumor cells<span style=\"font-weight: bold\">)</span>:\n",
       "\n",
       "\n",
       "</pre>\n"
      ],
      "text/plain": [
       "HER-\u001b[1;36m2\u001b[0m/neu \u001b[1m(\u001b[0mmembranous staining in invasive tumor cells\u001b[1m)\u001b[0m:\n",
       "\n",
       "\n"
      ]
     },
     "metadata": {},
     "output_type": "display_data"
    },
    {
     "data": {
      "text/html": [
       "<pre style=\"white-space:pre;overflow-x:auto;line-height:normal;font-family:Menlo,'DejaVu Sans Mono',consolas,'Courier New',monospace\">============================================================================================\n",
       "</pre>\n"
      ],
      "text/plain": [
       "============================================================================================\n"
      ]
     },
     "metadata": {},
     "output_type": "display_data"
    },
    {
     "data": {
      "text/html": [
       "<pre style=\"white-space:pre;overflow-x:auto;line-height:normal;font-family:Menlo,'DejaVu Sans Mono',consolas,'Courier New',monospace\">SCORE RESULT\n",
       "\n",
       "</pre>\n"
      ],
      "text/plain": [
       "SCORE RESULT\n",
       "\n"
      ]
     },
     "metadata": {},
     "output_type": "display_data"
    },
    {
     "data": {
      "text/html": [
       "<pre style=\"white-space:pre;overflow-x:auto;line-height:normal;font-family:Menlo,'DejaVu Sans Mono',consolas,'Courier New',monospace\">============================================================================================\n",
       "</pre>\n"
      ],
      "text/plain": [
       "============================================================================================\n"
      ]
     },
     "metadata": {},
     "output_type": "display_data"
    },
    {
     "data": {
      "text/html": [
       "<pre style=\"white-space:pre;overflow-x:auto;line-height:normal;font-family:Menlo,'DejaVu Sans Mono',consolas,'Courier New',monospace\">No membranous staining observed or Membrane staining that is incomplete and is faint/barely \n",
       "perceptible and within &lt;<span style=\"color: #008080; text-decoration-color: #008080; font-weight: bold\">10</span>% of the invasive tumor cells <span style=\"color: #008080; text-decoration-color: #008080; font-weight: bold\">0</span> NEGATIVE\n",
       "\n",
       "</pre>\n"
      ],
      "text/plain": [
       "No membranous staining observed or Membrane staining that is incomplete and is faint/barely \n",
       "perceptible and within <\u001b[1;36m10\u001b[0m% of the invasive tumor cells \u001b[1;36m0\u001b[0m NEGATIVE\n",
       "\n"
      ]
     },
     "metadata": {},
     "output_type": "display_data"
    },
    {
     "data": {
      "text/html": [
       "<pre style=\"white-space:pre;overflow-x:auto;line-height:normal;font-family:Menlo,'DejaVu Sans Mono',consolas,'Courier New',monospace\">============================================================================================\n",
       "</pre>\n"
      ],
      "text/plain": [
       "============================================================================================\n"
      ]
     },
     "metadata": {},
     "output_type": "display_data"
    },
    {
     "data": {
      "text/html": [
       "<pre style=\"white-space:pre;overflow-x:auto;line-height:normal;font-family:Menlo,'DejaVu Sans Mono',consolas,'Courier New',monospace\">Incomplete membrane staining that is faint/barely perceptible and within &gt;<span style=\"color: #008080; text-decoration-color: #008080; font-weight: bold\">10</span>% of invasive \n",
       "tumor cells^ <span style=\"color: #008080; text-decoration-color: #008080; font-weight: bold\">1</span>+ NEGATIVE\n",
       "\n",
       "</pre>\n"
      ],
      "text/plain": [
       "Incomplete membrane staining that is faint/barely perceptible and within >\u001b[1;36m10\u001b[0m% of invasive \n",
       "tumor cells^ \u001b[1;36m1\u001b[0m+ NEGATIVE\n",
       "\n"
      ]
     },
     "metadata": {},
     "output_type": "display_data"
    },
    {
     "data": {
      "text/html": [
       "<pre style=\"white-space:pre;overflow-x:auto;line-height:normal;font-family:Menlo,'DejaVu Sans Mono',consolas,'Courier New',monospace\">============================================================================================\n",
       "</pre>\n"
      ],
      "text/plain": [
       "============================================================================================\n"
      ]
     },
     "metadata": {},
     "output_type": "display_data"
    },
    {
     "data": {
      "text/html": [
       "<pre style=\"white-space:pre;overflow-x:auto;line-height:normal;font-family:Menlo,'DejaVu Sans Mono',consolas,'Courier New',monospace\">Weak to moderate complete membrane staining in &gt;<span style=\"color: #008080; text-decoration-color: #008080; font-weight: bold\">10</span>% of cells or Circumferential membrane \n",
       "staining that is intense but within ?\n",
       "</pre>\n"
      ],
      "text/plain": [
       "Weak to moderate complete membrane staining in >\u001b[1;36m10\u001b[0m% of cells or Circumferential membrane \n",
       "staining that is intense but within ?\n"
      ]
     },
     "metadata": {},
     "output_type": "display_data"
    },
    {
     "data": {
      "text/html": [
       "<pre style=\"white-space:pre;overflow-x:auto;line-height:normal;font-family:Menlo,'DejaVu Sans Mono',consolas,'Courier New',monospace\">============================================================================================\n",
       "</pre>\n"
      ],
      "text/plain": [
       "============================================================================================\n"
      ]
     },
     "metadata": {},
     "output_type": "display_data"
    },
    {
     "data": {
      "text/html": [
       "<pre style=\"white-space:pre;overflow-x:auto;line-height:normal;font-family:Menlo,'DejaVu Sans Mono',consolas,'Courier New',monospace\"><span style=\"color: #008080; text-decoration-color: #008080; font-weight: bold\">10</span>% of invasive tumor cells^ <span style=\"color: #008080; text-decoration-color: #008080; font-weight: bold\">2</span>+ EQUIVOCAL*\n",
       "\n",
       "</pre>\n"
      ],
      "text/plain": [
       "\u001b[1;36m10\u001b[0m% of invasive tumor cells^ \u001b[1;36m2\u001b[0m+ EQUIVOCAL*\n",
       "\n"
      ]
     },
     "metadata": {},
     "output_type": "display_data"
    },
    {
     "data": {
      "text/html": [
       "<pre style=\"white-space:pre;overflow-x:auto;line-height:normal;font-family:Menlo,'DejaVu Sans Mono',consolas,'Courier New',monospace\">============================================================================================\n",
       "</pre>\n"
      ],
      "text/plain": [
       "============================================================================================\n"
      ]
     },
     "metadata": {},
     "output_type": "display_data"
    },
    {
     "data": {
      "text/html": [
       "<pre style=\"white-space:pre;overflow-x:auto;line-height:normal;font-family:Menlo,'DejaVu Sans Mono',consolas,'Courier New',monospace\">Circumferential membrane staining that is complete and &gt;<span style=\"color: #008080; text-decoration-color: #008080; font-weight: bold\">10</span>% of invasive tumor cells^ <span style=\"color: #008080; text-decoration-color: #008080; font-weight: bold\">3</span>+ \n",
       "POSITIVE\n",
       "\n",
       "</pre>\n"
      ],
      "text/plain": [
       "Circumferential membrane staining that is complete and >\u001b[1;36m10\u001b[0m% of invasive tumor cells^ \u001b[1;36m3\u001b[0m+ \n",
       "POSITIVE\n",
       "\n"
      ]
     },
     "metadata": {},
     "output_type": "display_data"
    },
    {
     "data": {
      "text/html": [
       "<pre style=\"white-space:pre;overflow-x:auto;line-height:normal;font-family:Menlo,'DejaVu Sans Mono',consolas,'Courier New',monospace\">============================================================================================\n",
       "</pre>\n"
      ],
      "text/plain": [
       "============================================================================================\n"
      ]
     },
     "metadata": {},
     "output_type": "display_data"
    },
    {
     "data": {
      "text/html": [
       "<pre style=\"white-space:pre;overflow-x:auto;line-height:normal;font-family:Menlo,'DejaVu Sans Mono',consolas,'Courier New',monospace\">^ Readily appreciated using a low-power objective and observed within a homogeneous and \n",
       "contiguous population of invasive tumor cells.\n",
       "\n",
       "</pre>\n"
      ],
      "text/plain": [
       "^ Readily appreciated using a low-power objective and observed within a homogeneous and \n",
       "contiguous population of invasive tumor cells.\n",
       "\n"
      ]
     },
     "metadata": {},
     "output_type": "display_data"
    },
    {
     "data": {
      "text/html": [
       "<pre style=\"white-space:pre;overflow-x:auto;line-height:normal;font-family:Menlo,'DejaVu Sans Mono',consolas,'Courier New',monospace\">============================================================================================\n",
       "</pre>\n"
      ],
      "text/plain": [
       "============================================================================================\n"
      ]
     },
     "metadata": {},
     "output_type": "display_data"
    },
    {
     "data": {
      "text/html": [
       "<pre style=\"white-space:pre;overflow-x:auto;line-height:normal;font-family:Menlo,'DejaVu Sans Mono',consolas,'Courier New',monospace\">* Specimens receiving an equivocal <span style=\"font-weight: bold\">(</span>score <span style=\"color: #008080; text-decoration-color: #008080; font-weight: bold\">2</span>+<span style=\"font-weight: bold\">)</span> HER-<span style=\"color: #008080; text-decoration-color: #008080; font-weight: bold\">2</span>/neu score by immunohistochemistry <span style=\"font-weight: bold\">(</span>IHC<span style=\"font-weight: bold\">)</span> \n",
       "are reflexively submitted for FISH analysis <span style=\"font-weight: bold\">(</span>using the same specimen<span style=\"font-weight: bold\">)</span> for confirmation of \n",
       "HER-<span style=\"color: #008080; text-decoration-color: #008080; font-weight: bold\">2</span>/neu status.\n",
       "</pre>\n"
      ],
      "text/plain": [
       "* Specimens receiving an equivocal \u001b[1m(\u001b[0mscore \u001b[1;36m2\u001b[0m+\u001b[1m)\u001b[0m HER-\u001b[1;36m2\u001b[0m/neu score by immunohistochemistry \u001b[1m(\u001b[0mIHC\u001b[1m)\u001b[0m \n",
       "are reflexively submitted for FISH analysis \u001b[1m(\u001b[0musing the same specimen\u001b[1m)\u001b[0m for confirmation of \n",
       "HER-\u001b[1;36m2\u001b[0m/neu status.\n"
      ]
     },
     "metadata": {},
     "output_type": "display_data"
    },
    {
     "data": {
      "text/html": [
       "<pre style=\"white-space:pre;overflow-x:auto;line-height:normal;font-family:Menlo,'DejaVu Sans Mono',consolas,'Courier New',monospace\">============================================================================================\n",
       "</pre>\n"
      ],
      "text/plain": [
       "============================================================================================\n"
      ]
     },
     "metadata": {},
     "output_type": "display_data"
    },
    {
     "data": {
      "text/html": [
       "<pre style=\"white-space:pre;overflow-x:auto;line-height:normal;font-family:Menlo,'DejaVu Sans Mono',consolas,'Courier New',monospace\">A new test <span style=\"font-weight: bold\">(</span>new specimen if available<span style=\"font-weight: bold\">)</span> may be ordered using IHC or ISH.\n",
       "\n",
       "\n",
       "\n",
       "</pre>\n"
      ],
      "text/plain": [
       "A new test \u001b[1m(\u001b[0mnew specimen if available\u001b[1m)\u001b[0m may be ordered using IHC or ISH.\n",
       "\n",
       "\n",
       "\n"
      ]
     },
     "metadata": {},
     "output_type": "display_data"
    },
    {
     "data": {
      "text/html": [
       "<pre style=\"white-space:pre;overflow-x:auto;line-height:normal;font-family:Menlo,'DejaVu Sans Mono',consolas,'Courier New',monospace\">============================================================================================\n",
       "</pre>\n"
      ],
      "text/plain": [
       "============================================================================================\n"
      ]
     },
     "metadata": {},
     "output_type": "display_data"
    },
    {
     "data": {
      "text/html": [
       "<pre style=\"white-space:pre;overflow-x:auto;line-height:normal;font-family:Menlo,'DejaVu Sans Mono',consolas,'Courier New',monospace\">Ki-<span style=\"color: #008080; text-decoration-color: #008080; font-weight: bold\">67</span> <span style=\"font-weight: bold\">(</span>nuclear staining in invasive tumor cells<span style=\"font-weight: bold\">)</span>:\n",
       "\n",
       "\n",
       "</pre>\n"
      ],
      "text/plain": [
       "Ki-\u001b[1;36m67\u001b[0m \u001b[1m(\u001b[0mnuclear staining in invasive tumor cells\u001b[1m)\u001b[0m:\n",
       "\n",
       "\n"
      ]
     },
     "metadata": {},
     "output_type": "display_data"
    },
    {
     "data": {
      "text/html": [
       "<pre style=\"white-space:pre;overflow-x:auto;line-height:normal;font-family:Menlo,'DejaVu Sans Mono',consolas,'Courier New',monospace\">============================================================================================\n",
       "</pre>\n"
      ],
      "text/plain": [
       "============================================================================================\n"
      ]
     },
     "metadata": {},
     "output_type": "display_data"
    },
    {
     "data": {
      "text/html": [
       "<pre style=\"white-space:pre;overflow-x:auto;line-height:normal;font-family:Menlo,'DejaVu Sans Mono',consolas,'Courier New',monospace\">?<span style=\"color: #008080; text-decoration-color: #008080; font-weight: bold\">10</span>% LOW <span style=\"font-weight: bold\">(</span>FAVORABLE<span style=\"font-weight: bold\">)</span>\n",
       "\n",
       "</pre>\n"
      ],
      "text/plain": [
       "?\u001b[1;36m10\u001b[0m% LOW \u001b[1m(\u001b[0mFAVORABLE\u001b[1m)\u001b[0m\n",
       "\n"
      ]
     },
     "metadata": {},
     "output_type": "display_data"
    },
    {
     "data": {
      "text/html": [
       "<pre style=\"white-space:pre;overflow-x:auto;line-height:normal;font-family:Menlo,'DejaVu Sans Mono',consolas,'Courier New',monospace\">============================================================================================\n",
       "</pre>\n"
      ],
      "text/plain": [
       "============================================================================================\n"
      ]
     },
     "metadata": {},
     "output_type": "display_data"
    },
    {
     "data": {
      "text/html": [
       "<pre style=\"white-space:pre;overflow-x:auto;line-height:normal;font-family:Menlo,'DejaVu Sans Mono',consolas,'Courier New',monospace\"><span style=\"color: #008080; text-decoration-color: #008080; font-weight: bold\">11</span>-<span style=\"color: #008080; text-decoration-color: #008080; font-weight: bold\">20</span>% INTERMEDIATE\n",
       "\n",
       "</pre>\n"
      ],
      "text/plain": [
       "\u001b[1;36m11\u001b[0m-\u001b[1;36m20\u001b[0m% INTERMEDIATE\n",
       "\n"
      ]
     },
     "metadata": {},
     "output_type": "display_data"
    },
    {
     "data": {
      "text/html": [
       "<pre style=\"white-space:pre;overflow-x:auto;line-height:normal;font-family:Menlo,'DejaVu Sans Mono',consolas,'Courier New',monospace\">============================================================================================\n",
       "</pre>\n"
      ],
      "text/plain": [
       "============================================================================================\n"
      ]
     },
     "metadata": {},
     "output_type": "display_data"
    },
    {
     "data": {
      "text/html": [
       "<pre style=\"white-space:pre;overflow-x:auto;line-height:normal;font-family:Menlo,'DejaVu Sans Mono',consolas,'Courier New',monospace\">&gt;<span style=\"color: #008080; text-decoration-color: #008080; font-weight: bold\">20</span>% HIGH <span style=\"font-weight: bold\">(</span>UNFAVORABLE<span style=\"font-weight: bold\">)</span>\n",
       "\n",
       "\n",
       "</pre>\n"
      ],
      "text/plain": [
       ">\u001b[1;36m20\u001b[0m% HIGH \u001b[1m(\u001b[0mUNFAVORABLE\u001b[1m)\u001b[0m\n",
       "\n",
       "\n"
      ]
     },
     "metadata": {},
     "output_type": "display_data"
    },
    {
     "data": {
      "text/html": [
       "<pre style=\"white-space:pre;overflow-x:auto;line-height:normal;font-family:Menlo,'DejaVu Sans Mono',consolas,'Courier New',monospace\">============================================================================================\n",
       "</pre>\n"
      ],
      "text/plain": [
       "============================================================================================\n"
      ]
     },
     "metadata": {},
     "output_type": "display_data"
    },
    {
     "data": {
      "text/html": [
       "<pre style=\"white-space:pre;overflow-x:auto;line-height:normal;font-family:Menlo,'DejaVu Sans Mono',consolas,'Courier New',monospace\">P53 <span style=\"font-weight: bold\">(</span>nuclear staining in invasive tumor cells<span style=\"font-weight: bold\">)</span>:\n",
       "\n",
       "\n",
       "</pre>\n"
      ],
      "text/plain": [
       "P53 \u001b[1m(\u001b[0mnuclear staining in invasive tumor cells\u001b[1m)\u001b[0m:\n",
       "\n",
       "\n"
      ]
     },
     "metadata": {},
     "output_type": "display_data"
    },
    {
     "data": {
      "text/html": [
       "<pre style=\"white-space:pre;overflow-x:auto;line-height:normal;font-family:Menlo,'DejaVu Sans Mono',consolas,'Courier New',monospace\">============================================================================================\n",
       "</pre>\n"
      ],
      "text/plain": [
       "============================================================================================\n"
      ]
     },
     "metadata": {},
     "output_type": "display_data"
    },
    {
     "data": {
      "text/html": [
       "<pre style=\"white-space:pre;overflow-x:auto;line-height:normal;font-family:Menlo,'DejaVu Sans Mono',consolas,'Courier New',monospace\"><span style=\"color: #008080; text-decoration-color: #008080; font-weight: bold\">0</span>-<span style=\"color: #008080; text-decoration-color: #008080; font-weight: bold\">9</span>% NEGATIVE\n",
       "\n",
       "</pre>\n"
      ],
      "text/plain": [
       "\u001b[1;36m0\u001b[0m-\u001b[1;36m9\u001b[0m% NEGATIVE\n",
       "\n"
      ]
     },
     "metadata": {},
     "output_type": "display_data"
    },
    {
     "data": {
      "text/html": [
       "<pre style=\"white-space:pre;overflow-x:auto;line-height:normal;font-family:Menlo,'DejaVu Sans Mono',consolas,'Courier New',monospace\">============================================================================================\n",
       "</pre>\n"
      ],
      "text/plain": [
       "============================================================================================\n"
      ]
     },
     "metadata": {},
     "output_type": "display_data"
    },
    {
     "data": {
      "text/html": [
       "<pre style=\"white-space:pre;overflow-x:auto;line-height:normal;font-family:Menlo,'DejaVu Sans Mono',consolas,'Courier New',monospace\">?<span style=\"color: #008080; text-decoration-color: #008080; font-weight: bold\">10</span>% POSITIVE\n",
       "\n",
       "\n",
       "\n",
       "</pre>\n"
      ],
      "text/plain": [
       "?\u001b[1;36m10\u001b[0m% POSITIVE\n",
       "\n",
       "\n",
       "\n"
      ]
     },
     "metadata": {},
     "output_type": "display_data"
    },
    {
     "data": {
      "text/html": [
       "<pre style=\"white-space:pre;overflow-x:auto;line-height:normal;font-family:Menlo,'DejaVu Sans Mono',consolas,'Courier New',monospace\">============================================================================================\n",
       "</pre>\n"
      ],
      "text/plain": [
       "============================================================================================\n"
      ]
     },
     "metadata": {},
     "output_type": "display_data"
    },
    {
     "data": {
      "text/html": [
       "<pre style=\"white-space:pre;overflow-x:auto;line-height:normal;font-family:Menlo,'DejaVu Sans Mono',consolas,'Courier New',monospace\">References:\n",
       "\n",
       "</pre>\n"
      ],
      "text/plain": [
       "References:\n",
       "\n"
      ]
     },
     "metadata": {},
     "output_type": "display_data"
    },
    {
     "data": {
      "text/html": [
       "<pre style=\"white-space:pre;overflow-x:auto;line-height:normal;font-family:Menlo,'DejaVu Sans Mono',consolas,'Courier New',monospace\">============================================================================================\n",
       "</pre>\n"
      ],
      "text/plain": [
       "============================================================================================\n"
      ]
     },
     "metadata": {},
     "output_type": "display_data"
    },
    {
     "data": {
      "text/html": [
       "<pre style=\"white-space:pre;overflow-x:auto;line-height:normal;font-family:Menlo,'DejaVu Sans Mono',consolas,'Courier New',monospace\"><span style=\"color: #008080; text-decoration-color: #008080; font-weight: bold\">1</span>. Hammond ME, Hayes DF, Dowsett M, et al.\n",
       "</pre>\n"
      ],
      "text/plain": [
       "\u001b[1;36m1\u001b[0m. Hammond ME, Hayes DF, Dowsett M, et al.\n"
      ]
     },
     "metadata": {},
     "output_type": "display_data"
    },
    {
     "data": {
      "text/html": [
       "<pre style=\"white-space:pre;overflow-x:auto;line-height:normal;font-family:Menlo,'DejaVu Sans Mono',consolas,'Courier New',monospace\">============================================================================================\n",
       "</pre>\n"
      ],
      "text/plain": [
       "============================================================================================\n"
      ]
     },
     "metadata": {},
     "output_type": "display_data"
    },
    {
     "data": {
      "text/html": [
       "<pre style=\"white-space:pre;overflow-x:auto;line-height:normal;font-family:Menlo,'DejaVu Sans Mono',consolas,'Courier New',monospace\">?\n",
       "</pre>\n"
      ],
      "text/plain": [
       "?\n"
      ]
     },
     "metadata": {},
     "output_type": "display_data"
    },
    {
     "data": {
      "text/html": [
       "<pre style=\"white-space:pre;overflow-x:auto;line-height:normal;font-family:Menlo,'DejaVu Sans Mono',consolas,'Courier New',monospace\">============================================================================================\n",
       "</pre>\n"
      ],
      "text/plain": [
       "============================================================================================\n"
      ]
     },
     "metadata": {},
     "output_type": "display_data"
    },
    {
     "data": {
      "text/html": [
       "<pre style=\"white-space:pre;overflow-x:auto;line-height:normal;font-family:Menlo,'DejaVu Sans Mono',consolas,'Courier New',monospace\">Guideline Recommendations for Immunohistochemical Testing of Estrogen and Progesterone \n",
       "Receptors in Breast Cancer.\n",
       "</pre>\n"
      ],
      "text/plain": [
       "Guideline Recommendations for Immunohistochemical Testing of Estrogen and Progesterone \n",
       "Receptors in Breast Cancer.\n"
      ]
     },
     "metadata": {},
     "output_type": "display_data"
    },
    {
     "data": {
      "text/html": [
       "<pre style=\"white-space:pre;overflow-x:auto;line-height:normal;font-family:Menlo,'DejaVu Sans Mono',consolas,'Courier New',monospace\">============================================================================================\n",
       "</pre>\n"
      ],
      "text/plain": [
       "============================================================================================\n"
      ]
     },
     "metadata": {},
     "output_type": "display_data"
    },
    {
     "data": {
      "text/html": [
       "<pre style=\"white-space:pre;overflow-x:auto;line-height:normal;font-family:Menlo,'DejaVu Sans Mono',consolas,'Courier New',monospace\">?\n",
       "</pre>\n"
      ],
      "text/plain": [
       "?\n"
      ]
     },
     "metadata": {},
     "output_type": "display_data"
    },
    {
     "data": {
      "text/html": [
       "<pre style=\"white-space:pre;overflow-x:auto;line-height:normal;font-family:Menlo,'DejaVu Sans Mono',consolas,'Courier New',monospace\">============================================================================================\n",
       "</pre>\n"
      ],
      "text/plain": [
       "============================================================================================\n"
      ]
     },
     "metadata": {},
     "output_type": "display_data"
    },
    {
     "data": {
      "text/html": [
       "<pre style=\"white-space:pre;overflow-x:auto;line-height:normal;font-family:Menlo,'DejaVu Sans Mono',consolas,'Courier New',monospace\">American Society of Clinical Oncology/College of American Pathologists.\n",
       "</pre>\n"
      ],
      "text/plain": [
       "American Society of Clinical Oncology/College of American Pathologists.\n"
      ]
     },
     "metadata": {},
     "output_type": "display_data"
    },
    {
     "data": {
      "text/html": [
       "<pre style=\"white-space:pre;overflow-x:auto;line-height:normal;font-family:Menlo,'DejaVu Sans Mono',consolas,'Courier New',monospace\">============================================================================================\n",
       "</pre>\n"
      ],
      "text/plain": [
       "============================================================================================\n"
      ]
     },
     "metadata": {},
     "output_type": "display_data"
    },
    {
     "data": {
      "text/html": [
       "<pre style=\"white-space:pre;overflow-x:auto;line-height:normal;font-family:Menlo,'DejaVu Sans Mono',consolas,'Courier New',monospace\">Arch Pathol Lab Med <span style=\"color: #008080; text-decoration-color: #008080; font-weight: bold\">2010</span>;<span style=\"color: #800080; text-decoration-color: #800080; font-weight: bold\">134</span><span style=\"font-weight: bold\">(</span><span style=\"color: #008080; text-decoration-color: #008080; font-weight: bold\">6</span><span style=\"font-weight: bold\">)</span>: <span style=\"color: #008080; text-decoration-color: #008080; font-weight: bold\">907</span>-<span style=\"color: #008080; text-decoration-color: #008080; font-weight: bold\">922</span>.\n",
       "\n",
       "</pre>\n"
      ],
      "text/plain": [
       "Arch Pathol Lab Med \u001b[1;36m2010\u001b[0m;\u001b[1;35m134\u001b[0m\u001b[1m(\u001b[0m\u001b[1;36m6\u001b[0m\u001b[1m)\u001b[0m: \u001b[1;36m907\u001b[0m-\u001b[1;36m922\u001b[0m.\n",
       "\n"
      ]
     },
     "metadata": {},
     "output_type": "display_data"
    },
    {
     "data": {
      "text/html": [
       "<pre style=\"white-space:pre;overflow-x:auto;line-height:normal;font-family:Menlo,'DejaVu Sans Mono',consolas,'Courier New',monospace\">============================================================================================\n",
       "</pre>\n"
      ],
      "text/plain": [
       "============================================================================================\n"
      ]
     },
     "metadata": {},
     "output_type": "display_data"
    },
    {
     "data": {
      "text/html": [
       "<pre style=\"white-space:pre;overflow-x:auto;line-height:normal;font-family:Menlo,'DejaVu Sans Mono',consolas,'Courier New',monospace\"><span style=\"color: #008080; text-decoration-color: #008080; font-weight: bold\">2</span>. Wolff AC, Hammond MEH, Allison KH, et al.\n",
       "</pre>\n"
      ],
      "text/plain": [
       "\u001b[1;36m2\u001b[0m. Wolff AC, Hammond MEH, Allison KH, et al.\n"
      ]
     },
     "metadata": {},
     "output_type": "display_data"
    },
    {
     "data": {
      "text/html": [
       "<pre style=\"white-space:pre;overflow-x:auto;line-height:normal;font-family:Menlo,'DejaVu Sans Mono',consolas,'Courier New',monospace\">============================================================================================\n",
       "</pre>\n"
      ],
      "text/plain": [
       "============================================================================================\n"
      ]
     },
     "metadata": {},
     "output_type": "display_data"
    },
    {
     "data": {
      "text/html": [
       "<pre style=\"white-space:pre;overflow-x:auto;line-height:normal;font-family:Menlo,'DejaVu Sans Mono',consolas,'Courier New',monospace\">?\n",
       "</pre>\n"
      ],
      "text/plain": [
       "?\n"
      ]
     },
     "metadata": {},
     "output_type": "display_data"
    },
    {
     "data": {
      "text/html": [
       "<pre style=\"white-space:pre;overflow-x:auto;line-height:normal;font-family:Menlo,'DejaVu Sans Mono',consolas,'Courier New',monospace\">============================================================================================\n",
       "</pre>\n"
      ],
      "text/plain": [
       "============================================================================================\n"
      ]
     },
     "metadata": {},
     "output_type": "display_data"
    },
    {
     "data": {
      "text/html": [
       "<pre style=\"white-space:pre;overflow-x:auto;line-height:normal;font-family:Menlo,'DejaVu Sans Mono',consolas,'Courier New',monospace\">HER2 Testing in Breast Cancer: American Society of Clinical Oncology/College of American \n",
       "Pathologists Clinical Practice Guideline Focused Update.\n",
       "</pre>\n"
      ],
      "text/plain": [
       "HER2 Testing in Breast Cancer: American Society of Clinical Oncology/College of American \n",
       "Pathologists Clinical Practice Guideline Focused Update.\n"
      ]
     },
     "metadata": {},
     "output_type": "display_data"
    },
    {
     "data": {
      "text/html": [
       "<pre style=\"white-space:pre;overflow-x:auto;line-height:normal;font-family:Menlo,'DejaVu Sans Mono',consolas,'Courier New',monospace\">============================================================================================\n",
       "</pre>\n"
      ],
      "text/plain": [
       "============================================================================================\n"
      ]
     },
     "metadata": {},
     "output_type": "display_data"
    },
    {
     "data": {
      "text/html": [
       "<pre style=\"white-space:pre;overflow-x:auto;line-height:normal;font-family:Menlo,'DejaVu Sans Mono',consolas,'Courier New',monospace\">?\n",
       "</pre>\n"
      ],
      "text/plain": [
       "?\n"
      ]
     },
     "metadata": {},
     "output_type": "display_data"
    },
    {
     "data": {
      "text/html": [
       "<pre style=\"white-space:pre;overflow-x:auto;line-height:normal;font-family:Menlo,'DejaVu Sans Mono',consolas,'Courier New',monospace\">============================================================================================\n",
       "</pre>\n"
      ],
      "text/plain": [
       "============================================================================================\n"
      ]
     },
     "metadata": {},
     "output_type": "display_data"
    },
    {
     "data": {
      "text/html": [
       "<pre style=\"white-space:pre;overflow-x:auto;line-height:normal;font-family:Menlo,'DejaVu Sans Mono',consolas,'Courier New',monospace\">Archives of Pathology &amp; Laboratory Medicine.\n",
       "</pre>\n"
      ],
      "text/plain": [
       "Archives of Pathology & Laboratory Medicine.\n"
      ]
     },
     "metadata": {},
     "output_type": "display_data"
    },
    {
     "data": {
      "text/html": [
       "<pre style=\"white-space:pre;overflow-x:auto;line-height:normal;font-family:Menlo,'DejaVu Sans Mono',consolas,'Courier New',monospace\">============================================================================================\n",
       "</pre>\n"
      ],
      "text/plain": [
       "============================================================================================\n"
      ]
     },
     "metadata": {},
     "output_type": "display_data"
    },
    {
     "data": {
      "text/html": [
       "<pre style=\"white-space:pre;overflow-x:auto;line-height:normal;font-family:Menlo,'DejaVu Sans Mono',consolas,'Courier New',monospace\">Nov <span style=\"color: #008080; text-decoration-color: #008080; font-weight: bold\">2018</span>;<span style=\"color: #800080; text-decoration-color: #800080; font-weight: bold\">142</span><span style=\"font-weight: bold\">(</span><span style=\"color: #008080; text-decoration-color: #008080; font-weight: bold\">11</span><span style=\"font-weight: bold\">)</span>:<span style=\"color: #008080; text-decoration-color: #008080; font-weight: bold\">1364</span>-<span style=\"color: #008080; text-decoration-color: #008080; font-weight: bold\">1382</span>.\n",
       "\n",
       "</pre>\n"
      ],
      "text/plain": [
       "Nov \u001b[1;36m2018\u001b[0m;\u001b[1;35m142\u001b[0m\u001b[1m(\u001b[0m\u001b[1;36m11\u001b[0m\u001b[1m)\u001b[0m:\u001b[1;36m1364\u001b[0m-\u001b[1;36m1382\u001b[0m.\n",
       "\n"
      ]
     },
     "metadata": {},
     "output_type": "display_data"
    },
    {
     "data": {
      "text/html": [
       "<pre style=\"white-space:pre;overflow-x:auto;line-height:normal;font-family:Menlo,'DejaVu Sans Mono',consolas,'Courier New',monospace\">============================================================================================\n",
       "</pre>\n"
      ],
      "text/plain": [
       "============================================================================================\n"
      ]
     },
     "metadata": {},
     "output_type": "display_data"
    },
    {
     "data": {
      "text/html": [
       "<pre style=\"white-space:pre;overflow-x:auto;line-height:normal;font-family:Menlo,'DejaVu Sans Mono',consolas,'Courier New',monospace\"><span style=\"color: #008080; text-decoration-color: #008080; font-weight: bold\">3</span>. Allison KH, Hammond EH, Dowsett M, et al.\n",
       "</pre>\n"
      ],
      "text/plain": [
       "\u001b[1;36m3\u001b[0m. Allison KH, Hammond EH, Dowsett M, et al.\n"
      ]
     },
     "metadata": {},
     "output_type": "display_data"
    },
    {
     "data": {
      "text/html": [
       "<pre style=\"white-space:pre;overflow-x:auto;line-height:normal;font-family:Menlo,'DejaVu Sans Mono',consolas,'Courier New',monospace\">============================================================================================\n",
       "</pre>\n"
      ],
      "text/plain": [
       "============================================================================================\n"
      ]
     },
     "metadata": {},
     "output_type": "display_data"
    },
    {
     "data": {
      "text/html": [
       "<pre style=\"white-space:pre;overflow-x:auto;line-height:normal;font-family:Menlo,'DejaVu Sans Mono',consolas,'Courier New',monospace\">?\n",
       "</pre>\n"
      ],
      "text/plain": [
       "?\n"
      ]
     },
     "metadata": {},
     "output_type": "display_data"
    },
    {
     "data": {
      "text/html": [
       "<pre style=\"white-space:pre;overflow-x:auto;line-height:normal;font-family:Menlo,'DejaVu Sans Mono',consolas,'Courier New',monospace\">============================================================================================\n",
       "</pre>\n"
      ],
      "text/plain": [
       "============================================================================================\n"
      ]
     },
     "metadata": {},
     "output_type": "display_data"
    },
    {
     "data": {
      "text/html": [
       "<pre style=\"white-space:pre;overflow-x:auto;line-height:normal;font-family:Menlo,'DejaVu Sans Mono',consolas,'Courier New',monospace\">Estrogen and Progesterone Receptor Testing in Breast Cancer:ASCO/CAP Guideline Update.\n",
       "</pre>\n"
      ],
      "text/plain": [
       "Estrogen and Progesterone Receptor Testing in Breast Cancer:ASCO/CAP Guideline Update.\n"
      ]
     },
     "metadata": {},
     "output_type": "display_data"
    },
    {
     "data": {
      "text/html": [
       "<pre style=\"white-space:pre;overflow-x:auto;line-height:normal;font-family:Menlo,'DejaVu Sans Mono',consolas,'Courier New',monospace\">============================================================================================\n",
       "</pre>\n"
      ],
      "text/plain": [
       "============================================================================================\n"
      ]
     },
     "metadata": {},
     "output_type": "display_data"
    },
    {
     "data": {
      "text/html": [
       "<pre style=\"white-space:pre;overflow-x:auto;line-height:normal;font-family:Menlo,'DejaVu Sans Mono',consolas,'Courier New',monospace\">?\n",
       "</pre>\n"
      ],
      "text/plain": [
       "?\n"
      ]
     },
     "metadata": {},
     "output_type": "display_data"
    },
    {
     "data": {
      "text/html": [
       "<pre style=\"white-space:pre;overflow-x:auto;line-height:normal;font-family:Menlo,'DejaVu Sans Mono',consolas,'Courier New',monospace\">============================================================================================\n",
       "</pre>\n"
      ],
      "text/plain": [
       "============================================================================================\n"
      ]
     },
     "metadata": {},
     "output_type": "display_data"
    },
    {
     "data": {
      "text/html": [
       "<pre style=\"white-space:pre;overflow-x:auto;line-height:normal;font-family:Menlo,'DejaVu Sans Mono',consolas,'Courier New',monospace\">Journal of Clinical Oncology,\n",
       "\n",
       "</pre>\n"
      ],
      "text/plain": [
       "Journal of Clinical Oncology,\n",
       "\n"
      ]
     },
     "metadata": {},
     "output_type": "display_data"
    },
    {
     "data": {
      "text/html": [
       "<pre style=\"white-space:pre;overflow-x:auto;line-height:normal;font-family:Menlo,'DejaVu Sans Mono',consolas,'Courier New',monospace\">============================================================================================\n",
       "</pre>\n"
      ],
      "text/plain": [
       "============================================================================================\n"
      ]
     },
     "metadata": {},
     "output_type": "display_data"
    },
    {
     "data": {
      "text/html": [
       "<pre style=\"white-space:pre;overflow-x:auto;line-height:normal;font-family:Menlo,'DejaVu Sans Mono',consolas,'Courier New',monospace\">DOI <span style=\"color: #0000ff; text-decoration-color: #0000ff; text-decoration: underline\">https://doi.org/10.1200/JCO.19.02309,</span> January <span style=\"color: #008080; text-decoration-color: #008080; font-weight: bold\">13</span>, <span style=\"color: #008080; text-decoration-color: #008080; font-weight: bold\">2020</span>.\n",
       "\n",
       "\n",
       "</pre>\n"
      ],
      "text/plain": [
       "DOI \u001b[4;94mhttps://doi.org/10.1200/JCO.19.02309,\u001b[0m January \u001b[1;36m13\u001b[0m, \u001b[1;36m2020\u001b[0m.\n",
       "\n",
       "\n"
      ]
     },
     "metadata": {},
     "output_type": "display_data"
    },
    {
     "data": {
      "text/html": [
       "<pre style=\"white-space:pre;overflow-x:auto;line-height:normal;font-family:Menlo,'DejaVu Sans Mono',consolas,'Courier New',monospace\">============================================================================================\n",
       "</pre>\n"
      ],
      "text/plain": [
       "============================================================================================\n"
      ]
     },
     "metadata": {},
     "output_type": "display_data"
    },
    {
     "data": {
      "text/html": [
       "<pre style=\"white-space:pre;overflow-x:auto;line-height:normal;font-family:Menlo,'DejaVu Sans Mono',consolas,'Courier New',monospace\">Positive control specimens demonstrate appropriate positive staining.\n",
       "</pre>\n"
      ],
      "text/plain": [
       "Positive control specimens demonstrate appropriate positive staining.\n"
      ]
     },
     "metadata": {},
     "output_type": "display_data"
    },
    {
     "data": {
      "text/html": [
       "<pre style=\"white-space:pre;overflow-x:auto;line-height:normal;font-family:Menlo,'DejaVu Sans Mono',consolas,'Courier New',monospace\">============================================================================================\n",
       "</pre>\n"
      ],
      "text/plain": [
       "============================================================================================\n"
      ]
     },
     "metadata": {},
     "output_type": "display_data"
    },
    {
     "data": {
      "text/html": [
       "<pre style=\"white-space:pre;overflow-x:auto;line-height:normal;font-family:Menlo,'DejaVu Sans Mono',consolas,'Courier New',monospace\">Negative antibody control shows absence of staining of tumor with non-immune serum.\n",
       "\n",
       "\n",
       "</pre>\n"
      ],
      "text/plain": [
       "Negative antibody control shows absence of staining of tumor with non-immune serum.\n",
       "\n",
       "\n"
      ]
     },
     "metadata": {},
     "output_type": "display_data"
    },
    {
     "data": {
      "text/html": [
       "<pre style=\"white-space:pre;overflow-x:auto;line-height:normal;font-family:Menlo,'DejaVu Sans Mono',consolas,'Courier New',monospace\">============================================================================================\n",
       "</pre>\n"
      ],
      "text/plain": [
       "============================================================================================\n"
      ]
     },
     "metadata": {},
     "output_type": "display_data"
    },
    {
     "data": {
      "text/html": [
       "<pre style=\"white-space:pre;overflow-x:auto;line-height:normal;font-family:Menlo,'DejaVu Sans Mono',consolas,'Courier New',monospace\">Breast tissue is fixed in <span style=\"color: #008080; text-decoration-color: #008080; font-weight: bold\">10</span>% neutral buffered formalin for between <span style=\"color: #008080; text-decoration-color: #008080; font-weight: bold\">6</span> and <span style=\"color: #008080; text-decoration-color: #008080; font-weight: bold\">48</span> hours.\n",
       "</pre>\n"
      ],
      "text/plain": [
       "Breast tissue is fixed in \u001b[1;36m10\u001b[0m% neutral buffered formalin for between \u001b[1;36m6\u001b[0m and \u001b[1;36m48\u001b[0m hours.\n"
      ]
     },
     "metadata": {},
     "output_type": "display_data"
    },
    {
     "data": {
      "text/html": [
       "<pre style=\"white-space:pre;overflow-x:auto;line-height:normal;font-family:Menlo,'DejaVu Sans Mono',consolas,'Courier New',monospace\">============================================================================================\n",
       "</pre>\n"
      ],
      "text/plain": [
       "============================================================================================\n"
      ]
     },
     "metadata": {},
     "output_type": "display_data"
    },
    {
     "data": {
      "text/html": [
       "<pre style=\"white-space:pre;overflow-x:auto;line-height:normal;font-family:Menlo,'DejaVu Sans Mono',consolas,'Courier New',monospace\">The clones used are as follows: ER ?\n",
       "</pre>\n"
      ],
      "text/plain": [
       "The clones used are as follows: ER ?\n"
      ]
     },
     "metadata": {},
     "output_type": "display_data"
    },
    {
     "data": {
      "text/html": [
       "<pre style=\"white-space:pre;overflow-x:auto;line-height:normal;font-family:Menlo,'DejaVu Sans Mono',consolas,'Courier New',monospace\">============================================================================================\n",
       "</pre>\n"
      ],
      "text/plain": [
       "============================================================================================\n"
      ]
     },
     "metadata": {},
     "output_type": "display_data"
    },
    {
     "data": {
      "text/html": [
       "<pre style=\"white-space:pre;overflow-x:auto;line-height:normal;font-family:Menlo,'DejaVu Sans Mono',consolas,'Courier New',monospace\">SP1, PR ?\n",
       "</pre>\n"
      ],
      "text/plain": [
       "SP1, PR ?\n"
      ]
     },
     "metadata": {},
     "output_type": "display_data"
    },
    {
     "data": {
      "text/html": [
       "<pre style=\"white-space:pre;overflow-x:auto;line-height:normal;font-family:Menlo,'DejaVu Sans Mono',consolas,'Courier New',monospace\">============================================================================================\n",
       "</pre>\n"
      ],
      "text/plain": [
       "============================================================================================\n"
      ]
     },
     "metadata": {},
     "output_type": "display_data"
    },
    {
     "data": {
      "text/html": [
       "<pre style=\"white-space:pre;overflow-x:auto;line-height:normal;font-family:Menlo,'DejaVu Sans Mono',consolas,'Courier New',monospace\">1E2, p53 - Bp53-<span style=\"color: #008080; text-decoration-color: #008080; font-weight: bold\">11</span>, Ki-<span style=\"color: #008080; text-decoration-color: #008080; font-weight: bold\">67</span> <span style=\"font-weight: bold\">(</span><span style=\"color: #008080; text-decoration-color: #008080; font-weight: bold\">30</span>-<span style=\"color: #008080; text-decoration-color: #008080; font-weight: bold\">9</span><span style=\"font-weight: bold\">)</span> <span style=\"font-weight: bold\">(</span>Ventana<span style=\"font-weight: bold\">)</span> and PATHWAY HER-<span style=\"color: #008080; text-decoration-color: #008080; font-weight: bold\">2</span>/neu <span style=\"font-weight: bold\">(</span>c-erbB-<span style=\"color: #008080; text-decoration-color: #008080; font-weight: bold\">2</span><span style=\"font-weight: bold\">)</span> ?\n",
       "</pre>\n"
      ],
      "text/plain": [
       "1E2, p53 - Bp53-\u001b[1;36m11\u001b[0m, Ki-\u001b[1;36m67\u001b[0m \u001b[1m(\u001b[0m\u001b[1;36m30\u001b[0m-\u001b[1;36m9\u001b[0m\u001b[1m)\u001b[0m \u001b[1m(\u001b[0mVentana\u001b[1m)\u001b[0m and PATHWAY HER-\u001b[1;36m2\u001b[0m/neu \u001b[1m(\u001b[0mc-erbB-\u001b[1;36m2\u001b[0m\u001b[1m)\u001b[0m ?\n"
      ]
     },
     "metadata": {},
     "output_type": "display_data"
    },
    {
     "data": {
      "text/html": [
       "<pre style=\"white-space:pre;overflow-x:auto;line-height:normal;font-family:Menlo,'DejaVu Sans Mono',consolas,'Courier New',monospace\">============================================================================================\n",
       "</pre>\n"
      ],
      "text/plain": [
       "============================================================================================\n"
      ]
     },
     "metadata": {},
     "output_type": "display_data"
    },
    {
     "data": {
      "text/html": [
       "<pre style=\"white-space:pre;overflow-x:auto;line-height:normal;font-family:Menlo,'DejaVu Sans Mono',consolas,'Courier New',monospace\">4B5 <span style=\"font-weight: bold\">(</span>Ventana - FDA approved system<span style=\"font-weight: bold\">)</span>.\n",
       "</pre>\n"
      ],
      "text/plain": [
       "4B5 \u001b[1m(\u001b[0mVentana - FDA approved system\u001b[1m)\u001b[0m.\n"
      ]
     },
     "metadata": {},
     "output_type": "display_data"
    },
    {
     "data": {
      "text/html": [
       "<pre style=\"white-space:pre;overflow-x:auto;line-height:normal;font-family:Menlo,'DejaVu Sans Mono',consolas,'Courier New',monospace\">============================================================================================\n",
       "</pre>\n"
      ],
      "text/plain": [
       "============================================================================================\n"
      ]
     },
     "metadata": {},
     "output_type": "display_data"
    },
    {
     "data": {
      "text/html": [
       "<pre style=\"white-space:pre;overflow-x:auto;line-height:normal;font-family:Menlo,'DejaVu Sans Mono',consolas,'Courier New',monospace\">The detection system used is Ventana i-View DAB.\n",
       "</pre>\n"
      ],
      "text/plain": [
       "The detection system used is Ventana i-View DAB.\n"
      ]
     },
     "metadata": {},
     "output_type": "display_data"
    },
    {
     "data": {
      "text/html": [
       "<pre style=\"white-space:pre;overflow-x:auto;line-height:normal;font-family:Menlo,'DejaVu Sans Mono',consolas,'Courier New',monospace\">============================================================================================\n",
       "</pre>\n"
      ],
      "text/plain": [
       "============================================================================================\n"
      ]
     },
     "metadata": {},
     "output_type": "display_data"
    },
    {
     "data": {
      "text/html": [
       "<pre style=\"white-space:pre;overflow-x:auto;line-height:normal;font-family:Menlo,'DejaVu Sans Mono',consolas,'Courier New',monospace\">This testing includes use of both negative and positive control tissue.\n",
       "\n",
       "\n",
       "</pre>\n"
      ],
      "text/plain": [
       "This testing includes use of both negative and positive control tissue.\n",
       "\n",
       "\n"
      ]
     },
     "metadata": {},
     "output_type": "display_data"
    },
    {
     "data": {
      "text/html": [
       "<pre style=\"white-space:pre;overflow-x:auto;line-height:normal;font-family:Menlo,'DejaVu Sans Mono',consolas,'Courier New',monospace\">============================================================================================\n",
       "</pre>\n"
      ],
      "text/plain": [
       "============================================================================================\n"
      ]
     },
     "metadata": {},
     "output_type": "display_data"
    },
    {
     "data": {
      "text/html": [
       "<pre style=\"white-space:pre;overflow-x:auto;line-height:normal;font-family:Menlo,'DejaVu Sans Mono',consolas,'Courier New',monospace\">This test was developed and its performance characteristics were determined by the \n",
       "Northwestern Memorial Hospital Immunohistochemistry Laboratory.\n",
       "</pre>\n"
      ],
      "text/plain": [
       "This test was developed and its performance characteristics were determined by the \n",
       "Northwestern Memorial Hospital Immunohistochemistry Laboratory.\n"
      ]
     },
     "metadata": {},
     "output_type": "display_data"
    },
    {
     "data": {
      "text/html": [
       "<pre style=\"white-space:pre;overflow-x:auto;line-height:normal;font-family:Menlo,'DejaVu Sans Mono',consolas,'Courier New',monospace\">============================================================================================\n",
       "</pre>\n"
      ],
      "text/plain": [
       "============================================================================================\n"
      ]
     },
     "metadata": {},
     "output_type": "display_data"
    },
    {
     "data": {
      "text/html": [
       "<pre style=\"white-space:pre;overflow-x:auto;line-height:normal;font-family:Menlo,'DejaVu Sans Mono',consolas,'Courier New',monospace\">It has not been cleared or approved by the U.S. Food and Drug Administration.\n",
       "</pre>\n"
      ],
      "text/plain": [
       "It has not been cleared or approved by the U.S. Food and Drug Administration.\n"
      ]
     },
     "metadata": {},
     "output_type": "display_data"
    },
    {
     "data": {
      "text/html": [
       "<pre style=\"white-space:pre;overflow-x:auto;line-height:normal;font-family:Menlo,'DejaVu Sans Mono',consolas,'Courier New',monospace\">============================================================================================\n",
       "</pre>\n"
      ],
      "text/plain": [
       "============================================================================================\n"
      ]
     },
     "metadata": {},
     "output_type": "display_data"
    },
    {
     "data": {
      "text/html": [
       "<pre style=\"white-space:pre;overflow-x:auto;line-height:normal;font-family:Menlo,'DejaVu Sans Mono',consolas,'Courier New',monospace\">The FDA has determined that such clearance or approval is not necessary.\n",
       "</pre>\n"
      ],
      "text/plain": [
       "The FDA has determined that such clearance or approval is not necessary.\n"
      ]
     },
     "metadata": {},
     "output_type": "display_data"
    },
    {
     "data": {
      "text/html": [
       "<pre style=\"white-space:pre;overflow-x:auto;line-height:normal;font-family:Menlo,'DejaVu Sans Mono',consolas,'Courier New',monospace\">============================================================================================\n",
       "</pre>\n"
      ],
      "text/plain": [
       "============================================================================================\n"
      ]
     },
     "metadata": {},
     "output_type": "display_data"
    },
    {
     "data": {
      "text/html": [
       "<pre style=\"white-space:pre;overflow-x:auto;line-height:normal;font-family:Menlo,'DejaVu Sans Mono',consolas,'Courier New',monospace\">This test is used for clinical purposes.\n",
       "</pre>\n"
      ],
      "text/plain": [
       "This test is used for clinical purposes.\n"
      ]
     },
     "metadata": {},
     "output_type": "display_data"
    },
    {
     "data": {
      "text/html": [
       "<pre style=\"white-space:pre;overflow-x:auto;line-height:normal;font-family:Menlo,'DejaVu Sans Mono',consolas,'Courier New',monospace\">============================================================================================\n",
       "</pre>\n"
      ],
      "text/plain": [
       "============================================================================================\n"
      ]
     },
     "metadata": {},
     "output_type": "display_data"
    },
    {
     "data": {
      "text/html": [
       "<pre style=\"white-space:pre;overflow-x:auto;line-height:normal;font-family:Menlo,'DejaVu Sans Mono',consolas,'Courier New',monospace\">It should not be regarded as investigational or for research.\n",
       "</pre>\n"
      ],
      "text/plain": [
       "It should not be regarded as investigational or for research.\n"
      ]
     },
     "metadata": {},
     "output_type": "display_data"
    },
    {
     "data": {
      "text/html": [
       "<pre style=\"white-space:pre;overflow-x:auto;line-height:normal;font-family:Menlo,'DejaVu Sans Mono',consolas,'Courier New',monospace\">============================================================================================\n",
       "</pre>\n"
      ],
      "text/plain": [
       "============================================================================================\n"
      ]
     },
     "metadata": {},
     "output_type": "display_data"
    },
    {
     "data": {
      "text/html": [
       "<pre style=\"white-space:pre;overflow-x:auto;line-height:normal;font-family:Menlo,'DejaVu Sans Mono',consolas,'Courier New',monospace\">This laboratory is certified under the Clinical Laboratory Improvement Amendments of <span style=\"color: #008080; text-decoration-color: #008080; font-weight: bold\">1988</span> \n",
       "<span style=\"font-weight: bold\">(</span>CLIA-<span style=\"color: #008080; text-decoration-color: #008080; font-weight: bold\">88</span><span style=\"font-weight: bold\">)</span> as qualified to perform high complexity clinical laboratory testing.\n",
       "\n",
       "\n",
       "</pre>\n"
      ],
      "text/plain": [
       "This laboratory is certified under the Clinical Laboratory Improvement Amendments of \u001b[1;36m1988\u001b[0m \n",
       "\u001b[1m(\u001b[0mCLIA-\u001b[1;36m88\u001b[0m\u001b[1m)\u001b[0m as qualified to perform high complexity clinical laboratory testing.\n",
       "\n",
       "\n"
      ]
     },
     "metadata": {},
     "output_type": "display_data"
    },
    {
     "data": {
      "text/html": [
       "<pre style=\"white-space:pre;overflow-x:auto;line-height:normal;font-family:Menlo,'DejaVu Sans Mono',consolas,'Courier New',monospace\">============================================================================================\n",
       "</pre>\n"
      ],
      "text/plain": [
       "============================================================================================\n"
      ]
     },
     "metadata": {},
     "output_type": "display_data"
    },
    {
     "data": {
      "text/html": [
       "<pre style=\"white-space:pre;overflow-x:auto;line-height:normal;font-family:Menlo,'DejaVu Sans Mono',consolas,'Courier New',monospace\">----------------------------------\n",
       "\n",
       "</pre>\n"
      ],
      "text/plain": [
       "----------------------------------\n",
       "\n"
      ]
     },
     "metadata": {},
     "output_type": "display_data"
    },
    {
     "data": {
      "text/html": [
       "<pre style=\"white-space:pre;overflow-x:auto;line-height:normal;font-family:Menlo,'DejaVu Sans Mono',consolas,'Courier New',monospace\">============================================================================================\n",
       "</pre>\n"
      ],
      "text/plain": [
       "============================================================================================\n"
      ]
     },
     "metadata": {},
     "output_type": "display_data"
    },
    {
     "data": {
      "text/html": [
       "<pre style=\"white-space:pre;overflow-x:auto;line-height:normal;font-family:Menlo,'DejaVu Sans Mono',consolas,'Courier New',monospace\">Addendum\n",
       "\n",
       "</pre>\n"
      ],
      "text/plain": [
       "Addendum\n",
       "\n"
      ]
     },
     "metadata": {},
     "output_type": "display_data"
    },
    {
     "data": {
      "text/html": [
       "<pre style=\"white-space:pre;overflow-x:auto;line-height:normal;font-family:Menlo,'DejaVu Sans Mono',consolas,'Courier New',monospace\">============================================================================================\n",
       "</pre>\n"
      ],
      "text/plain": [
       "============================================================================================\n"
      ]
     },
     "metadata": {},
     "output_type": "display_data"
    },
    {
     "data": {
      "text/html": [
       "<pre style=\"white-space:pre;overflow-x:auto;line-height:normal;font-family:Menlo,'DejaVu Sans Mono',consolas,'Courier New',monospace\">----------------------------------\n",
       "\n",
       "\n",
       "</pre>\n"
      ],
      "text/plain": [
       "----------------------------------\n",
       "\n",
       "\n"
      ]
     },
     "metadata": {},
     "output_type": "display_data"
    },
    {
     "data": {
      "text/html": [
       "<pre style=\"white-space:pre;overflow-x:auto;line-height:normal;font-family:Menlo,'DejaVu Sans Mono',consolas,'Courier New',monospace\">============================================================================================\n",
       "</pre>\n"
      ],
      "text/plain": [
       "============================================================================================\n"
      ]
     },
     "metadata": {},
     "output_type": "display_data"
    },
    {
     "data": {
      "text/html": [
       "<pre style=\"white-space:pre;overflow-x:auto;line-height:normal;font-family:Menlo,'DejaVu Sans Mono',consolas,'Courier New',monospace\">***Addendum Report***\n",
       "\n",
       "\n",
       "</pre>\n"
      ],
      "text/plain": [
       "***Addendum Report***\n",
       "\n",
       "\n"
      ]
     },
     "metadata": {},
     "output_type": "display_data"
    },
    {
     "data": {
      "text/html": [
       "<pre style=\"white-space:pre;overflow-x:auto;line-height:normal;font-family:Menlo,'DejaVu Sans Mono',consolas,'Courier New',monospace\">============================================================================================\n",
       "</pre>\n"
      ],
      "text/plain": [
       "============================================================================================\n"
      ]
     },
     "metadata": {},
     "output_type": "display_data"
    },
    {
     "data": {
      "text/html": [
       "<pre style=\"white-space:pre;overflow-x:auto;line-height:normal;font-family:Menlo,'DejaVu Sans Mono',consolas,'Courier New',monospace\">This report is being issued to add the results of fluorescence in situ hybridization studies.\n",
       "\n",
       "\n",
       "</pre>\n"
      ],
      "text/plain": [
       "This report is being issued to add the results of fluorescence in situ hybridization studies.\n",
       "\n",
       "\n"
      ]
     },
     "metadata": {},
     "output_type": "display_data"
    },
    {
     "data": {
      "text/html": [
       "<pre style=\"white-space:pre;overflow-x:auto;line-height:normal;font-family:Menlo,'DejaVu Sans Mono',consolas,'Courier New',monospace\">============================================================================================\n",
       "</pre>\n"
      ],
      "text/plain": [
       "============================================================================================\n"
      ]
     },
     "metadata": {},
     "output_type": "display_data"
    },
    {
     "data": {
      "text/html": [
       "<pre style=\"white-space:pre;overflow-x:auto;line-height:normal;font-family:Menlo,'DejaVu Sans Mono',consolas,'Courier New',monospace\">Previously signed out on <span style=\"color: #008080; text-decoration-color: #008080; font-weight: bold\">10</span>/<span style=\"color: #008080; text-decoration-color: #008080; font-weight: bold\">31</span>/<span style=\"color: #008080; text-decoration-color: #008080; font-weight: bold\">2001</span> by Geraldo Z. Liang, MD\n",
       "\n",
       "\n",
       "\n",
       "</pre>\n"
      ],
      "text/plain": [
       "Previously signed out on \u001b[1;36m10\u001b[0m/\u001b[1;36m31\u001b[0m/\u001b[1;36m2001\u001b[0m by Geraldo Z. Liang, MD\n",
       "\n",
       "\n",
       "\n"
      ]
     },
     "metadata": {},
     "output_type": "display_data"
    },
    {
     "data": {
      "text/html": [
       "<pre style=\"white-space:pre;overflow-x:auto;line-height:normal;font-family:Menlo,'DejaVu Sans Mono',consolas,'Courier New',monospace\">============================================================================================\n",
       "</pre>\n"
      ],
      "text/plain": [
       "============================================================================================\n"
      ]
     },
     "metadata": {},
     "output_type": "display_data"
    },
    {
     "data": {
      "text/html": [
       "<pre style=\"white-space:pre;overflow-x:auto;line-height:normal;font-family:Menlo,'DejaVu Sans Mono',consolas,'Courier New',monospace\">HER2 FLUORESCENCE IN SITU HYBRIDIZATION <span style=\"font-weight: bold\">(</span>FISH<span style=\"font-weight: bold\">)</span> EVALUATION This addendum is issued to report \n",
       "the results of fluorescence in situ hybridization <span style=\"font-weight: bold\">(</span>FISH<span style=\"font-weight: bold\">)</span> analysis to detect HER2 gene \n",
       "amplification on S21-<span style=\"color: #008080; text-decoration-color: #008080; font-weight: bold\">17563</span>, block C5.\n",
       "\n",
       "</pre>\n"
      ],
      "text/plain": [
       "HER2 FLUORESCENCE IN SITU HYBRIDIZATION \u001b[1m(\u001b[0mFISH\u001b[1m)\u001b[0m EVALUATION This addendum is issued to report \n",
       "the results of fluorescence in situ hybridization \u001b[1m(\u001b[0mFISH\u001b[1m)\u001b[0m analysis to detect HER2 gene \n",
       "amplification on S21-\u001b[1;36m17563\u001b[0m, block C5.\n",
       "\n"
      ]
     },
     "metadata": {},
     "output_type": "display_data"
    },
    {
     "data": {
      "text/html": [
       "<pre style=\"white-space:pre;overflow-x:auto;line-height:normal;font-family:Menlo,'DejaVu Sans Mono',consolas,'Courier New',monospace\">============================================================================================\n",
       "</pre>\n"
      ],
      "text/plain": [
       "============================================================================================\n"
      ]
     },
     "metadata": {},
     "output_type": "display_data"
    },
    {
     "data": {
      "text/html": [
       "<pre style=\"white-space:pre;overflow-x:auto;line-height:normal;font-family:Menlo,'DejaVu Sans Mono',consolas,'Courier New',monospace\">HER2 FISH INTERPRETATION POSITIVE See special group <span style=\"color: #008080; text-decoration-color: #008080; font-weight: bold\">3</span> AMPLIFIED See special group <span style=\"color: #008080; text-decoration-color: #008080; font-weight: bold\">3</span>\n",
       "\n",
       "</pre>\n"
      ],
      "text/plain": [
       "HER2 FISH INTERPRETATION POSITIVE See special group \u001b[1;36m3\u001b[0m AMPLIFIED See special group \u001b[1;36m3\u001b[0m\n",
       "\n"
      ]
     },
     "metadata": {},
     "output_type": "display_data"
    },
    {
     "data": {
      "text/html": [
       "<pre style=\"white-space:pre;overflow-x:auto;line-height:normal;font-family:Menlo,'DejaVu Sans Mono',consolas,'Courier New',monospace\">============================================================================================\n",
       "</pre>\n"
      ],
      "text/plain": [
       "============================================================================================\n"
      ]
     },
     "metadata": {},
     "output_type": "display_data"
    },
    {
     "data": {
      "text/html": [
       "<pre style=\"white-space:pre;overflow-x:auto;line-height:normal;font-family:Menlo,'DejaVu Sans Mono',consolas,'Courier New',monospace\">Number of invasive tumor nuclei counted: <span style=\"color: #008080; text-decoration-color: #008080; font-weight: bold\">90</span>\n",
       "\n",
       "</pre>\n"
      ],
      "text/plain": [
       "Number of invasive tumor nuclei counted: \u001b[1;36m90\u001b[0m\n",
       "\n"
      ]
     },
     "metadata": {},
     "output_type": "display_data"
    },
    {
     "data": {
      "text/html": [
       "<pre style=\"white-space:pre;overflow-x:auto;line-height:normal;font-family:Menlo,'DejaVu Sans Mono',consolas,'Courier New',monospace\">============================================================================================\n",
       "</pre>\n"
      ],
      "text/plain": [
       "============================================================================================\n"
      ]
     },
     "metadata": {},
     "output_type": "display_data"
    },
    {
     "data": {
      "text/html": [
       "<pre style=\"white-space:pre;overflow-x:auto;line-height:normal;font-family:Menlo,'DejaVu Sans Mono',consolas,'Courier New',monospace\">Average number of HER2 signals per nucleus: <span style=\"color: #008080; text-decoration-color: #008080; font-weight: bold\">6.01</span>\n",
       "\n",
       "</pre>\n"
      ],
      "text/plain": [
       "Average number of HER2 signals per nucleus: \u001b[1;36m6.01\u001b[0m\n",
       "\n"
      ]
     },
     "metadata": {},
     "output_type": "display_data"
    },
    {
     "data": {
      "text/html": [
       "<pre style=\"white-space:pre;overflow-x:auto;line-height:normal;font-family:Menlo,'DejaVu Sans Mono',consolas,'Courier New',monospace\">============================================================================================\n",
       "</pre>\n"
      ],
      "text/plain": [
       "============================================================================================\n"
      ]
     },
     "metadata": {},
     "output_type": "display_data"
    },
    {
     "data": {
      "text/html": [
       "<pre style=\"white-space:pre;overflow-x:auto;line-height:normal;font-family:Menlo,'DejaVu Sans Mono',consolas,'Courier New',monospace\">Average number of CEP17 probe signals per nucleus: <span style=\"color: #008080; text-decoration-color: #008080; font-weight: bold\">3.23</span>\n",
       "\n",
       "</pre>\n"
      ],
      "text/plain": [
       "Average number of CEP17 probe signals per nucleus: \u001b[1;36m3.23\u001b[0m\n",
       "\n"
      ]
     },
     "metadata": {},
     "output_type": "display_data"
    },
    {
     "data": {
      "text/html": [
       "<pre style=\"white-space:pre;overflow-x:auto;line-height:normal;font-family:Menlo,'DejaVu Sans Mono',consolas,'Courier New',monospace\">============================================================================================\n",
       "</pre>\n"
      ],
      "text/plain": [
       "============================================================================================\n"
      ]
     },
     "metadata": {},
     "output_type": "display_data"
    },
    {
     "data": {
      "text/html": [
       "<pre style=\"white-space:pre;overflow-x:auto;line-height:normal;font-family:Menlo,'DejaVu Sans Mono',consolas,'Courier New',monospace\">RATIO LSI HER2 <span style=\"font-weight: bold\">(</span>SpectrumOrange<span style=\"font-weight: bold\">)</span> to CEP17 <span style=\"font-weight: bold\">(</span>SpectrumGreen<span style=\"font-weight: bold\">)</span>: <span style=\"color: #008080; text-decoration-color: #008080; font-weight: bold\">1.86</span>\n",
       "\n",
       "</pre>\n"
      ],
      "text/plain": [
       "RATIO LSI HER2 \u001b[1m(\u001b[0mSpectrumOrange\u001b[1m)\u001b[0m to CEP17 \u001b[1m(\u001b[0mSpectrumGreen\u001b[1m)\u001b[0m: \u001b[1;36m1.86\u001b[0m\n",
       "\n"
      ]
     },
     "metadata": {},
     "output_type": "display_data"
    },
    {
     "data": {
      "text/html": [
       "<pre style=\"white-space:pre;overflow-x:auto;line-height:normal;font-family:Menlo,'DejaVu Sans Mono',consolas,'Courier New',monospace\">============================================================================================\n",
       "</pre>\n"
      ],
      "text/plain": [
       "============================================================================================\n"
      ]
     },
     "metadata": {},
     "output_type": "display_data"
    },
    {
     "data": {
      "text/html": [
       "<pre style=\"white-space:pre;overflow-x:auto;line-height:normal;font-family:Menlo,'DejaVu Sans Mono',consolas,'Courier New',monospace\">Group <span style=\"color: #008080; text-decoration-color: #008080; font-weight: bold\">3</span>\n",
       "\n",
       "\n",
       "</pre>\n"
      ],
      "text/plain": [
       "Group \u001b[1;36m3\u001b[0m\n",
       "\n",
       "\n"
      ]
     },
     "metadata": {},
     "output_type": "display_data"
    },
    {
     "data": {
      "text/html": [
       "<pre style=\"white-space:pre;overflow-x:auto;line-height:normal;font-family:Menlo,'DejaVu Sans Mono',consolas,'Courier New',monospace\">============================================================================================\n",
       "</pre>\n"
      ],
      "text/plain": [
       "============================================================================================\n"
      ]
     },
     "metadata": {},
     "output_type": "display_data"
    },
    {
     "data": {
      "text/html": [
       "<pre style=\"white-space:pre;overflow-x:auto;line-height:normal;font-family:Menlo,'DejaVu Sans Mono',consolas,'Courier New',monospace\">Interpretative Ranges <span style=\"font-weight: bold\">(</span><span style=\"color: #008080; text-decoration-color: #008080; font-weight: bold\">1</span><span style=\"font-weight: bold\">)</span>:\n",
       "\n",
       "\n",
       "</pre>\n"
      ],
      "text/plain": [
       "Interpretative Ranges \u001b[1m(\u001b[0m\u001b[1;36m1\u001b[0m\u001b[1m)\u001b[0m:\n",
       "\n",
       "\n"
      ]
     },
     "metadata": {},
     "output_type": "display_data"
    },
    {
     "data": {
      "text/html": [
       "<pre style=\"white-space:pre;overflow-x:auto;line-height:normal;font-family:Menlo,'DejaVu Sans Mono',consolas,'Courier New',monospace\">============================================================================================\n",
       "</pre>\n"
      ],
      "text/plain": [
       "============================================================================================\n"
      ]
     },
     "metadata": {},
     "output_type": "display_data"
    },
    {
     "data": {
      "text/html": [
       "<pre style=\"white-space:pre;overflow-x:auto;line-height:normal;font-family:Menlo,'DejaVu Sans Mono',consolas,'Courier New',monospace\">Dual Probe ISH Group Definitions:\n",
       "\n",
       "</pre>\n"
      ],
      "text/plain": [
       "Dual Probe ISH Group Definitions:\n",
       "\n"
      ]
     },
     "metadata": {},
     "output_type": "display_data"
    },
    {
     "data": {
      "text/html": [
       "<pre style=\"white-space:pre;overflow-x:auto;line-height:normal;font-family:Menlo,'DejaVu Sans Mono',consolas,'Courier New',monospace\">============================================================================================\n",
       "</pre>\n"
      ],
      "text/plain": [
       "============================================================================================\n"
      ]
     },
     "metadata": {},
     "output_type": "display_data"
    },
    {
     "data": {
      "text/html": [
       "<pre style=\"white-space:pre;overflow-x:auto;line-height:normal;font-family:Menlo,'DejaVu Sans Mono',consolas,'Courier New',monospace\">Group <span style=\"color: #008080; text-decoration-color: #008080; font-weight: bold\">1</span> = HER2/CEP17 ratio ?\n",
       "</pre>\n"
      ],
      "text/plain": [
       "Group \u001b[1;36m1\u001b[0m = HER2/CEP17 ratio ?\n"
      ]
     },
     "metadata": {},
     "output_type": "display_data"
    },
    {
     "data": {
      "text/html": [
       "<pre style=\"white-space:pre;overflow-x:auto;line-height:normal;font-family:Menlo,'DejaVu Sans Mono',consolas,'Courier New',monospace\">============================================================================================\n",
       "</pre>\n"
      ],
      "text/plain": [
       "============================================================================================\n"
      ]
     },
     "metadata": {},
     "output_type": "display_data"
    },
    {
     "data": {
      "text/html": [
       "<pre style=\"white-space:pre;overflow-x:auto;line-height:normal;font-family:Menlo,'DejaVu Sans Mono',consolas,'Courier New',monospace\"><span style=\"color: #008080; text-decoration-color: #008080; font-weight: bold\">2.0</span>; ?\n",
       "</pre>\n"
      ],
      "text/plain": [
       "\u001b[1;36m2.0\u001b[0m; ?\n"
      ]
     },
     "metadata": {},
     "output_type": "display_data"
    },
    {
     "data": {
      "text/html": [
       "<pre style=\"white-space:pre;overflow-x:auto;line-height:normal;font-family:Menlo,'DejaVu Sans Mono',consolas,'Courier New',monospace\">============================================================================================\n",
       "</pre>\n"
      ],
      "text/plain": [
       "============================================================================================\n"
      ]
     },
     "metadata": {},
     "output_type": "display_data"
    },
    {
     "data": {
      "text/html": [
       "<pre style=\"white-space:pre;overflow-x:auto;line-height:normal;font-family:Menlo,'DejaVu Sans Mono',consolas,'Courier New',monospace\"><span style=\"color: #008080; text-decoration-color: #008080; font-weight: bold\">4.0</span> HER2 signals/cell\n",
       "\n",
       "</pre>\n"
      ],
      "text/plain": [
       "\u001b[1;36m4.0\u001b[0m HER2 signals/cell\n",
       "\n"
      ]
     },
     "metadata": {},
     "output_type": "display_data"
    },
    {
     "data": {
      "text/html": [
       "<pre style=\"white-space:pre;overflow-x:auto;line-height:normal;font-family:Menlo,'DejaVu Sans Mono',consolas,'Courier New',monospace\">============================================================================================\n",
       "</pre>\n"
      ],
      "text/plain": [
       "============================================================================================\n"
      ]
     },
     "metadata": {},
     "output_type": "display_data"
    },
    {
     "data": {
      "text/html": [
       "<pre style=\"white-space:pre;overflow-x:auto;line-height:normal;font-family:Menlo,'DejaVu Sans Mono',consolas,'Courier New',monospace\">Group <span style=\"color: #008080; text-decoration-color: #008080; font-weight: bold\">2</span> = HER2/CEP17 ratio ?\n",
       "</pre>\n"
      ],
      "text/plain": [
       "Group \u001b[1;36m2\u001b[0m = HER2/CEP17 ratio ?\n"
      ]
     },
     "metadata": {},
     "output_type": "display_data"
    },
    {
     "data": {
      "text/html": [
       "<pre style=\"white-space:pre;overflow-x:auto;line-height:normal;font-family:Menlo,'DejaVu Sans Mono',consolas,'Courier New',monospace\">============================================================================================\n",
       "</pre>\n"
      ],
      "text/plain": [
       "============================================================================================\n"
      ]
     },
     "metadata": {},
     "output_type": "display_data"
    },
    {
     "data": {
      "text/html": [
       "<pre style=\"white-space:pre;overflow-x:auto;line-height:normal;font-family:Menlo,'DejaVu Sans Mono',consolas,'Courier New',monospace\"><span style=\"color: #008080; text-decoration-color: #008080; font-weight: bold\">2.0</span>; &lt;<span style=\"color: #008080; text-decoration-color: #008080; font-weight: bold\">4.0</span> HER2 signals/cell\n",
       "\n",
       "</pre>\n"
      ],
      "text/plain": [
       "\u001b[1;36m2.0\u001b[0m; <\u001b[1;36m4.0\u001b[0m HER2 signals/cell\n",
       "\n"
      ]
     },
     "metadata": {},
     "output_type": "display_data"
    },
    {
     "data": {
      "text/html": [
       "<pre style=\"white-space:pre;overflow-x:auto;line-height:normal;font-family:Menlo,'DejaVu Sans Mono',consolas,'Courier New',monospace\">============================================================================================\n",
       "</pre>\n"
      ],
      "text/plain": [
       "============================================================================================\n"
      ]
     },
     "metadata": {},
     "output_type": "display_data"
    },
    {
     "data": {
      "text/html": [
       "<pre style=\"white-space:pre;overflow-x:auto;line-height:normal;font-family:Menlo,'DejaVu Sans Mono',consolas,'Courier New',monospace\">Group <span style=\"color: #008080; text-decoration-color: #008080; font-weight: bold\">3</span> = HER2/CEP17 ratio &lt;<span style=\"color: #008080; text-decoration-color: #008080; font-weight: bold\">2.0</span>; ?\n",
       "</pre>\n"
      ],
      "text/plain": [
       "Group \u001b[1;36m3\u001b[0m = HER2/CEP17 ratio <\u001b[1;36m2.0\u001b[0m; ?\n"
      ]
     },
     "metadata": {},
     "output_type": "display_data"
    },
    {
     "data": {
      "text/html": [
       "<pre style=\"white-space:pre;overflow-x:auto;line-height:normal;font-family:Menlo,'DejaVu Sans Mono',consolas,'Courier New',monospace\">============================================================================================\n",
       "</pre>\n"
      ],
      "text/plain": [
       "============================================================================================\n"
      ]
     },
     "metadata": {},
     "output_type": "display_data"
    },
    {
     "data": {
      "text/html": [
       "<pre style=\"white-space:pre;overflow-x:auto;line-height:normal;font-family:Menlo,'DejaVu Sans Mono',consolas,'Courier New',monospace\"><span style=\"color: #008080; text-decoration-color: #008080; font-weight: bold\">6.0</span> HER2 signals/cell\n",
       "\n",
       "</pre>\n"
      ],
      "text/plain": [
       "\u001b[1;36m6.0\u001b[0m HER2 signals/cell\n",
       "\n"
      ]
     },
     "metadata": {},
     "output_type": "display_data"
    },
    {
     "data": {
      "text/html": [
       "<pre style=\"white-space:pre;overflow-x:auto;line-height:normal;font-family:Menlo,'DejaVu Sans Mono',consolas,'Courier New',monospace\">============================================================================================\n",
       "</pre>\n"
      ],
      "text/plain": [
       "============================================================================================\n"
      ]
     },
     "metadata": {},
     "output_type": "display_data"
    },
    {
     "data": {
      "text/html": [
       "<pre style=\"white-space:pre;overflow-x:auto;line-height:normal;font-family:Menlo,'DejaVu Sans Mono',consolas,'Courier New',monospace\">Group <span style=\"color: #008080; text-decoration-color: #008080; font-weight: bold\">4</span> = HER2/CEP17 ratio &lt;<span style=\"color: #008080; text-decoration-color: #008080; font-weight: bold\">2.0</span>; ?\n",
       "</pre>\n"
      ],
      "text/plain": [
       "Group \u001b[1;36m4\u001b[0m = HER2/CEP17 ratio <\u001b[1;36m2.0\u001b[0m; ?\n"
      ]
     },
     "metadata": {},
     "output_type": "display_data"
    },
    {
     "data": {
      "text/html": [
       "<pre style=\"white-space:pre;overflow-x:auto;line-height:normal;font-family:Menlo,'DejaVu Sans Mono',consolas,'Courier New',monospace\">============================================================================================\n",
       "</pre>\n"
      ],
      "text/plain": [
       "============================================================================================\n"
      ]
     },
     "metadata": {},
     "output_type": "display_data"
    },
    {
     "data": {
      "text/html": [
       "<pre style=\"white-space:pre;overflow-x:auto;line-height:normal;font-family:Menlo,'DejaVu Sans Mono',consolas,'Courier New',monospace\"><span style=\"color: #008080; text-decoration-color: #008080; font-weight: bold\">4.0</span> and &lt;<span style=\"color: #008080; text-decoration-color: #008080; font-weight: bold\">6.0</span> HER2 signals/cell\n",
       "\n",
       "</pre>\n"
      ],
      "text/plain": [
       "\u001b[1;36m4.0\u001b[0m and <\u001b[1;36m6.0\u001b[0m HER2 signals/cell\n",
       "\n"
      ]
     },
     "metadata": {},
     "output_type": "display_data"
    },
    {
     "data": {
      "text/html": [
       "<pre style=\"white-space:pre;overflow-x:auto;line-height:normal;font-family:Menlo,'DejaVu Sans Mono',consolas,'Courier New',monospace\">============================================================================================\n",
       "</pre>\n"
      ],
      "text/plain": [
       "============================================================================================\n"
      ]
     },
     "metadata": {},
     "output_type": "display_data"
    },
    {
     "data": {
      "text/html": [
       "<pre style=\"white-space:pre;overflow-x:auto;line-height:normal;font-family:Menlo,'DejaVu Sans Mono',consolas,'Courier New',monospace\">Group <span style=\"color: #008080; text-decoration-color: #008080; font-weight: bold\">5</span> = HER2/CEP17 ratio &lt;<span style=\"color: #008080; text-decoration-color: #008080; font-weight: bold\">2.0</span>; &lt;<span style=\"color: #008080; text-decoration-color: #008080; font-weight: bold\">4.0</span> HER2 signals/cell\n",
       "\n",
       "\n",
       "</pre>\n"
      ],
      "text/plain": [
       "Group \u001b[1;36m5\u001b[0m = HER2/CEP17 ratio <\u001b[1;36m2.0\u001b[0m; <\u001b[1;36m4.0\u001b[0m HER2 signals/cell\n",
       "\n",
       "\n"
      ]
     },
     "metadata": {},
     "output_type": "display_data"
    },
    {
     "data": {
      "text/html": [
       "<pre style=\"white-space:pre;overflow-x:auto;line-height:normal;font-family:Menlo,'DejaVu Sans Mono',consolas,'Courier New',monospace\">============================================================================================\n",
       "</pre>\n"
      ],
      "text/plain": [
       "============================================================================================\n"
      ]
     },
     "metadata": {},
     "output_type": "display_data"
    },
    {
     "data": {
      "text/html": [
       "<pre style=\"white-space:pre;overflow-x:auto;line-height:normal;font-family:Menlo,'DejaVu Sans Mono',consolas,'Courier New',monospace\">Reporting Results of HER2 Testing by In Situ Hybridization <span style=\"font-weight: bold\">(</span>dual-probe assay<span style=\"font-weight: bold\">)</span>\n",
       "\n",
       "</pre>\n"
      ],
      "text/plain": [
       "Reporting Results of HER2 Testing by In Situ Hybridization \u001b[1m(\u001b[0mdual-probe assay\u001b[1m)\u001b[0m\n",
       "\n"
      ]
     },
     "metadata": {},
     "output_type": "display_data"
    },
    {
     "data": {
      "text/html": [
       "<pre style=\"white-space:pre;overflow-x:auto;line-height:normal;font-family:Menlo,'DejaVu Sans Mono',consolas,'Courier New',monospace\">============================================================================================\n",
       "</pre>\n"
      ],
      "text/plain": [
       "============================================================================================\n"
      ]
     },
     "metadata": {},
     "output_type": "display_data"
    },
    {
     "data": {
      "text/html": [
       "<pre style=\"white-space:pre;overflow-x:auto;line-height:normal;font-family:Menlo,'DejaVu Sans Mono',consolas,'Courier New',monospace\">Result Criteria <span style=\"font-weight: bold\">(</span>dual-probe assay<span style=\"font-weight: bold\">)</span>\n",
       "\n",
       "</pre>\n"
      ],
      "text/plain": [
       "Result Criteria \u001b[1m(\u001b[0mdual-probe assay\u001b[1m)\u001b[0m\n",
       "\n"
      ]
     },
     "metadata": {},
     "output_type": "display_data"
    },
    {
     "data": {
      "text/html": [
       "<pre style=\"white-space:pre;overflow-x:auto;line-height:normal;font-family:Menlo,'DejaVu Sans Mono',consolas,'Courier New',monospace\">============================================================================================\n",
       "</pre>\n"
      ],
      "text/plain": [
       "============================================================================================\n"
      ]
     },
     "metadata": {},
     "output_type": "display_data"
    },
    {
     "data": {
      "text/html": [
       "<pre style=\"white-space:pre;overflow-x:auto;line-height:normal;font-family:Menlo,'DejaVu Sans Mono',consolas,'Courier New',monospace\">Negative Group <span style=\"color: #008080; text-decoration-color: #008080; font-weight: bold\">5</span>\n",
       "\n",
       "</pre>\n"
      ],
      "text/plain": [
       "Negative Group \u001b[1;36m5\u001b[0m\n",
       "\n"
      ]
     },
     "metadata": {},
     "output_type": "display_data"
    },
    {
     "data": {
      "text/html": [
       "<pre style=\"white-space:pre;overflow-x:auto;line-height:normal;font-family:Menlo,'DejaVu Sans Mono',consolas,'Courier New',monospace\">============================================================================================\n",
       "</pre>\n"
      ],
      "text/plain": [
       "============================================================================================\n"
      ]
     },
     "metadata": {},
     "output_type": "display_data"
    },
    {
     "data": {
      "text/html": [
       "<pre style=\"white-space:pre;overflow-x:auto;line-height:normal;font-family:Menlo,'DejaVu Sans Mono',consolas,'Courier New',monospace\">Negative* <span style=\"font-weight: bold\">(</span>see comment<span style=\"font-weight: bold\">)</span> Group <span style=\"color: #008080; text-decoration-color: #008080; font-weight: bold\">2</span> and concurrent IHC <span style=\"color: #008080; text-decoration-color: #008080; font-weight: bold\">0</span>-<span style=\"color: #008080; text-decoration-color: #008080; font-weight: bold\">1</span>+ or <span style=\"color: #008080; text-decoration-color: #008080; font-weight: bold\">2</span>+ Group <span style=\"color: #008080; text-decoration-color: #008080; font-weight: bold\">3</span> and concurrent IHC <span style=\"color: #008080; text-decoration-color: #008080; font-weight: bold\">0</span>-<span style=\"color: #008080; text-decoration-color: #008080; font-weight: bold\">1</span>+\n",
       "Group <span style=\"color: #008080; text-decoration-color: #008080; font-weight: bold\">4</span> and concurrent IHC <span style=\"color: #008080; text-decoration-color: #008080; font-weight: bold\">0</span>-<span style=\"color: #008080; text-decoration-color: #008080; font-weight: bold\">1</span>+ or <span style=\"color: #008080; text-decoration-color: #008080; font-weight: bold\">2</span>+\n",
       "\n",
       "</pre>\n"
      ],
      "text/plain": [
       "Negative* \u001b[1m(\u001b[0msee comment\u001b[1m)\u001b[0m Group \u001b[1;36m2\u001b[0m and concurrent IHC \u001b[1;36m0\u001b[0m-\u001b[1;36m1\u001b[0m+ or \u001b[1;36m2\u001b[0m+ Group \u001b[1;36m3\u001b[0m and concurrent IHC \u001b[1;36m0\u001b[0m-\u001b[1;36m1\u001b[0m+\n",
       "Group \u001b[1;36m4\u001b[0m and concurrent IHC \u001b[1;36m0\u001b[0m-\u001b[1;36m1\u001b[0m+ or \u001b[1;36m2\u001b[0m+\n",
       "\n"
      ]
     },
     "metadata": {},
     "output_type": "display_data"
    },
    {
     "data": {
      "text/html": [
       "<pre style=\"white-space:pre;overflow-x:auto;line-height:normal;font-family:Menlo,'DejaVu Sans Mono',consolas,'Courier New',monospace\">============================================================================================\n",
       "</pre>\n"
      ],
      "text/plain": [
       "============================================================================================\n"
      ]
     },
     "metadata": {},
     "output_type": "display_data"
    },
    {
     "data": {
      "text/html": [
       "<pre style=\"white-space:pre;overflow-x:auto;line-height:normal;font-family:Menlo,'DejaVu Sans Mono',consolas,'Courier New',monospace\">Positive* Group <span style=\"color: #008080; text-decoration-color: #008080; font-weight: bold\">2</span> and concurrent IHC <span style=\"color: #008080; text-decoration-color: #008080; font-weight: bold\">3</span>+ Group <span style=\"color: #008080; text-decoration-color: #008080; font-weight: bold\">3</span> and concurrent IHC <span style=\"color: #008080; text-decoration-color: #008080; font-weight: bold\">2</span>+ or <span style=\"color: #008080; text-decoration-color: #008080; font-weight: bold\">3</span>+ Group <span style=\"color: #008080; text-decoration-color: #008080; font-weight: bold\">4</span> and \n",
       "concurrent IHC <span style=\"color: #008080; text-decoration-color: #008080; font-weight: bold\">3</span>+\n",
       "\n",
       "</pre>\n"
      ],
      "text/plain": [
       "Positive* Group \u001b[1;36m2\u001b[0m and concurrent IHC \u001b[1;36m3\u001b[0m+ Group \u001b[1;36m3\u001b[0m and concurrent IHC \u001b[1;36m2\u001b[0m+ or \u001b[1;36m3\u001b[0m+ Group \u001b[1;36m4\u001b[0m and \n",
       "concurrent IHC \u001b[1;36m3\u001b[0m+\n",
       "\n"
      ]
     },
     "metadata": {},
     "output_type": "display_data"
    },
    {
     "data": {
      "text/html": [
       "<pre style=\"white-space:pre;overflow-x:auto;line-height:normal;font-family:Menlo,'DejaVu Sans Mono',consolas,'Courier New',monospace\">============================================================================================\n",
       "</pre>\n"
      ],
      "text/plain": [
       "============================================================================================\n"
      ]
     },
     "metadata": {},
     "output_type": "display_data"
    },
    {
     "data": {
      "text/html": [
       "<pre style=\"white-space:pre;overflow-x:auto;line-height:normal;font-family:Menlo,'DejaVu Sans Mono',consolas,'Courier New',monospace\">Positive Group <span style=\"color: #008080; text-decoration-color: #008080; font-weight: bold\">1</span>\n",
       "\n",
       "</pre>\n"
      ],
      "text/plain": [
       "Positive Group \u001b[1;36m1\u001b[0m\n",
       "\n"
      ]
     },
     "metadata": {},
     "output_type": "display_data"
    },
    {
     "data": {
      "text/html": [
       "<pre style=\"white-space:pre;overflow-x:auto;line-height:normal;font-family:Menlo,'DejaVu Sans Mono',consolas,'Courier New',monospace\">============================================================================================\n",
       "</pre>\n"
      ],
      "text/plain": [
       "============================================================================================\n"
      ]
     },
     "metadata": {},
     "output_type": "display_data"
    },
    {
     "data": {
      "text/html": [
       "<pre style=\"white-space:pre;overflow-x:auto;line-height:normal;font-family:Menlo,'DejaVu Sans Mono',consolas,'Courier New',monospace\">*For Groups <span style=\"color: #008080; text-decoration-color: #008080; font-weight: bold\">2</span>-<span style=\"color: #008080; text-decoration-color: #008080; font-weight: bold\">4</span> final ISH results are based on concurrent review of IHC, with recounting of \n",
       "the ISH test by a second reviewer if IHC is <span style=\"color: #008080; text-decoration-color: #008080; font-weight: bold\">2</span>+ <span style=\"font-weight: bold\">(</span>per <span style=\"color: #008080; text-decoration-color: #008080; font-weight: bold\">2018</span> CAP/ASCO Update recommendations<span style=\"font-weight: bold\">)</span>.\n",
       "\n",
       "\n",
       "</pre>\n"
      ],
      "text/plain": [
       "*For Groups \u001b[1;36m2\u001b[0m-\u001b[1;36m4\u001b[0m final ISH results are based on concurrent review of IHC, with recounting of \n",
       "the ISH test by a second reviewer if IHC is \u001b[1;36m2\u001b[0m+ \u001b[1m(\u001b[0mper \u001b[1;36m2018\u001b[0m CAP/ASCO Update recommendations\u001b[1m)\u001b[0m.\n",
       "\n",
       "\n"
      ]
     },
     "metadata": {},
     "output_type": "display_data"
    },
    {
     "data": {
      "text/html": [
       "<pre style=\"white-space:pre;overflow-x:auto;line-height:normal;font-family:Menlo,'DejaVu Sans Mono',consolas,'Courier New',monospace\">============================================================================================\n",
       "</pre>\n"
      ],
      "text/plain": [
       "============================================================================================\n"
      ]
     },
     "metadata": {},
     "output_type": "display_data"
    },
    {
     "data": {
      "text/html": [
       "<pre style=\"white-space:pre;overflow-x:auto;line-height:normal;font-family:Menlo,'DejaVu Sans Mono',consolas,'Courier New',monospace\">Comment for Group <span style=\"color: #008080; text-decoration-color: #008080; font-weight: bold\">2</span> Negative result: Evidence is limited on the efficacy of HER2-targeted \n",
       "therapy in the small subset of cases with HER2/CEP17 ratio ?\n",
       "</pre>\n"
      ],
      "text/plain": [
       "Comment for Group \u001b[1;36m2\u001b[0m Negative result: Evidence is limited on the efficacy of HER2-targeted \n",
       "therapy in the small subset of cases with HER2/CEP17 ratio ?\n"
      ]
     },
     "metadata": {},
     "output_type": "display_data"
    },
    {
     "data": {
      "text/html": [
       "<pre style=\"white-space:pre;overflow-x:auto;line-height:normal;font-family:Menlo,'DejaVu Sans Mono',consolas,'Courier New',monospace\">============================================================================================\n",
       "</pre>\n"
      ],
      "text/plain": [
       "============================================================================================\n"
      ]
     },
     "metadata": {},
     "output_type": "display_data"
    },
    {
     "data": {
      "text/html": [
       "<pre style=\"white-space:pre;overflow-x:auto;line-height:normal;font-family:Menlo,'DejaVu Sans Mono',consolas,'Courier New',monospace\"><span style=\"color: #008080; text-decoration-color: #008080; font-weight: bold\">2.0</span> and an average HER2 copy number &lt;<span style=\"color: #008080; text-decoration-color: #008080; font-weight: bold\">4.0</span>/cell.\n",
       "</pre>\n"
      ],
      "text/plain": [
       "\u001b[1;36m2.0\u001b[0m and an average HER2 copy number <\u001b[1;36m4.0\u001b[0m/cell.\n"
      ]
     },
     "metadata": {},
     "output_type": "display_data"
    },
    {
     "data": {
      "text/html": [
       "<pre style=\"white-space:pre;overflow-x:auto;line-height:normal;font-family:Menlo,'DejaVu Sans Mono',consolas,'Courier New',monospace\">============================================================================================\n",
       "</pre>\n"
      ],
      "text/plain": [
       "============================================================================================\n"
      ]
     },
     "metadata": {},
     "output_type": "display_data"
    },
    {
     "data": {
      "text/html": [
       "<pre style=\"white-space:pre;overflow-x:auto;line-height:normal;font-family:Menlo,'DejaVu Sans Mono',consolas,'Courier New',monospace\">In the first generation of adjuvant trastuzumab trials, patients in this subgroup who were \n",
       "randomized to the trastuzumab arm did not appear to derive an improvement in disease free or \n",
       "overall survival, but there were too few such cases to draw definitive conclusions.\n",
       "</pre>\n"
      ],
      "text/plain": [
       "In the first generation of adjuvant trastuzumab trials, patients in this subgroup who were \n",
       "randomized to the trastuzumab arm did not appear to derive an improvement in disease free or \n",
       "overall survival, but there were too few such cases to draw definitive conclusions.\n"
      ]
     },
     "metadata": {},
     "output_type": "display_data"
    },
    {
     "data": {
      "text/html": [
       "<pre style=\"white-space:pre;overflow-x:auto;line-height:normal;font-family:Menlo,'DejaVu Sans Mono',consolas,'Courier New',monospace\">============================================================================================\n",
       "</pre>\n"
      ],
      "text/plain": [
       "============================================================================================\n"
      ]
     },
     "metadata": {},
     "output_type": "display_data"
    },
    {
     "data": {
      "text/html": [
       "<pre style=\"white-space:pre;overflow-x:auto;line-height:normal;font-family:Menlo,'DejaVu Sans Mono',consolas,'Courier New',monospace\">IHC expression for HER2 should be used to complement ISH and define HER2 status.\n",
       "</pre>\n"
      ],
      "text/plain": [
       "IHC expression for HER2 should be used to complement ISH and define HER2 status.\n"
      ]
     },
     "metadata": {},
     "output_type": "display_data"
    },
    {
     "data": {
      "text/html": [
       "<pre style=\"white-space:pre;overflow-x:auto;line-height:normal;font-family:Menlo,'DejaVu Sans Mono',consolas,'Courier New',monospace\">============================================================================================\n",
       "</pre>\n"
      ],
      "text/plain": [
       "============================================================================================\n"
      ]
     },
     "metadata": {},
     "output_type": "display_data"
    },
    {
     "data": {
      "text/html": [
       "<pre style=\"white-space:pre;overflow-x:auto;line-height:normal;font-family:Menlo,'DejaVu Sans Mono',consolas,'Courier New',monospace\">If IHC result is not <span style=\"color: #008080; text-decoration-color: #008080; font-weight: bold\">3</span>+ positive, it is recommended that the specimen be considered HER2 \n",
       "negative because of the low HER2 copy number by ISH and lack of protein overexpression.\n",
       "\n",
       "\n",
       "</pre>\n"
      ],
      "text/plain": [
       "If IHC result is not \u001b[1;36m3\u001b[0m+ positive, it is recommended that the specimen be considered HER2 \n",
       "negative because of the low HER2 copy number by ISH and lack of protein overexpression.\n",
       "\n",
       "\n"
      ]
     },
     "metadata": {},
     "output_type": "display_data"
    },
    {
     "data": {
      "text/html": [
       "<pre style=\"white-space:pre;overflow-x:auto;line-height:normal;font-family:Menlo,'DejaVu Sans Mono',consolas,'Courier New',monospace\">============================================================================================\n",
       "</pre>\n"
      ],
      "text/plain": [
       "============================================================================================\n"
      ]
     },
     "metadata": {},
     "output_type": "display_data"
    },
    {
     "data": {
      "text/html": [
       "<pre style=\"white-space:pre;overflow-x:auto;line-height:normal;font-family:Menlo,'DejaVu Sans Mono',consolas,'Courier New',monospace\">Comment for Group <span style=\"color: #008080; text-decoration-color: #008080; font-weight: bold\">3</span> Negative result: There are insufficient data on the efficacy of \n",
       "HER2-targeted therapy in cases with HER2 ratio &lt;<span style=\"color: #008080; text-decoration-color: #008080; font-weight: bold\">2.0</span> in the absence of protein overexpression \n",
       "because such patients were not eligible for the first generation of adjuvant trastuzumab \n",
       "clinical trials.\n",
       "</pre>\n"
      ],
      "text/plain": [
       "Comment for Group \u001b[1;36m3\u001b[0m Negative result: There are insufficient data on the efficacy of \n",
       "HER2-targeted therapy in cases with HER2 ratio <\u001b[1;36m2.0\u001b[0m in the absence of protein overexpression \n",
       "because such patients were not eligible for the first generation of adjuvant trastuzumab \n",
       "clinical trials.\n"
      ]
     },
     "metadata": {},
     "output_type": "display_data"
    },
    {
     "data": {
      "text/html": [
       "<pre style=\"white-space:pre;overflow-x:auto;line-height:normal;font-family:Menlo,'DejaVu Sans Mono',consolas,'Courier New',monospace\">============================================================================================\n",
       "</pre>\n"
      ],
      "text/plain": [
       "============================================================================================\n"
      ]
     },
     "metadata": {},
     "output_type": "display_data"
    },
    {
     "data": {
      "text/html": [
       "<pre style=\"white-space:pre;overflow-x:auto;line-height:normal;font-family:Menlo,'DejaVu Sans Mono',consolas,'Courier New',monospace\">When concurrent IHC results are negative <span style=\"font-weight: bold\">(</span><span style=\"color: #008080; text-decoration-color: #008080; font-weight: bold\">0</span>-<span style=\"color: #008080; text-decoration-color: #008080; font-weight: bold\">1</span>+<span style=\"font-weight: bold\">)</span>, it is recommended that the specimen be \n",
       "considered HER2 negative.\n",
       "\n",
       "\n",
       "</pre>\n"
      ],
      "text/plain": [
       "When concurrent IHC results are negative \u001b[1m(\u001b[0m\u001b[1;36m0\u001b[0m-\u001b[1;36m1\u001b[0m+\u001b[1m)\u001b[0m, it is recommended that the specimen be \n",
       "considered HER2 negative.\n",
       "\n",
       "\n"
      ]
     },
     "metadata": {},
     "output_type": "display_data"
    },
    {
     "data": {
      "text/html": [
       "<pre style=\"white-space:pre;overflow-x:auto;line-height:normal;font-family:Menlo,'DejaVu Sans Mono',consolas,'Courier New',monospace\">============================================================================================\n",
       "</pre>\n"
      ],
      "text/plain": [
       "============================================================================================\n"
      ]
     },
     "metadata": {},
     "output_type": "display_data"
    },
    {
     "data": {
      "text/html": [
       "<pre style=\"white-space:pre;overflow-x:auto;line-height:normal;font-family:Menlo,'DejaVu Sans Mono',consolas,'Courier New',monospace\">Comment for Group <span style=\"color: #008080; text-decoration-color: #008080; font-weight: bold\">4</span> Negative result: It is uncertain whether patients with ?\n",
       "</pre>\n"
      ],
      "text/plain": [
       "Comment for Group \u001b[1;36m4\u001b[0m Negative result: It is uncertain whether patients with ?\n"
      ]
     },
     "metadata": {},
     "output_type": "display_data"
    },
    {
     "data": {
      "text/html": [
       "<pre style=\"white-space:pre;overflow-x:auto;line-height:normal;font-family:Menlo,'DejaVu Sans Mono',consolas,'Courier New',monospace\">============================================================================================\n",
       "</pre>\n"
      ],
      "text/plain": [
       "============================================================================================\n"
      ]
     },
     "metadata": {},
     "output_type": "display_data"
    },
    {
     "data": {
      "text/html": [
       "<pre style=\"white-space:pre;overflow-x:auto;line-height:normal;font-family:Menlo,'DejaVu Sans Mono',consolas,'Courier New',monospace\"><span style=\"color: #008080; text-decoration-color: #008080; font-weight: bold\">4.0</span> and &lt;<span style=\"color: #008080; text-decoration-color: #008080; font-weight: bold\">6.0</span> average HER2 signals/cell and HER2/CEP17 ratio &lt;<span style=\"color: #008080; text-decoration-color: #008080; font-weight: bold\">2.0</span> benefit from HER2 targeted \n",
       "therapy in the absence of protein overexpression <span style=\"font-weight: bold\">(</span>IHC <span style=\"color: #008080; text-decoration-color: #008080; font-weight: bold\">3</span>+<span style=\"font-weight: bold\">)</span>.\n",
       "</pre>\n"
      ],
      "text/plain": [
       "\u001b[1;36m4.0\u001b[0m and <\u001b[1;36m6.0\u001b[0m average HER2 signals/cell and HER2/CEP17 ratio <\u001b[1;36m2.0\u001b[0m benefit from HER2 targeted \n",
       "therapy in the absence of protein overexpression \u001b[1m(\u001b[0mIHC \u001b[1;36m3\u001b[0m+\u001b[1m)\u001b[0m.\n"
      ]
     },
     "metadata": {},
     "output_type": "display_data"
    },
    {
     "data": {
      "text/html": [
       "<pre style=\"white-space:pre;overflow-x:auto;line-height:normal;font-family:Menlo,'DejaVu Sans Mono',consolas,'Courier New',monospace\">============================================================================================\n",
       "</pre>\n"
      ],
      "text/plain": [
       "============================================================================================\n"
      ]
     },
     "metadata": {},
     "output_type": "display_data"
    },
    {
     "data": {
      "text/html": [
       "<pre style=\"white-space:pre;overflow-x:auto;line-height:normal;font-family:Menlo,'DejaVu Sans Mono',consolas,'Courier New',monospace\">If the specimen test result is close to the ISH ratio threshold for positive, there is a high\n",
       "likelihood that repeat testing will result in different results by chance alone.\n",
       "</pre>\n"
      ],
      "text/plain": [
       "If the specimen test result is close to the ISH ratio threshold for positive, there is a high\n",
       "likelihood that repeat testing will result in different results by chance alone.\n"
      ]
     },
     "metadata": {},
     "output_type": "display_data"
    },
    {
     "data": {
      "text/html": [
       "<pre style=\"white-space:pre;overflow-x:auto;line-height:normal;font-family:Menlo,'DejaVu Sans Mono',consolas,'Courier New',monospace\">============================================================================================\n",
       "</pre>\n"
      ],
      "text/plain": [
       "============================================================================================\n"
      ]
     },
     "metadata": {},
     "output_type": "display_data"
    },
    {
     "data": {
      "text/html": [
       "<pre style=\"white-space:pre;overflow-x:auto;line-height:normal;font-family:Menlo,'DejaVu Sans Mono',consolas,'Courier New',monospace\">Therefore, when IHC results are not <span style=\"color: #008080; text-decoration-color: #008080; font-weight: bold\">3</span>+ positive, it is recommended that the sample be \n",
       "considered HER2 negative without additional testing on the same specimen.\n",
       "\n",
       "\n",
       "</pre>\n"
      ],
      "text/plain": [
       "Therefore, when IHC results are not \u001b[1;36m3\u001b[0m+ positive, it is recommended that the sample be \n",
       "considered HER2 negative without additional testing on the same specimen.\n",
       "\n",
       "\n"
      ]
     },
     "metadata": {},
     "output_type": "display_data"
    },
    {
     "data": {
      "text/html": [
       "<pre style=\"white-space:pre;overflow-x:auto;line-height:normal;font-family:Menlo,'DejaVu Sans Mono',consolas,'Courier New',monospace\">============================================================================================\n",
       "</pre>\n"
      ],
      "text/plain": [
       "============================================================================================\n"
      ]
     },
     "metadata": {},
     "output_type": "display_data"
    },
    {
     "data": {
      "text/html": [
       "<pre style=\"white-space:pre;overflow-x:auto;line-height:normal;font-family:Menlo,'DejaVu Sans Mono',consolas,'Courier New',monospace\">Reference:\n",
       "\n",
       "</pre>\n"
      ],
      "text/plain": [
       "Reference:\n",
       "\n"
      ]
     },
     "metadata": {},
     "output_type": "display_data"
    },
    {
     "data": {
      "text/html": [
       "<pre style=\"white-space:pre;overflow-x:auto;line-height:normal;font-family:Menlo,'DejaVu Sans Mono',consolas,'Courier New',monospace\">============================================================================================\n",
       "</pre>\n"
      ],
      "text/plain": [
       "============================================================================================\n"
      ]
     },
     "metadata": {},
     "output_type": "display_data"
    },
    {
     "data": {
      "text/html": [
       "<pre style=\"white-space:pre;overflow-x:auto;line-height:normal;font-family:Menlo,'DejaVu Sans Mono',consolas,'Courier New',monospace\">Wolff AC, Hammond MEH, Allision KH, et al.\n",
       "</pre>\n"
      ],
      "text/plain": [
       "Wolff AC, Hammond MEH, Allision KH, et al.\n"
      ]
     },
     "metadata": {},
     "output_type": "display_data"
    },
    {
     "data": {
      "text/html": [
       "<pre style=\"white-space:pre;overflow-x:auto;line-height:normal;font-family:Menlo,'DejaVu Sans Mono',consolas,'Courier New',monospace\">============================================================================================\n",
       "</pre>\n"
      ],
      "text/plain": [
       "============================================================================================\n"
      ]
     },
     "metadata": {},
     "output_type": "display_data"
    },
    {
     "data": {
      "text/html": [
       "<pre style=\"white-space:pre;overflow-x:auto;line-height:normal;font-family:Menlo,'DejaVu Sans Mono',consolas,'Courier New',monospace\">HER2 Testing in Breast Cancer: American Society of Clinical Oncology/College of American \n",
       "Pathologists Clinical Practice Guideline Focused Update.\n",
       "</pre>\n"
      ],
      "text/plain": [
       "HER2 Testing in Breast Cancer: American Society of Clinical Oncology/College of American \n",
       "Pathologists Clinical Practice Guideline Focused Update.\n"
      ]
     },
     "metadata": {},
     "output_type": "display_data"
    },
    {
     "data": {
      "text/html": [
       "<pre style=\"white-space:pre;overflow-x:auto;line-height:normal;font-family:Menlo,'DejaVu Sans Mono',consolas,'Courier New',monospace\">============================================================================================\n",
       "</pre>\n"
      ],
      "text/plain": [
       "============================================================================================\n"
      ]
     },
     "metadata": {},
     "output_type": "display_data"
    },
    {
     "data": {
      "text/html": [
       "<pre style=\"white-space:pre;overflow-x:auto;line-height:normal;font-family:Menlo,'DejaVu Sans Mono',consolas,'Courier New',monospace\">Archives of Pathology &amp; Laboratory Medicine.\n",
       "</pre>\n"
      ],
      "text/plain": [
       "Archives of Pathology & Laboratory Medicine.\n"
      ]
     },
     "metadata": {},
     "output_type": "display_data"
    },
    {
     "data": {
      "text/html": [
       "<pre style=\"white-space:pre;overflow-x:auto;line-height:normal;font-family:Menlo,'DejaVu Sans Mono',consolas,'Courier New',monospace\">============================================================================================\n",
       "</pre>\n"
      ],
      "text/plain": [
       "============================================================================================\n"
      ]
     },
     "metadata": {},
     "output_type": "display_data"
    },
    {
     "data": {
      "text/html": [
       "<pre style=\"white-space:pre;overflow-x:auto;line-height:normal;font-family:Menlo,'DejaVu Sans Mono',consolas,'Courier New',monospace\">Nov <span style=\"color: #008080; text-decoration-color: #008080; font-weight: bold\">2018</span>;<span style=\"color: #800080; text-decoration-color: #800080; font-weight: bold\">142</span><span style=\"font-weight: bold\">(</span><span style=\"color: #008080; text-decoration-color: #008080; font-weight: bold\">11</span><span style=\"font-weight: bold\">)</span>:<span style=\"color: #008080; text-decoration-color: #008080; font-weight: bold\">1364</span>-<span style=\"color: #008080; text-decoration-color: #008080; font-weight: bold\">1382</span>..\n",
       "\n",
       "\n",
       "\n",
       "</pre>\n"
      ],
      "text/plain": [
       "Nov \u001b[1;36m2018\u001b[0m;\u001b[1;35m142\u001b[0m\u001b[1m(\u001b[0m\u001b[1;36m11\u001b[0m\u001b[1m)\u001b[0m:\u001b[1;36m1364\u001b[0m-\u001b[1;36m1382\u001b[0m..\n",
       "\n",
       "\n",
       "\n"
      ]
     },
     "metadata": {},
     "output_type": "display_data"
    },
    {
     "data": {
      "text/html": [
       "<pre style=\"white-space:pre;overflow-x:auto;line-height:normal;font-family:Menlo,'DejaVu Sans Mono',consolas,'Courier New',monospace\">============================================================================================\n",
       "</pre>\n"
      ],
      "text/plain": [
       "============================================================================================\n"
      ]
     },
     "metadata": {},
     "output_type": "display_data"
    },
    {
     "data": {
      "text/html": [
       "<pre style=\"white-space:pre;overflow-x:auto;line-height:normal;font-family:Menlo,'DejaVu Sans Mono',consolas,'Courier New',monospace\">KPS:gl <span style=\"color: #008080; text-decoration-color: #008080; font-weight: bold\">10</span>/<span style=\"color: #008080; text-decoration-color: #008080; font-weight: bold\">31</span>/<span style=\"color: #008080; text-decoration-color: #008080; font-weight: bold\">2001</span> <span style=\"color: #00ff00; text-decoration-color: #00ff00; font-weight: bold\">12:12:12</span> CDT\n",
       "</pre>\n"
      ],
      "text/plain": [
       "KPS:gl \u001b[1;36m10\u001b[0m/\u001b[1;36m31\u001b[0m/\u001b[1;36m2001\u001b[0m \u001b[1;92m12:12:12\u001b[0m CDT\n"
      ]
     },
     "metadata": {},
     "output_type": "display_data"
    },
    {
     "data": {
      "text/html": [
       "<pre style=\"white-space:pre;overflow-x:auto;line-height:normal;font-family:Menlo,'DejaVu Sans Mono',consolas,'Courier New',monospace\">============================================================================================\n",
       "</pre>\n"
      ],
      "text/plain": [
       "============================================================================================\n"
      ]
     },
     "metadata": {},
     "output_type": "display_data"
    }
   ],
   "source": [
    "for s in suggestions.sentences:\n",
    "    print(request.text[s.begin:s.end+1])\n",
    "    print(\"=\"*92)"
   ]
  },
  {
   "cell_type": "code",
   "execution_count": 22,
   "id": "b5786bdf-a3d7-4821-b4a3-c6ad6158b38d",
   "metadata": {},
   "outputs": [
    {
     "data": {
      "text/html": [
       "<pre style=\"white-space:pre;overflow-x:auto;line-height:normal;font-family:Menlo,'DejaVu Sans Mono',consolas,'Courier New',monospace\"><span style=\"color: #808000; text-decoration-color: #808000\">predicate</span>=<span style=\"color: #008000; text-decoration-color: #008000\">'has_cancer_histology'</span> <span style=\"color: #808000; text-decoration-color: #808000\">begin</span>=<span style=\"color: #008080; text-decoration-color: #008080; font-weight: bold\">1678</span> <span style=\"color: #808000; text-decoration-color: #808000\">end</span>=<span style=\"color: #008080; text-decoration-color: #008080; font-weight: bold\">1701</span> <span style=\"color: #808000; text-decoration-color: #808000\">type</span>=<span style=\"color: #008000; text-decoration-color: #008000\">'value'</span> <span style=\"color: #808000; text-decoration-color: #808000\">value</span>=<span style=\"color: #008000; text-decoration-color: #008000\">'intraductal </span>\n",
       "<span style=\"color: #008000; text-decoration-color: #008000\">carcinoma, noninfiltrating (8500/2)'</span> <span style=\"color: #808000; text-decoration-color: #808000\">assertion</span>=<span style=\"color: #008000; text-decoration-color: #008000\">'present'</span>\n",
       "</pre>\n"
      ],
      "text/plain": [
       "\u001b[33mpredicate\u001b[0m=\u001b[32m'has_cancer_histology'\u001b[0m \u001b[33mbegin\u001b[0m=\u001b[1;36m1678\u001b[0m \u001b[33mend\u001b[0m=\u001b[1;36m1701\u001b[0m \u001b[33mtype\u001b[0m=\u001b[32m'value'\u001b[0m \u001b[33mvalue\u001b[0m=\u001b[32m'intraductal \u001b[0m\n",
       "\u001b[32mcarcinoma, noninfiltrating \u001b[0m\u001b[32m(\u001b[0m\u001b[32m8500/2\u001b[0m\u001b[32m)\u001b[0m\u001b[32m'\u001b[0m \u001b[33massertion\u001b[0m=\u001b[32m'present'\u001b[0m\n"
      ]
     },
     "metadata": {},
     "output_type": "display_data"
    },
    {
     "data": {
      "text/html": [
       "<pre style=\"white-space:pre;overflow-x:auto;line-height:normal;font-family:Menlo,'DejaVu Sans Mono',consolas,'Courier New',monospace\">============================================================================================\n",
       "</pre>\n"
      ],
      "text/plain": [
       "============================================================================================\n"
      ]
     },
     "metadata": {},
     "output_type": "display_data"
    },
    {
     "data": {
      "text/html": [
       "<pre style=\"white-space:pre;overflow-x:auto;line-height:normal;font-family:Menlo,'DejaVu Sans Mono',consolas,'Courier New',monospace\"><span style=\"color: #808000; text-decoration-color: #808000\">predicate</span>=<span style=\"color: #008000; text-decoration-color: #008000\">'has_cancer_histology'</span> <span style=\"color: #808000; text-decoration-color: #808000\">begin</span>=<span style=\"color: #008080; text-decoration-color: #008080; font-weight: bold\">1704</span> <span style=\"color: #808000; text-decoration-color: #808000\">end</span>=<span style=\"color: #008080; text-decoration-color: #008080; font-weight: bold\">1707</span> <span style=\"color: #808000; text-decoration-color: #808000\">type</span>=<span style=\"color: #008000; text-decoration-color: #008000\">'value'</span> <span style=\"color: #808000; text-decoration-color: #808000\">value</span>=<span style=\"color: #008000; text-decoration-color: #008000\">'intraductal </span>\n",
       "<span style=\"color: #008000; text-decoration-color: #008000\">carcinoma, noninfiltrating (8500/2)'</span> <span style=\"color: #808000; text-decoration-color: #808000\">assertion</span>=<span style=\"color: #008000; text-decoration-color: #008000\">'present'</span>\n",
       "</pre>\n"
      ],
      "text/plain": [
       "\u001b[33mpredicate\u001b[0m=\u001b[32m'has_cancer_histology'\u001b[0m \u001b[33mbegin\u001b[0m=\u001b[1;36m1704\u001b[0m \u001b[33mend\u001b[0m=\u001b[1;36m1707\u001b[0m \u001b[33mtype\u001b[0m=\u001b[32m'value'\u001b[0m \u001b[33mvalue\u001b[0m=\u001b[32m'intraductal \u001b[0m\n",
       "\u001b[32mcarcinoma, noninfiltrating \u001b[0m\u001b[32m(\u001b[0m\u001b[32m8500/2\u001b[0m\u001b[32m)\u001b[0m\u001b[32m'\u001b[0m \u001b[33massertion\u001b[0m=\u001b[32m'present'\u001b[0m\n"
      ]
     },
     "metadata": {},
     "output_type": "display_data"
    },
    {
     "data": {
      "text/html": [
       "<pre style=\"white-space:pre;overflow-x:auto;line-height:normal;font-family:Menlo,'DejaVu Sans Mono',consolas,'Courier New',monospace\">============================================================================================\n",
       "</pre>\n"
      ],
      "text/plain": [
       "============================================================================================\n"
      ]
     },
     "metadata": {},
     "output_type": "display_data"
    },
    {
     "data": {
      "text/html": [
       "<pre style=\"white-space:pre;overflow-x:auto;line-height:normal;font-family:Menlo,'DejaVu Sans Mono',consolas,'Courier New',monospace\"><span style=\"color: #808000; text-decoration-color: #808000\">predicate</span>=<span style=\"color: #008000; text-decoration-color: #008000\">'has_cancer_histology'</span> <span style=\"color: #808000; text-decoration-color: #808000\">begin</span>=<span style=\"color: #008080; text-decoration-color: #008080; font-weight: bold\">2292</span> <span style=\"color: #808000; text-decoration-color: #808000\">end</span>=<span style=\"color: #008080; text-decoration-color: #008080; font-weight: bold\">2295</span> <span style=\"color: #808000; text-decoration-color: #808000\">type</span>=<span style=\"color: #008000; text-decoration-color: #008000\">'value'</span> <span style=\"color: #808000; text-decoration-color: #808000\">value</span>=<span style=\"color: #008000; text-decoration-color: #008000\">'intraductal </span>\n",
       "<span style=\"color: #008000; text-decoration-color: #008000\">carcinoma, noninfiltrating (8500/2)'</span> <span style=\"color: #808000; text-decoration-color: #808000\">assertion</span>=<span style=\"color: #008000; text-decoration-color: #008000\">'present'</span>\n",
       "</pre>\n"
      ],
      "text/plain": [
       "\u001b[33mpredicate\u001b[0m=\u001b[32m'has_cancer_histology'\u001b[0m \u001b[33mbegin\u001b[0m=\u001b[1;36m2292\u001b[0m \u001b[33mend\u001b[0m=\u001b[1;36m2295\u001b[0m \u001b[33mtype\u001b[0m=\u001b[32m'value'\u001b[0m \u001b[33mvalue\u001b[0m=\u001b[32m'intraductal \u001b[0m\n",
       "\u001b[32mcarcinoma, noninfiltrating \u001b[0m\u001b[32m(\u001b[0m\u001b[32m8500/2\u001b[0m\u001b[32m)\u001b[0m\u001b[32m'\u001b[0m \u001b[33massertion\u001b[0m=\u001b[32m'present'\u001b[0m\n"
      ]
     },
     "metadata": {},
     "output_type": "display_data"
    },
    {
     "data": {
      "text/html": [
       "<pre style=\"white-space:pre;overflow-x:auto;line-height:normal;font-family:Menlo,'DejaVu Sans Mono',consolas,'Courier New',monospace\">============================================================================================\n",
       "</pre>\n"
      ],
      "text/plain": [
       "============================================================================================\n"
      ]
     },
     "metadata": {},
     "output_type": "display_data"
    },
    {
     "data": {
      "text/html": [
       "<pre style=\"white-space:pre;overflow-x:auto;line-height:normal;font-family:Menlo,'DejaVu Sans Mono',consolas,'Courier New',monospace\"><span style=\"color: #808000; text-decoration-color: #808000\">predicate</span>=<span style=\"color: #008000; text-decoration-color: #008000\">'has_cancer_histology'</span> <span style=\"color: #808000; text-decoration-color: #808000\">begin</span>=<span style=\"color: #008080; text-decoration-color: #008080; font-weight: bold\">2348</span> <span style=\"color: #808000; text-decoration-color: #808000\">end</span>=<span style=\"color: #008080; text-decoration-color: #008080; font-weight: bold\">2351</span> <span style=\"color: #808000; text-decoration-color: #808000\">type</span>=<span style=\"color: #008000; text-decoration-color: #008000\">'value'</span> <span style=\"color: #808000; text-decoration-color: #808000\">value</span>=<span style=\"color: #008000; text-decoration-color: #008000\">'intraductal </span>\n",
       "<span style=\"color: #008000; text-decoration-color: #008000\">carcinoma, noninfiltrating (8500/2)'</span> <span style=\"color: #808000; text-decoration-color: #808000\">assertion</span>=<span style=\"color: #008000; text-decoration-color: #008000\">'present'</span>\n",
       "</pre>\n"
      ],
      "text/plain": [
       "\u001b[33mpredicate\u001b[0m=\u001b[32m'has_cancer_histology'\u001b[0m \u001b[33mbegin\u001b[0m=\u001b[1;36m2348\u001b[0m \u001b[33mend\u001b[0m=\u001b[1;36m2351\u001b[0m \u001b[33mtype\u001b[0m=\u001b[32m'value'\u001b[0m \u001b[33mvalue\u001b[0m=\u001b[32m'intraductal \u001b[0m\n",
       "\u001b[32mcarcinoma, noninfiltrating \u001b[0m\u001b[32m(\u001b[0m\u001b[32m8500/2\u001b[0m\u001b[32m)\u001b[0m\u001b[32m'\u001b[0m \u001b[33massertion\u001b[0m=\u001b[32m'present'\u001b[0m\n"
      ]
     },
     "metadata": {},
     "output_type": "display_data"
    },
    {
     "data": {
      "text/html": [
       "<pre style=\"white-space:pre;overflow-x:auto;line-height:normal;font-family:Menlo,'DejaVu Sans Mono',consolas,'Courier New',monospace\">============================================================================================\n",
       "</pre>\n"
      ],
      "text/plain": [
       "============================================================================================\n"
      ]
     },
     "metadata": {},
     "output_type": "display_data"
    },
    {
     "data": {
      "text/html": [
       "<pre style=\"white-space:pre;overflow-x:auto;line-height:normal;font-family:Menlo,'DejaVu Sans Mono',consolas,'Courier New',monospace\"><span style=\"color: #808000; text-decoration-color: #808000\">predicate</span>=<span style=\"color: #008000; text-decoration-color: #008000\">'has_cancer_histology'</span> <span style=\"color: #808000; text-decoration-color: #808000\">begin</span>=<span style=\"color: #008080; text-decoration-color: #008080; font-weight: bold\">2627</span> <span style=\"color: #808000; text-decoration-color: #808000\">end</span>=<span style=\"color: #008080; text-decoration-color: #008080; font-weight: bold\">2630</span> <span style=\"color: #808000; text-decoration-color: #808000\">type</span>=<span style=\"color: #008000; text-decoration-color: #008000\">'value'</span> <span style=\"color: #808000; text-decoration-color: #808000\">value</span>=<span style=\"color: #008000; text-decoration-color: #008000\">'intraductal </span>\n",
       "<span style=\"color: #008000; text-decoration-color: #008000\">carcinoma, noninfiltrating (8500/2)'</span> <span style=\"color: #808000; text-decoration-color: #808000\">assertion</span>=<span style=\"color: #008000; text-decoration-color: #008000\">'present'</span>\n",
       "</pre>\n"
      ],
      "text/plain": [
       "\u001b[33mpredicate\u001b[0m=\u001b[32m'has_cancer_histology'\u001b[0m \u001b[33mbegin\u001b[0m=\u001b[1;36m2627\u001b[0m \u001b[33mend\u001b[0m=\u001b[1;36m2630\u001b[0m \u001b[33mtype\u001b[0m=\u001b[32m'value'\u001b[0m \u001b[33mvalue\u001b[0m=\u001b[32m'intraductal \u001b[0m\n",
       "\u001b[32mcarcinoma, noninfiltrating \u001b[0m\u001b[32m(\u001b[0m\u001b[32m8500/2\u001b[0m\u001b[32m)\u001b[0m\u001b[32m'\u001b[0m \u001b[33massertion\u001b[0m=\u001b[32m'present'\u001b[0m\n"
      ]
     },
     "metadata": {},
     "output_type": "display_data"
    },
    {
     "data": {
      "text/html": [
       "<pre style=\"white-space:pre;overflow-x:auto;line-height:normal;font-family:Menlo,'DejaVu Sans Mono',consolas,'Courier New',monospace\">============================================================================================\n",
       "</pre>\n"
      ],
      "text/plain": [
       "============================================================================================\n"
      ]
     },
     "metadata": {},
     "output_type": "display_data"
    },
    {
     "data": {
      "text/html": [
       "<pre style=\"white-space:pre;overflow-x:auto;line-height:normal;font-family:Menlo,'DejaVu Sans Mono',consolas,'Courier New',monospace\"><span style=\"color: #808000; text-decoration-color: #808000\">predicate</span>=<span style=\"color: #008000; text-decoration-color: #008000\">'has_cancer_histology'</span> <span style=\"color: #808000; text-decoration-color: #808000\">begin</span>=<span style=\"color: #008080; text-decoration-color: #008080; font-weight: bold\">617</span> <span style=\"color: #808000; text-decoration-color: #808000\">end</span>=<span style=\"color: #008080; text-decoration-color: #008080; font-weight: bold\">641</span> <span style=\"color: #808000; text-decoration-color: #808000\">type</span>=<span style=\"color: #008000; text-decoration-color: #008000\">'value'</span> <span style=\"color: #808000; text-decoration-color: #808000\">value</span>=<span style=\"color: #008000; text-decoration-color: #008000\">'infiltrating duct </span>\n",
       "<span style=\"color: #008000; text-decoration-color: #008000\">carcinoma (8500/3)'</span> <span style=\"color: #808000; text-decoration-color: #808000\">assertion</span>=<span style=\"color: #008000; text-decoration-color: #008000\">'present'</span>\n",
       "</pre>\n"
      ],
      "text/plain": [
       "\u001b[33mpredicate\u001b[0m=\u001b[32m'has_cancer_histology'\u001b[0m \u001b[33mbegin\u001b[0m=\u001b[1;36m617\u001b[0m \u001b[33mend\u001b[0m=\u001b[1;36m641\u001b[0m \u001b[33mtype\u001b[0m=\u001b[32m'value'\u001b[0m \u001b[33mvalue\u001b[0m=\u001b[32m'infiltrating duct \u001b[0m\n",
       "\u001b[32mcarcinoma \u001b[0m\u001b[32m(\u001b[0m\u001b[32m8500/3\u001b[0m\u001b[32m)\u001b[0m\u001b[32m'\u001b[0m \u001b[33massertion\u001b[0m=\u001b[32m'present'\u001b[0m\n"
      ]
     },
     "metadata": {},
     "output_type": "display_data"
    },
    {
     "data": {
      "text/html": [
       "<pre style=\"white-space:pre;overflow-x:auto;line-height:normal;font-family:Menlo,'DejaVu Sans Mono',consolas,'Courier New',monospace\">============================================================================================\n",
       "</pre>\n"
      ],
      "text/plain": [
       "============================================================================================\n"
      ]
     },
     "metadata": {},
     "output_type": "display_data"
    },
    {
     "data": {
      "text/html": [
       "<pre style=\"white-space:pre;overflow-x:auto;line-height:normal;font-family:Menlo,'DejaVu Sans Mono',consolas,'Courier New',monospace\"><span style=\"color: #808000; text-decoration-color: #808000\">predicate</span>=<span style=\"color: #008000; text-decoration-color: #008000\">'has_cancer_histology'</span> <span style=\"color: #808000; text-decoration-color: #808000\">begin</span>=<span style=\"color: #008080; text-decoration-color: #008080; font-weight: bold\">2139</span> <span style=\"color: #808000; text-decoration-color: #808000\">end</span>=<span style=\"color: #008080; text-decoration-color: #008080; font-weight: bold\">2163</span> <span style=\"color: #808000; text-decoration-color: #808000\">type</span>=<span style=\"color: #008000; text-decoration-color: #008000\">'value'</span> <span style=\"color: #808000; text-decoration-color: #808000\">value</span>=<span style=\"color: #008000; text-decoration-color: #008000\">'infiltrating duct </span>\n",
       "<span style=\"color: #008000; text-decoration-color: #008000\">carcinoma (8500/3)'</span> <span style=\"color: #808000; text-decoration-color: #808000\">assertion</span>=<span style=\"color: #008000; text-decoration-color: #008000\">'present'</span>\n",
       "</pre>\n"
      ],
      "text/plain": [
       "\u001b[33mpredicate\u001b[0m=\u001b[32m'has_cancer_histology'\u001b[0m \u001b[33mbegin\u001b[0m=\u001b[1;36m2139\u001b[0m \u001b[33mend\u001b[0m=\u001b[1;36m2163\u001b[0m \u001b[33mtype\u001b[0m=\u001b[32m'value'\u001b[0m \u001b[33mvalue\u001b[0m=\u001b[32m'infiltrating duct \u001b[0m\n",
       "\u001b[32mcarcinoma \u001b[0m\u001b[32m(\u001b[0m\u001b[32m8500/3\u001b[0m\u001b[32m)\u001b[0m\u001b[32m'\u001b[0m \u001b[33massertion\u001b[0m=\u001b[32m'present'\u001b[0m\n"
      ]
     },
     "metadata": {},
     "output_type": "display_data"
    },
    {
     "data": {
      "text/html": [
       "<pre style=\"white-space:pre;overflow-x:auto;line-height:normal;font-family:Menlo,'DejaVu Sans Mono',consolas,'Courier New',monospace\">============================================================================================\n",
       "</pre>\n"
      ],
      "text/plain": [
       "============================================================================================\n"
      ]
     },
     "metadata": {},
     "output_type": "display_data"
    },
    {
     "data": {
      "text/html": [
       "<pre style=\"white-space:pre;overflow-x:auto;line-height:normal;font-family:Menlo,'DejaVu Sans Mono',consolas,'Courier New',monospace\"><span style=\"color: #808000; text-decoration-color: #808000\">predicate</span>=<span style=\"color: #008000; text-decoration-color: #008000\">'has_cancer_site'</span> <span style=\"color: #808000; text-decoration-color: #808000\">begin</span>=<span style=\"color: #008080; text-decoration-color: #008080; font-weight: bold\">223</span> <span style=\"color: #808000; text-decoration-color: #808000\">end</span>=<span style=\"color: #008080; text-decoration-color: #008080; font-weight: bold\">228</span> <span style=\"color: #808000; text-decoration-color: #808000\">type</span>=<span style=\"color: #008000; text-decoration-color: #008000\">'value'</span> <span style=\"color: #808000; text-decoration-color: #808000\">value</span>=<span style=\"color: #008000; text-decoration-color: #008000\">'breast (c50.9)'</span> \n",
       "<span style=\"color: #808000; text-decoration-color: #808000\">assertion</span>=<span style=\"color: #008000; text-decoration-color: #008000\">'present'</span>\n",
       "</pre>\n"
      ],
      "text/plain": [
       "\u001b[33mpredicate\u001b[0m=\u001b[32m'has_cancer_site'\u001b[0m \u001b[33mbegin\u001b[0m=\u001b[1;36m223\u001b[0m \u001b[33mend\u001b[0m=\u001b[1;36m228\u001b[0m \u001b[33mtype\u001b[0m=\u001b[32m'value'\u001b[0m \u001b[33mvalue\u001b[0m=\u001b[32m'breast \u001b[0m\u001b[32m(\u001b[0m\u001b[32mc50.9\u001b[0m\u001b[32m)\u001b[0m\u001b[32m'\u001b[0m \n",
       "\u001b[33massertion\u001b[0m=\u001b[32m'present'\u001b[0m\n"
      ]
     },
     "metadata": {},
     "output_type": "display_data"
    },
    {
     "data": {
      "text/html": [
       "<pre style=\"white-space:pre;overflow-x:auto;line-height:normal;font-family:Menlo,'DejaVu Sans Mono',consolas,'Courier New',monospace\">============================================================================================\n",
       "</pre>\n"
      ],
      "text/plain": [
       "============================================================================================\n"
      ]
     },
     "metadata": {},
     "output_type": "display_data"
    },
    {
     "data": {
      "text/html": [
       "<pre style=\"white-space:pre;overflow-x:auto;line-height:normal;font-family:Menlo,'DejaVu Sans Mono',consolas,'Courier New',monospace\"><span style=\"color: #808000; text-decoration-color: #808000\">predicate</span>=<span style=\"color: #008000; text-decoration-color: #008000\">'has_cancer_site'</span> <span style=\"color: #808000; text-decoration-color: #808000\">begin</span>=<span style=\"color: #008080; text-decoration-color: #008080; font-weight: bold\">275</span> <span style=\"color: #808000; text-decoration-color: #808000\">end</span>=<span style=\"color: #008080; text-decoration-color: #008080; font-weight: bold\">280</span> <span style=\"color: #808000; text-decoration-color: #808000\">type</span>=<span style=\"color: #008000; text-decoration-color: #008000\">'value'</span> <span style=\"color: #808000; text-decoration-color: #808000\">value</span>=<span style=\"color: #008000; text-decoration-color: #008000\">'breast (c50.9)'</span> \n",
       "<span style=\"color: #808000; text-decoration-color: #808000\">assertion</span>=<span style=\"color: #008000; text-decoration-color: #008000\">'present'</span>\n",
       "</pre>\n"
      ],
      "text/plain": [
       "\u001b[33mpredicate\u001b[0m=\u001b[32m'has_cancer_site'\u001b[0m \u001b[33mbegin\u001b[0m=\u001b[1;36m275\u001b[0m \u001b[33mend\u001b[0m=\u001b[1;36m280\u001b[0m \u001b[33mtype\u001b[0m=\u001b[32m'value'\u001b[0m \u001b[33mvalue\u001b[0m=\u001b[32m'breast \u001b[0m\u001b[32m(\u001b[0m\u001b[32mc50.9\u001b[0m\u001b[32m)\u001b[0m\u001b[32m'\u001b[0m \n",
       "\u001b[33massertion\u001b[0m=\u001b[32m'present'\u001b[0m\n"
      ]
     },
     "metadata": {},
     "output_type": "display_data"
    },
    {
     "data": {
      "text/html": [
       "<pre style=\"white-space:pre;overflow-x:auto;line-height:normal;font-family:Menlo,'DejaVu Sans Mono',consolas,'Courier New',monospace\">============================================================================================\n",
       "</pre>\n"
      ],
      "text/plain": [
       "============================================================================================\n"
      ]
     },
     "metadata": {},
     "output_type": "display_data"
    },
    {
     "data": {
      "text/html": [
       "<pre style=\"white-space:pre;overflow-x:auto;line-height:normal;font-family:Menlo,'DejaVu Sans Mono',consolas,'Courier New',monospace\"><span style=\"color: #808000; text-decoration-color: #808000\">predicate</span>=<span style=\"color: #008000; text-decoration-color: #008000\">'has_cancer_site'</span> <span style=\"color: #808000; text-decoration-color: #808000\">begin</span>=<span style=\"color: #008080; text-decoration-color: #008080; font-weight: bold\">558</span> <span style=\"color: #808000; text-decoration-color: #808000\">end</span>=<span style=\"color: #008080; text-decoration-color: #008080; font-weight: bold\">563</span> <span style=\"color: #808000; text-decoration-color: #808000\">type</span>=<span style=\"color: #008000; text-decoration-color: #008000\">'value'</span> <span style=\"color: #808000; text-decoration-color: #808000\">value</span>=<span style=\"color: #008000; text-decoration-color: #008000\">'breast (c50.9)'</span> \n",
       "<span style=\"color: #808000; text-decoration-color: #808000\">assertion</span>=<span style=\"color: #008000; text-decoration-color: #008000\">'present'</span>\n",
       "</pre>\n"
      ],
      "text/plain": [
       "\u001b[33mpredicate\u001b[0m=\u001b[32m'has_cancer_site'\u001b[0m \u001b[33mbegin\u001b[0m=\u001b[1;36m558\u001b[0m \u001b[33mend\u001b[0m=\u001b[1;36m563\u001b[0m \u001b[33mtype\u001b[0m=\u001b[32m'value'\u001b[0m \u001b[33mvalue\u001b[0m=\u001b[32m'breast \u001b[0m\u001b[32m(\u001b[0m\u001b[32mc50.9\u001b[0m\u001b[32m)\u001b[0m\u001b[32m'\u001b[0m \n",
       "\u001b[33massertion\u001b[0m=\u001b[32m'present'\u001b[0m\n"
      ]
     },
     "metadata": {},
     "output_type": "display_data"
    },
    {
     "data": {
      "text/html": [
       "<pre style=\"white-space:pre;overflow-x:auto;line-height:normal;font-family:Menlo,'DejaVu Sans Mono',consolas,'Courier New',monospace\">============================================================================================\n",
       "</pre>\n"
      ],
      "text/plain": [
       "============================================================================================\n"
      ]
     },
     "metadata": {},
     "output_type": "display_data"
    },
    {
     "data": {
      "text/html": [
       "<pre style=\"white-space:pre;overflow-x:auto;line-height:normal;font-family:Menlo,'DejaVu Sans Mono',consolas,'Courier New',monospace\"><span style=\"color: #808000; text-decoration-color: #808000\">predicate</span>=<span style=\"color: #008000; text-decoration-color: #008000\">'has_cancer_site'</span> <span style=\"color: #808000; text-decoration-color: #808000\">begin</span>=<span style=\"color: #008080; text-decoration-color: #008080; font-weight: bold\">582</span> <span style=\"color: #808000; text-decoration-color: #808000\">end</span>=<span style=\"color: #008080; text-decoration-color: #008080; font-weight: bold\">587</span> <span style=\"color: #808000; text-decoration-color: #808000\">type</span>=<span style=\"color: #008000; text-decoration-color: #008000\">'value'</span> <span style=\"color: #808000; text-decoration-color: #808000\">value</span>=<span style=\"color: #008000; text-decoration-color: #008000\">'breast (c50.9)'</span> \n",
       "<span style=\"color: #808000; text-decoration-color: #808000\">assertion</span>=<span style=\"color: #008000; text-decoration-color: #008000\">'present'</span>\n",
       "</pre>\n"
      ],
      "text/plain": [
       "\u001b[33mpredicate\u001b[0m=\u001b[32m'has_cancer_site'\u001b[0m \u001b[33mbegin\u001b[0m=\u001b[1;36m582\u001b[0m \u001b[33mend\u001b[0m=\u001b[1;36m587\u001b[0m \u001b[33mtype\u001b[0m=\u001b[32m'value'\u001b[0m \u001b[33mvalue\u001b[0m=\u001b[32m'breast \u001b[0m\u001b[32m(\u001b[0m\u001b[32mc50.9\u001b[0m\u001b[32m)\u001b[0m\u001b[32m'\u001b[0m \n",
       "\u001b[33massertion\u001b[0m=\u001b[32m'present'\u001b[0m\n"
      ]
     },
     "metadata": {},
     "output_type": "display_data"
    },
    {
     "data": {
      "text/html": [
       "<pre style=\"white-space:pre;overflow-x:auto;line-height:normal;font-family:Menlo,'DejaVu Sans Mono',consolas,'Courier New',monospace\">============================================================================================\n",
       "</pre>\n"
      ],
      "text/plain": [
       "============================================================================================\n"
      ]
     },
     "metadata": {},
     "output_type": "display_data"
    },
    {
     "data": {
      "text/html": [
       "<pre style=\"white-space:pre;overflow-x:auto;line-height:normal;font-family:Menlo,'DejaVu Sans Mono',consolas,'Courier New',monospace\"><span style=\"color: #808000; text-decoration-color: #808000\">predicate</span>=<span style=\"color: #008000; text-decoration-color: #008000\">'has_cancer_site'</span> <span style=\"color: #808000; text-decoration-color: #808000\">begin</span>=<span style=\"color: #008080; text-decoration-color: #008080; font-weight: bold\">970</span> <span style=\"color: #808000; text-decoration-color: #808000\">end</span>=<span style=\"color: #008080; text-decoration-color: #008080; font-weight: bold\">975</span> <span style=\"color: #808000; text-decoration-color: #808000\">type</span>=<span style=\"color: #008000; text-decoration-color: #008000\">'value'</span> <span style=\"color: #808000; text-decoration-color: #808000\">value</span>=<span style=\"color: #008000; text-decoration-color: #008000\">'breast (c50.9)'</span> \n",
       "<span style=\"color: #808000; text-decoration-color: #808000\">assertion</span>=<span style=\"color: #008000; text-decoration-color: #008000\">'present'</span>\n",
       "</pre>\n"
      ],
      "text/plain": [
       "\u001b[33mpredicate\u001b[0m=\u001b[32m'has_cancer_site'\u001b[0m \u001b[33mbegin\u001b[0m=\u001b[1;36m970\u001b[0m \u001b[33mend\u001b[0m=\u001b[1;36m975\u001b[0m \u001b[33mtype\u001b[0m=\u001b[32m'value'\u001b[0m \u001b[33mvalue\u001b[0m=\u001b[32m'breast \u001b[0m\u001b[32m(\u001b[0m\u001b[32mc50.9\u001b[0m\u001b[32m)\u001b[0m\u001b[32m'\u001b[0m \n",
       "\u001b[33massertion\u001b[0m=\u001b[32m'present'\u001b[0m\n"
      ]
     },
     "metadata": {},
     "output_type": "display_data"
    },
    {
     "data": {
      "text/html": [
       "<pre style=\"white-space:pre;overflow-x:auto;line-height:normal;font-family:Menlo,'DejaVu Sans Mono',consolas,'Courier New',monospace\">============================================================================================\n",
       "</pre>\n"
      ],
      "text/plain": [
       "============================================================================================\n"
      ]
     },
     "metadata": {},
     "output_type": "display_data"
    },
    {
     "data": {
      "text/html": [
       "<pre style=\"white-space:pre;overflow-x:auto;line-height:normal;font-family:Menlo,'DejaVu Sans Mono',consolas,'Courier New',monospace\"><span style=\"color: #808000; text-decoration-color: #808000\">predicate</span>=<span style=\"color: #008000; text-decoration-color: #008000\">'has_cancer_site'</span> <span style=\"color: #808000; text-decoration-color: #808000\">begin</span>=<span style=\"color: #008080; text-decoration-color: #008080; font-weight: bold\">1174</span> <span style=\"color: #808000; text-decoration-color: #808000\">end</span>=<span style=\"color: #008080; text-decoration-color: #008080; font-weight: bold\">1179</span> <span style=\"color: #808000; text-decoration-color: #808000\">type</span>=<span style=\"color: #008000; text-decoration-color: #008000\">'value'</span> <span style=\"color: #808000; text-decoration-color: #808000\">value</span>=<span style=\"color: #008000; text-decoration-color: #008000\">'breast (c50.9)'</span> \n",
       "<span style=\"color: #808000; text-decoration-color: #808000\">assertion</span>=<span style=\"color: #008000; text-decoration-color: #008000\">'present'</span>\n",
       "</pre>\n"
      ],
      "text/plain": [
       "\u001b[33mpredicate\u001b[0m=\u001b[32m'has_cancer_site'\u001b[0m \u001b[33mbegin\u001b[0m=\u001b[1;36m1174\u001b[0m \u001b[33mend\u001b[0m=\u001b[1;36m1179\u001b[0m \u001b[33mtype\u001b[0m=\u001b[32m'value'\u001b[0m \u001b[33mvalue\u001b[0m=\u001b[32m'breast \u001b[0m\u001b[32m(\u001b[0m\u001b[32mc50.9\u001b[0m\u001b[32m)\u001b[0m\u001b[32m'\u001b[0m \n",
       "\u001b[33massertion\u001b[0m=\u001b[32m'present'\u001b[0m\n"
      ]
     },
     "metadata": {},
     "output_type": "display_data"
    },
    {
     "data": {
      "text/html": [
       "<pre style=\"white-space:pre;overflow-x:auto;line-height:normal;font-family:Menlo,'DejaVu Sans Mono',consolas,'Courier New',monospace\">============================================================================================\n",
       "</pre>\n"
      ],
      "text/plain": [
       "============================================================================================\n"
      ]
     },
     "metadata": {},
     "output_type": "display_data"
    },
    {
     "data": {
      "text/html": [
       "<pre style=\"white-space:pre;overflow-x:auto;line-height:normal;font-family:Menlo,'DejaVu Sans Mono',consolas,'Courier New',monospace\"><span style=\"color: #808000; text-decoration-color: #808000\">predicate</span>=<span style=\"color: #008000; text-decoration-color: #008000\">'has_cancer_site'</span> <span style=\"color: #808000; text-decoration-color: #808000\">begin</span>=<span style=\"color: #008080; text-decoration-color: #008080; font-weight: bold\">1874</span> <span style=\"color: #808000; text-decoration-color: #808000\">end</span>=<span style=\"color: #008080; text-decoration-color: #008080; font-weight: bold\">1879</span> <span style=\"color: #808000; text-decoration-color: #808000\">type</span>=<span style=\"color: #008000; text-decoration-color: #008000\">'value'</span> <span style=\"color: #808000; text-decoration-color: #808000\">value</span>=<span style=\"color: #008000; text-decoration-color: #008000\">'breast (c50.9)'</span> \n",
       "<span style=\"color: #808000; text-decoration-color: #808000\">assertion</span>=<span style=\"color: #008000; text-decoration-color: #008000\">'present'</span>\n",
       "</pre>\n"
      ],
      "text/plain": [
       "\u001b[33mpredicate\u001b[0m=\u001b[32m'has_cancer_site'\u001b[0m \u001b[33mbegin\u001b[0m=\u001b[1;36m1874\u001b[0m \u001b[33mend\u001b[0m=\u001b[1;36m1879\u001b[0m \u001b[33mtype\u001b[0m=\u001b[32m'value'\u001b[0m \u001b[33mvalue\u001b[0m=\u001b[32m'breast \u001b[0m\u001b[32m(\u001b[0m\u001b[32mc50.9\u001b[0m\u001b[32m)\u001b[0m\u001b[32m'\u001b[0m \n",
       "\u001b[33massertion\u001b[0m=\u001b[32m'present'\u001b[0m\n"
      ]
     },
     "metadata": {},
     "output_type": "display_data"
    },
    {
     "data": {
      "text/html": [
       "<pre style=\"white-space:pre;overflow-x:auto;line-height:normal;font-family:Menlo,'DejaVu Sans Mono',consolas,'Courier New',monospace\">============================================================================================\n",
       "</pre>\n"
      ],
      "text/plain": [
       "============================================================================================\n"
      ]
     },
     "metadata": {},
     "output_type": "display_data"
    },
    {
     "data": {
      "text/html": [
       "<pre style=\"white-space:pre;overflow-x:auto;line-height:normal;font-family:Menlo,'DejaVu Sans Mono',consolas,'Courier New',monospace\"><span style=\"color: #808000; text-decoration-color: #808000\">predicate</span>=<span style=\"color: #008000; text-decoration-color: #008000\">'has_cancer_site'</span> <span style=\"color: #808000; text-decoration-color: #808000\">begin</span>=<span style=\"color: #008080; text-decoration-color: #008080; font-weight: bold\">1930</span> <span style=\"color: #808000; text-decoration-color: #808000\">end</span>=<span style=\"color: #008080; text-decoration-color: #008080; font-weight: bold\">1935</span> <span style=\"color: #808000; text-decoration-color: #808000\">type</span>=<span style=\"color: #008000; text-decoration-color: #008000\">'value'</span> <span style=\"color: #808000; text-decoration-color: #808000\">value</span>=<span style=\"color: #008000; text-decoration-color: #008000\">'breast (c50.9)'</span> \n",
       "<span style=\"color: #808000; text-decoration-color: #808000\">assertion</span>=<span style=\"color: #008000; text-decoration-color: #008000\">'present'</span>\n",
       "</pre>\n"
      ],
      "text/plain": [
       "\u001b[33mpredicate\u001b[0m=\u001b[32m'has_cancer_site'\u001b[0m \u001b[33mbegin\u001b[0m=\u001b[1;36m1930\u001b[0m \u001b[33mend\u001b[0m=\u001b[1;36m1935\u001b[0m \u001b[33mtype\u001b[0m=\u001b[32m'value'\u001b[0m \u001b[33mvalue\u001b[0m=\u001b[32m'breast \u001b[0m\u001b[32m(\u001b[0m\u001b[32mc50.9\u001b[0m\u001b[32m)\u001b[0m\u001b[32m'\u001b[0m \n",
       "\u001b[33massertion\u001b[0m=\u001b[32m'present'\u001b[0m\n"
      ]
     },
     "metadata": {},
     "output_type": "display_data"
    },
    {
     "data": {
      "text/html": [
       "<pre style=\"white-space:pre;overflow-x:auto;line-height:normal;font-family:Menlo,'DejaVu Sans Mono',consolas,'Courier New',monospace\">============================================================================================\n",
       "</pre>\n"
      ],
      "text/plain": [
       "============================================================================================\n"
      ]
     },
     "metadata": {},
     "output_type": "display_data"
    },
    {
     "data": {
      "text/html": [
       "<pre style=\"white-space:pre;overflow-x:auto;line-height:normal;font-family:Menlo,'DejaVu Sans Mono',consolas,'Courier New',monospace\"><span style=\"color: #808000; text-decoration-color: #808000\">predicate</span>=<span style=\"color: #008000; text-decoration-color: #008000\">'has_cancer_site'</span> <span style=\"color: #808000; text-decoration-color: #808000\">begin</span>=<span style=\"color: #008080; text-decoration-color: #008080; font-weight: bold\">2462</span> <span style=\"color: #808000; text-decoration-color: #808000\">end</span>=<span style=\"color: #008080; text-decoration-color: #008080; font-weight: bold\">2467</span> <span style=\"color: #808000; text-decoration-color: #808000\">type</span>=<span style=\"color: #008000; text-decoration-color: #008000\">'value'</span> <span style=\"color: #808000; text-decoration-color: #808000\">value</span>=<span style=\"color: #008000; text-decoration-color: #008000\">'breast (c50.9)'</span> \n",
       "<span style=\"color: #808000; text-decoration-color: #808000\">assertion</span>=<span style=\"color: #008000; text-decoration-color: #008000\">'present'</span>\n",
       "</pre>\n"
      ],
      "text/plain": [
       "\u001b[33mpredicate\u001b[0m=\u001b[32m'has_cancer_site'\u001b[0m \u001b[33mbegin\u001b[0m=\u001b[1;36m2462\u001b[0m \u001b[33mend\u001b[0m=\u001b[1;36m2467\u001b[0m \u001b[33mtype\u001b[0m=\u001b[32m'value'\u001b[0m \u001b[33mvalue\u001b[0m=\u001b[32m'breast \u001b[0m\u001b[32m(\u001b[0m\u001b[32mc50.9\u001b[0m\u001b[32m)\u001b[0m\u001b[32m'\u001b[0m \n",
       "\u001b[33massertion\u001b[0m=\u001b[32m'present'\u001b[0m\n"
      ]
     },
     "metadata": {},
     "output_type": "display_data"
    },
    {
     "data": {
      "text/html": [
       "<pre style=\"white-space:pre;overflow-x:auto;line-height:normal;font-family:Menlo,'DejaVu Sans Mono',consolas,'Courier New',monospace\">============================================================================================\n",
       "</pre>\n"
      ],
      "text/plain": [
       "============================================================================================\n"
      ]
     },
     "metadata": {},
     "output_type": "display_data"
    },
    {
     "data": {
      "text/html": [
       "<pre style=\"white-space:pre;overflow-x:auto;line-height:normal;font-family:Menlo,'DejaVu Sans Mono',consolas,'Courier New',monospace\"><span style=\"color: #808000; text-decoration-color: #808000\">predicate</span>=<span style=\"color: #008000; text-decoration-color: #008000\">'has_cancer_site'</span> <span style=\"color: #808000; text-decoration-color: #808000\">begin</span>=<span style=\"color: #008080; text-decoration-color: #008080; font-weight: bold\">2860</span> <span style=\"color: #808000; text-decoration-color: #808000\">end</span>=<span style=\"color: #008080; text-decoration-color: #008080; font-weight: bold\">2865</span> <span style=\"color: #808000; text-decoration-color: #808000\">type</span>=<span style=\"color: #008000; text-decoration-color: #008000\">'value'</span> <span style=\"color: #808000; text-decoration-color: #808000\">value</span>=<span style=\"color: #008000; text-decoration-color: #008000\">'breast (c50.9)'</span> \n",
       "<span style=\"color: #808000; text-decoration-color: #808000\">assertion</span>=<span style=\"color: #008000; text-decoration-color: #008000\">'present'</span>\n",
       "</pre>\n"
      ],
      "text/plain": [
       "\u001b[33mpredicate\u001b[0m=\u001b[32m'has_cancer_site'\u001b[0m \u001b[33mbegin\u001b[0m=\u001b[1;36m2860\u001b[0m \u001b[33mend\u001b[0m=\u001b[1;36m2865\u001b[0m \u001b[33mtype\u001b[0m=\u001b[32m'value'\u001b[0m \u001b[33mvalue\u001b[0m=\u001b[32m'breast \u001b[0m\u001b[32m(\u001b[0m\u001b[32mc50.9\u001b[0m\u001b[32m)\u001b[0m\u001b[32m'\u001b[0m \n",
       "\u001b[33massertion\u001b[0m=\u001b[32m'present'\u001b[0m\n"
      ]
     },
     "metadata": {},
     "output_type": "display_data"
    },
    {
     "data": {
      "text/html": [
       "<pre style=\"white-space:pre;overflow-x:auto;line-height:normal;font-family:Menlo,'DejaVu Sans Mono',consolas,'Courier New',monospace\">============================================================================================\n",
       "</pre>\n"
      ],
      "text/plain": [
       "============================================================================================\n"
      ]
     },
     "metadata": {},
     "output_type": "display_data"
    },
    {
     "data": {
      "text/html": [
       "<pre style=\"white-space:pre;overflow-x:auto;line-height:normal;font-family:Menlo,'DejaVu Sans Mono',consolas,'Courier New',monospace\"><span style=\"color: #808000; text-decoration-color: #808000\">predicate</span>=<span style=\"color: #008000; text-decoration-color: #008000\">'has_cancer_site'</span> <span style=\"color: #808000; text-decoration-color: #808000\">begin</span>=<span style=\"color: #008080; text-decoration-color: #008080; font-weight: bold\">3230</span> <span style=\"color: #808000; text-decoration-color: #808000\">end</span>=<span style=\"color: #008080; text-decoration-color: #008080; font-weight: bold\">3235</span> <span style=\"color: #808000; text-decoration-color: #808000\">type</span>=<span style=\"color: #008000; text-decoration-color: #008000\">'value'</span> <span style=\"color: #808000; text-decoration-color: #808000\">value</span>=<span style=\"color: #008000; text-decoration-color: #008000\">'breast (c50.9)'</span> \n",
       "<span style=\"color: #808000; text-decoration-color: #808000\">assertion</span>=<span style=\"color: #008000; text-decoration-color: #008000\">'present'</span>\n",
       "</pre>\n"
      ],
      "text/plain": [
       "\u001b[33mpredicate\u001b[0m=\u001b[32m'has_cancer_site'\u001b[0m \u001b[33mbegin\u001b[0m=\u001b[1;36m3230\u001b[0m \u001b[33mend\u001b[0m=\u001b[1;36m3235\u001b[0m \u001b[33mtype\u001b[0m=\u001b[32m'value'\u001b[0m \u001b[33mvalue\u001b[0m=\u001b[32m'breast \u001b[0m\u001b[32m(\u001b[0m\u001b[32mc50.9\u001b[0m\u001b[32m)\u001b[0m\u001b[32m'\u001b[0m \n",
       "\u001b[33massertion\u001b[0m=\u001b[32m'present'\u001b[0m\n"
      ]
     },
     "metadata": {},
     "output_type": "display_data"
    },
    {
     "data": {
      "text/html": [
       "<pre style=\"white-space:pre;overflow-x:auto;line-height:normal;font-family:Menlo,'DejaVu Sans Mono',consolas,'Courier New',monospace\">============================================================================================\n",
       "</pre>\n"
      ],
      "text/plain": [
       "============================================================================================\n"
      ]
     },
     "metadata": {},
     "output_type": "display_data"
    },
    {
     "data": {
      "text/html": [
       "<pre style=\"white-space:pre;overflow-x:auto;line-height:normal;font-family:Menlo,'DejaVu Sans Mono',consolas,'Courier New',monospace\"><span style=\"color: #808000; text-decoration-color: #808000\">predicate</span>=<span style=\"color: #008000; text-decoration-color: #008000\">'has_cancer_site'</span> <span style=\"color: #808000; text-decoration-color: #808000\">begin</span>=<span style=\"color: #008080; text-decoration-color: #008080; font-weight: bold\">3445</span> <span style=\"color: #808000; text-decoration-color: #808000\">end</span>=<span style=\"color: #008080; text-decoration-color: #008080; font-weight: bold\">3450</span> <span style=\"color: #808000; text-decoration-color: #808000\">type</span>=<span style=\"color: #008000; text-decoration-color: #008000\">'value'</span> <span style=\"color: #808000; text-decoration-color: #808000\">value</span>=<span style=\"color: #008000; text-decoration-color: #008000\">'breast (c50.9)'</span> \n",
       "<span style=\"color: #808000; text-decoration-color: #808000\">assertion</span>=<span style=\"color: #008000; text-decoration-color: #008000\">'present'</span>\n",
       "</pre>\n"
      ],
      "text/plain": [
       "\u001b[33mpredicate\u001b[0m=\u001b[32m'has_cancer_site'\u001b[0m \u001b[33mbegin\u001b[0m=\u001b[1;36m3445\u001b[0m \u001b[33mend\u001b[0m=\u001b[1;36m3450\u001b[0m \u001b[33mtype\u001b[0m=\u001b[32m'value'\u001b[0m \u001b[33mvalue\u001b[0m=\u001b[32m'breast \u001b[0m\u001b[32m(\u001b[0m\u001b[32mc50.9\u001b[0m\u001b[32m)\u001b[0m\u001b[32m'\u001b[0m \n",
       "\u001b[33massertion\u001b[0m=\u001b[32m'present'\u001b[0m\n"
      ]
     },
     "metadata": {},
     "output_type": "display_data"
    },
    {
     "data": {
      "text/html": [
       "<pre style=\"white-space:pre;overflow-x:auto;line-height:normal;font-family:Menlo,'DejaVu Sans Mono',consolas,'Courier New',monospace\">============================================================================================\n",
       "</pre>\n"
      ],
      "text/plain": [
       "============================================================================================\n"
      ]
     },
     "metadata": {},
     "output_type": "display_data"
    },
    {
     "data": {
      "text/html": [
       "<pre style=\"white-space:pre;overflow-x:auto;line-height:normal;font-family:Menlo,'DejaVu Sans Mono',consolas,'Courier New',monospace\"><span style=\"color: #808000; text-decoration-color: #808000\">predicate</span>=<span style=\"color: #008000; text-decoration-color: #008000\">'has_cancer_site'</span> <span style=\"color: #808000; text-decoration-color: #808000\">begin</span>=<span style=\"color: #008080; text-decoration-color: #008080; font-weight: bold\">3524</span> <span style=\"color: #808000; text-decoration-color: #808000\">end</span>=<span style=\"color: #008080; text-decoration-color: #008080; font-weight: bold\">3529</span> <span style=\"color: #808000; text-decoration-color: #808000\">type</span>=<span style=\"color: #008000; text-decoration-color: #008000\">'value'</span> <span style=\"color: #808000; text-decoration-color: #808000\">value</span>=<span style=\"color: #008000; text-decoration-color: #008000\">'breast (c50.9)'</span> \n",
       "<span style=\"color: #808000; text-decoration-color: #808000\">assertion</span>=<span style=\"color: #008000; text-decoration-color: #008000\">'present'</span>\n",
       "</pre>\n"
      ],
      "text/plain": [
       "\u001b[33mpredicate\u001b[0m=\u001b[32m'has_cancer_site'\u001b[0m \u001b[33mbegin\u001b[0m=\u001b[1;36m3524\u001b[0m \u001b[33mend\u001b[0m=\u001b[1;36m3529\u001b[0m \u001b[33mtype\u001b[0m=\u001b[32m'value'\u001b[0m \u001b[33mvalue\u001b[0m=\u001b[32m'breast \u001b[0m\u001b[32m(\u001b[0m\u001b[32mc50.9\u001b[0m\u001b[32m)\u001b[0m\u001b[32m'\u001b[0m \n",
       "\u001b[33massertion\u001b[0m=\u001b[32m'present'\u001b[0m\n"
      ]
     },
     "metadata": {},
     "output_type": "display_data"
    },
    {
     "data": {
      "text/html": [
       "<pre style=\"white-space:pre;overflow-x:auto;line-height:normal;font-family:Menlo,'DejaVu Sans Mono',consolas,'Courier New',monospace\">============================================================================================\n",
       "</pre>\n"
      ],
      "text/plain": [
       "============================================================================================\n"
      ]
     },
     "metadata": {},
     "output_type": "display_data"
    },
    {
     "data": {
      "text/html": [
       "<pre style=\"white-space:pre;overflow-x:auto;line-height:normal;font-family:Menlo,'DejaVu Sans Mono',consolas,'Courier New',monospace\"><span style=\"color: #808000; text-decoration-color: #808000\">predicate</span>=<span style=\"color: #008000; text-decoration-color: #008000\">'has_cancer_site'</span> <span style=\"color: #808000; text-decoration-color: #808000\">begin</span>=<span style=\"color: #008080; text-decoration-color: #008080; font-weight: bold\">5908</span> <span style=\"color: #808000; text-decoration-color: #808000\">end</span>=<span style=\"color: #008080; text-decoration-color: #008080; font-weight: bold\">5913</span> <span style=\"color: #808000; text-decoration-color: #808000\">type</span>=<span style=\"color: #008000; text-decoration-color: #008000\">'value'</span> <span style=\"color: #808000; text-decoration-color: #808000\">value</span>=<span style=\"color: #008000; text-decoration-color: #008000\">'breast (c50.9)'</span> \n",
       "<span style=\"color: #808000; text-decoration-color: #808000\">assertion</span>=<span style=\"color: #008000; text-decoration-color: #008000\">'present'</span>\n",
       "</pre>\n"
      ],
      "text/plain": [
       "\u001b[33mpredicate\u001b[0m=\u001b[32m'has_cancer_site'\u001b[0m \u001b[33mbegin\u001b[0m=\u001b[1;36m5908\u001b[0m \u001b[33mend\u001b[0m=\u001b[1;36m5913\u001b[0m \u001b[33mtype\u001b[0m=\u001b[32m'value'\u001b[0m \u001b[33mvalue\u001b[0m=\u001b[32m'breast \u001b[0m\u001b[32m(\u001b[0m\u001b[32mc50.9\u001b[0m\u001b[32m)\u001b[0m\u001b[32m'\u001b[0m \n",
       "\u001b[33massertion\u001b[0m=\u001b[32m'present'\u001b[0m\n"
      ]
     },
     "metadata": {},
     "output_type": "display_data"
    },
    {
     "data": {
      "text/html": [
       "<pre style=\"white-space:pre;overflow-x:auto;line-height:normal;font-family:Menlo,'DejaVu Sans Mono',consolas,'Courier New',monospace\">============================================================================================\n",
       "</pre>\n"
      ],
      "text/plain": [
       "============================================================================================\n"
      ]
     },
     "metadata": {},
     "output_type": "display_data"
    },
    {
     "data": {
      "text/html": [
       "<pre style=\"white-space:pre;overflow-x:auto;line-height:normal;font-family:Menlo,'DejaVu Sans Mono',consolas,'Courier New',monospace\"><span style=\"color: #808000; text-decoration-color: #808000\">predicate</span>=<span style=\"color: #008000; text-decoration-color: #008000\">'has_cancer_site'</span> <span style=\"color: #808000; text-decoration-color: #808000\">begin</span>=<span style=\"color: #008080; text-decoration-color: #008080; font-weight: bold\">6100</span> <span style=\"color: #808000; text-decoration-color: #808000\">end</span>=<span style=\"color: #008080; text-decoration-color: #008080; font-weight: bold\">6105</span> <span style=\"color: #808000; text-decoration-color: #808000\">type</span>=<span style=\"color: #008000; text-decoration-color: #008000\">'value'</span> <span style=\"color: #808000; text-decoration-color: #808000\">value</span>=<span style=\"color: #008000; text-decoration-color: #008000\">'breast (c50.9)'</span> \n",
       "<span style=\"color: #808000; text-decoration-color: #808000\">assertion</span>=<span style=\"color: #008000; text-decoration-color: #008000\">'present'</span>\n",
       "</pre>\n"
      ],
      "text/plain": [
       "\u001b[33mpredicate\u001b[0m=\u001b[32m'has_cancer_site'\u001b[0m \u001b[33mbegin\u001b[0m=\u001b[1;36m6100\u001b[0m \u001b[33mend\u001b[0m=\u001b[1;36m6105\u001b[0m \u001b[33mtype\u001b[0m=\u001b[32m'value'\u001b[0m \u001b[33mvalue\u001b[0m=\u001b[32m'breast \u001b[0m\u001b[32m(\u001b[0m\u001b[32mc50.9\u001b[0m\u001b[32m)\u001b[0m\u001b[32m'\u001b[0m \n",
       "\u001b[33massertion\u001b[0m=\u001b[32m'present'\u001b[0m\n"
      ]
     },
     "metadata": {},
     "output_type": "display_data"
    },
    {
     "data": {
      "text/html": [
       "<pre style=\"white-space:pre;overflow-x:auto;line-height:normal;font-family:Menlo,'DejaVu Sans Mono',consolas,'Courier New',monospace\">============================================================================================\n",
       "</pre>\n"
      ],
      "text/plain": [
       "============================================================================================\n"
      ]
     },
     "metadata": {},
     "output_type": "display_data"
    },
    {
     "data": {
      "text/html": [
       "<pre style=\"white-space:pre;overflow-x:auto;line-height:normal;font-family:Menlo,'DejaVu Sans Mono',consolas,'Courier New',monospace\"><span style=\"color: #808000; text-decoration-color: #808000\">predicate</span>=<span style=\"color: #008000; text-decoration-color: #008000\">'has_cancer_site'</span> <span style=\"color: #808000; text-decoration-color: #808000\">begin</span>=<span style=\"color: #008080; text-decoration-color: #008080; font-weight: bold\">6396</span> <span style=\"color: #808000; text-decoration-color: #808000\">end</span>=<span style=\"color: #008080; text-decoration-color: #008080; font-weight: bold\">6401</span> <span style=\"color: #808000; text-decoration-color: #808000\">type</span>=<span style=\"color: #008000; text-decoration-color: #008000\">'value'</span> <span style=\"color: #808000; text-decoration-color: #808000\">value</span>=<span style=\"color: #008000; text-decoration-color: #008000\">'breast (c50.9)'</span> \n",
       "<span style=\"color: #808000; text-decoration-color: #808000\">assertion</span>=<span style=\"color: #008000; text-decoration-color: #008000\">'present'</span>\n",
       "</pre>\n"
      ],
      "text/plain": [
       "\u001b[33mpredicate\u001b[0m=\u001b[32m'has_cancer_site'\u001b[0m \u001b[33mbegin\u001b[0m=\u001b[1;36m6396\u001b[0m \u001b[33mend\u001b[0m=\u001b[1;36m6401\u001b[0m \u001b[33mtype\u001b[0m=\u001b[32m'value'\u001b[0m \u001b[33mvalue\u001b[0m=\u001b[32m'breast \u001b[0m\u001b[32m(\u001b[0m\u001b[32mc50.9\u001b[0m\u001b[32m)\u001b[0m\u001b[32m'\u001b[0m \n",
       "\u001b[33massertion\u001b[0m=\u001b[32m'present'\u001b[0m\n"
      ]
     },
     "metadata": {},
     "output_type": "display_data"
    },
    {
     "data": {
      "text/html": [
       "<pre style=\"white-space:pre;overflow-x:auto;line-height:normal;font-family:Menlo,'DejaVu Sans Mono',consolas,'Courier New',monospace\">============================================================================================\n",
       "</pre>\n"
      ],
      "text/plain": [
       "============================================================================================\n"
      ]
     },
     "metadata": {},
     "output_type": "display_data"
    },
    {
     "data": {
      "text/html": [
       "<pre style=\"white-space:pre;overflow-x:auto;line-height:normal;font-family:Menlo,'DejaVu Sans Mono',consolas,'Courier New',monospace\"><span style=\"color: #808000; text-decoration-color: #808000\">predicate</span>=<span style=\"color: #008000; text-decoration-color: #008000\">'has_cancer_site'</span> <span style=\"color: #808000; text-decoration-color: #808000\">begin</span>=<span style=\"color: #008080; text-decoration-color: #008080; font-weight: bold\">6684</span> <span style=\"color: #808000; text-decoration-color: #808000\">end</span>=<span style=\"color: #008080; text-decoration-color: #008080; font-weight: bold\">6689</span> <span style=\"color: #808000; text-decoration-color: #808000\">type</span>=<span style=\"color: #008000; text-decoration-color: #008000\">'value'</span> <span style=\"color: #808000; text-decoration-color: #808000\">value</span>=<span style=\"color: #008000; text-decoration-color: #008000\">'breast (c50.9)'</span> \n",
       "<span style=\"color: #808000; text-decoration-color: #808000\">assertion</span>=<span style=\"color: #008000; text-decoration-color: #008000\">'present'</span>\n",
       "</pre>\n"
      ],
      "text/plain": [
       "\u001b[33mpredicate\u001b[0m=\u001b[32m'has_cancer_site'\u001b[0m \u001b[33mbegin\u001b[0m=\u001b[1;36m6684\u001b[0m \u001b[33mend\u001b[0m=\u001b[1;36m6689\u001b[0m \u001b[33mtype\u001b[0m=\u001b[32m'value'\u001b[0m \u001b[33mvalue\u001b[0m=\u001b[32m'breast \u001b[0m\u001b[32m(\u001b[0m\u001b[32mc50.9\u001b[0m\u001b[32m)\u001b[0m\u001b[32m'\u001b[0m \n",
       "\u001b[33massertion\u001b[0m=\u001b[32m'present'\u001b[0m\n"
      ]
     },
     "metadata": {},
     "output_type": "display_data"
    },
    {
     "data": {
      "text/html": [
       "<pre style=\"white-space:pre;overflow-x:auto;line-height:normal;font-family:Menlo,'DejaVu Sans Mono',consolas,'Courier New',monospace\">============================================================================================\n",
       "</pre>\n"
      ],
      "text/plain": [
       "============================================================================================\n"
      ]
     },
     "metadata": {},
     "output_type": "display_data"
    },
    {
     "data": {
      "text/html": [
       "<pre style=\"white-space:pre;overflow-x:auto;line-height:normal;font-family:Menlo,'DejaVu Sans Mono',consolas,'Courier New',monospace\"><span style=\"color: #808000; text-decoration-color: #808000\">predicate</span>=<span style=\"color: #008000; text-decoration-color: #008000\">'has_cancer_site'</span> <span style=\"color: #808000; text-decoration-color: #808000\">begin</span>=<span style=\"color: #008080; text-decoration-color: #008080; font-weight: bold\">11080</span> <span style=\"color: #808000; text-decoration-color: #808000\">end</span>=<span style=\"color: #008080; text-decoration-color: #008080; font-weight: bold\">11085</span> <span style=\"color: #808000; text-decoration-color: #808000\">type</span>=<span style=\"color: #008000; text-decoration-color: #008000\">'value'</span> <span style=\"color: #808000; text-decoration-color: #808000\">value</span>=<span style=\"color: #008000; text-decoration-color: #008000\">'breast (c50.9)'</span> \n",
       "<span style=\"color: #808000; text-decoration-color: #808000\">assertion</span>=<span style=\"color: #008000; text-decoration-color: #008000\">'present'</span>\n",
       "</pre>\n"
      ],
      "text/plain": [
       "\u001b[33mpredicate\u001b[0m=\u001b[32m'has_cancer_site'\u001b[0m \u001b[33mbegin\u001b[0m=\u001b[1;36m11080\u001b[0m \u001b[33mend\u001b[0m=\u001b[1;36m11085\u001b[0m \u001b[33mtype\u001b[0m=\u001b[32m'value'\u001b[0m \u001b[33mvalue\u001b[0m=\u001b[32m'breast \u001b[0m\u001b[32m(\u001b[0m\u001b[32mc50.9\u001b[0m\u001b[32m)\u001b[0m\u001b[32m'\u001b[0m \n",
       "\u001b[33massertion\u001b[0m=\u001b[32m'present'\u001b[0m\n"
      ]
     },
     "metadata": {},
     "output_type": "display_data"
    },
    {
     "data": {
      "text/html": [
       "<pre style=\"white-space:pre;overflow-x:auto;line-height:normal;font-family:Menlo,'DejaVu Sans Mono',consolas,'Courier New',monospace\">============================================================================================\n",
       "</pre>\n"
      ],
      "text/plain": [
       "============================================================================================\n"
      ]
     },
     "metadata": {},
     "output_type": "display_data"
    },
    {
     "data": {
      "text/html": [
       "<pre style=\"white-space:pre;overflow-x:auto;line-height:normal;font-family:Menlo,'DejaVu Sans Mono',consolas,'Courier New',monospace\"><span style=\"color: #808000; text-decoration-color: #808000\">predicate</span>=<span style=\"color: #008000; text-decoration-color: #008000\">'has_cancer_site'</span> <span style=\"color: #808000; text-decoration-color: #808000\">begin</span>=<span style=\"color: #008080; text-decoration-color: #008080; font-weight: bold\">1198</span> <span style=\"color: #808000; text-decoration-color: #808000\">end</span>=<span style=\"color: #008080; text-decoration-color: #008080; font-weight: bold\">1203</span> <span style=\"color: #808000; text-decoration-color: #808000\">type</span>=<span style=\"color: #008000; text-decoration-color: #008000\">'value'</span> <span style=\"color: #808000; text-decoration-color: #808000\">value</span>=<span style=\"color: #008000; text-decoration-color: #008000\">'nipple (c50.0)'</span> \n",
       "<span style=\"color: #808000; text-decoration-color: #808000\">assertion</span>=<span style=\"color: #008000; text-decoration-color: #008000\">'present'</span>\n",
       "</pre>\n"
      ],
      "text/plain": [
       "\u001b[33mpredicate\u001b[0m=\u001b[32m'has_cancer_site'\u001b[0m \u001b[33mbegin\u001b[0m=\u001b[1;36m1198\u001b[0m \u001b[33mend\u001b[0m=\u001b[1;36m1203\u001b[0m \u001b[33mtype\u001b[0m=\u001b[32m'value'\u001b[0m \u001b[33mvalue\u001b[0m=\u001b[32m'nipple \u001b[0m\u001b[32m(\u001b[0m\u001b[32mc50.0\u001b[0m\u001b[32m)\u001b[0m\u001b[32m'\u001b[0m \n",
       "\u001b[33massertion\u001b[0m=\u001b[32m'present'\u001b[0m\n"
      ]
     },
     "metadata": {},
     "output_type": "display_data"
    },
    {
     "data": {
      "text/html": [
       "<pre style=\"white-space:pre;overflow-x:auto;line-height:normal;font-family:Menlo,'DejaVu Sans Mono',consolas,'Courier New',monospace\">============================================================================================\n",
       "</pre>\n"
      ],
      "text/plain": [
       "============================================================================================\n"
      ]
     },
     "metadata": {},
     "output_type": "display_data"
    },
    {
     "data": {
      "text/html": [
       "<pre style=\"white-space:pre;overflow-x:auto;line-height:normal;font-family:Menlo,'DejaVu Sans Mono',consolas,'Courier New',monospace\"><span style=\"color: #808000; text-decoration-color: #808000\">predicate</span>=<span style=\"color: #008000; text-decoration-color: #008000\">'has_cancer_site_laterality'</span> <span style=\"color: #808000; text-decoration-color: #808000\">begin</span>=<span style=\"color: #008080; text-decoration-color: #008080; font-weight: bold\">218</span> <span style=\"color: #808000; text-decoration-color: #808000\">end</span>=<span style=\"color: #008080; text-decoration-color: #008080; font-weight: bold\">221</span> <span style=\"color: #808000; text-decoration-color: #808000\">type</span>=<span style=\"color: #008000; text-decoration-color: #008000\">'value'</span> <span style=\"color: #808000; text-decoration-color: #808000\">value</span>=<span style=\"color: #008000; text-decoration-color: #008000\">'left'</span> \n",
       "<span style=\"color: #808000; text-decoration-color: #808000\">assertion</span>=<span style=\"color: #008000; text-decoration-color: #008000\">'present'</span>\n",
       "</pre>\n"
      ],
      "text/plain": [
       "\u001b[33mpredicate\u001b[0m=\u001b[32m'has_cancer_site_laterality'\u001b[0m \u001b[33mbegin\u001b[0m=\u001b[1;36m218\u001b[0m \u001b[33mend\u001b[0m=\u001b[1;36m221\u001b[0m \u001b[33mtype\u001b[0m=\u001b[32m'value'\u001b[0m \u001b[33mvalue\u001b[0m=\u001b[32m'left'\u001b[0m \n",
       "\u001b[33massertion\u001b[0m=\u001b[32m'present'\u001b[0m\n"
      ]
     },
     "metadata": {},
     "output_type": "display_data"
    },
    {
     "data": {
      "text/html": [
       "<pre style=\"white-space:pre;overflow-x:auto;line-height:normal;font-family:Menlo,'DejaVu Sans Mono',consolas,'Courier New',monospace\">============================================================================================\n",
       "</pre>\n"
      ],
      "text/plain": [
       "============================================================================================\n"
      ]
     },
     "metadata": {},
     "output_type": "display_data"
    },
    {
     "data": {
      "text/html": [
       "<pre style=\"white-space:pre;overflow-x:auto;line-height:normal;font-family:Menlo,'DejaVu Sans Mono',consolas,'Courier New',monospace\"><span style=\"color: #808000; text-decoration-color: #808000\">predicate</span>=<span style=\"color: #008000; text-decoration-color: #008000\">'has_cancer_site_laterality'</span> <span style=\"color: #808000; text-decoration-color: #808000\">begin</span>=<span style=\"color: #008080; text-decoration-color: #008080; font-weight: bold\">3</span> <span style=\"color: #808000; text-decoration-color: #808000\">end</span>=<span style=\"color: #008080; text-decoration-color: #008080; font-weight: bold\">7</span> <span style=\"color: #808000; text-decoration-color: #808000\">type</span>=<span style=\"color: #008000; text-decoration-color: #008000\">'value'</span> <span style=\"color: #808000; text-decoration-color: #808000\">value</span>=<span style=\"color: #008000; text-decoration-color: #008000\">'right'</span> \n",
       "<span style=\"color: #808000; text-decoration-color: #808000\">assertion</span>=<span style=\"color: #008000; text-decoration-color: #008000\">'present'</span>\n",
       "</pre>\n"
      ],
      "text/plain": [
       "\u001b[33mpredicate\u001b[0m=\u001b[32m'has_cancer_site_laterality'\u001b[0m \u001b[33mbegin\u001b[0m=\u001b[1;36m3\u001b[0m \u001b[33mend\u001b[0m=\u001b[1;36m7\u001b[0m \u001b[33mtype\u001b[0m=\u001b[32m'value'\u001b[0m \u001b[33mvalue\u001b[0m=\u001b[32m'right'\u001b[0m \n",
       "\u001b[33massertion\u001b[0m=\u001b[32m'present'\u001b[0m\n"
      ]
     },
     "metadata": {},
     "output_type": "display_data"
    },
    {
     "data": {
      "text/html": [
       "<pre style=\"white-space:pre;overflow-x:auto;line-height:normal;font-family:Menlo,'DejaVu Sans Mono',consolas,'Courier New',monospace\">============================================================================================\n",
       "</pre>\n"
      ],
      "text/plain": [
       "============================================================================================\n"
      ]
     },
     "metadata": {},
     "output_type": "display_data"
    },
    {
     "data": {
      "text/html": [
       "<pre style=\"white-space:pre;overflow-x:auto;line-height:normal;font-family:Menlo,'DejaVu Sans Mono',consolas,'Courier New',monospace\"><span style=\"color: #808000; text-decoration-color: #808000\">predicate</span>=<span style=\"color: #008000; text-decoration-color: #008000\">'has_cancer_site_laterality'</span> <span style=\"color: #808000; text-decoration-color: #808000\">begin</span>=<span style=\"color: #008080; text-decoration-color: #008080; font-weight: bold\">576</span> <span style=\"color: #808000; text-decoration-color: #808000\">end</span>=<span style=\"color: #008080; text-decoration-color: #008080; font-weight: bold\">580</span> <span style=\"color: #808000; text-decoration-color: #808000\">type</span>=<span style=\"color: #008000; text-decoration-color: #008000\">'value'</span> <span style=\"color: #808000; text-decoration-color: #808000\">value</span>=<span style=\"color: #008000; text-decoration-color: #008000\">'right'</span> \n",
       "<span style=\"color: #808000; text-decoration-color: #808000\">assertion</span>=<span style=\"color: #008000; text-decoration-color: #008000\">'present'</span>\n",
       "</pre>\n"
      ],
      "text/plain": [
       "\u001b[33mpredicate\u001b[0m=\u001b[32m'has_cancer_site_laterality'\u001b[0m \u001b[33mbegin\u001b[0m=\u001b[1;36m576\u001b[0m \u001b[33mend\u001b[0m=\u001b[1;36m580\u001b[0m \u001b[33mtype\u001b[0m=\u001b[32m'value'\u001b[0m \u001b[33mvalue\u001b[0m=\u001b[32m'right'\u001b[0m \n",
       "\u001b[33massertion\u001b[0m=\u001b[32m'present'\u001b[0m\n"
      ]
     },
     "metadata": {},
     "output_type": "display_data"
    },
    {
     "data": {
      "text/html": [
       "<pre style=\"white-space:pre;overflow-x:auto;line-height:normal;font-family:Menlo,'DejaVu Sans Mono',consolas,'Courier New',monospace\">============================================================================================\n",
       "</pre>\n"
      ],
      "text/plain": [
       "============================================================================================\n"
      ]
     },
     "metadata": {},
     "output_type": "display_data"
    },
    {
     "data": {
      "text/html": [
       "<pre style=\"white-space:pre;overflow-x:auto;line-height:normal;font-family:Menlo,'DejaVu Sans Mono',consolas,'Courier New',monospace\"><span style=\"color: #808000; text-decoration-color: #808000\">predicate</span>=<span style=\"color: #008000; text-decoration-color: #008000\">'has_cancer_site_laterality'</span> <span style=\"color: #808000; text-decoration-color: #808000\">begin</span>=<span style=\"color: #008080; text-decoration-color: #008080; font-weight: bold\">1219</span> <span style=\"color: #808000; text-decoration-color: #808000\">end</span>=<span style=\"color: #008080; text-decoration-color: #008080; font-weight: bold\">1223</span> <span style=\"color: #808000; text-decoration-color: #808000\">type</span>=<span style=\"color: #008000; text-decoration-color: #008000\">'value'</span> <span style=\"color: #808000; text-decoration-color: #808000\">value</span>=<span style=\"color: #008000; text-decoration-color: #008000\">'right'</span> \n",
       "<span style=\"color: #808000; text-decoration-color: #808000\">assertion</span>=<span style=\"color: #008000; text-decoration-color: #008000\">'present'</span>\n",
       "</pre>\n"
      ],
      "text/plain": [
       "\u001b[33mpredicate\u001b[0m=\u001b[32m'has_cancer_site_laterality'\u001b[0m \u001b[33mbegin\u001b[0m=\u001b[1;36m1219\u001b[0m \u001b[33mend\u001b[0m=\u001b[1;36m1223\u001b[0m \u001b[33mtype\u001b[0m=\u001b[32m'value'\u001b[0m \u001b[33mvalue\u001b[0m=\u001b[32m'right'\u001b[0m \n",
       "\u001b[33massertion\u001b[0m=\u001b[32m'present'\u001b[0m\n"
      ]
     },
     "metadata": {},
     "output_type": "display_data"
    },
    {
     "data": {
      "text/html": [
       "<pre style=\"white-space:pre;overflow-x:auto;line-height:normal;font-family:Menlo,'DejaVu Sans Mono',consolas,'Courier New',monospace\">============================================================================================\n",
       "</pre>\n"
      ],
      "text/plain": [
       "============================================================================================\n"
      ]
     },
     "metadata": {},
     "output_type": "display_data"
    },
    {
     "data": {
      "text/html": [
       "<pre style=\"white-space:pre;overflow-x:auto;line-height:normal;font-family:Menlo,'DejaVu Sans Mono',consolas,'Courier New',monospace\"><span style=\"color: #808000; text-decoration-color: #808000\">predicate</span>=<span style=\"color: #008000; text-decoration-color: #008000\">'has_cancer_site_laterality'</span> <span style=\"color: #808000; text-decoration-color: #808000\">begin</span>=<span style=\"color: #008080; text-decoration-color: #008080; font-weight: bold\">1924</span> <span style=\"color: #808000; text-decoration-color: #808000\">end</span>=<span style=\"color: #008080; text-decoration-color: #008080; font-weight: bold\">1928</span> <span style=\"color: #808000; text-decoration-color: #808000\">type</span>=<span style=\"color: #008000; text-decoration-color: #008000\">'value'</span> <span style=\"color: #808000; text-decoration-color: #808000\">value</span>=<span style=\"color: #008000; text-decoration-color: #008000\">'right'</span> \n",
       "<span style=\"color: #808000; text-decoration-color: #808000\">assertion</span>=<span style=\"color: #008000; text-decoration-color: #008000\">'present'</span>\n",
       "</pre>\n"
      ],
      "text/plain": [
       "\u001b[33mpredicate\u001b[0m=\u001b[32m'has_cancer_site_laterality'\u001b[0m \u001b[33mbegin\u001b[0m=\u001b[1;36m1924\u001b[0m \u001b[33mend\u001b[0m=\u001b[1;36m1928\u001b[0m \u001b[33mtype\u001b[0m=\u001b[32m'value'\u001b[0m \u001b[33mvalue\u001b[0m=\u001b[32m'right'\u001b[0m \n",
       "\u001b[33massertion\u001b[0m=\u001b[32m'present'\u001b[0m\n"
      ]
     },
     "metadata": {},
     "output_type": "display_data"
    },
    {
     "data": {
      "text/html": [
       "<pre style=\"white-space:pre;overflow-x:auto;line-height:normal;font-family:Menlo,'DejaVu Sans Mono',consolas,'Courier New',monospace\">============================================================================================\n",
       "</pre>\n"
      ],
      "text/plain": [
       "============================================================================================\n"
      ]
     },
     "metadata": {},
     "output_type": "display_data"
    },
    {
     "data": {
      "text/html": [
       "<pre style=\"white-space:pre;overflow-x:auto;line-height:normal;font-family:Menlo,'DejaVu Sans Mono',consolas,'Courier New',monospace\"><span style=\"color: #808000; text-decoration-color: #808000\">predicate</span>=<span style=\"color: #008000; text-decoration-color: #008000\">'has_cancer_pathologic_sbr_grade'</span> <span style=\"color: #808000; text-decoration-color: #808000\">begin</span>=<span style=\"color: #008080; text-decoration-color: #008080; font-weight: bold\">644</span> <span style=\"color: #808000; text-decoration-color: #808000\">end</span>=<span style=\"color: #008080; text-decoration-color: #008080; font-weight: bold\">650</span> <span style=\"color: #808000; text-decoration-color: #808000\">type</span>=<span style=\"color: #008000; text-decoration-color: #008000\">'value'</span> <span style=\"color: #808000; text-decoration-color: #808000\">value</span>=<span style=\"color: #008000; text-decoration-color: #008000\">'Grade 2'</span> \n",
       "<span style=\"color: #808000; text-decoration-color: #808000\">assertion</span>=<span style=\"color: #008000; text-decoration-color: #008000\">'present'</span>\n",
       "</pre>\n"
      ],
      "text/plain": [
       "\u001b[33mpredicate\u001b[0m=\u001b[32m'has_cancer_pathologic_sbr_grade'\u001b[0m \u001b[33mbegin\u001b[0m=\u001b[1;36m644\u001b[0m \u001b[33mend\u001b[0m=\u001b[1;36m650\u001b[0m \u001b[33mtype\u001b[0m=\u001b[32m'value'\u001b[0m \u001b[33mvalue\u001b[0m=\u001b[32m'Grade 2'\u001b[0m \n",
       "\u001b[33massertion\u001b[0m=\u001b[32m'present'\u001b[0m\n"
      ]
     },
     "metadata": {},
     "output_type": "display_data"
    },
    {
     "data": {
      "text/html": [
       "<pre style=\"white-space:pre;overflow-x:auto;line-height:normal;font-family:Menlo,'DejaVu Sans Mono',consolas,'Courier New',monospace\">============================================================================================\n",
       "</pre>\n"
      ],
      "text/plain": [
       "============================================================================================\n"
      ]
     },
     "metadata": {},
     "output_type": "display_data"
    },
    {
     "data": {
      "text/html": [
       "<pre style=\"white-space:pre;overflow-x:auto;line-height:normal;font-family:Menlo,'DejaVu Sans Mono',consolas,'Courier New',monospace\"><span style=\"color: #808000; text-decoration-color: #808000\">predicate</span>=<span style=\"color: #008000; text-decoration-color: #008000\">'has_cancer_recurrence_status'</span> <span style=\"color: #808000; text-decoration-color: #808000\">begin</span>=<span style=\"color: #008080; text-decoration-color: #008080; font-weight: bold\">1660</span> <span style=\"color: #808000; text-decoration-color: #808000\">end</span>=<span style=\"color: #008080; text-decoration-color: #008080; font-weight: bold\">1667</span> <span style=\"color: #808000; text-decoration-color: #808000\">type</span>=<span style=\"color: #008000; text-decoration-color: #008000\">'value'</span> <span style=\"color: #808000; text-decoration-color: #808000\">value</span>=<span style=\"color: #008000; text-decoration-color: #008000\">'recurrent'</span> \n",
       "<span style=\"color: #808000; text-decoration-color: #808000\">assertion</span>=<span style=\"color: #008000; text-decoration-color: #008000\">'present'</span>\n",
       "</pre>\n"
      ],
      "text/plain": [
       "\u001b[33mpredicate\u001b[0m=\u001b[32m'has_cancer_recurrence_status'\u001b[0m \u001b[33mbegin\u001b[0m=\u001b[1;36m1660\u001b[0m \u001b[33mend\u001b[0m=\u001b[1;36m1667\u001b[0m \u001b[33mtype\u001b[0m=\u001b[32m'value'\u001b[0m \u001b[33mvalue\u001b[0m=\u001b[32m'recurrent'\u001b[0m \n",
       "\u001b[33massertion\u001b[0m=\u001b[32m'present'\u001b[0m\n"
      ]
     },
     "metadata": {},
     "output_type": "display_data"
    },
    {
     "data": {
      "text/html": [
       "<pre style=\"white-space:pre;overflow-x:auto;line-height:normal;font-family:Menlo,'DejaVu Sans Mono',consolas,'Courier New',monospace\">============================================================================================\n",
       "</pre>\n"
      ],
      "text/plain": [
       "============================================================================================\n"
      ]
     },
     "metadata": {},
     "output_type": "display_data"
    },
    {
     "data": {
      "text/html": [
       "<pre style=\"white-space:pre;overflow-x:auto;line-height:normal;font-family:Menlo,'DejaVu Sans Mono',consolas,'Courier New',monospace\"><span style=\"color: #808000; text-decoration-color: #808000\">predicate</span>=<span style=\"color: #008000; text-decoration-color: #008000\">'has_cancer_recurrence_status'</span> <span style=\"color: #808000; text-decoration-color: #808000\">begin</span>=<span style=\"color: #008080; text-decoration-color: #008080; font-weight: bold\">1739</span> <span style=\"color: #808000; text-decoration-color: #808000\">end</span>=<span style=\"color: #008080; text-decoration-color: #008080; font-weight: bold\">1746</span> <span style=\"color: #808000; text-decoration-color: #808000\">type</span>=<span style=\"color: #008000; text-decoration-color: #008000\">'value'</span> <span style=\"color: #808000; text-decoration-color: #808000\">value</span>=<span style=\"color: #008000; text-decoration-color: #008000\">'recurrent'</span> \n",
       "<span style=\"color: #808000; text-decoration-color: #808000\">assertion</span>=<span style=\"color: #008000; text-decoration-color: #008000\">'present'</span>\n",
       "</pre>\n"
      ],
      "text/plain": [
       "\u001b[33mpredicate\u001b[0m=\u001b[32m'has_cancer_recurrence_status'\u001b[0m \u001b[33mbegin\u001b[0m=\u001b[1;36m1739\u001b[0m \u001b[33mend\u001b[0m=\u001b[1;36m1746\u001b[0m \u001b[33mtype\u001b[0m=\u001b[32m'value'\u001b[0m \u001b[33mvalue\u001b[0m=\u001b[32m'recurrent'\u001b[0m \n",
       "\u001b[33massertion\u001b[0m=\u001b[32m'present'\u001b[0m\n"
      ]
     },
     "metadata": {},
     "output_type": "display_data"
    },
    {
     "data": {
      "text/html": [
       "<pre style=\"white-space:pre;overflow-x:auto;line-height:normal;font-family:Menlo,'DejaVu Sans Mono',consolas,'Courier New',monospace\">============================================================================================\n",
       "</pre>\n"
      ],
      "text/plain": [
       "============================================================================================\n"
      ]
     },
     "metadata": {},
     "output_type": "display_data"
    },
    {
     "data": {
      "text/html": [
       "<pre style=\"white-space:pre;overflow-x:auto;line-height:normal;font-family:Menlo,'DejaVu Sans Mono',consolas,'Courier New',monospace\"><span style=\"color: #808000; text-decoration-color: #808000\">predicate</span>=<span style=\"color: #008000; text-decoration-color: #008000\">'has_cancer_recurrence_status'</span> <span style=\"color: #808000; text-decoration-color: #808000\">begin</span>=<span style=\"color: #008080; text-decoration-color: #008080; font-weight: bold\">1803</span> <span style=\"color: #808000; text-decoration-color: #808000\">end</span>=<span style=\"color: #008080; text-decoration-color: #008080; font-weight: bold\">1810</span> <span style=\"color: #808000; text-decoration-color: #808000\">type</span>=<span style=\"color: #008000; text-decoration-color: #008000\">'value'</span> <span style=\"color: #808000; text-decoration-color: #808000\">value</span>=<span style=\"color: #008000; text-decoration-color: #008000\">'recurrent'</span> \n",
       "<span style=\"color: #808000; text-decoration-color: #808000\">assertion</span>=<span style=\"color: #008000; text-decoration-color: #008000\">'present'</span>\n",
       "</pre>\n"
      ],
      "text/plain": [
       "\u001b[33mpredicate\u001b[0m=\u001b[32m'has_cancer_recurrence_status'\u001b[0m \u001b[33mbegin\u001b[0m=\u001b[1;36m1803\u001b[0m \u001b[33mend\u001b[0m=\u001b[1;36m1810\u001b[0m \u001b[33mtype\u001b[0m=\u001b[32m'value'\u001b[0m \u001b[33mvalue\u001b[0m=\u001b[32m'recurrent'\u001b[0m \n",
       "\u001b[33massertion\u001b[0m=\u001b[32m'present'\u001b[0m\n"
      ]
     },
     "metadata": {},
     "output_type": "display_data"
    },
    {
     "data": {
      "text/html": [
       "<pre style=\"white-space:pre;overflow-x:auto;line-height:normal;font-family:Menlo,'DejaVu Sans Mono',consolas,'Courier New',monospace\">============================================================================================\n",
       "</pre>\n"
      ],
      "text/plain": [
       "============================================================================================\n"
      ]
     },
     "metadata": {},
     "output_type": "display_data"
    },
    {
     "data": {
      "text/html": [
       "<pre style=\"white-space:pre;overflow-x:auto;line-height:normal;font-family:Menlo,'DejaVu Sans Mono',consolas,'Courier New',monospace\"><span style=\"color: #808000; text-decoration-color: #808000\">predicate</span>=<span style=\"color: #008000; text-decoration-color: #008000\">'has_metastatic_cancer_histology'</span> <span style=\"color: #808000; text-decoration-color: #808000\">begin</span>=<span style=\"color: #008080; text-decoration-color: #008080; font-weight: bold\">43</span> <span style=\"color: #808000; text-decoration-color: #808000\">end</span>=<span style=\"color: #008080; text-decoration-color: #008080; font-weight: bold\">62</span> <span style=\"color: #808000; text-decoration-color: #808000\">type</span>=<span style=\"color: #008000; text-decoration-color: #008000\">'value'</span> <span style=\"color: #808000; text-decoration-color: #808000\">value</span>=<span style=\"color: #008000; text-decoration-color: #008000\">'carcinoma, </span>\n",
       "<span style=\"color: #008000; text-decoration-color: #008000\">metastatic (8010/6)'</span> <span style=\"color: #808000; text-decoration-color: #808000\">assertion</span>=<span style=\"color: #008000; text-decoration-color: #008000\">'present'</span>\n",
       "</pre>\n"
      ],
      "text/plain": [
       "\u001b[33mpredicate\u001b[0m=\u001b[32m'has_metastatic_cancer_histology'\u001b[0m \u001b[33mbegin\u001b[0m=\u001b[1;36m43\u001b[0m \u001b[33mend\u001b[0m=\u001b[1;36m62\u001b[0m \u001b[33mtype\u001b[0m=\u001b[32m'value'\u001b[0m \u001b[33mvalue\u001b[0m=\u001b[32m'carcinoma, \u001b[0m\n",
       "\u001b[32mmetastatic \u001b[0m\u001b[32m(\u001b[0m\u001b[32m8010/6\u001b[0m\u001b[32m)\u001b[0m\u001b[32m'\u001b[0m \u001b[33massertion\u001b[0m=\u001b[32m'present'\u001b[0m\n"
      ]
     },
     "metadata": {},
     "output_type": "display_data"
    },
    {
     "data": {
      "text/html": [
       "<pre style=\"white-space:pre;overflow-x:auto;line-height:normal;font-family:Menlo,'DejaVu Sans Mono',consolas,'Courier New',monospace\">============================================================================================\n",
       "</pre>\n"
      ],
      "text/plain": [
       "============================================================================================\n"
      ]
     },
     "metadata": {},
     "output_type": "display_data"
    },
    {
     "data": {
      "text/html": [
       "<pre style=\"white-space:pre;overflow-x:auto;line-height:normal;font-family:Menlo,'DejaVu Sans Mono',consolas,'Courier New',monospace\"><span style=\"color: #808000; text-decoration-color: #808000\">predicate</span>=<span style=\"color: #008000; text-decoration-color: #008000\">'has_metastatic_cancer_histology'</span> <span style=\"color: #808000; text-decoration-color: #808000\">begin</span>=<span style=\"color: #008080; text-decoration-color: #008080; font-weight: bold\">1261</span> <span style=\"color: #808000; text-decoration-color: #808000\">end</span>=<span style=\"color: #008080; text-decoration-color: #008080; font-weight: bold\">1280</span> <span style=\"color: #808000; text-decoration-color: #808000\">type</span>=<span style=\"color: #008000; text-decoration-color: #008000\">'value'</span> \n",
       "<span style=\"color: #808000; text-decoration-color: #808000\">value</span>=<span style=\"color: #008000; text-decoration-color: #008000\">'carcinoma, metastatic (8010/6)'</span> <span style=\"color: #808000; text-decoration-color: #808000\">assertion</span>=<span style=\"color: #008000; text-decoration-color: #008000\">'present'</span>\n",
       "</pre>\n"
      ],
      "text/plain": [
       "\u001b[33mpredicate\u001b[0m=\u001b[32m'has_metastatic_cancer_histology'\u001b[0m \u001b[33mbegin\u001b[0m=\u001b[1;36m1261\u001b[0m \u001b[33mend\u001b[0m=\u001b[1;36m1280\u001b[0m \u001b[33mtype\u001b[0m=\u001b[32m'value'\u001b[0m \n",
       "\u001b[33mvalue\u001b[0m=\u001b[32m'carcinoma, metastatic \u001b[0m\u001b[32m(\u001b[0m\u001b[32m8010/6\u001b[0m\u001b[32m)\u001b[0m\u001b[32m'\u001b[0m \u001b[33massertion\u001b[0m=\u001b[32m'present'\u001b[0m\n"
      ]
     },
     "metadata": {},
     "output_type": "display_data"
    },
    {
     "data": {
      "text/html": [
       "<pre style=\"white-space:pre;overflow-x:auto;line-height:normal;font-family:Menlo,'DejaVu Sans Mono',consolas,'Courier New',monospace\">============================================================================================\n",
       "</pre>\n"
      ],
      "text/plain": [
       "============================================================================================\n"
      ]
     },
     "metadata": {},
     "output_type": "display_data"
    },
    {
     "data": {
      "text/html": [
       "<pre style=\"white-space:pre;overflow-x:auto;line-height:normal;font-family:Menlo,'DejaVu Sans Mono',consolas,'Courier New',monospace\"><span style=\"color: #808000; text-decoration-color: #808000\">predicate</span>=<span style=\"color: #008000; text-decoration-color: #008000\">'has_metastatic_cancer_histology'</span> <span style=\"color: #808000; text-decoration-color: #808000\">begin</span>=<span style=\"color: #008080; text-decoration-color: #008080; font-weight: bold\">116</span> <span style=\"color: #808000; text-decoration-color: #808000\">end</span>=<span style=\"color: #008080; text-decoration-color: #008080; font-weight: bold\">125</span> <span style=\"color: #808000; text-decoration-color: #808000\">type</span>=<span style=\"color: #008000; text-decoration-color: #008000\">'value'</span> <span style=\"color: #808000; text-decoration-color: #808000\">value</span>=<span style=\"color: #008000; text-decoration-color: #008000\">'neoplasm, </span>\n",
       "<span style=\"color: #008000; text-decoration-color: #008000\">metastatic (8000/6)'</span> <span style=\"color: #808000; text-decoration-color: #808000\">assertion</span>=<span style=\"color: #008000; text-decoration-color: #008000\">'present'</span>\n",
       "</pre>\n"
      ],
      "text/plain": [
       "\u001b[33mpredicate\u001b[0m=\u001b[32m'has_metastatic_cancer_histology'\u001b[0m \u001b[33mbegin\u001b[0m=\u001b[1;36m116\u001b[0m \u001b[33mend\u001b[0m=\u001b[1;36m125\u001b[0m \u001b[33mtype\u001b[0m=\u001b[32m'value'\u001b[0m \u001b[33mvalue\u001b[0m=\u001b[32m'neoplasm, \u001b[0m\n",
       "\u001b[32mmetastatic \u001b[0m\u001b[32m(\u001b[0m\u001b[32m8000/6\u001b[0m\u001b[32m)\u001b[0m\u001b[32m'\u001b[0m \u001b[33massertion\u001b[0m=\u001b[32m'present'\u001b[0m\n"
      ]
     },
     "metadata": {},
     "output_type": "display_data"
    },
    {
     "data": {
      "text/html": [
       "<pre style=\"white-space:pre;overflow-x:auto;line-height:normal;font-family:Menlo,'DejaVu Sans Mono',consolas,'Courier New',monospace\">============================================================================================\n",
       "</pre>\n"
      ],
      "text/plain": [
       "============================================================================================\n"
      ]
     },
     "metadata": {},
     "output_type": "display_data"
    },
    {
     "data": {
      "text/html": [
       "<pre style=\"white-space:pre;overflow-x:auto;line-height:normal;font-family:Menlo,'DejaVu Sans Mono',consolas,'Courier New',monospace\"><span style=\"color: #808000; text-decoration-color: #808000\">predicate</span>=<span style=\"color: #008000; text-decoration-color: #008000\">'has_metastatic_cancer_histology'</span> <span style=\"color: #808000; text-decoration-color: #808000\">begin</span>=<span style=\"color: #008080; text-decoration-color: #008080; font-weight: bold\">1391</span> <span style=\"color: #808000; text-decoration-color: #808000\">end</span>=<span style=\"color: #008080; text-decoration-color: #008080; font-weight: bold\">1400</span> <span style=\"color: #808000; text-decoration-color: #808000\">type</span>=<span style=\"color: #008000; text-decoration-color: #008000\">'value'</span> <span style=\"color: #808000; text-decoration-color: #808000\">value</span>=<span style=\"color: #008000; text-decoration-color: #008000\">'neoplasm,</span>\n",
       "<span style=\"color: #008000; text-decoration-color: #008000\">metastatic (8000/6)'</span> <span style=\"color: #808000; text-decoration-color: #808000\">assertion</span>=<span style=\"color: #008000; text-decoration-color: #008000\">'present'</span>\n",
       "</pre>\n"
      ],
      "text/plain": [
       "\u001b[33mpredicate\u001b[0m=\u001b[32m'has_metastatic_cancer_histology'\u001b[0m \u001b[33mbegin\u001b[0m=\u001b[1;36m1391\u001b[0m \u001b[33mend\u001b[0m=\u001b[1;36m1400\u001b[0m \u001b[33mtype\u001b[0m=\u001b[32m'value'\u001b[0m \u001b[33mvalue\u001b[0m=\u001b[32m'neoplasm,\u001b[0m\n",
       "\u001b[32mmetastatic \u001b[0m\u001b[32m(\u001b[0m\u001b[32m8000/6\u001b[0m\u001b[32m)\u001b[0m\u001b[32m'\u001b[0m \u001b[33massertion\u001b[0m=\u001b[32m'present'\u001b[0m\n"
      ]
     },
     "metadata": {},
     "output_type": "display_data"
    },
    {
     "data": {
      "text/html": [
       "<pre style=\"white-space:pre;overflow-x:auto;line-height:normal;font-family:Menlo,'DejaVu Sans Mono',consolas,'Courier New',monospace\">============================================================================================\n",
       "</pre>\n"
      ],
      "text/plain": [
       "============================================================================================\n"
      ]
     },
     "metadata": {},
     "output_type": "display_data"
    },
    {
     "data": {
      "text/html": [
       "<pre style=\"white-space:pre;overflow-x:auto;line-height:normal;font-family:Menlo,'DejaVu Sans Mono',consolas,'Courier New',monospace\"><span style=\"color: #808000; text-decoration-color: #808000\">predicate</span>=<span style=\"color: #008000; text-decoration-color: #008000\">'has_tumor_size'</span> <span style=\"color: #808000; text-decoration-color: #808000\">begin</span>=<span style=\"color: #008080; text-decoration-color: #008080; font-weight: bold\">2004</span> <span style=\"color: #808000; text-decoration-color: #808000\">end</span>=<span style=\"color: #008080; text-decoration-color: #008080; font-weight: bold\">2013</span> <span style=\"color: #808000; text-decoration-color: #808000\">type</span>=<span style=\"color: #008000; text-decoration-color: #008000\">'name'</span> <span style=\"color: #808000; text-decoration-color: #808000\">value</span>=<span style=\"color: #008000; text-decoration-color: #008000\">'tumor size'</span> \n",
       "<span style=\"color: #808000; text-decoration-color: #808000\">assertion</span>=<span style=\"color: #008000; text-decoration-color: #008000\">'present'</span>\n",
       "</pre>\n"
      ],
      "text/plain": [
       "\u001b[33mpredicate\u001b[0m=\u001b[32m'has_tumor_size'\u001b[0m \u001b[33mbegin\u001b[0m=\u001b[1;36m2004\u001b[0m \u001b[33mend\u001b[0m=\u001b[1;36m2013\u001b[0m \u001b[33mtype\u001b[0m=\u001b[32m'name'\u001b[0m \u001b[33mvalue\u001b[0m=\u001b[32m'tumor size'\u001b[0m \n",
       "\u001b[33massertion\u001b[0m=\u001b[32m'present'\u001b[0m\n"
      ]
     },
     "metadata": {},
     "output_type": "display_data"
    },
    {
     "data": {
      "text/html": [
       "<pre style=\"white-space:pre;overflow-x:auto;line-height:normal;font-family:Menlo,'DejaVu Sans Mono',consolas,'Courier New',monospace\">============================================================================================\n",
       "</pre>\n"
      ],
      "text/plain": [
       "============================================================================================\n"
      ]
     },
     "metadata": {},
     "output_type": "display_data"
    },
    {
     "data": {
      "text/html": [
       "<pre style=\"white-space:pre;overflow-x:auto;line-height:normal;font-family:Menlo,'DejaVu Sans Mono',consolas,'Courier New',monospace\"><span style=\"color: #808000; text-decoration-color: #808000\">predicate</span>=<span style=\"color: #008000; text-decoration-color: #008000\">'has_tumor_size'</span> <span style=\"color: #808000; text-decoration-color: #808000\">begin</span>=<span style=\"color: #008080; text-decoration-color: #008080; font-weight: bold\">2016</span> <span style=\"color: #808000; text-decoration-color: #808000\">end</span>=<span style=\"color: #008080; text-decoration-color: #008080; font-weight: bold\">2018</span> <span style=\"color: #808000; text-decoration-color: #808000\">type</span>=<span style=\"color: #008000; text-decoration-color: #008000\">'value'</span> <span style=\"color: #808000; text-decoration-color: #808000\">value</span>=<span style=\"color: #008000; text-decoration-color: #008000\">'2.5'</span> <span style=\"color: #808000; text-decoration-color: #808000\">assertion</span>=<span style=\"color: #008000; text-decoration-color: #008000\">'present'</span>\n",
       "</pre>\n"
      ],
      "text/plain": [
       "\u001b[33mpredicate\u001b[0m=\u001b[32m'has_tumor_size'\u001b[0m \u001b[33mbegin\u001b[0m=\u001b[1;36m2016\u001b[0m \u001b[33mend\u001b[0m=\u001b[1;36m2018\u001b[0m \u001b[33mtype\u001b[0m=\u001b[32m'value'\u001b[0m \u001b[33mvalue\u001b[0m=\u001b[32m'2.5'\u001b[0m \u001b[33massertion\u001b[0m=\u001b[32m'present'\u001b[0m\n"
      ]
     },
     "metadata": {},
     "output_type": "display_data"
    },
    {
     "data": {
      "text/html": [
       "<pre style=\"white-space:pre;overflow-x:auto;line-height:normal;font-family:Menlo,'DejaVu Sans Mono',consolas,'Courier New',monospace\">============================================================================================\n",
       "</pre>\n"
      ],
      "text/plain": [
       "============================================================================================\n"
      ]
     },
     "metadata": {},
     "output_type": "display_data"
    },
    {
     "data": {
      "text/html": [
       "<pre style=\"white-space:pre;overflow-x:auto;line-height:normal;font-family:Menlo,'DejaVu Sans Mono',consolas,'Courier New',monospace\"><span style=\"color: #808000; text-decoration-color: #808000\">predicate</span>=<span style=\"color: #008000; text-decoration-color: #008000\">'pathological_tumor_staging_category'</span> <span style=\"color: #808000; text-decoration-color: #808000\">begin</span>=<span style=\"color: #008080; text-decoration-color: #008080; font-weight: bold\">1888</span> <span style=\"color: #808000; text-decoration-color: #808000\">end</span>=<span style=\"color: #008080; text-decoration-color: #008080; font-weight: bold\">1894</span> <span style=\"color: #808000; text-decoration-color: #808000\">type</span>=<span style=\"color: #008000; text-decoration-color: #008000\">'name'</span> <span style=\"color: #808000; text-decoration-color: #808000\">value</span>=<span style=\"color: #008000; text-decoration-color: #008000\">'pT'</span> \n",
       "<span style=\"color: #808000; text-decoration-color: #808000\">assertion</span>=<span style=\"color: #008000; text-decoration-color: #008000\">'present'</span>\n",
       "</pre>\n"
      ],
      "text/plain": [
       "\u001b[33mpredicate\u001b[0m=\u001b[32m'pathological_tumor_staging_category'\u001b[0m \u001b[33mbegin\u001b[0m=\u001b[1;36m1888\u001b[0m \u001b[33mend\u001b[0m=\u001b[1;36m1894\u001b[0m \u001b[33mtype\u001b[0m=\u001b[32m'name'\u001b[0m \u001b[33mvalue\u001b[0m=\u001b[32m'pT'\u001b[0m \n",
       "\u001b[33massertion\u001b[0m=\u001b[32m'present'\u001b[0m\n"
      ]
     },
     "metadata": {},
     "output_type": "display_data"
    },
    {
     "data": {
      "text/html": [
       "<pre style=\"white-space:pre;overflow-x:auto;line-height:normal;font-family:Menlo,'DejaVu Sans Mono',consolas,'Courier New',monospace\">============================================================================================\n",
       "</pre>\n"
      ],
      "text/plain": [
       "============================================================================================\n"
      ]
     },
     "metadata": {},
     "output_type": "display_data"
    },
    {
     "data": {
      "text/html": [
       "<pre style=\"white-space:pre;overflow-x:auto;line-height:normal;font-family:Menlo,'DejaVu Sans Mono',consolas,'Courier New',monospace\"><span style=\"color: #808000; text-decoration-color: #808000\">predicate</span>=<span style=\"color: #008000; text-decoration-color: #008000\">'pathological_tumor_staging_category'</span> <span style=\"color: #808000; text-decoration-color: #808000\">begin</span>=<span style=\"color: #008080; text-decoration-color: #008080; font-weight: bold\">3029</span> <span style=\"color: #808000; text-decoration-color: #808000\">end</span>=<span style=\"color: #008080; text-decoration-color: #008080; font-weight: bold\">3035</span> <span style=\"color: #808000; text-decoration-color: #808000\">type</span>=<span style=\"color: #008000; text-decoration-color: #008000\">'name'</span> <span style=\"color: #808000; text-decoration-color: #808000\">value</span>=<span style=\"color: #008000; text-decoration-color: #008000\">'pT'</span> \n",
       "<span style=\"color: #808000; text-decoration-color: #808000\">assertion</span>=<span style=\"color: #008000; text-decoration-color: #008000\">'present'</span>\n",
       "</pre>\n"
      ],
      "text/plain": [
       "\u001b[33mpredicate\u001b[0m=\u001b[32m'pathological_tumor_staging_category'\u001b[0m \u001b[33mbegin\u001b[0m=\u001b[1;36m3029\u001b[0m \u001b[33mend\u001b[0m=\u001b[1;36m3035\u001b[0m \u001b[33mtype\u001b[0m=\u001b[32m'name'\u001b[0m \u001b[33mvalue\u001b[0m=\u001b[32m'pT'\u001b[0m \n",
       "\u001b[33massertion\u001b[0m=\u001b[32m'present'\u001b[0m\n"
      ]
     },
     "metadata": {},
     "output_type": "display_data"
    },
    {
     "data": {
      "text/html": [
       "<pre style=\"white-space:pre;overflow-x:auto;line-height:normal;font-family:Menlo,'DejaVu Sans Mono',consolas,'Courier New',monospace\">============================================================================================\n",
       "</pre>\n"
      ],
      "text/plain": [
       "============================================================================================\n"
      ]
     },
     "metadata": {},
     "output_type": "display_data"
    },
    {
     "data": {
      "text/html": [
       "<pre style=\"white-space:pre;overflow-x:auto;line-height:normal;font-family:Menlo,'DejaVu Sans Mono',consolas,'Courier New',monospace\"><span style=\"color: #808000; text-decoration-color: #808000\">predicate</span>=<span style=\"color: #008000; text-decoration-color: #008000\">'pathological_tumor_staging_category'</span> <span style=\"color: #808000; text-decoration-color: #808000\">begin</span>=<span style=\"color: #008080; text-decoration-color: #008080; font-weight: bold\">3038</span> <span style=\"color: #808000; text-decoration-color: #808000\">end</span>=<span style=\"color: #008080; text-decoration-color: #008080; font-weight: bold\">3041</span> <span style=\"color: #808000; text-decoration-color: #808000\">type</span>=<span style=\"color: #008000; text-decoration-color: #008000\">'value'</span> <span style=\"color: #808000; text-decoration-color: #808000\">value</span>=<span style=\"color: #008000; text-decoration-color: #008000\">'ypT2'</span>\n",
       "<span style=\"color: #808000; text-decoration-color: #808000\">assertion</span>=<span style=\"color: #008000; text-decoration-color: #008000\">'present'</span>\n",
       "</pre>\n"
      ],
      "text/plain": [
       "\u001b[33mpredicate\u001b[0m=\u001b[32m'pathological_tumor_staging_category'\u001b[0m \u001b[33mbegin\u001b[0m=\u001b[1;36m3038\u001b[0m \u001b[33mend\u001b[0m=\u001b[1;36m3041\u001b[0m \u001b[33mtype\u001b[0m=\u001b[32m'value'\u001b[0m \u001b[33mvalue\u001b[0m=\u001b[32m'ypT2'\u001b[0m\n",
       "\u001b[33massertion\u001b[0m=\u001b[32m'present'\u001b[0m\n"
      ]
     },
     "metadata": {},
     "output_type": "display_data"
    },
    {
     "data": {
      "text/html": [
       "<pre style=\"white-space:pre;overflow-x:auto;line-height:normal;font-family:Menlo,'DejaVu Sans Mono',consolas,'Courier New',monospace\">============================================================================================\n",
       "</pre>\n"
      ],
      "text/plain": [
       "============================================================================================\n"
      ]
     },
     "metadata": {},
     "output_type": "display_data"
    },
    {
     "data": {
      "text/html": [
       "<pre style=\"white-space:pre;overflow-x:auto;line-height:normal;font-family:Menlo,'DejaVu Sans Mono',consolas,'Courier New',monospace\"><span style=\"color: #808000; text-decoration-color: #808000\">predicate</span>=<span style=\"color: #008000; text-decoration-color: #008000\">'pathological_tumor_staging_category'</span> <span style=\"color: #808000; text-decoration-color: #808000\">begin</span>=<span style=\"color: #008080; text-decoration-color: #008080; font-weight: bold\">3333</span> <span style=\"color: #808000; text-decoration-color: #808000\">end</span>=<span style=\"color: #008080; text-decoration-color: #008080; font-weight: bold\">3339</span> <span style=\"color: #808000; text-decoration-color: #808000\">type</span>=<span style=\"color: #008000; text-decoration-color: #008000\">'name'</span> <span style=\"color: #808000; text-decoration-color: #808000\">value</span>=<span style=\"color: #008000; text-decoration-color: #008000\">'pT'</span> \n",
       "<span style=\"color: #808000; text-decoration-color: #808000\">assertion</span>=<span style=\"color: #008000; text-decoration-color: #008000\">'present'</span>\n",
       "</pre>\n"
      ],
      "text/plain": [
       "\u001b[33mpredicate\u001b[0m=\u001b[32m'pathological_tumor_staging_category'\u001b[0m \u001b[33mbegin\u001b[0m=\u001b[1;36m3333\u001b[0m \u001b[33mend\u001b[0m=\u001b[1;36m3339\u001b[0m \u001b[33mtype\u001b[0m=\u001b[32m'name'\u001b[0m \u001b[33mvalue\u001b[0m=\u001b[32m'pT'\u001b[0m \n",
       "\u001b[33massertion\u001b[0m=\u001b[32m'present'\u001b[0m\n"
      ]
     },
     "metadata": {},
     "output_type": "display_data"
    },
    {
     "data": {
      "text/html": [
       "<pre style=\"white-space:pre;overflow-x:auto;line-height:normal;font-family:Menlo,'DejaVu Sans Mono',consolas,'Courier New',monospace\">============================================================================================\n",
       "</pre>\n"
      ],
      "text/plain": [
       "============================================================================================\n"
      ]
     },
     "metadata": {},
     "output_type": "display_data"
    },
    {
     "data": {
      "text/html": [
       "<pre style=\"white-space:pre;overflow-x:auto;line-height:normal;font-family:Menlo,'DejaVu Sans Mono',consolas,'Courier New',monospace\"><span style=\"color: #808000; text-decoration-color: #808000\">predicate</span>=<span style=\"color: #008000; text-decoration-color: #008000\">'pathological_nodes_staging_category'</span> <span style=\"color: #808000; text-decoration-color: #808000\">begin</span>=<span style=\"color: #008080; text-decoration-color: #008080; font-weight: bold\">1888</span> <span style=\"color: #808000; text-decoration-color: #808000\">end</span>=<span style=\"color: #008080; text-decoration-color: #008080; font-weight: bold\">1894</span> <span style=\"color: #808000; text-decoration-color: #808000\">type</span>=<span style=\"color: #008000; text-decoration-color: #008000\">'name'</span> <span style=\"color: #808000; text-decoration-color: #808000\">value</span>=<span style=\"color: #008000; text-decoration-color: #008000\">'pN'</span> \n",
       "<span style=\"color: #808000; text-decoration-color: #808000\">assertion</span>=<span style=\"color: #008000; text-decoration-color: #008000\">'present'</span>\n",
       "</pre>\n"
      ],
      "text/plain": [
       "\u001b[33mpredicate\u001b[0m=\u001b[32m'pathological_nodes_staging_category'\u001b[0m \u001b[33mbegin\u001b[0m=\u001b[1;36m1888\u001b[0m \u001b[33mend\u001b[0m=\u001b[1;36m1894\u001b[0m \u001b[33mtype\u001b[0m=\u001b[32m'name'\u001b[0m \u001b[33mvalue\u001b[0m=\u001b[32m'pN'\u001b[0m \n",
       "\u001b[33massertion\u001b[0m=\u001b[32m'present'\u001b[0m\n"
      ]
     },
     "metadata": {},
     "output_type": "display_data"
    },
    {
     "data": {
      "text/html": [
       "<pre style=\"white-space:pre;overflow-x:auto;line-height:normal;font-family:Menlo,'DejaVu Sans Mono',consolas,'Courier New',monospace\">============================================================================================\n",
       "</pre>\n"
      ],
      "text/plain": [
       "============================================================================================\n"
      ]
     },
     "metadata": {},
     "output_type": "display_data"
    },
    {
     "data": {
      "text/html": [
       "<pre style=\"white-space:pre;overflow-x:auto;line-height:normal;font-family:Menlo,'DejaVu Sans Mono',consolas,'Courier New',monospace\"><span style=\"color: #808000; text-decoration-color: #808000\">predicate</span>=<span style=\"color: #008000; text-decoration-color: #008000\">'pathological_nodes_staging_category'</span> <span style=\"color: #808000; text-decoration-color: #808000\">begin</span>=<span style=\"color: #008080; text-decoration-color: #008080; font-weight: bold\">3029</span> <span style=\"color: #808000; text-decoration-color: #808000\">end</span>=<span style=\"color: #008080; text-decoration-color: #008080; font-weight: bold\">3035</span> <span style=\"color: #808000; text-decoration-color: #808000\">type</span>=<span style=\"color: #008000; text-decoration-color: #008000\">'name'</span> <span style=\"color: #808000; text-decoration-color: #808000\">value</span>=<span style=\"color: #008000; text-decoration-color: #008000\">'pN'</span> \n",
       "<span style=\"color: #808000; text-decoration-color: #808000\">assertion</span>=<span style=\"color: #008000; text-decoration-color: #008000\">'present'</span>\n",
       "</pre>\n"
      ],
      "text/plain": [
       "\u001b[33mpredicate\u001b[0m=\u001b[32m'pathological_nodes_staging_category'\u001b[0m \u001b[33mbegin\u001b[0m=\u001b[1;36m3029\u001b[0m \u001b[33mend\u001b[0m=\u001b[1;36m3035\u001b[0m \u001b[33mtype\u001b[0m=\u001b[32m'name'\u001b[0m \u001b[33mvalue\u001b[0m=\u001b[32m'pN'\u001b[0m \n",
       "\u001b[33massertion\u001b[0m=\u001b[32m'present'\u001b[0m\n"
      ]
     },
     "metadata": {},
     "output_type": "display_data"
    },
    {
     "data": {
      "text/html": [
       "<pre style=\"white-space:pre;overflow-x:auto;line-height:normal;font-family:Menlo,'DejaVu Sans Mono',consolas,'Courier New',monospace\">============================================================================================\n",
       "</pre>\n"
      ],
      "text/plain": [
       "============================================================================================\n"
      ]
     },
     "metadata": {},
     "output_type": "display_data"
    },
    {
     "data": {
      "text/html": [
       "<pre style=\"white-space:pre;overflow-x:auto;line-height:normal;font-family:Menlo,'DejaVu Sans Mono',consolas,'Courier New',monospace\"><span style=\"color: #808000; text-decoration-color: #808000\">predicate</span>=<span style=\"color: #008000; text-decoration-color: #008000\">'pathological_nodes_staging_category'</span> <span style=\"color: #808000; text-decoration-color: #808000\">begin</span>=<span style=\"color: #008080; text-decoration-color: #008080; font-weight: bold\">3044</span> <span style=\"color: #808000; text-decoration-color: #808000\">end</span>=<span style=\"color: #008080; text-decoration-color: #008080; font-weight: bold\">3046</span> <span style=\"color: #808000; text-decoration-color: #808000\">type</span>=<span style=\"color: #008000; text-decoration-color: #008000\">'value'</span> <span style=\"color: #808000; text-decoration-color: #808000\">value</span>=<span style=\"color: #008000; text-decoration-color: #008000\">'pN1a'</span>\n",
       "<span style=\"color: #808000; text-decoration-color: #808000\">assertion</span>=<span style=\"color: #008000; text-decoration-color: #008000\">'present'</span>\n",
       "</pre>\n"
      ],
      "text/plain": [
       "\u001b[33mpredicate\u001b[0m=\u001b[32m'pathological_nodes_staging_category'\u001b[0m \u001b[33mbegin\u001b[0m=\u001b[1;36m3044\u001b[0m \u001b[33mend\u001b[0m=\u001b[1;36m3046\u001b[0m \u001b[33mtype\u001b[0m=\u001b[32m'value'\u001b[0m \u001b[33mvalue\u001b[0m=\u001b[32m'pN1a'\u001b[0m\n",
       "\u001b[33massertion\u001b[0m=\u001b[32m'present'\u001b[0m\n"
      ]
     },
     "metadata": {},
     "output_type": "display_data"
    },
    {
     "data": {
      "text/html": [
       "<pre style=\"white-space:pre;overflow-x:auto;line-height:normal;font-family:Menlo,'DejaVu Sans Mono',consolas,'Courier New',monospace\">============================================================================================\n",
       "</pre>\n"
      ],
      "text/plain": [
       "============================================================================================\n"
      ]
     },
     "metadata": {},
     "output_type": "display_data"
    },
    {
     "data": {
      "text/html": [
       "<pre style=\"white-space:pre;overflow-x:auto;line-height:normal;font-family:Menlo,'DejaVu Sans Mono',consolas,'Courier New',monospace\"><span style=\"color: #808000; text-decoration-color: #808000\">predicate</span>=<span style=\"color: #008000; text-decoration-color: #008000\">'pathological_nodes_staging_category'</span> <span style=\"color: #808000; text-decoration-color: #808000\">begin</span>=<span style=\"color: #008080; text-decoration-color: #008080; font-weight: bold\">3333</span> <span style=\"color: #808000; text-decoration-color: #808000\">end</span>=<span style=\"color: #008080; text-decoration-color: #008080; font-weight: bold\">3339</span> <span style=\"color: #808000; text-decoration-color: #808000\">type</span>=<span style=\"color: #008000; text-decoration-color: #008000\">'name'</span> <span style=\"color: #808000; text-decoration-color: #808000\">value</span>=<span style=\"color: #008000; text-decoration-color: #008000\">'pN'</span> \n",
       "<span style=\"color: #808000; text-decoration-color: #808000\">assertion</span>=<span style=\"color: #008000; text-decoration-color: #008000\">'present'</span>\n",
       "</pre>\n"
      ],
      "text/plain": [
       "\u001b[33mpredicate\u001b[0m=\u001b[32m'pathological_nodes_staging_category'\u001b[0m \u001b[33mbegin\u001b[0m=\u001b[1;36m3333\u001b[0m \u001b[33mend\u001b[0m=\u001b[1;36m3339\u001b[0m \u001b[33mtype\u001b[0m=\u001b[32m'name'\u001b[0m \u001b[33mvalue\u001b[0m=\u001b[32m'pN'\u001b[0m \n",
       "\u001b[33massertion\u001b[0m=\u001b[32m'present'\u001b[0m\n"
      ]
     },
     "metadata": {},
     "output_type": "display_data"
    },
    {
     "data": {
      "text/html": [
       "<pre style=\"white-space:pre;overflow-x:auto;line-height:normal;font-family:Menlo,'DejaVu Sans Mono',consolas,'Courier New',monospace\">============================================================================================\n",
       "</pre>\n"
      ],
      "text/plain": [
       "============================================================================================\n"
      ]
     },
     "metadata": {},
     "output_type": "display_data"
    },
    {
     "data": {
      "text/html": [
       "<pre style=\"white-space:pre;overflow-x:auto;line-height:normal;font-family:Menlo,'DejaVu Sans Mono',consolas,'Courier New',monospace\"><span style=\"color: #808000; text-decoration-color: #808000\">predicate</span>=<span style=\"color: #008000; text-decoration-color: #008000\">'pathological_metastasis_staging_category'</span> <span style=\"color: #808000; text-decoration-color: #808000\">begin</span>=<span style=\"color: #008080; text-decoration-color: #008080; font-weight: bold\">1888</span> <span style=\"color: #808000; text-decoration-color: #808000\">end</span>=<span style=\"color: #008080; text-decoration-color: #008080; font-weight: bold\">1894</span> <span style=\"color: #808000; text-decoration-color: #808000\">type</span>=<span style=\"color: #008000; text-decoration-color: #008000\">'name'</span> \n",
       "<span style=\"color: #808000; text-decoration-color: #808000\">value</span>=<span style=\"color: #008000; text-decoration-color: #008000\">'pM'</span> <span style=\"color: #808000; text-decoration-color: #808000\">assertion</span>=<span style=\"color: #008000; text-decoration-color: #008000\">'present'</span>\n",
       "</pre>\n"
      ],
      "text/plain": [
       "\u001b[33mpredicate\u001b[0m=\u001b[32m'pathological_metastasis_staging_category'\u001b[0m \u001b[33mbegin\u001b[0m=\u001b[1;36m1888\u001b[0m \u001b[33mend\u001b[0m=\u001b[1;36m1894\u001b[0m \u001b[33mtype\u001b[0m=\u001b[32m'name'\u001b[0m \n",
       "\u001b[33mvalue\u001b[0m=\u001b[32m'pM'\u001b[0m \u001b[33massertion\u001b[0m=\u001b[32m'present'\u001b[0m\n"
      ]
     },
     "metadata": {},
     "output_type": "display_data"
    },
    {
     "data": {
      "text/html": [
       "<pre style=\"white-space:pre;overflow-x:auto;line-height:normal;font-family:Menlo,'DejaVu Sans Mono',consolas,'Courier New',monospace\">============================================================================================\n",
       "</pre>\n"
      ],
      "text/plain": [
       "============================================================================================\n"
      ]
     },
     "metadata": {},
     "output_type": "display_data"
    },
    {
     "data": {
      "text/html": [
       "<pre style=\"white-space:pre;overflow-x:auto;line-height:normal;font-family:Menlo,'DejaVu Sans Mono',consolas,'Courier New',monospace\"><span style=\"color: #808000; text-decoration-color: #808000\">predicate</span>=<span style=\"color: #008000; text-decoration-color: #008000\">'pathological_metastasis_staging_category'</span> <span style=\"color: #808000; text-decoration-color: #808000\">begin</span>=<span style=\"color: #008080; text-decoration-color: #008080; font-weight: bold\">3029</span> <span style=\"color: #808000; text-decoration-color: #808000\">end</span>=<span style=\"color: #008080; text-decoration-color: #008080; font-weight: bold\">3035</span> <span style=\"color: #808000; text-decoration-color: #808000\">type</span>=<span style=\"color: #008000; text-decoration-color: #008000\">'name'</span> \n",
       "<span style=\"color: #808000; text-decoration-color: #808000\">value</span>=<span style=\"color: #008000; text-decoration-color: #008000\">'pM'</span> <span style=\"color: #808000; text-decoration-color: #808000\">assertion</span>=<span style=\"color: #008000; text-decoration-color: #008000\">'present'</span>\n",
       "</pre>\n"
      ],
      "text/plain": [
       "\u001b[33mpredicate\u001b[0m=\u001b[32m'pathological_metastasis_staging_category'\u001b[0m \u001b[33mbegin\u001b[0m=\u001b[1;36m3029\u001b[0m \u001b[33mend\u001b[0m=\u001b[1;36m3035\u001b[0m \u001b[33mtype\u001b[0m=\u001b[32m'name'\u001b[0m \n",
       "\u001b[33mvalue\u001b[0m=\u001b[32m'pM'\u001b[0m \u001b[33massertion\u001b[0m=\u001b[32m'present'\u001b[0m\n"
      ]
     },
     "metadata": {},
     "output_type": "display_data"
    },
    {
     "data": {
      "text/html": [
       "<pre style=\"white-space:pre;overflow-x:auto;line-height:normal;font-family:Menlo,'DejaVu Sans Mono',consolas,'Courier New',monospace\">============================================================================================\n",
       "</pre>\n"
      ],
      "text/plain": [
       "============================================================================================\n"
      ]
     },
     "metadata": {},
     "output_type": "display_data"
    },
    {
     "data": {
      "text/html": [
       "<pre style=\"white-space:pre;overflow-x:auto;line-height:normal;font-family:Menlo,'DejaVu Sans Mono',consolas,'Courier New',monospace\"><span style=\"color: #808000; text-decoration-color: #808000\">predicate</span>=<span style=\"color: #008000; text-decoration-color: #008000\">'pathological_metastasis_staging_category'</span> <span style=\"color: #808000; text-decoration-color: #808000\">begin</span>=<span style=\"color: #008080; text-decoration-color: #008080; font-weight: bold\">3333</span> <span style=\"color: #808000; text-decoration-color: #808000\">end</span>=<span style=\"color: #008080; text-decoration-color: #008080; font-weight: bold\">3339</span> <span style=\"color: #808000; text-decoration-color: #808000\">type</span>=<span style=\"color: #008000; text-decoration-color: #008000\">'name'</span> \n",
       "<span style=\"color: #808000; text-decoration-color: #808000\">value</span>=<span style=\"color: #008000; text-decoration-color: #008000\">'pM'</span> <span style=\"color: #808000; text-decoration-color: #808000\">assertion</span>=<span style=\"color: #008000; text-decoration-color: #008000\">'present'</span>\n",
       "</pre>\n"
      ],
      "text/plain": [
       "\u001b[33mpredicate\u001b[0m=\u001b[32m'pathological_metastasis_staging_category'\u001b[0m \u001b[33mbegin\u001b[0m=\u001b[1;36m3333\u001b[0m \u001b[33mend\u001b[0m=\u001b[1;36m3339\u001b[0m \u001b[33mtype\u001b[0m=\u001b[32m'name'\u001b[0m \n",
       "\u001b[33mvalue\u001b[0m=\u001b[32m'pM'\u001b[0m \u001b[33massertion\u001b[0m=\u001b[32m'present'\u001b[0m\n"
      ]
     },
     "metadata": {},
     "output_type": "display_data"
    },
    {
     "data": {
      "text/html": [
       "<pre style=\"white-space:pre;overflow-x:auto;line-height:normal;font-family:Menlo,'DejaVu Sans Mono',consolas,'Courier New',monospace\">============================================================================================\n",
       "</pre>\n"
      ],
      "text/plain": [
       "============================================================================================\n"
      ]
     },
     "metadata": {},
     "output_type": "display_data"
    },
    {
     "data": {
      "text/html": [
       "<pre style=\"white-space:pre;overflow-x:auto;line-height:normal;font-family:Menlo,'DejaVu Sans Mono',consolas,'Courier New',monospace\"><span style=\"color: #808000; text-decoration-color: #808000\">predicate</span>=<span style=\"color: #008000; text-decoration-color: #008000\">'has_estrogen_receptor_status'</span> <span style=\"color: #808000; text-decoration-color: #808000\">begin</span>=<span style=\"color: #008080; text-decoration-color: #008080; font-weight: bold\">2920</span> <span style=\"color: #808000; text-decoration-color: #808000\">end</span>=<span style=\"color: #008080; text-decoration-color: #008080; font-weight: bold\">2921</span> <span style=\"color: #808000; text-decoration-color: #808000\">type</span>=<span style=\"color: #008000; text-decoration-color: #008000\">'name'</span> <span style=\"color: #808000; text-decoration-color: #808000\">value</span>=<span style=\"color: #008000; text-decoration-color: #008000\">'er status'</span> \n",
       "<span style=\"color: #808000; text-decoration-color: #808000\">assertion</span>=<span style=\"color: #008000; text-decoration-color: #008000\">'present'</span>\n",
       "</pre>\n"
      ],
      "text/plain": [
       "\u001b[33mpredicate\u001b[0m=\u001b[32m'has_estrogen_receptor_status'\u001b[0m \u001b[33mbegin\u001b[0m=\u001b[1;36m2920\u001b[0m \u001b[33mend\u001b[0m=\u001b[1;36m2921\u001b[0m \u001b[33mtype\u001b[0m=\u001b[32m'name'\u001b[0m \u001b[33mvalue\u001b[0m=\u001b[32m'er status'\u001b[0m \n",
       "\u001b[33massertion\u001b[0m=\u001b[32m'present'\u001b[0m\n"
      ]
     },
     "metadata": {},
     "output_type": "display_data"
    },
    {
     "data": {
      "text/html": [
       "<pre style=\"white-space:pre;overflow-x:auto;line-height:normal;font-family:Menlo,'DejaVu Sans Mono',consolas,'Courier New',monospace\">============================================================================================\n",
       "</pre>\n"
      ],
      "text/plain": [
       "============================================================================================\n"
      ]
     },
     "metadata": {},
     "output_type": "display_data"
    },
    {
     "data": {
      "text/html": [
       "<pre style=\"white-space:pre;overflow-x:auto;line-height:normal;font-family:Menlo,'DejaVu Sans Mono',consolas,'Courier New',monospace\"><span style=\"color: #808000; text-decoration-color: #808000\">predicate</span>=<span style=\"color: #008000; text-decoration-color: #008000\">'has_estrogen_receptor_status'</span> <span style=\"color: #808000; text-decoration-color: #808000\">begin</span>=<span style=\"color: #008080; text-decoration-color: #008080; font-weight: bold\">3655</span> <span style=\"color: #808000; text-decoration-color: #808000\">end</span>=<span style=\"color: #008080; text-decoration-color: #008080; font-weight: bold\">3671</span> <span style=\"color: #808000; text-decoration-color: #808000\">type</span>=<span style=\"color: #008000; text-decoration-color: #008000\">'name'</span> <span style=\"color: #808000; text-decoration-color: #808000\">value</span>=<span style=\"color: #008000; text-decoration-color: #008000\">'er status'</span> \n",
       "<span style=\"color: #808000; text-decoration-color: #808000\">assertion</span>=<span style=\"color: #008000; text-decoration-color: #008000\">'present'</span>\n",
       "</pre>\n"
      ],
      "text/plain": [
       "\u001b[33mpredicate\u001b[0m=\u001b[32m'has_estrogen_receptor_status'\u001b[0m \u001b[33mbegin\u001b[0m=\u001b[1;36m3655\u001b[0m \u001b[33mend\u001b[0m=\u001b[1;36m3671\u001b[0m \u001b[33mtype\u001b[0m=\u001b[32m'name'\u001b[0m \u001b[33mvalue\u001b[0m=\u001b[32m'er status'\u001b[0m \n",
       "\u001b[33massertion\u001b[0m=\u001b[32m'present'\u001b[0m\n"
      ]
     },
     "metadata": {},
     "output_type": "display_data"
    },
    {
     "data": {
      "text/html": [
       "<pre style=\"white-space:pre;overflow-x:auto;line-height:normal;font-family:Menlo,'DejaVu Sans Mono',consolas,'Courier New',monospace\">============================================================================================\n",
       "</pre>\n"
      ],
      "text/plain": [
       "============================================================================================\n"
      ]
     },
     "metadata": {},
     "output_type": "display_data"
    },
    {
     "data": {
      "text/html": [
       "<pre style=\"white-space:pre;overflow-x:auto;line-height:normal;font-family:Menlo,'DejaVu Sans Mono',consolas,'Courier New',monospace\"><span style=\"color: #808000; text-decoration-color: #808000\">predicate</span>=<span style=\"color: #008000; text-decoration-color: #008000\">'has_estrogen_receptor_status'</span> <span style=\"color: #808000; text-decoration-color: #808000\">begin</span>=<span style=\"color: #008080; text-decoration-color: #008080; font-weight: bold\">3681</span> <span style=\"color: #808000; text-decoration-color: #808000\">end</span>=<span style=\"color: #008080; text-decoration-color: #008080; font-weight: bold\">3688</span> <span style=\"color: #808000; text-decoration-color: #808000\">type</span>=<span style=\"color: #008000; text-decoration-color: #008000\">'value'</span> <span style=\"color: #808000; text-decoration-color: #808000\">value</span>=<span style=\"color: #008000; text-decoration-color: #008000\">'negative'</span> \n",
       "<span style=\"color: #808000; text-decoration-color: #808000\">assertion</span>=<span style=\"color: #008000; text-decoration-color: #008000\">'present'</span>\n",
       "</pre>\n"
      ],
      "text/plain": [
       "\u001b[33mpredicate\u001b[0m=\u001b[32m'has_estrogen_receptor_status'\u001b[0m \u001b[33mbegin\u001b[0m=\u001b[1;36m3681\u001b[0m \u001b[33mend\u001b[0m=\u001b[1;36m3688\u001b[0m \u001b[33mtype\u001b[0m=\u001b[32m'value'\u001b[0m \u001b[33mvalue\u001b[0m=\u001b[32m'negative'\u001b[0m \n",
       "\u001b[33massertion\u001b[0m=\u001b[32m'present'\u001b[0m\n"
      ]
     },
     "metadata": {},
     "output_type": "display_data"
    },
    {
     "data": {
      "text/html": [
       "<pre style=\"white-space:pre;overflow-x:auto;line-height:normal;font-family:Menlo,'DejaVu Sans Mono',consolas,'Courier New',monospace\">============================================================================================\n",
       "</pre>\n"
      ],
      "text/plain": [
       "============================================================================================\n"
      ]
     },
     "metadata": {},
     "output_type": "display_data"
    },
    {
     "data": {
      "text/html": [
       "<pre style=\"white-space:pre;overflow-x:auto;line-height:normal;font-family:Menlo,'DejaVu Sans Mono',consolas,'Courier New',monospace\"><span style=\"color: #808000; text-decoration-color: #808000\">predicate</span>=<span style=\"color: #008000; text-decoration-color: #008000\">'has_estrogen_receptor_status'</span> <span style=\"color: #808000; text-decoration-color: #808000\">begin</span>=<span style=\"color: #008080; text-decoration-color: #008080; font-weight: bold\">3858</span> <span style=\"color: #808000; text-decoration-color: #808000\">end</span>=<span style=\"color: #008080; text-decoration-color: #008080; font-weight: bold\">3874</span> <span style=\"color: #808000; text-decoration-color: #808000\">type</span>=<span style=\"color: #008000; text-decoration-color: #008000\">'name'</span> <span style=\"color: #808000; text-decoration-color: #808000\">value</span>=<span style=\"color: #008000; text-decoration-color: #008000\">'er status'</span> \n",
       "<span style=\"color: #808000; text-decoration-color: #808000\">assertion</span>=<span style=\"color: #008000; text-decoration-color: #008000\">'present'</span>\n",
       "</pre>\n"
      ],
      "text/plain": [
       "\u001b[33mpredicate\u001b[0m=\u001b[32m'has_estrogen_receptor_status'\u001b[0m \u001b[33mbegin\u001b[0m=\u001b[1;36m3858\u001b[0m \u001b[33mend\u001b[0m=\u001b[1;36m3874\u001b[0m \u001b[33mtype\u001b[0m=\u001b[32m'name'\u001b[0m \u001b[33mvalue\u001b[0m=\u001b[32m'er status'\u001b[0m \n",
       "\u001b[33massertion\u001b[0m=\u001b[32m'present'\u001b[0m\n"
      ]
     },
     "metadata": {},
     "output_type": "display_data"
    },
    {
     "data": {
      "text/html": [
       "<pre style=\"white-space:pre;overflow-x:auto;line-height:normal;font-family:Menlo,'DejaVu Sans Mono',consolas,'Courier New',monospace\">============================================================================================\n",
       "</pre>\n"
      ],
      "text/plain": [
       "============================================================================================\n"
      ]
     },
     "metadata": {},
     "output_type": "display_data"
    },
    {
     "data": {
      "text/html": [
       "<pre style=\"white-space:pre;overflow-x:auto;line-height:normal;font-family:Menlo,'DejaVu Sans Mono',consolas,'Courier New',monospace\"><span style=\"color: #808000; text-decoration-color: #808000\">predicate</span>=<span style=\"color: #008000; text-decoration-color: #008000\">'has_estrogen_receptor_status'</span> <span style=\"color: #808000; text-decoration-color: #808000\">begin</span>=<span style=\"color: #008080; text-decoration-color: #008080; font-weight: bold\">4026</span> <span style=\"color: #808000; text-decoration-color: #808000\">end</span>=<span style=\"color: #008080; text-decoration-color: #008080; font-weight: bold\">4027</span> <span style=\"color: #808000; text-decoration-color: #808000\">type</span>=<span style=\"color: #008000; text-decoration-color: #008000\">'name'</span> <span style=\"color: #808000; text-decoration-color: #808000\">value</span>=<span style=\"color: #008000; text-decoration-color: #008000\">'er status'</span> \n",
       "<span style=\"color: #808000; text-decoration-color: #808000\">assertion</span>=<span style=\"color: #008000; text-decoration-color: #008000\">'present'</span>\n",
       "</pre>\n"
      ],
      "text/plain": [
       "\u001b[33mpredicate\u001b[0m=\u001b[32m'has_estrogen_receptor_status'\u001b[0m \u001b[33mbegin\u001b[0m=\u001b[1;36m4026\u001b[0m \u001b[33mend\u001b[0m=\u001b[1;36m4027\u001b[0m \u001b[33mtype\u001b[0m=\u001b[32m'name'\u001b[0m \u001b[33mvalue\u001b[0m=\u001b[32m'er status'\u001b[0m \n",
       "\u001b[33massertion\u001b[0m=\u001b[32m'present'\u001b[0m\n"
      ]
     },
     "metadata": {},
     "output_type": "display_data"
    },
    {
     "data": {
      "text/html": [
       "<pre style=\"white-space:pre;overflow-x:auto;line-height:normal;font-family:Menlo,'DejaVu Sans Mono',consolas,'Courier New',monospace\">============================================================================================\n",
       "</pre>\n"
      ],
      "text/plain": [
       "============================================================================================\n"
      ]
     },
     "metadata": {},
     "output_type": "display_data"
    },
    {
     "data": {
      "text/html": [
       "<pre style=\"white-space:pre;overflow-x:auto;line-height:normal;font-family:Menlo,'DejaVu Sans Mono',consolas,'Courier New',monospace\"><span style=\"color: #808000; text-decoration-color: #808000\">predicate</span>=<span style=\"color: #008000; text-decoration-color: #008000\">'has_estrogen_receptor_status'</span> <span style=\"color: #808000; text-decoration-color: #808000\">begin</span>=<span style=\"color: #008080; text-decoration-color: #008080; font-weight: bold\">4097</span> <span style=\"color: #808000; text-decoration-color: #808000\">end</span>=<span style=\"color: #008080; text-decoration-color: #008080; font-weight: bold\">4098</span> <span style=\"color: #808000; text-decoration-color: #808000\">type</span>=<span style=\"color: #008000; text-decoration-color: #008000\">'name'</span> <span style=\"color: #808000; text-decoration-color: #808000\">value</span>=<span style=\"color: #008000; text-decoration-color: #008000\">'er status'</span> \n",
       "<span style=\"color: #808000; text-decoration-color: #808000\">assertion</span>=<span style=\"color: #008000; text-decoration-color: #008000\">'present'</span>\n",
       "</pre>\n"
      ],
      "text/plain": [
       "\u001b[33mpredicate\u001b[0m=\u001b[32m'has_estrogen_receptor_status'\u001b[0m \u001b[33mbegin\u001b[0m=\u001b[1;36m4097\u001b[0m \u001b[33mend\u001b[0m=\u001b[1;36m4098\u001b[0m \u001b[33mtype\u001b[0m=\u001b[32m'name'\u001b[0m \u001b[33mvalue\u001b[0m=\u001b[32m'er status'\u001b[0m \n",
       "\u001b[33massertion\u001b[0m=\u001b[32m'present'\u001b[0m\n"
      ]
     },
     "metadata": {},
     "output_type": "display_data"
    },
    {
     "data": {
      "text/html": [
       "<pre style=\"white-space:pre;overflow-x:auto;line-height:normal;font-family:Menlo,'DejaVu Sans Mono',consolas,'Courier New',monospace\">============================================================================================\n",
       "</pre>\n"
      ],
      "text/plain": [
       "============================================================================================\n"
      ]
     },
     "metadata": {},
     "output_type": "display_data"
    },
    {
     "data": {
      "text/html": [
       "<pre style=\"white-space:pre;overflow-x:auto;line-height:normal;font-family:Menlo,'DejaVu Sans Mono',consolas,'Courier New',monospace\"><span style=\"color: #808000; text-decoration-color: #808000\">predicate</span>=<span style=\"color: #008000; text-decoration-color: #008000\">'has_estrogen_receptor_status'</span> <span style=\"color: #808000; text-decoration-color: #808000\">begin</span>=<span style=\"color: #008080; text-decoration-color: #008080; font-weight: bold\">4225</span> <span style=\"color: #808000; text-decoration-color: #808000\">end</span>=<span style=\"color: #008080; text-decoration-color: #008080; font-weight: bold\">4226</span> <span style=\"color: #808000; text-decoration-color: #808000\">type</span>=<span style=\"color: #008000; text-decoration-color: #008000\">'name'</span> <span style=\"color: #808000; text-decoration-color: #808000\">value</span>=<span style=\"color: #008000; text-decoration-color: #008000\">'er status'</span> \n",
       "<span style=\"color: #808000; text-decoration-color: #808000\">assertion</span>=<span style=\"color: #008000; text-decoration-color: #008000\">'present'</span>\n",
       "</pre>\n"
      ],
      "text/plain": [
       "\u001b[33mpredicate\u001b[0m=\u001b[32m'has_estrogen_receptor_status'\u001b[0m \u001b[33mbegin\u001b[0m=\u001b[1;36m4225\u001b[0m \u001b[33mend\u001b[0m=\u001b[1;36m4226\u001b[0m \u001b[33mtype\u001b[0m=\u001b[32m'name'\u001b[0m \u001b[33mvalue\u001b[0m=\u001b[32m'er status'\u001b[0m \n",
       "\u001b[33massertion\u001b[0m=\u001b[32m'present'\u001b[0m\n"
      ]
     },
     "metadata": {},
     "output_type": "display_data"
    },
    {
     "data": {
      "text/html": [
       "<pre style=\"white-space:pre;overflow-x:auto;line-height:normal;font-family:Menlo,'DejaVu Sans Mono',consolas,'Courier New',monospace\">============================================================================================\n",
       "</pre>\n"
      ],
      "text/plain": [
       "============================================================================================\n"
      ]
     },
     "metadata": {},
     "output_type": "display_data"
    },
    {
     "data": {
      "text/html": [
       "<pre style=\"white-space:pre;overflow-x:auto;line-height:normal;font-family:Menlo,'DejaVu Sans Mono',consolas,'Courier New',monospace\"><span style=\"color: #808000; text-decoration-color: #808000\">predicate</span>=<span style=\"color: #008000; text-decoration-color: #008000\">'has_estrogen_receptor_status'</span> <span style=\"color: #808000; text-decoration-color: #808000\">begin</span>=<span style=\"color: #008080; text-decoration-color: #008080; font-weight: bold\">4513</span> <span style=\"color: #808000; text-decoration-color: #808000\">end</span>=<span style=\"color: #008080; text-decoration-color: #008080; font-weight: bold\">4514</span> <span style=\"color: #808000; text-decoration-color: #808000\">type</span>=<span style=\"color: #008000; text-decoration-color: #008000\">'name'</span> <span style=\"color: #808000; text-decoration-color: #808000\">value</span>=<span style=\"color: #008000; text-decoration-color: #008000\">'er status'</span> \n",
       "<span style=\"color: #808000; text-decoration-color: #808000\">assertion</span>=<span style=\"color: #008000; text-decoration-color: #008000\">'present'</span>\n",
       "</pre>\n"
      ],
      "text/plain": [
       "\u001b[33mpredicate\u001b[0m=\u001b[32m'has_estrogen_receptor_status'\u001b[0m \u001b[33mbegin\u001b[0m=\u001b[1;36m4513\u001b[0m \u001b[33mend\u001b[0m=\u001b[1;36m4514\u001b[0m \u001b[33mtype\u001b[0m=\u001b[32m'name'\u001b[0m \u001b[33mvalue\u001b[0m=\u001b[32m'er status'\u001b[0m \n",
       "\u001b[33massertion\u001b[0m=\u001b[32m'present'\u001b[0m\n"
      ]
     },
     "metadata": {},
     "output_type": "display_data"
    },
    {
     "data": {
      "text/html": [
       "<pre style=\"white-space:pre;overflow-x:auto;line-height:normal;font-family:Menlo,'DejaVu Sans Mono',consolas,'Courier New',monospace\">============================================================================================\n",
       "</pre>\n"
      ],
      "text/plain": [
       "============================================================================================\n"
      ]
     },
     "metadata": {},
     "output_type": "display_data"
    },
    {
     "data": {
      "text/html": [
       "<pre style=\"white-space:pre;overflow-x:auto;line-height:normal;font-family:Menlo,'DejaVu Sans Mono',consolas,'Courier New',monospace\"><span style=\"color: #808000; text-decoration-color: #808000\">predicate</span>=<span style=\"color: #008000; text-decoration-color: #008000\">'has_estrogen_receptor_status'</span> <span style=\"color: #808000; text-decoration-color: #808000\">begin</span>=<span style=\"color: #008080; text-decoration-color: #008080; font-weight: bold\">4516</span> <span style=\"color: #808000; text-decoration-color: #808000\">end</span>=<span style=\"color: #008080; text-decoration-color: #008080; font-weight: bold\">4523</span> <span style=\"color: #808000; text-decoration-color: #808000\">type</span>=<span style=\"color: #008000; text-decoration-color: #008000\">'value'</span> <span style=\"color: #808000; text-decoration-color: #808000\">value</span>=<span style=\"color: #008000; text-decoration-color: #008000\">'negative'</span> \n",
       "<span style=\"color: #808000; text-decoration-color: #808000\">assertion</span>=<span style=\"color: #008000; text-decoration-color: #008000\">'present'</span>\n",
       "</pre>\n"
      ],
      "text/plain": [
       "\u001b[33mpredicate\u001b[0m=\u001b[32m'has_estrogen_receptor_status'\u001b[0m \u001b[33mbegin\u001b[0m=\u001b[1;36m4516\u001b[0m \u001b[33mend\u001b[0m=\u001b[1;36m4523\u001b[0m \u001b[33mtype\u001b[0m=\u001b[32m'value'\u001b[0m \u001b[33mvalue\u001b[0m=\u001b[32m'negative'\u001b[0m \n",
       "\u001b[33massertion\u001b[0m=\u001b[32m'present'\u001b[0m\n"
      ]
     },
     "metadata": {},
     "output_type": "display_data"
    },
    {
     "data": {
      "text/html": [
       "<pre style=\"white-space:pre;overflow-x:auto;line-height:normal;font-family:Menlo,'DejaVu Sans Mono',consolas,'Courier New',monospace\">============================================================================================\n",
       "</pre>\n"
      ],
      "text/plain": [
       "============================================================================================\n"
      ]
     },
     "metadata": {},
     "output_type": "display_data"
    },
    {
     "data": {
      "text/html": [
       "<pre style=\"white-space:pre;overflow-x:auto;line-height:normal;font-family:Menlo,'DejaVu Sans Mono',consolas,'Courier New',monospace\"><span style=\"color: #808000; text-decoration-color: #808000\">predicate</span>=<span style=\"color: #008000; text-decoration-color: #008000\">'has_estrogen_receptor_status'</span> <span style=\"color: #808000; text-decoration-color: #808000\">begin</span>=<span style=\"color: #008080; text-decoration-color: #008080; font-weight: bold\">6800</span> <span style=\"color: #808000; text-decoration-color: #808000\">end</span>=<span style=\"color: #008080; text-decoration-color: #008080; font-weight: bold\">6801</span> <span style=\"color: #808000; text-decoration-color: #808000\">type</span>=<span style=\"color: #008000; text-decoration-color: #008000\">'name'</span> <span style=\"color: #808000; text-decoration-color: #808000\">value</span>=<span style=\"color: #008000; text-decoration-color: #008000\">'er status'</span> \n",
       "<span style=\"color: #808000; text-decoration-color: #808000\">assertion</span>=<span style=\"color: #008000; text-decoration-color: #008000\">'present'</span>\n",
       "</pre>\n"
      ],
      "text/plain": [
       "\u001b[33mpredicate\u001b[0m=\u001b[32m'has_estrogen_receptor_status'\u001b[0m \u001b[33mbegin\u001b[0m=\u001b[1;36m6800\u001b[0m \u001b[33mend\u001b[0m=\u001b[1;36m6801\u001b[0m \u001b[33mtype\u001b[0m=\u001b[32m'name'\u001b[0m \u001b[33mvalue\u001b[0m=\u001b[32m'er status'\u001b[0m \n",
       "\u001b[33massertion\u001b[0m=\u001b[32m'present'\u001b[0m\n"
      ]
     },
     "metadata": {},
     "output_type": "display_data"
    },
    {
     "data": {
      "text/html": [
       "<pre style=\"white-space:pre;overflow-x:auto;line-height:normal;font-family:Menlo,'DejaVu Sans Mono',consolas,'Courier New',monospace\">============================================================================================\n",
       "</pre>\n"
      ],
      "text/plain": [
       "============================================================================================\n"
      ]
     },
     "metadata": {},
     "output_type": "display_data"
    },
    {
     "data": {
      "text/html": [
       "<pre style=\"white-space:pre;overflow-x:auto;line-height:normal;font-family:Menlo,'DejaVu Sans Mono',consolas,'Courier New',monospace\"><span style=\"color: #808000; text-decoration-color: #808000\">predicate</span>=<span style=\"color: #008000; text-decoration-color: #008000\">'has_progesterone_receptor_status'</span> <span style=\"color: #808000; text-decoration-color: #808000\">begin</span>=<span style=\"color: #008080; text-decoration-color: #008080; font-weight: bold\">2940</span> <span style=\"color: #808000; text-decoration-color: #808000\">end</span>=<span style=\"color: #008080; text-decoration-color: #008080; font-weight: bold\">2941</span> <span style=\"color: #808000; text-decoration-color: #808000\">type</span>=<span style=\"color: #008000; text-decoration-color: #008000\">'name'</span> <span style=\"color: #808000; text-decoration-color: #808000\">value</span>=<span style=\"color: #008000; text-decoration-color: #008000\">'pr </span>\n",
       "<span style=\"color: #008000; text-decoration-color: #008000\">status'</span> <span style=\"color: #808000; text-decoration-color: #808000\">assertion</span>=<span style=\"color: #008000; text-decoration-color: #008000\">'present'</span>\n",
       "</pre>\n"
      ],
      "text/plain": [
       "\u001b[33mpredicate\u001b[0m=\u001b[32m'has_progesterone_receptor_status'\u001b[0m \u001b[33mbegin\u001b[0m=\u001b[1;36m2940\u001b[0m \u001b[33mend\u001b[0m=\u001b[1;36m2941\u001b[0m \u001b[33mtype\u001b[0m=\u001b[32m'name'\u001b[0m \u001b[33mvalue\u001b[0m=\u001b[32m'pr \u001b[0m\n",
       "\u001b[32mstatus'\u001b[0m \u001b[33massertion\u001b[0m=\u001b[32m'present'\u001b[0m\n"
      ]
     },
     "metadata": {},
     "output_type": "display_data"
    },
    {
     "data": {
      "text/html": [
       "<pre style=\"white-space:pre;overflow-x:auto;line-height:normal;font-family:Menlo,'DejaVu Sans Mono',consolas,'Courier New',monospace\">============================================================================================\n",
       "</pre>\n"
      ],
      "text/plain": [
       "============================================================================================\n"
      ]
     },
     "metadata": {},
     "output_type": "display_data"
    },
    {
     "data": {
      "text/html": [
       "<pre style=\"white-space:pre;overflow-x:auto;line-height:normal;font-family:Menlo,'DejaVu Sans Mono',consolas,'Courier New',monospace\"><span style=\"color: #808000; text-decoration-color: #808000\">predicate</span>=<span style=\"color: #008000; text-decoration-color: #008000\">'has_progesterone_receptor_status'</span> <span style=\"color: #808000; text-decoration-color: #808000\">begin</span>=<span style=\"color: #008080; text-decoration-color: #008080; font-weight: bold\">3690</span> <span style=\"color: #808000; text-decoration-color: #808000\">end</span>=<span style=\"color: #008080; text-decoration-color: #008080; font-weight: bold\">3710</span> <span style=\"color: #808000; text-decoration-color: #808000\">type</span>=<span style=\"color: #008000; text-decoration-color: #008000\">'name'</span> <span style=\"color: #808000; text-decoration-color: #808000\">value</span>=<span style=\"color: #008000; text-decoration-color: #008000\">'pr </span>\n",
       "<span style=\"color: #008000; text-decoration-color: #008000\">status'</span> <span style=\"color: #808000; text-decoration-color: #808000\">assertion</span>=<span style=\"color: #008000; text-decoration-color: #008000\">'present'</span>\n",
       "</pre>\n"
      ],
      "text/plain": [
       "\u001b[33mpredicate\u001b[0m=\u001b[32m'has_progesterone_receptor_status'\u001b[0m \u001b[33mbegin\u001b[0m=\u001b[1;36m3690\u001b[0m \u001b[33mend\u001b[0m=\u001b[1;36m3710\u001b[0m \u001b[33mtype\u001b[0m=\u001b[32m'name'\u001b[0m \u001b[33mvalue\u001b[0m=\u001b[32m'pr \u001b[0m\n",
       "\u001b[32mstatus'\u001b[0m \u001b[33massertion\u001b[0m=\u001b[32m'present'\u001b[0m\n"
      ]
     },
     "metadata": {},
     "output_type": "display_data"
    },
    {
     "data": {
      "text/html": [
       "<pre style=\"white-space:pre;overflow-x:auto;line-height:normal;font-family:Menlo,'DejaVu Sans Mono',consolas,'Courier New',monospace\">============================================================================================\n",
       "</pre>\n"
      ],
      "text/plain": [
       "============================================================================================\n"
      ]
     },
     "metadata": {},
     "output_type": "display_data"
    },
    {
     "data": {
      "text/html": [
       "<pre style=\"white-space:pre;overflow-x:auto;line-height:normal;font-family:Menlo,'DejaVu Sans Mono',consolas,'Courier New',monospace\"><span style=\"color: #808000; text-decoration-color: #808000\">predicate</span>=<span style=\"color: #008000; text-decoration-color: #008000\">'has_progesterone_receptor_status'</span> <span style=\"color: #808000; text-decoration-color: #808000\">begin</span>=<span style=\"color: #008080; text-decoration-color: #008080; font-weight: bold\">3720</span> <span style=\"color: #808000; text-decoration-color: #808000\">end</span>=<span style=\"color: #008080; text-decoration-color: #008080; font-weight: bold\">3727</span> <span style=\"color: #808000; text-decoration-color: #808000\">type</span>=<span style=\"color: #008000; text-decoration-color: #008000\">'value'</span> \n",
       "<span style=\"color: #808000; text-decoration-color: #808000\">value</span>=<span style=\"color: #008000; text-decoration-color: #008000\">'negative'</span> <span style=\"color: #808000; text-decoration-color: #808000\">assertion</span>=<span style=\"color: #008000; text-decoration-color: #008000\">'present'</span>\n",
       "</pre>\n"
      ],
      "text/plain": [
       "\u001b[33mpredicate\u001b[0m=\u001b[32m'has_progesterone_receptor_status'\u001b[0m \u001b[33mbegin\u001b[0m=\u001b[1;36m3720\u001b[0m \u001b[33mend\u001b[0m=\u001b[1;36m3727\u001b[0m \u001b[33mtype\u001b[0m=\u001b[32m'value'\u001b[0m \n",
       "\u001b[33mvalue\u001b[0m=\u001b[32m'negative'\u001b[0m \u001b[33massertion\u001b[0m=\u001b[32m'present'\u001b[0m\n"
      ]
     },
     "metadata": {},
     "output_type": "display_data"
    },
    {
     "data": {
      "text/html": [
       "<pre style=\"white-space:pre;overflow-x:auto;line-height:normal;font-family:Menlo,'DejaVu Sans Mono',consolas,'Courier New',monospace\">============================================================================================\n",
       "</pre>\n"
      ],
      "text/plain": [
       "============================================================================================\n"
      ]
     },
     "metadata": {},
     "output_type": "display_data"
    },
    {
     "data": {
      "text/html": [
       "<pre style=\"white-space:pre;overflow-x:auto;line-height:normal;font-family:Menlo,'DejaVu Sans Mono',consolas,'Courier New',monospace\"><span style=\"color: #808000; text-decoration-color: #808000\">predicate</span>=<span style=\"color: #008000; text-decoration-color: #008000\">'has_progesterone_receptor_status'</span> <span style=\"color: #808000; text-decoration-color: #808000\">begin</span>=<span style=\"color: #008080; text-decoration-color: #008080; font-weight: bold\">3880</span> <span style=\"color: #808000; text-decoration-color: #808000\">end</span>=<span style=\"color: #008080; text-decoration-color: #008080; font-weight: bold\">3900</span> <span style=\"color: #808000; text-decoration-color: #808000\">type</span>=<span style=\"color: #008000; text-decoration-color: #008000\">'name'</span> <span style=\"color: #808000; text-decoration-color: #808000\">value</span>=<span style=\"color: #008000; text-decoration-color: #008000\">'pr </span>\n",
       "<span style=\"color: #008000; text-decoration-color: #008000\">status'</span> <span style=\"color: #808000; text-decoration-color: #808000\">assertion</span>=<span style=\"color: #008000; text-decoration-color: #008000\">'present'</span>\n",
       "</pre>\n"
      ],
      "text/plain": [
       "\u001b[33mpredicate\u001b[0m=\u001b[32m'has_progesterone_receptor_status'\u001b[0m \u001b[33mbegin\u001b[0m=\u001b[1;36m3880\u001b[0m \u001b[33mend\u001b[0m=\u001b[1;36m3900\u001b[0m \u001b[33mtype\u001b[0m=\u001b[32m'name'\u001b[0m \u001b[33mvalue\u001b[0m=\u001b[32m'pr \u001b[0m\n",
       "\u001b[32mstatus'\u001b[0m \u001b[33massertion\u001b[0m=\u001b[32m'present'\u001b[0m\n"
      ]
     },
     "metadata": {},
     "output_type": "display_data"
    },
    {
     "data": {
      "text/html": [
       "<pre style=\"white-space:pre;overflow-x:auto;line-height:normal;font-family:Menlo,'DejaVu Sans Mono',consolas,'Courier New',monospace\">============================================================================================\n",
       "</pre>\n"
      ],
      "text/plain": [
       "============================================================================================\n"
      ]
     },
     "metadata": {},
     "output_type": "display_data"
    },
    {
     "data": {
      "text/html": [
       "<pre style=\"white-space:pre;overflow-x:auto;line-height:normal;font-family:Menlo,'DejaVu Sans Mono',consolas,'Courier New',monospace\"><span style=\"color: #808000; text-decoration-color: #808000\">predicate</span>=<span style=\"color: #008000; text-decoration-color: #008000\">'has_progesterone_receptor_status'</span> <span style=\"color: #808000; text-decoration-color: #808000\">begin</span>=<span style=\"color: #008080; text-decoration-color: #008080; font-weight: bold\">6363</span> <span style=\"color: #808000; text-decoration-color: #808000\">end</span>=<span style=\"color: #008080; text-decoration-color: #008080; font-weight: bold\">6383</span> <span style=\"color: #808000; text-decoration-color: #808000\">type</span>=<span style=\"color: #008000; text-decoration-color: #008000\">'name'</span> <span style=\"color: #808000; text-decoration-color: #808000\">value</span>=<span style=\"color: #008000; text-decoration-color: #008000\">'pr </span>\n",
       "<span style=\"color: #008000; text-decoration-color: #008000\">status'</span> <span style=\"color: #808000; text-decoration-color: #808000\">assertion</span>=<span style=\"color: #008000; text-decoration-color: #008000\">'present'</span>\n",
       "</pre>\n"
      ],
      "text/plain": [
       "\u001b[33mpredicate\u001b[0m=\u001b[32m'has_progesterone_receptor_status'\u001b[0m \u001b[33mbegin\u001b[0m=\u001b[1;36m6363\u001b[0m \u001b[33mend\u001b[0m=\u001b[1;36m6383\u001b[0m \u001b[33mtype\u001b[0m=\u001b[32m'name'\u001b[0m \u001b[33mvalue\u001b[0m=\u001b[32m'pr \u001b[0m\n",
       "\u001b[32mstatus'\u001b[0m \u001b[33massertion\u001b[0m=\u001b[32m'present'\u001b[0m\n"
      ]
     },
     "metadata": {},
     "output_type": "display_data"
    },
    {
     "data": {
      "text/html": [
       "<pre style=\"white-space:pre;overflow-x:auto;line-height:normal;font-family:Menlo,'DejaVu Sans Mono',consolas,'Courier New',monospace\">============================================================================================\n",
       "</pre>\n"
      ],
      "text/plain": [
       "============================================================================================\n"
      ]
     },
     "metadata": {},
     "output_type": "display_data"
    },
    {
     "data": {
      "text/html": [
       "<pre style=\"white-space:pre;overflow-x:auto;line-height:normal;font-family:Menlo,'DejaVu Sans Mono',consolas,'Courier New',monospace\"><span style=\"color: #808000; text-decoration-color: #808000\">predicate</span>=<span style=\"color: #008000; text-decoration-color: #008000\">'has_progesterone_receptor_status'</span> <span style=\"color: #808000; text-decoration-color: #808000\">begin</span>=<span style=\"color: #008080; text-decoration-color: #008080; font-weight: bold\">6810</span> <span style=\"color: #808000; text-decoration-color: #808000\">end</span>=<span style=\"color: #008080; text-decoration-color: #008080; font-weight: bold\">6811</span> <span style=\"color: #808000; text-decoration-color: #808000\">type</span>=<span style=\"color: #008000; text-decoration-color: #008000\">'name'</span> <span style=\"color: #808000; text-decoration-color: #808000\">value</span>=<span style=\"color: #008000; text-decoration-color: #008000\">'pr </span>\n",
       "<span style=\"color: #008000; text-decoration-color: #008000\">status'</span> <span style=\"color: #808000; text-decoration-color: #808000\">assertion</span>=<span style=\"color: #008000; text-decoration-color: #008000\">'present'</span>\n",
       "</pre>\n"
      ],
      "text/plain": [
       "\u001b[33mpredicate\u001b[0m=\u001b[32m'has_progesterone_receptor_status'\u001b[0m \u001b[33mbegin\u001b[0m=\u001b[1;36m6810\u001b[0m \u001b[33mend\u001b[0m=\u001b[1;36m6811\u001b[0m \u001b[33mtype\u001b[0m=\u001b[32m'name'\u001b[0m \u001b[33mvalue\u001b[0m=\u001b[32m'pr \u001b[0m\n",
       "\u001b[32mstatus'\u001b[0m \u001b[33massertion\u001b[0m=\u001b[32m'present'\u001b[0m\n"
      ]
     },
     "metadata": {},
     "output_type": "display_data"
    },
    {
     "data": {
      "text/html": [
       "<pre style=\"white-space:pre;overflow-x:auto;line-height:normal;font-family:Menlo,'DejaVu Sans Mono',consolas,'Courier New',monospace\">============================================================================================\n",
       "</pre>\n"
      ],
      "text/plain": [
       "============================================================================================\n"
      ]
     },
     "metadata": {},
     "output_type": "display_data"
    },
    {
     "data": {
      "text/html": [
       "<pre style=\"white-space:pre;overflow-x:auto;line-height:normal;font-family:Menlo,'DejaVu Sans Mono',consolas,'Courier New',monospace\"><span style=\"color: #808000; text-decoration-color: #808000\">predicate</span>=<span style=\"color: #008000; text-decoration-color: #008000\">'has_her2_status'</span> <span style=\"color: #808000; text-decoration-color: #808000\">begin</span>=<span style=\"color: #008080; text-decoration-color: #008080; font-weight: bold\">2960</span> <span style=\"color: #808000; text-decoration-color: #808000\">end</span>=<span style=\"color: #008080; text-decoration-color: #008080; font-weight: bold\">2963</span> <span style=\"color: #808000; text-decoration-color: #808000\">type</span>=<span style=\"color: #008000; text-decoration-color: #008000\">'name'</span> <span style=\"color: #808000; text-decoration-color: #808000\">value</span>=<span style=\"color: #008000; text-decoration-color: #008000\">'her2'</span> <span style=\"color: #808000; text-decoration-color: #808000\">assertion</span>=<span style=\"color: #008000; text-decoration-color: #008000\">'present'</span>\n",
       "</pre>\n"
      ],
      "text/plain": [
       "\u001b[33mpredicate\u001b[0m=\u001b[32m'has_her2_status'\u001b[0m \u001b[33mbegin\u001b[0m=\u001b[1;36m2960\u001b[0m \u001b[33mend\u001b[0m=\u001b[1;36m2963\u001b[0m \u001b[33mtype\u001b[0m=\u001b[32m'name'\u001b[0m \u001b[33mvalue\u001b[0m=\u001b[32m'her2'\u001b[0m \u001b[33massertion\u001b[0m=\u001b[32m'present'\u001b[0m\n"
      ]
     },
     "metadata": {},
     "output_type": "display_data"
    },
    {
     "data": {
      "text/html": [
       "<pre style=\"white-space:pre;overflow-x:auto;line-height:normal;font-family:Menlo,'DejaVu Sans Mono',consolas,'Courier New',monospace\">============================================================================================\n",
       "</pre>\n"
      ],
      "text/plain": [
       "============================================================================================\n"
      ]
     },
     "metadata": {},
     "output_type": "display_data"
    },
    {
     "data": {
      "text/html": [
       "<pre style=\"white-space:pre;overflow-x:auto;line-height:normal;font-family:Menlo,'DejaVu Sans Mono',consolas,'Courier New',monospace\"><span style=\"color: #808000; text-decoration-color: #808000\">predicate</span>=<span style=\"color: #008000; text-decoration-color: #008000\">'has_her2_status'</span> <span style=\"color: #808000; text-decoration-color: #808000\">begin</span>=<span style=\"color: #008080; text-decoration-color: #008080; font-weight: bold\">3729</span> <span style=\"color: #808000; text-decoration-color: #808000\">end</span>=<span style=\"color: #008080; text-decoration-color: #008080; font-weight: bold\">3737</span> <span style=\"color: #808000; text-decoration-color: #808000\">type</span>=<span style=\"color: #008000; text-decoration-color: #008000\">'name'</span> <span style=\"color: #808000; text-decoration-color: #808000\">value</span>=<span style=\"color: #008000; text-decoration-color: #008000\">'her2'</span> <span style=\"color: #808000; text-decoration-color: #808000\">assertion</span>=<span style=\"color: #008000; text-decoration-color: #008000\">'present'</span>\n",
       "</pre>\n"
      ],
      "text/plain": [
       "\u001b[33mpredicate\u001b[0m=\u001b[32m'has_her2_status'\u001b[0m \u001b[33mbegin\u001b[0m=\u001b[1;36m3729\u001b[0m \u001b[33mend\u001b[0m=\u001b[1;36m3737\u001b[0m \u001b[33mtype\u001b[0m=\u001b[32m'name'\u001b[0m \u001b[33mvalue\u001b[0m=\u001b[32m'her2'\u001b[0m \u001b[33massertion\u001b[0m=\u001b[32m'present'\u001b[0m\n"
      ]
     },
     "metadata": {},
     "output_type": "display_data"
    },
    {
     "data": {
      "text/html": [
       "<pre style=\"white-space:pre;overflow-x:auto;line-height:normal;font-family:Menlo,'DejaVu Sans Mono',consolas,'Courier New',monospace\">============================================================================================\n",
       "</pre>\n"
      ],
      "text/plain": [
       "============================================================================================\n"
      ]
     },
     "metadata": {},
     "output_type": "display_data"
    },
    {
     "data": {
      "text/html": [
       "<pre style=\"white-space:pre;overflow-x:auto;line-height:normal;font-family:Menlo,'DejaVu Sans Mono',consolas,'Courier New',monospace\"><span style=\"color: #808000; text-decoration-color: #808000\">predicate</span>=<span style=\"color: #008000; text-decoration-color: #008000\">'has_her2_status'</span> <span style=\"color: #808000; text-decoration-color: #808000\">begin</span>=<span style=\"color: #008080; text-decoration-color: #008080; font-weight: bold\">4535</span> <span style=\"color: #808000; text-decoration-color: #808000\">end</span>=<span style=\"color: #008080; text-decoration-color: #008080; font-weight: bold\">4543</span> <span style=\"color: #808000; text-decoration-color: #808000\">type</span>=<span style=\"color: #008000; text-decoration-color: #008000\">'name'</span> <span style=\"color: #808000; text-decoration-color: #808000\">value</span>=<span style=\"color: #008000; text-decoration-color: #008000\">'her2'</span> <span style=\"color: #808000; text-decoration-color: #808000\">assertion</span>=<span style=\"color: #008000; text-decoration-color: #008000\">'present'</span>\n",
       "</pre>\n"
      ],
      "text/plain": [
       "\u001b[33mpredicate\u001b[0m=\u001b[32m'has_her2_status'\u001b[0m \u001b[33mbegin\u001b[0m=\u001b[1;36m4535\u001b[0m \u001b[33mend\u001b[0m=\u001b[1;36m4543\u001b[0m \u001b[33mtype\u001b[0m=\u001b[32m'name'\u001b[0m \u001b[33mvalue\u001b[0m=\u001b[32m'her2'\u001b[0m \u001b[33massertion\u001b[0m=\u001b[32m'present'\u001b[0m\n"
      ]
     },
     "metadata": {},
     "output_type": "display_data"
    },
    {
     "data": {
      "text/html": [
       "<pre style=\"white-space:pre;overflow-x:auto;line-height:normal;font-family:Menlo,'DejaVu Sans Mono',consolas,'Courier New',monospace\">============================================================================================\n",
       "</pre>\n"
      ],
      "text/plain": [
       "============================================================================================\n"
      ]
     },
     "metadata": {},
     "output_type": "display_data"
    },
    {
     "data": {
      "text/html": [
       "<pre style=\"white-space:pre;overflow-x:auto;line-height:normal;font-family:Menlo,'DejaVu Sans Mono',consolas,'Courier New',monospace\"><span style=\"color: #808000; text-decoration-color: #808000\">predicate</span>=<span style=\"color: #008000; text-decoration-color: #008000\">'has_her2_status'</span> <span style=\"color: #808000; text-decoration-color: #808000\">begin</span>=<span style=\"color: #008080; text-decoration-color: #008080; font-weight: bold\">5328</span> <span style=\"color: #808000; text-decoration-color: #808000\">end</span>=<span style=\"color: #008080; text-decoration-color: #008080; font-weight: bold\">5336</span> <span style=\"color: #808000; text-decoration-color: #808000\">type</span>=<span style=\"color: #008000; text-decoration-color: #008000\">'name'</span> <span style=\"color: #808000; text-decoration-color: #808000\">value</span>=<span style=\"color: #008000; text-decoration-color: #008000\">'her2'</span> <span style=\"color: #808000; text-decoration-color: #808000\">assertion</span>=<span style=\"color: #008000; text-decoration-color: #008000\">'present'</span>\n",
       "</pre>\n"
      ],
      "text/plain": [
       "\u001b[33mpredicate\u001b[0m=\u001b[32m'has_her2_status'\u001b[0m \u001b[33mbegin\u001b[0m=\u001b[1;36m5328\u001b[0m \u001b[33mend\u001b[0m=\u001b[1;36m5336\u001b[0m \u001b[33mtype\u001b[0m=\u001b[32m'name'\u001b[0m \u001b[33mvalue\u001b[0m=\u001b[32m'her2'\u001b[0m \u001b[33massertion\u001b[0m=\u001b[32m'present'\u001b[0m\n"
      ]
     },
     "metadata": {},
     "output_type": "display_data"
    },
    {
     "data": {
      "text/html": [
       "<pre style=\"white-space:pre;overflow-x:auto;line-height:normal;font-family:Menlo,'DejaVu Sans Mono',consolas,'Courier New',monospace\">============================================================================================\n",
       "</pre>\n"
      ],
      "text/plain": [
       "============================================================================================\n"
      ]
     },
     "metadata": {},
     "output_type": "display_data"
    },
    {
     "data": {
      "text/html": [
       "<pre style=\"white-space:pre;overflow-x:auto;line-height:normal;font-family:Menlo,'DejaVu Sans Mono',consolas,'Courier New',monospace\"><span style=\"color: #808000; text-decoration-color: #808000\">predicate</span>=<span style=\"color: #008000; text-decoration-color: #008000\">'has_her2_status'</span> <span style=\"color: #808000; text-decoration-color: #808000\">begin</span>=<span style=\"color: #008080; text-decoration-color: #008080; font-weight: bold\">5464</span> <span style=\"color: #808000; text-decoration-color: #808000\">end</span>=<span style=\"color: #008080; text-decoration-color: #008080; font-weight: bold\">5472</span> <span style=\"color: #808000; text-decoration-color: #808000\">type</span>=<span style=\"color: #008000; text-decoration-color: #008000\">'name'</span> <span style=\"color: #808000; text-decoration-color: #808000\">value</span>=<span style=\"color: #008000; text-decoration-color: #008000\">'her2'</span> <span style=\"color: #808000; text-decoration-color: #808000\">assertion</span>=<span style=\"color: #008000; text-decoration-color: #008000\">'present'</span>\n",
       "</pre>\n"
      ],
      "text/plain": [
       "\u001b[33mpredicate\u001b[0m=\u001b[32m'has_her2_status'\u001b[0m \u001b[33mbegin\u001b[0m=\u001b[1;36m5464\u001b[0m \u001b[33mend\u001b[0m=\u001b[1;36m5472\u001b[0m \u001b[33mtype\u001b[0m=\u001b[32m'name'\u001b[0m \u001b[33mvalue\u001b[0m=\u001b[32m'her2'\u001b[0m \u001b[33massertion\u001b[0m=\u001b[32m'present'\u001b[0m\n"
      ]
     },
     "metadata": {},
     "output_type": "display_data"
    },
    {
     "data": {
      "text/html": [
       "<pre style=\"white-space:pre;overflow-x:auto;line-height:normal;font-family:Menlo,'DejaVu Sans Mono',consolas,'Courier New',monospace\">============================================================================================\n",
       "</pre>\n"
      ],
      "text/plain": [
       "============================================================================================\n"
      ]
     },
     "metadata": {},
     "output_type": "display_data"
    },
    {
     "data": {
      "text/html": [
       "<pre style=\"white-space:pre;overflow-x:auto;line-height:normal;font-family:Menlo,'DejaVu Sans Mono',consolas,'Courier New',monospace\"><span style=\"color: #808000; text-decoration-color: #808000\">predicate</span>=<span style=\"color: #008000; text-decoration-color: #008000\">'has_her2_status'</span> <span style=\"color: #808000; text-decoration-color: #808000\">begin</span>=<span style=\"color: #008080; text-decoration-color: #008080; font-weight: bold\">6084</span> <span style=\"color: #808000; text-decoration-color: #808000\">end</span>=<span style=\"color: #008080; text-decoration-color: #008080; font-weight: bold\">6087</span> <span style=\"color: #808000; text-decoration-color: #808000\">type</span>=<span style=\"color: #008000; text-decoration-color: #008000\">'name'</span> <span style=\"color: #808000; text-decoration-color: #808000\">value</span>=<span style=\"color: #008000; text-decoration-color: #008000\">'her2'</span> <span style=\"color: #808000; text-decoration-color: #808000\">assertion</span>=<span style=\"color: #008000; text-decoration-color: #008000\">'present'</span>\n",
       "</pre>\n"
      ],
      "text/plain": [
       "\u001b[33mpredicate\u001b[0m=\u001b[32m'has_her2_status'\u001b[0m \u001b[33mbegin\u001b[0m=\u001b[1;36m6084\u001b[0m \u001b[33mend\u001b[0m=\u001b[1;36m6087\u001b[0m \u001b[33mtype\u001b[0m=\u001b[32m'name'\u001b[0m \u001b[33mvalue\u001b[0m=\u001b[32m'her2'\u001b[0m \u001b[33massertion\u001b[0m=\u001b[32m'present'\u001b[0m\n"
      ]
     },
     "metadata": {},
     "output_type": "display_data"
    },
    {
     "data": {
      "text/html": [
       "<pre style=\"white-space:pre;overflow-x:auto;line-height:normal;font-family:Menlo,'DejaVu Sans Mono',consolas,'Courier New',monospace\">============================================================================================\n",
       "</pre>\n"
      ],
      "text/plain": [
       "============================================================================================\n"
      ]
     },
     "metadata": {},
     "output_type": "display_data"
    },
    {
     "data": {
      "text/html": [
       "<pre style=\"white-space:pre;overflow-x:auto;line-height:normal;font-family:Menlo,'DejaVu Sans Mono',consolas,'Courier New',monospace\"><span style=\"color: #808000; text-decoration-color: #808000\">predicate</span>=<span style=\"color: #008000; text-decoration-color: #008000\">'has_her2_status'</span> <span style=\"color: #808000; text-decoration-color: #808000\">begin</span>=<span style=\"color: #008080; text-decoration-color: #008080; font-weight: bold\">6870</span> <span style=\"color: #808000; text-decoration-color: #808000\">end</span>=<span style=\"color: #008080; text-decoration-color: #008080; font-weight: bold\">6878</span> <span style=\"color: #808000; text-decoration-color: #808000\">type</span>=<span style=\"color: #008000; text-decoration-color: #008000\">'name'</span> <span style=\"color: #808000; text-decoration-color: #808000\">value</span>=<span style=\"color: #008000; text-decoration-color: #008000\">'her2'</span> <span style=\"color: #808000; text-decoration-color: #808000\">assertion</span>=<span style=\"color: #008000; text-decoration-color: #008000\">'present'</span>\n",
       "</pre>\n"
      ],
      "text/plain": [
       "\u001b[33mpredicate\u001b[0m=\u001b[32m'has_her2_status'\u001b[0m \u001b[33mbegin\u001b[0m=\u001b[1;36m6870\u001b[0m \u001b[33mend\u001b[0m=\u001b[1;36m6878\u001b[0m \u001b[33mtype\u001b[0m=\u001b[32m'name'\u001b[0m \u001b[33mvalue\u001b[0m=\u001b[32m'her2'\u001b[0m \u001b[33massertion\u001b[0m=\u001b[32m'present'\u001b[0m\n"
      ]
     },
     "metadata": {},
     "output_type": "display_data"
    },
    {
     "data": {
      "text/html": [
       "<pre style=\"white-space:pre;overflow-x:auto;line-height:normal;font-family:Menlo,'DejaVu Sans Mono',consolas,'Courier New',monospace\">============================================================================================\n",
       "</pre>\n"
      ],
      "text/plain": [
       "============================================================================================\n"
      ]
     },
     "metadata": {},
     "output_type": "display_data"
    },
    {
     "data": {
      "text/html": [
       "<pre style=\"white-space:pre;overflow-x:auto;line-height:normal;font-family:Menlo,'DejaVu Sans Mono',consolas,'Courier New',monospace\"><span style=\"color: #808000; text-decoration-color: #808000\">predicate</span>=<span style=\"color: #008000; text-decoration-color: #008000\">'has_her2_status'</span> <span style=\"color: #808000; text-decoration-color: #808000\">begin</span>=<span style=\"color: #008080; text-decoration-color: #008080; font-weight: bold\">7883</span> <span style=\"color: #808000; text-decoration-color: #808000\">end</span>=<span style=\"color: #008080; text-decoration-color: #008080; font-weight: bold\">7886</span> <span style=\"color: #808000; text-decoration-color: #808000\">type</span>=<span style=\"color: #008000; text-decoration-color: #008000\">'name'</span> <span style=\"color: #808000; text-decoration-color: #808000\">value</span>=<span style=\"color: #008000; text-decoration-color: #008000\">'her2'</span> <span style=\"color: #808000; text-decoration-color: #808000\">assertion</span>=<span style=\"color: #008000; text-decoration-color: #008000\">'present'</span>\n",
       "</pre>\n"
      ],
      "text/plain": [
       "\u001b[33mpredicate\u001b[0m=\u001b[32m'has_her2_status'\u001b[0m \u001b[33mbegin\u001b[0m=\u001b[1;36m7883\u001b[0m \u001b[33mend\u001b[0m=\u001b[1;36m7886\u001b[0m \u001b[33mtype\u001b[0m=\u001b[32m'name'\u001b[0m \u001b[33mvalue\u001b[0m=\u001b[32m'her2'\u001b[0m \u001b[33massertion\u001b[0m=\u001b[32m'present'\u001b[0m\n"
      ]
     },
     "metadata": {},
     "output_type": "display_data"
    },
    {
     "data": {
      "text/html": [
       "<pre style=\"white-space:pre;overflow-x:auto;line-height:normal;font-family:Menlo,'DejaVu Sans Mono',consolas,'Courier New',monospace\">============================================================================================\n",
       "</pre>\n"
      ],
      "text/plain": [
       "============================================================================================\n"
      ]
     },
     "metadata": {},
     "output_type": "display_data"
    },
    {
     "data": {
      "text/html": [
       "<pre style=\"white-space:pre;overflow-x:auto;line-height:normal;font-family:Menlo,'DejaVu Sans Mono',consolas,'Courier New',monospace\"><span style=\"color: #808000; text-decoration-color: #808000\">predicate</span>=<span style=\"color: #008000; text-decoration-color: #008000\">'has_her2_status'</span> <span style=\"color: #808000; text-decoration-color: #808000\">begin</span>=<span style=\"color: #008080; text-decoration-color: #008080; font-weight: bold\">8051</span> <span style=\"color: #808000; text-decoration-color: #808000\">end</span>=<span style=\"color: #008080; text-decoration-color: #008080; font-weight: bold\">8054</span> <span style=\"color: #808000; text-decoration-color: #808000\">type</span>=<span style=\"color: #008000; text-decoration-color: #008000\">'name'</span> <span style=\"color: #808000; text-decoration-color: #808000\">value</span>=<span style=\"color: #008000; text-decoration-color: #008000\">'her2'</span> <span style=\"color: #808000; text-decoration-color: #808000\">assertion</span>=<span style=\"color: #008000; text-decoration-color: #008000\">'present'</span>\n",
       "</pre>\n"
      ],
      "text/plain": [
       "\u001b[33mpredicate\u001b[0m=\u001b[32m'has_her2_status'\u001b[0m \u001b[33mbegin\u001b[0m=\u001b[1;36m8051\u001b[0m \u001b[33mend\u001b[0m=\u001b[1;36m8054\u001b[0m \u001b[33mtype\u001b[0m=\u001b[32m'name'\u001b[0m \u001b[33mvalue\u001b[0m=\u001b[32m'her2'\u001b[0m \u001b[33massertion\u001b[0m=\u001b[32m'present'\u001b[0m\n"
      ]
     },
     "metadata": {},
     "output_type": "display_data"
    },
    {
     "data": {
      "text/html": [
       "<pre style=\"white-space:pre;overflow-x:auto;line-height:normal;font-family:Menlo,'DejaVu Sans Mono',consolas,'Courier New',monospace\">============================================================================================\n",
       "</pre>\n"
      ],
      "text/plain": [
       "============================================================================================\n"
      ]
     },
     "metadata": {},
     "output_type": "display_data"
    },
    {
     "data": {
      "text/html": [
       "<pre style=\"white-space:pre;overflow-x:auto;line-height:normal;font-family:Menlo,'DejaVu Sans Mono',consolas,'Courier New',monospace\"><span style=\"color: #808000; text-decoration-color: #808000\">predicate</span>=<span style=\"color: #008000; text-decoration-color: #008000\">'has_her2_status'</span> <span style=\"color: #808000; text-decoration-color: #808000\">begin</span>=<span style=\"color: #008080; text-decoration-color: #008080; font-weight: bold\">8099</span> <span style=\"color: #808000; text-decoration-color: #808000\">end</span>=<span style=\"color: #008080; text-decoration-color: #008080; font-weight: bold\">8102</span> <span style=\"color: #808000; text-decoration-color: #808000\">type</span>=<span style=\"color: #008000; text-decoration-color: #008000\">'name'</span> <span style=\"color: #808000; text-decoration-color: #808000\">value</span>=<span style=\"color: #008000; text-decoration-color: #008000\">'her2'</span> <span style=\"color: #808000; text-decoration-color: #808000\">assertion</span>=<span style=\"color: #008000; text-decoration-color: #008000\">'present'</span>\n",
       "</pre>\n"
      ],
      "text/plain": [
       "\u001b[33mpredicate\u001b[0m=\u001b[32m'has_her2_status'\u001b[0m \u001b[33mbegin\u001b[0m=\u001b[1;36m8099\u001b[0m \u001b[33mend\u001b[0m=\u001b[1;36m8102\u001b[0m \u001b[33mtype\u001b[0m=\u001b[32m'name'\u001b[0m \u001b[33mvalue\u001b[0m=\u001b[32m'her2'\u001b[0m \u001b[33massertion\u001b[0m=\u001b[32m'present'\u001b[0m\n"
      ]
     },
     "metadata": {},
     "output_type": "display_data"
    },
    {
     "data": {
      "text/html": [
       "<pre style=\"white-space:pre;overflow-x:auto;line-height:normal;font-family:Menlo,'DejaVu Sans Mono',consolas,'Courier New',monospace\">============================================================================================\n",
       "</pre>\n"
      ],
      "text/plain": [
       "============================================================================================\n"
      ]
     },
     "metadata": {},
     "output_type": "display_data"
    },
    {
     "data": {
      "text/html": [
       "<pre style=\"white-space:pre;overflow-x:auto;line-height:normal;font-family:Menlo,'DejaVu Sans Mono',consolas,'Courier New',monospace\"><span style=\"color: #808000; text-decoration-color: #808000\">predicate</span>=<span style=\"color: #008000; text-decoration-color: #008000\">'has_her2_status'</span> <span style=\"color: #808000; text-decoration-color: #808000\">begin</span>=<span style=\"color: #008080; text-decoration-color: #008080; font-weight: bold\">8124</span> <span style=\"color: #808000; text-decoration-color: #808000\">end</span>=<span style=\"color: #008080; text-decoration-color: #008080; font-weight: bold\">8131</span> <span style=\"color: #808000; text-decoration-color: #808000\">type</span>=<span style=\"color: #008000; text-decoration-color: #008000\">'value'</span> <span style=\"color: #808000; text-decoration-color: #808000\">value</span>=<span style=\"color: #008000; text-decoration-color: #008000\">'positive'</span> \n",
       "<span style=\"color: #808000; text-decoration-color: #808000\">assertion</span>=<span style=\"color: #008000; text-decoration-color: #008000\">'present'</span>\n",
       "</pre>\n"
      ],
      "text/plain": [
       "\u001b[33mpredicate\u001b[0m=\u001b[32m'has_her2_status'\u001b[0m \u001b[33mbegin\u001b[0m=\u001b[1;36m8124\u001b[0m \u001b[33mend\u001b[0m=\u001b[1;36m8131\u001b[0m \u001b[33mtype\u001b[0m=\u001b[32m'value'\u001b[0m \u001b[33mvalue\u001b[0m=\u001b[32m'positive'\u001b[0m \n",
       "\u001b[33massertion\u001b[0m=\u001b[32m'present'\u001b[0m\n"
      ]
     },
     "metadata": {},
     "output_type": "display_data"
    },
    {
     "data": {
      "text/html": [
       "<pre style=\"white-space:pre;overflow-x:auto;line-height:normal;font-family:Menlo,'DejaVu Sans Mono',consolas,'Courier New',monospace\">============================================================================================\n",
       "</pre>\n"
      ],
      "text/plain": [
       "============================================================================================\n"
      ]
     },
     "metadata": {},
     "output_type": "display_data"
    },
    {
     "data": {
      "text/html": [
       "<pre style=\"white-space:pre;overflow-x:auto;line-height:normal;font-family:Menlo,'DejaVu Sans Mono',consolas,'Courier New',monospace\"><span style=\"color: #808000; text-decoration-color: #808000\">predicate</span>=<span style=\"color: #008000; text-decoration-color: #008000\">'has_her2_status'</span> <span style=\"color: #808000; text-decoration-color: #808000\">begin</span>=<span style=\"color: #008080; text-decoration-color: #008080; font-weight: bold\">8245</span> <span style=\"color: #808000; text-decoration-color: #808000\">end</span>=<span style=\"color: #008080; text-decoration-color: #008080; font-weight: bold\">8248</span> <span style=\"color: #808000; text-decoration-color: #808000\">type</span>=<span style=\"color: #008000; text-decoration-color: #008000\">'name'</span> <span style=\"color: #808000; text-decoration-color: #808000\">value</span>=<span style=\"color: #008000; text-decoration-color: #008000\">'her2'</span> <span style=\"color: #808000; text-decoration-color: #808000\">assertion</span>=<span style=\"color: #008000; text-decoration-color: #008000\">'present'</span>\n",
       "</pre>\n"
      ],
      "text/plain": [
       "\u001b[33mpredicate\u001b[0m=\u001b[32m'has_her2_status'\u001b[0m \u001b[33mbegin\u001b[0m=\u001b[1;36m8245\u001b[0m \u001b[33mend\u001b[0m=\u001b[1;36m8248\u001b[0m \u001b[33mtype\u001b[0m=\u001b[32m'name'\u001b[0m \u001b[33mvalue\u001b[0m=\u001b[32m'her2'\u001b[0m \u001b[33massertion\u001b[0m=\u001b[32m'present'\u001b[0m\n"
      ]
     },
     "metadata": {},
     "output_type": "display_data"
    },
    {
     "data": {
      "text/html": [
       "<pre style=\"white-space:pre;overflow-x:auto;line-height:normal;font-family:Menlo,'DejaVu Sans Mono',consolas,'Courier New',monospace\">============================================================================================\n",
       "</pre>\n"
      ],
      "text/plain": [
       "============================================================================================\n"
      ]
     },
     "metadata": {},
     "output_type": "display_data"
    },
    {
     "data": {
      "text/html": [
       "<pre style=\"white-space:pre;overflow-x:auto;line-height:normal;font-family:Menlo,'DejaVu Sans Mono',consolas,'Courier New',monospace\"><span style=\"color: #808000; text-decoration-color: #808000\">predicate</span>=<span style=\"color: #008000; text-decoration-color: #008000\">'has_her2_status'</span> <span style=\"color: #808000; text-decoration-color: #808000\">begin</span>=<span style=\"color: #008080; text-decoration-color: #008080; font-weight: bold\">8342</span> <span style=\"color: #808000; text-decoration-color: #808000\">end</span>=<span style=\"color: #008080; text-decoration-color: #008080; font-weight: bold\">8345</span> <span style=\"color: #808000; text-decoration-color: #808000\">type</span>=<span style=\"color: #008000; text-decoration-color: #008000\">'name'</span> <span style=\"color: #808000; text-decoration-color: #808000\">value</span>=<span style=\"color: #008000; text-decoration-color: #008000\">'her2'</span> <span style=\"color: #808000; text-decoration-color: #808000\">assertion</span>=<span style=\"color: #008000; text-decoration-color: #008000\">'present'</span>\n",
       "</pre>\n"
      ],
      "text/plain": [
       "\u001b[33mpredicate\u001b[0m=\u001b[32m'has_her2_status'\u001b[0m \u001b[33mbegin\u001b[0m=\u001b[1;36m8342\u001b[0m \u001b[33mend\u001b[0m=\u001b[1;36m8345\u001b[0m \u001b[33mtype\u001b[0m=\u001b[32m'name'\u001b[0m \u001b[33mvalue\u001b[0m=\u001b[32m'her2'\u001b[0m \u001b[33massertion\u001b[0m=\u001b[32m'present'\u001b[0m\n"
      ]
     },
     "metadata": {},
     "output_type": "display_data"
    },
    {
     "data": {
      "text/html": [
       "<pre style=\"white-space:pre;overflow-x:auto;line-height:normal;font-family:Menlo,'DejaVu Sans Mono',consolas,'Courier New',monospace\">============================================================================================\n",
       "</pre>\n"
      ],
      "text/plain": [
       "============================================================================================\n"
      ]
     },
     "metadata": {},
     "output_type": "display_data"
    },
    {
     "data": {
      "text/html": [
       "<pre style=\"white-space:pre;overflow-x:auto;line-height:normal;font-family:Menlo,'DejaVu Sans Mono',consolas,'Courier New',monospace\"><span style=\"color: #808000; text-decoration-color: #808000\">predicate</span>=<span style=\"color: #008000; text-decoration-color: #008000\">'has_her2_status'</span> <span style=\"color: #808000; text-decoration-color: #808000\">begin</span>=<span style=\"color: #008080; text-decoration-color: #008080; font-weight: bold\">8476</span> <span style=\"color: #808000; text-decoration-color: #808000\">end</span>=<span style=\"color: #008080; text-decoration-color: #008080; font-weight: bold\">8479</span> <span style=\"color: #808000; text-decoration-color: #808000\">type</span>=<span style=\"color: #008000; text-decoration-color: #008000\">'name'</span> <span style=\"color: #808000; text-decoration-color: #808000\">value</span>=<span style=\"color: #008000; text-decoration-color: #008000\">'her2'</span> <span style=\"color: #808000; text-decoration-color: #808000\">assertion</span>=<span style=\"color: #008000; text-decoration-color: #008000\">'present'</span>\n",
       "</pre>\n"
      ],
      "text/plain": [
       "\u001b[33mpredicate\u001b[0m=\u001b[32m'has_her2_status'\u001b[0m \u001b[33mbegin\u001b[0m=\u001b[1;36m8476\u001b[0m \u001b[33mend\u001b[0m=\u001b[1;36m8479\u001b[0m \u001b[33mtype\u001b[0m=\u001b[32m'name'\u001b[0m \u001b[33mvalue\u001b[0m=\u001b[32m'her2'\u001b[0m \u001b[33massertion\u001b[0m=\u001b[32m'present'\u001b[0m\n"
      ]
     },
     "metadata": {},
     "output_type": "display_data"
    },
    {
     "data": {
      "text/html": [
       "<pre style=\"white-space:pre;overflow-x:auto;line-height:normal;font-family:Menlo,'DejaVu Sans Mono',consolas,'Courier New',monospace\">============================================================================================\n",
       "</pre>\n"
      ],
      "text/plain": [
       "============================================================================================\n"
      ]
     },
     "metadata": {},
     "output_type": "display_data"
    },
    {
     "data": {
      "text/html": [
       "<pre style=\"white-space:pre;overflow-x:auto;line-height:normal;font-family:Menlo,'DejaVu Sans Mono',consolas,'Courier New',monospace\"><span style=\"color: #808000; text-decoration-color: #808000\">predicate</span>=<span style=\"color: #008000; text-decoration-color: #008000\">'has_her2_status'</span> <span style=\"color: #808000; text-decoration-color: #808000\">begin</span>=<span style=\"color: #008080; text-decoration-color: #008080; font-weight: bold\">8504</span> <span style=\"color: #808000; text-decoration-color: #808000\">end</span>=<span style=\"color: #008080; text-decoration-color: #008080; font-weight: bold\">8507</span> <span style=\"color: #808000; text-decoration-color: #808000\">type</span>=<span style=\"color: #008000; text-decoration-color: #008000\">'name'</span> <span style=\"color: #808000; text-decoration-color: #808000\">value</span>=<span style=\"color: #008000; text-decoration-color: #008000\">'her2'</span> <span style=\"color: #808000; text-decoration-color: #808000\">assertion</span>=<span style=\"color: #008000; text-decoration-color: #008000\">'present'</span>\n",
       "</pre>\n"
      ],
      "text/plain": [
       "\u001b[33mpredicate\u001b[0m=\u001b[32m'has_her2_status'\u001b[0m \u001b[33mbegin\u001b[0m=\u001b[1;36m8504\u001b[0m \u001b[33mend\u001b[0m=\u001b[1;36m8507\u001b[0m \u001b[33mtype\u001b[0m=\u001b[32m'name'\u001b[0m \u001b[33mvalue\u001b[0m=\u001b[32m'her2'\u001b[0m \u001b[33massertion\u001b[0m=\u001b[32m'present'\u001b[0m\n"
      ]
     },
     "metadata": {},
     "output_type": "display_data"
    },
    {
     "data": {
      "text/html": [
       "<pre style=\"white-space:pre;overflow-x:auto;line-height:normal;font-family:Menlo,'DejaVu Sans Mono',consolas,'Courier New',monospace\">============================================================================================\n",
       "</pre>\n"
      ],
      "text/plain": [
       "============================================================================================\n"
      ]
     },
     "metadata": {},
     "output_type": "display_data"
    },
    {
     "data": {
      "text/html": [
       "<pre style=\"white-space:pre;overflow-x:auto;line-height:normal;font-family:Menlo,'DejaVu Sans Mono',consolas,'Courier New',monospace\"><span style=\"color: #808000; text-decoration-color: #808000\">predicate</span>=<span style=\"color: #008000; text-decoration-color: #008000\">'has_her2_status'</span> <span style=\"color: #808000; text-decoration-color: #808000\">begin</span>=<span style=\"color: #008080; text-decoration-color: #008080; font-weight: bold\">8532</span> <span style=\"color: #808000; text-decoration-color: #808000\">end</span>=<span style=\"color: #008080; text-decoration-color: #008080; font-weight: bold\">8535</span> <span style=\"color: #808000; text-decoration-color: #808000\">type</span>=<span style=\"color: #008000; text-decoration-color: #008000\">'name'</span> <span style=\"color: #808000; text-decoration-color: #808000\">value</span>=<span style=\"color: #008000; text-decoration-color: #008000\">'her2'</span> <span style=\"color: #808000; text-decoration-color: #808000\">assertion</span>=<span style=\"color: #008000; text-decoration-color: #008000\">'present'</span>\n",
       "</pre>\n"
      ],
      "text/plain": [
       "\u001b[33mpredicate\u001b[0m=\u001b[32m'has_her2_status'\u001b[0m \u001b[33mbegin\u001b[0m=\u001b[1;36m8532\u001b[0m \u001b[33mend\u001b[0m=\u001b[1;36m8535\u001b[0m \u001b[33mtype\u001b[0m=\u001b[32m'name'\u001b[0m \u001b[33mvalue\u001b[0m=\u001b[32m'her2'\u001b[0m \u001b[33massertion\u001b[0m=\u001b[32m'present'\u001b[0m\n"
      ]
     },
     "metadata": {},
     "output_type": "display_data"
    },
    {
     "data": {
      "text/html": [
       "<pre style=\"white-space:pre;overflow-x:auto;line-height:normal;font-family:Menlo,'DejaVu Sans Mono',consolas,'Courier New',monospace\">============================================================================================\n",
       "</pre>\n"
      ],
      "text/plain": [
       "============================================================================================\n"
      ]
     },
     "metadata": {},
     "output_type": "display_data"
    },
    {
     "data": {
      "text/html": [
       "<pre style=\"white-space:pre;overflow-x:auto;line-height:normal;font-family:Menlo,'DejaVu Sans Mono',consolas,'Courier New',monospace\"><span style=\"color: #808000; text-decoration-color: #808000\">predicate</span>=<span style=\"color: #008000; text-decoration-color: #008000\">'has_her2_status'</span> <span style=\"color: #808000; text-decoration-color: #808000\">begin</span>=<span style=\"color: #008080; text-decoration-color: #008080; font-weight: bold\">8560</span> <span style=\"color: #808000; text-decoration-color: #808000\">end</span>=<span style=\"color: #008080; text-decoration-color: #008080; font-weight: bold\">8563</span> <span style=\"color: #808000; text-decoration-color: #808000\">type</span>=<span style=\"color: #008000; text-decoration-color: #008000\">'name'</span> <span style=\"color: #808000; text-decoration-color: #808000\">value</span>=<span style=\"color: #008000; text-decoration-color: #008000\">'her2'</span> <span style=\"color: #808000; text-decoration-color: #808000\">assertion</span>=<span style=\"color: #008000; text-decoration-color: #008000\">'present'</span>\n",
       "</pre>\n"
      ],
      "text/plain": [
       "\u001b[33mpredicate\u001b[0m=\u001b[32m'has_her2_status'\u001b[0m \u001b[33mbegin\u001b[0m=\u001b[1;36m8560\u001b[0m \u001b[33mend\u001b[0m=\u001b[1;36m8563\u001b[0m \u001b[33mtype\u001b[0m=\u001b[32m'name'\u001b[0m \u001b[33mvalue\u001b[0m=\u001b[32m'her2'\u001b[0m \u001b[33massertion\u001b[0m=\u001b[32m'present'\u001b[0m\n"
      ]
     },
     "metadata": {},
     "output_type": "display_data"
    },
    {
     "data": {
      "text/html": [
       "<pre style=\"white-space:pre;overflow-x:auto;line-height:normal;font-family:Menlo,'DejaVu Sans Mono',consolas,'Courier New',monospace\">============================================================================================\n",
       "</pre>\n"
      ],
      "text/plain": [
       "============================================================================================\n"
      ]
     },
     "metadata": {},
     "output_type": "display_data"
    },
    {
     "data": {
      "text/html": [
       "<pre style=\"white-space:pre;overflow-x:auto;line-height:normal;font-family:Menlo,'DejaVu Sans Mono',consolas,'Courier New',monospace\"><span style=\"color: #808000; text-decoration-color: #808000\">predicate</span>=<span style=\"color: #008000; text-decoration-color: #008000\">'has_her2_status'</span> <span style=\"color: #808000; text-decoration-color: #808000\">begin</span>=<span style=\"color: #008080; text-decoration-color: #008080; font-weight: bold\">8588</span> <span style=\"color: #808000; text-decoration-color: #808000\">end</span>=<span style=\"color: #008080; text-decoration-color: #008080; font-weight: bold\">8591</span> <span style=\"color: #808000; text-decoration-color: #808000\">type</span>=<span style=\"color: #008000; text-decoration-color: #008000\">'name'</span> <span style=\"color: #808000; text-decoration-color: #808000\">value</span>=<span style=\"color: #008000; text-decoration-color: #008000\">'her2'</span> <span style=\"color: #808000; text-decoration-color: #808000\">assertion</span>=<span style=\"color: #008000; text-decoration-color: #008000\">'present'</span>\n",
       "</pre>\n"
      ],
      "text/plain": [
       "\u001b[33mpredicate\u001b[0m=\u001b[32m'has_her2_status'\u001b[0m \u001b[33mbegin\u001b[0m=\u001b[1;36m8588\u001b[0m \u001b[33mend\u001b[0m=\u001b[1;36m8591\u001b[0m \u001b[33mtype\u001b[0m=\u001b[32m'name'\u001b[0m \u001b[33mvalue\u001b[0m=\u001b[32m'her2'\u001b[0m \u001b[33massertion\u001b[0m=\u001b[32m'present'\u001b[0m\n"
      ]
     },
     "metadata": {},
     "output_type": "display_data"
    },
    {
     "data": {
      "text/html": [
       "<pre style=\"white-space:pre;overflow-x:auto;line-height:normal;font-family:Menlo,'DejaVu Sans Mono',consolas,'Courier New',monospace\">============================================================================================\n",
       "</pre>\n"
      ],
      "text/plain": [
       "============================================================================================\n"
      ]
     },
     "metadata": {},
     "output_type": "display_data"
    },
    {
     "data": {
      "text/html": [
       "<pre style=\"white-space:pre;overflow-x:auto;line-height:normal;font-family:Menlo,'DejaVu Sans Mono',consolas,'Courier New',monospace\"><span style=\"color: #808000; text-decoration-color: #808000\">predicate</span>=<span style=\"color: #008000; text-decoration-color: #008000\">'has_her2_status'</span> <span style=\"color: #808000; text-decoration-color: #808000\">begin</span>=<span style=\"color: #008080; text-decoration-color: #008080; font-weight: bold\">8616</span> <span style=\"color: #808000; text-decoration-color: #808000\">end</span>=<span style=\"color: #008080; text-decoration-color: #008080; font-weight: bold\">8619</span> <span style=\"color: #808000; text-decoration-color: #808000\">type</span>=<span style=\"color: #008000; text-decoration-color: #008000\">'name'</span> <span style=\"color: #808000; text-decoration-color: #808000\">value</span>=<span style=\"color: #008000; text-decoration-color: #008000\">'her2'</span> <span style=\"color: #808000; text-decoration-color: #808000\">assertion</span>=<span style=\"color: #008000; text-decoration-color: #008000\">'present'</span>\n",
       "</pre>\n"
      ],
      "text/plain": [
       "\u001b[33mpredicate\u001b[0m=\u001b[32m'has_her2_status'\u001b[0m \u001b[33mbegin\u001b[0m=\u001b[1;36m8616\u001b[0m \u001b[33mend\u001b[0m=\u001b[1;36m8619\u001b[0m \u001b[33mtype\u001b[0m=\u001b[32m'name'\u001b[0m \u001b[33mvalue\u001b[0m=\u001b[32m'her2'\u001b[0m \u001b[33massertion\u001b[0m=\u001b[32m'present'\u001b[0m\n"
      ]
     },
     "metadata": {},
     "output_type": "display_data"
    },
    {
     "data": {
      "text/html": [
       "<pre style=\"white-space:pre;overflow-x:auto;line-height:normal;font-family:Menlo,'DejaVu Sans Mono',consolas,'Courier New',monospace\">============================================================================================\n",
       "</pre>\n"
      ],
      "text/plain": [
       "============================================================================================\n"
      ]
     },
     "metadata": {},
     "output_type": "display_data"
    },
    {
     "data": {
      "text/html": [
       "<pre style=\"white-space:pre;overflow-x:auto;line-height:normal;font-family:Menlo,'DejaVu Sans Mono',consolas,'Courier New',monospace\"><span style=\"color: #808000; text-decoration-color: #808000\">predicate</span>=<span style=\"color: #008000; text-decoration-color: #008000\">'has_her2_status'</span> <span style=\"color: #808000; text-decoration-color: #808000\">begin</span>=<span style=\"color: #008080; text-decoration-color: #008080; font-weight: bold\">8644</span> <span style=\"color: #808000; text-decoration-color: #808000\">end</span>=<span style=\"color: #008080; text-decoration-color: #008080; font-weight: bold\">8647</span> <span style=\"color: #808000; text-decoration-color: #808000\">type</span>=<span style=\"color: #008000; text-decoration-color: #008000\">'name'</span> <span style=\"color: #808000; text-decoration-color: #808000\">value</span>=<span style=\"color: #008000; text-decoration-color: #008000\">'her2'</span> <span style=\"color: #808000; text-decoration-color: #808000\">assertion</span>=<span style=\"color: #008000; text-decoration-color: #008000\">'present'</span>\n",
       "</pre>\n"
      ],
      "text/plain": [
       "\u001b[33mpredicate\u001b[0m=\u001b[32m'has_her2_status'\u001b[0m \u001b[33mbegin\u001b[0m=\u001b[1;36m8644\u001b[0m \u001b[33mend\u001b[0m=\u001b[1;36m8647\u001b[0m \u001b[33mtype\u001b[0m=\u001b[32m'name'\u001b[0m \u001b[33mvalue\u001b[0m=\u001b[32m'her2'\u001b[0m \u001b[33massertion\u001b[0m=\u001b[32m'present'\u001b[0m\n"
      ]
     },
     "metadata": {},
     "output_type": "display_data"
    },
    {
     "data": {
      "text/html": [
       "<pre style=\"white-space:pre;overflow-x:auto;line-height:normal;font-family:Menlo,'DejaVu Sans Mono',consolas,'Courier New',monospace\">============================================================================================\n",
       "</pre>\n"
      ],
      "text/plain": [
       "============================================================================================\n"
      ]
     },
     "metadata": {},
     "output_type": "display_data"
    },
    {
     "data": {
      "text/html": [
       "<pre style=\"white-space:pre;overflow-x:auto;line-height:normal;font-family:Menlo,'DejaVu Sans Mono',consolas,'Courier New',monospace\"><span style=\"color: #808000; text-decoration-color: #808000\">predicate</span>=<span style=\"color: #008000; text-decoration-color: #008000\">'has_her2_status'</span> <span style=\"color: #808000; text-decoration-color: #808000\">begin</span>=<span style=\"color: #008080; text-decoration-color: #008080; font-weight: bold\">8681</span> <span style=\"color: #808000; text-decoration-color: #808000\">end</span>=<span style=\"color: #008080; text-decoration-color: #008080; font-weight: bold\">8684</span> <span style=\"color: #808000; text-decoration-color: #808000\">type</span>=<span style=\"color: #008000; text-decoration-color: #008000\">'name'</span> <span style=\"color: #808000; text-decoration-color: #808000\">value</span>=<span style=\"color: #008000; text-decoration-color: #008000\">'her2'</span> <span style=\"color: #808000; text-decoration-color: #808000\">assertion</span>=<span style=\"color: #008000; text-decoration-color: #008000\">'present'</span>\n",
       "</pre>\n"
      ],
      "text/plain": [
       "\u001b[33mpredicate\u001b[0m=\u001b[32m'has_her2_status'\u001b[0m \u001b[33mbegin\u001b[0m=\u001b[1;36m8681\u001b[0m \u001b[33mend\u001b[0m=\u001b[1;36m8684\u001b[0m \u001b[33mtype\u001b[0m=\u001b[32m'name'\u001b[0m \u001b[33mvalue\u001b[0m=\u001b[32m'her2'\u001b[0m \u001b[33massertion\u001b[0m=\u001b[32m'present'\u001b[0m\n"
      ]
     },
     "metadata": {},
     "output_type": "display_data"
    },
    {
     "data": {
      "text/html": [
       "<pre style=\"white-space:pre;overflow-x:auto;line-height:normal;font-family:Menlo,'DejaVu Sans Mono',consolas,'Courier New',monospace\">============================================================================================\n",
       "</pre>\n"
      ],
      "text/plain": [
       "============================================================================================\n"
      ]
     },
     "metadata": {},
     "output_type": "display_data"
    },
    {
     "data": {
      "text/html": [
       "<pre style=\"white-space:pre;overflow-x:auto;line-height:normal;font-family:Menlo,'DejaVu Sans Mono',consolas,'Courier New',monospace\"><span style=\"color: #808000; text-decoration-color: #808000\">predicate</span>=<span style=\"color: #008000; text-decoration-color: #008000\">'has_her2_status'</span> <span style=\"color: #808000; text-decoration-color: #808000\">begin</span>=<span style=\"color: #008080; text-decoration-color: #008080; font-weight: bold\">8709</span> <span style=\"color: #808000; text-decoration-color: #808000\">end</span>=<span style=\"color: #008080; text-decoration-color: #008080; font-weight: bold\">8712</span> <span style=\"color: #808000; text-decoration-color: #808000\">type</span>=<span style=\"color: #008000; text-decoration-color: #008000\">'name'</span> <span style=\"color: #808000; text-decoration-color: #808000\">value</span>=<span style=\"color: #008000; text-decoration-color: #008000\">'her2'</span> <span style=\"color: #808000; text-decoration-color: #808000\">assertion</span>=<span style=\"color: #008000; text-decoration-color: #008000\">'present'</span>\n",
       "</pre>\n"
      ],
      "text/plain": [
       "\u001b[33mpredicate\u001b[0m=\u001b[32m'has_her2_status'\u001b[0m \u001b[33mbegin\u001b[0m=\u001b[1;36m8709\u001b[0m \u001b[33mend\u001b[0m=\u001b[1;36m8712\u001b[0m \u001b[33mtype\u001b[0m=\u001b[32m'name'\u001b[0m \u001b[33mvalue\u001b[0m=\u001b[32m'her2'\u001b[0m \u001b[33massertion\u001b[0m=\u001b[32m'present'\u001b[0m\n"
      ]
     },
     "metadata": {},
     "output_type": "display_data"
    },
    {
     "data": {
      "text/html": [
       "<pre style=\"white-space:pre;overflow-x:auto;line-height:normal;font-family:Menlo,'DejaVu Sans Mono',consolas,'Courier New',monospace\">============================================================================================\n",
       "</pre>\n"
      ],
      "text/plain": [
       "============================================================================================\n"
      ]
     },
     "metadata": {},
     "output_type": "display_data"
    },
    {
     "data": {
      "text/html": [
       "<pre style=\"white-space:pre;overflow-x:auto;line-height:normal;font-family:Menlo,'DejaVu Sans Mono',consolas,'Courier New',monospace\"><span style=\"color: #808000; text-decoration-color: #808000\">predicate</span>=<span style=\"color: #008000; text-decoration-color: #008000\">'has_her2_status'</span> <span style=\"color: #808000; text-decoration-color: #808000\">begin</span>=<span style=\"color: #008080; text-decoration-color: #008080; font-weight: bold\">8737</span> <span style=\"color: #808000; text-decoration-color: #808000\">end</span>=<span style=\"color: #008080; text-decoration-color: #008080; font-weight: bold\">8740</span> <span style=\"color: #808000; text-decoration-color: #808000\">type</span>=<span style=\"color: #008000; text-decoration-color: #008000\">'name'</span> <span style=\"color: #808000; text-decoration-color: #808000\">value</span>=<span style=\"color: #008000; text-decoration-color: #008000\">'her2'</span> <span style=\"color: #808000; text-decoration-color: #808000\">assertion</span>=<span style=\"color: #008000; text-decoration-color: #008000\">'present'</span>\n",
       "</pre>\n"
      ],
      "text/plain": [
       "\u001b[33mpredicate\u001b[0m=\u001b[32m'has_her2_status'\u001b[0m \u001b[33mbegin\u001b[0m=\u001b[1;36m8737\u001b[0m \u001b[33mend\u001b[0m=\u001b[1;36m8740\u001b[0m \u001b[33mtype\u001b[0m=\u001b[32m'name'\u001b[0m \u001b[33mvalue\u001b[0m=\u001b[32m'her2'\u001b[0m \u001b[33massertion\u001b[0m=\u001b[32m'present'\u001b[0m\n"
      ]
     },
     "metadata": {},
     "output_type": "display_data"
    },
    {
     "data": {
      "text/html": [
       "<pre style=\"white-space:pre;overflow-x:auto;line-height:normal;font-family:Menlo,'DejaVu Sans Mono',consolas,'Courier New',monospace\">============================================================================================\n",
       "</pre>\n"
      ],
      "text/plain": [
       "============================================================================================\n"
      ]
     },
     "metadata": {},
     "output_type": "display_data"
    },
    {
     "data": {
      "text/html": [
       "<pre style=\"white-space:pre;overflow-x:auto;line-height:normal;font-family:Menlo,'DejaVu Sans Mono',consolas,'Courier New',monospace\"><span style=\"color: #808000; text-decoration-color: #808000\">predicate</span>=<span style=\"color: #008000; text-decoration-color: #008000\">'has_her2_status'</span> <span style=\"color: #808000; text-decoration-color: #808000\">begin</span>=<span style=\"color: #008080; text-decoration-color: #008080; font-weight: bold\">8777</span> <span style=\"color: #808000; text-decoration-color: #808000\">end</span>=<span style=\"color: #008080; text-decoration-color: #008080; font-weight: bold\">8780</span> <span style=\"color: #808000; text-decoration-color: #808000\">type</span>=<span style=\"color: #008000; text-decoration-color: #008000\">'name'</span> <span style=\"color: #808000; text-decoration-color: #808000\">value</span>=<span style=\"color: #008000; text-decoration-color: #008000\">'her2'</span> <span style=\"color: #808000; text-decoration-color: #808000\">assertion</span>=<span style=\"color: #008000; text-decoration-color: #008000\">'present'</span>\n",
       "</pre>\n"
      ],
      "text/plain": [
       "\u001b[33mpredicate\u001b[0m=\u001b[32m'has_her2_status'\u001b[0m \u001b[33mbegin\u001b[0m=\u001b[1;36m8777\u001b[0m \u001b[33mend\u001b[0m=\u001b[1;36m8780\u001b[0m \u001b[33mtype\u001b[0m=\u001b[32m'name'\u001b[0m \u001b[33mvalue\u001b[0m=\u001b[32m'her2'\u001b[0m \u001b[33massertion\u001b[0m=\u001b[32m'present'\u001b[0m\n"
      ]
     },
     "metadata": {},
     "output_type": "display_data"
    },
    {
     "data": {
      "text/html": [
       "<pre style=\"white-space:pre;overflow-x:auto;line-height:normal;font-family:Menlo,'DejaVu Sans Mono',consolas,'Courier New',monospace\">============================================================================================\n",
       "</pre>\n"
      ],
      "text/plain": [
       "============================================================================================\n"
      ]
     },
     "metadata": {},
     "output_type": "display_data"
    },
    {
     "data": {
      "text/html": [
       "<pre style=\"white-space:pre;overflow-x:auto;line-height:normal;font-family:Menlo,'DejaVu Sans Mono',consolas,'Courier New',monospace\"><span style=\"color: #808000; text-decoration-color: #808000\">predicate</span>=<span style=\"color: #008000; text-decoration-color: #008000\">'has_her2_status'</span> <span style=\"color: #808000; text-decoration-color: #808000\">begin</span>=<span style=\"color: #008080; text-decoration-color: #008080; font-weight: bold\">9401</span> <span style=\"color: #808000; text-decoration-color: #808000\">end</span>=<span style=\"color: #008080; text-decoration-color: #008080; font-weight: bold\">9404</span> <span style=\"color: #808000; text-decoration-color: #808000\">type</span>=<span style=\"color: #008000; text-decoration-color: #008000\">'name'</span> <span style=\"color: #808000; text-decoration-color: #808000\">value</span>=<span style=\"color: #008000; text-decoration-color: #008000\">'her2'</span> <span style=\"color: #808000; text-decoration-color: #808000\">assertion</span>=<span style=\"color: #008000; text-decoration-color: #008000\">'present'</span>\n",
       "</pre>\n"
      ],
      "text/plain": [
       "\u001b[33mpredicate\u001b[0m=\u001b[32m'has_her2_status'\u001b[0m \u001b[33mbegin\u001b[0m=\u001b[1;36m9401\u001b[0m \u001b[33mend\u001b[0m=\u001b[1;36m9404\u001b[0m \u001b[33mtype\u001b[0m=\u001b[32m'name'\u001b[0m \u001b[33mvalue\u001b[0m=\u001b[32m'her2'\u001b[0m \u001b[33massertion\u001b[0m=\u001b[32m'present'\u001b[0m\n"
      ]
     },
     "metadata": {},
     "output_type": "display_data"
    },
    {
     "data": {
      "text/html": [
       "<pre style=\"white-space:pre;overflow-x:auto;line-height:normal;font-family:Menlo,'DejaVu Sans Mono',consolas,'Courier New',monospace\">============================================================================================\n",
       "</pre>\n"
      ],
      "text/plain": [
       "============================================================================================\n"
      ]
     },
     "metadata": {},
     "output_type": "display_data"
    },
    {
     "data": {
      "text/html": [
       "<pre style=\"white-space:pre;overflow-x:auto;line-height:normal;font-family:Menlo,'DejaVu Sans Mono',consolas,'Courier New',monospace\"><span style=\"color: #808000; text-decoration-color: #808000\">predicate</span>=<span style=\"color: #008000; text-decoration-color: #008000\">'has_her2_status'</span> <span style=\"color: #808000; text-decoration-color: #808000\">begin</span>=<span style=\"color: #008080; text-decoration-color: #008080; font-weight: bold\">9345</span> <span style=\"color: #808000; text-decoration-color: #808000\">end</span>=<span style=\"color: #008080; text-decoration-color: #008080; font-weight: bold\">9352</span> <span style=\"color: #808000; text-decoration-color: #808000\">type</span>=<span style=\"color: #008000; text-decoration-color: #008000\">'value'</span> <span style=\"color: #808000; text-decoration-color: #808000\">value</span>=<span style=\"color: #008000; text-decoration-color: #008000\">'negative'</span> \n",
       "<span style=\"color: #808000; text-decoration-color: #808000\">assertion</span>=<span style=\"color: #008000; text-decoration-color: #008000\">'present'</span>\n",
       "</pre>\n"
      ],
      "text/plain": [
       "\u001b[33mpredicate\u001b[0m=\u001b[32m'has_her2_status'\u001b[0m \u001b[33mbegin\u001b[0m=\u001b[1;36m9345\u001b[0m \u001b[33mend\u001b[0m=\u001b[1;36m9352\u001b[0m \u001b[33mtype\u001b[0m=\u001b[32m'value'\u001b[0m \u001b[33mvalue\u001b[0m=\u001b[32m'negative'\u001b[0m \n",
       "\u001b[33massertion\u001b[0m=\u001b[32m'present'\u001b[0m\n"
      ]
     },
     "metadata": {},
     "output_type": "display_data"
    },
    {
     "data": {
      "text/html": [
       "<pre style=\"white-space:pre;overflow-x:auto;line-height:normal;font-family:Menlo,'DejaVu Sans Mono',consolas,'Courier New',monospace\">============================================================================================\n",
       "</pre>\n"
      ],
      "text/plain": [
       "============================================================================================\n"
      ]
     },
     "metadata": {},
     "output_type": "display_data"
    },
    {
     "data": {
      "text/html": [
       "<pre style=\"white-space:pre;overflow-x:auto;line-height:normal;font-family:Menlo,'DejaVu Sans Mono',consolas,'Courier New',monospace\"><span style=\"color: #808000; text-decoration-color: #808000\">predicate</span>=<span style=\"color: #008000; text-decoration-color: #008000\">'has_her2_status'</span> <span style=\"color: #808000; text-decoration-color: #808000\">begin</span>=<span style=\"color: #008080; text-decoration-color: #008080; font-weight: bold\">9457</span> <span style=\"color: #808000; text-decoration-color: #808000\">end</span>=<span style=\"color: #008080; text-decoration-color: #008080; font-weight: bold\">9460</span> <span style=\"color: #808000; text-decoration-color: #808000\">type</span>=<span style=\"color: #008000; text-decoration-color: #008000\">'name'</span> <span style=\"color: #808000; text-decoration-color: #808000\">value</span>=<span style=\"color: #008000; text-decoration-color: #008000\">'her2'</span> <span style=\"color: #808000; text-decoration-color: #808000\">assertion</span>=<span style=\"color: #008000; text-decoration-color: #008000\">'present'</span>\n",
       "</pre>\n"
      ],
      "text/plain": [
       "\u001b[33mpredicate\u001b[0m=\u001b[32m'has_her2_status'\u001b[0m \u001b[33mbegin\u001b[0m=\u001b[1;36m9457\u001b[0m \u001b[33mend\u001b[0m=\u001b[1;36m9460\u001b[0m \u001b[33mtype\u001b[0m=\u001b[32m'name'\u001b[0m \u001b[33mvalue\u001b[0m=\u001b[32m'her2'\u001b[0m \u001b[33massertion\u001b[0m=\u001b[32m'present'\u001b[0m\n"
      ]
     },
     "metadata": {},
     "output_type": "display_data"
    },
    {
     "data": {
      "text/html": [
       "<pre style=\"white-space:pre;overflow-x:auto;line-height:normal;font-family:Menlo,'DejaVu Sans Mono',consolas,'Courier New',monospace\">============================================================================================\n",
       "</pre>\n"
      ],
      "text/plain": [
       "============================================================================================\n"
      ]
     },
     "metadata": {},
     "output_type": "display_data"
    },
    {
     "data": {
      "text/html": [
       "<pre style=\"white-space:pre;overflow-x:auto;line-height:normal;font-family:Menlo,'DejaVu Sans Mono',consolas,'Courier New',monospace\"><span style=\"color: #808000; text-decoration-color: #808000\">predicate</span>=<span style=\"color: #008000; text-decoration-color: #008000\">'has_her2_status'</span> <span style=\"color: #808000; text-decoration-color: #808000\">begin</span>=<span style=\"color: #008080; text-decoration-color: #008080; font-weight: bold\">9345</span> <span style=\"color: #808000; text-decoration-color: #808000\">end</span>=<span style=\"color: #008080; text-decoration-color: #008080; font-weight: bold\">9352</span> <span style=\"color: #808000; text-decoration-color: #808000\">type</span>=<span style=\"color: #008000; text-decoration-color: #008000\">'value'</span> <span style=\"color: #808000; text-decoration-color: #808000\">value</span>=<span style=\"color: #008000; text-decoration-color: #008000\">'negative'</span> \n",
       "<span style=\"color: #808000; text-decoration-color: #808000\">assertion</span>=<span style=\"color: #008000; text-decoration-color: #008000\">'present'</span>\n",
       "</pre>\n"
      ],
      "text/plain": [
       "\u001b[33mpredicate\u001b[0m=\u001b[32m'has_her2_status'\u001b[0m \u001b[33mbegin\u001b[0m=\u001b[1;36m9345\u001b[0m \u001b[33mend\u001b[0m=\u001b[1;36m9352\u001b[0m \u001b[33mtype\u001b[0m=\u001b[32m'value'\u001b[0m \u001b[33mvalue\u001b[0m=\u001b[32m'negative'\u001b[0m \n",
       "\u001b[33massertion\u001b[0m=\u001b[32m'present'\u001b[0m\n"
      ]
     },
     "metadata": {},
     "output_type": "display_data"
    },
    {
     "data": {
      "text/html": [
       "<pre style=\"white-space:pre;overflow-x:auto;line-height:normal;font-family:Menlo,'DejaVu Sans Mono',consolas,'Courier New',monospace\">============================================================================================\n",
       "</pre>\n"
      ],
      "text/plain": [
       "============================================================================================\n"
      ]
     },
     "metadata": {},
     "output_type": "display_data"
    },
    {
     "data": {
      "text/html": [
       "<pre style=\"white-space:pre;overflow-x:auto;line-height:normal;font-family:Menlo,'DejaVu Sans Mono',consolas,'Courier New',monospace\"><span style=\"color: #808000; text-decoration-color: #808000\">predicate</span>=<span style=\"color: #008000; text-decoration-color: #008000\">'has_her2_status'</span> <span style=\"color: #808000; text-decoration-color: #808000\">begin</span>=<span style=\"color: #008080; text-decoration-color: #008080; font-weight: bold\">9494</span> <span style=\"color: #808000; text-decoration-color: #808000\">end</span>=<span style=\"color: #008080; text-decoration-color: #008080; font-weight: bold\">9497</span> <span style=\"color: #808000; text-decoration-color: #808000\">type</span>=<span style=\"color: #008000; text-decoration-color: #008000\">'name'</span> <span style=\"color: #808000; text-decoration-color: #808000\">value</span>=<span style=\"color: #008000; text-decoration-color: #008000\">'her2'</span> <span style=\"color: #808000; text-decoration-color: #808000\">assertion</span>=<span style=\"color: #008000; text-decoration-color: #008000\">'present'</span>\n",
       "</pre>\n"
      ],
      "text/plain": [
       "\u001b[33mpredicate\u001b[0m=\u001b[32m'has_her2_status'\u001b[0m \u001b[33mbegin\u001b[0m=\u001b[1;36m9494\u001b[0m \u001b[33mend\u001b[0m=\u001b[1;36m9497\u001b[0m \u001b[33mtype\u001b[0m=\u001b[32m'name'\u001b[0m \u001b[33mvalue\u001b[0m=\u001b[32m'her2'\u001b[0m \u001b[33massertion\u001b[0m=\u001b[32m'present'\u001b[0m\n"
      ]
     },
     "metadata": {},
     "output_type": "display_data"
    },
    {
     "data": {
      "text/html": [
       "<pre style=\"white-space:pre;overflow-x:auto;line-height:normal;font-family:Menlo,'DejaVu Sans Mono',consolas,'Courier New',monospace\">============================================================================================\n",
       "</pre>\n"
      ],
      "text/plain": [
       "============================================================================================\n"
      ]
     },
     "metadata": {},
     "output_type": "display_data"
    },
    {
     "data": {
      "text/html": [
       "<pre style=\"white-space:pre;overflow-x:auto;line-height:normal;font-family:Menlo,'DejaVu Sans Mono',consolas,'Courier New',monospace\"><span style=\"color: #808000; text-decoration-color: #808000\">predicate</span>=<span style=\"color: #008000; text-decoration-color: #008000\">'has_her2_status'</span> <span style=\"color: #808000; text-decoration-color: #808000\">begin</span>=<span style=\"color: #008080; text-decoration-color: #008080; font-weight: bold\">9809</span> <span style=\"color: #808000; text-decoration-color: #808000\">end</span>=<span style=\"color: #008080; text-decoration-color: #008080; font-weight: bold\">9812</span> <span style=\"color: #808000; text-decoration-color: #808000\">type</span>=<span style=\"color: #008000; text-decoration-color: #008000\">'name'</span> <span style=\"color: #808000; text-decoration-color: #808000\">value</span>=<span style=\"color: #008000; text-decoration-color: #008000\">'her2'</span> <span style=\"color: #808000; text-decoration-color: #808000\">assertion</span>=<span style=\"color: #008000; text-decoration-color: #008000\">'present'</span>\n",
       "</pre>\n"
      ],
      "text/plain": [
       "\u001b[33mpredicate\u001b[0m=\u001b[32m'has_her2_status'\u001b[0m \u001b[33mbegin\u001b[0m=\u001b[1;36m9809\u001b[0m \u001b[33mend\u001b[0m=\u001b[1;36m9812\u001b[0m \u001b[33mtype\u001b[0m=\u001b[32m'name'\u001b[0m \u001b[33mvalue\u001b[0m=\u001b[32m'her2'\u001b[0m \u001b[33massertion\u001b[0m=\u001b[32m'present'\u001b[0m\n"
      ]
     },
     "metadata": {},
     "output_type": "display_data"
    },
    {
     "data": {
      "text/html": [
       "<pre style=\"white-space:pre;overflow-x:auto;line-height:normal;font-family:Menlo,'DejaVu Sans Mono',consolas,'Courier New',monospace\">============================================================================================\n",
       "</pre>\n"
      ],
      "text/plain": [
       "============================================================================================\n"
      ]
     },
     "metadata": {},
     "output_type": "display_data"
    },
    {
     "data": {
      "text/html": [
       "<pre style=\"white-space:pre;overflow-x:auto;line-height:normal;font-family:Menlo,'DejaVu Sans Mono',consolas,'Courier New',monospace\"><span style=\"color: #808000; text-decoration-color: #808000\">predicate</span>=<span style=\"color: #008000; text-decoration-color: #008000\">'has_her2_status'</span> <span style=\"color: #808000; text-decoration-color: #808000\">begin</span>=<span style=\"color: #008080; text-decoration-color: #008080; font-weight: bold\">9858</span> <span style=\"color: #808000; text-decoration-color: #808000\">end</span>=<span style=\"color: #008080; text-decoration-color: #008080; font-weight: bold\">9861</span> <span style=\"color: #808000; text-decoration-color: #808000\">type</span>=<span style=\"color: #008000; text-decoration-color: #008000\">'name'</span> <span style=\"color: #808000; text-decoration-color: #808000\">value</span>=<span style=\"color: #008000; text-decoration-color: #008000\">'her2'</span> <span style=\"color: #808000; text-decoration-color: #808000\">assertion</span>=<span style=\"color: #008000; text-decoration-color: #008000\">'present'</span>\n",
       "</pre>\n"
      ],
      "text/plain": [
       "\u001b[33mpredicate\u001b[0m=\u001b[32m'has_her2_status'\u001b[0m \u001b[33mbegin\u001b[0m=\u001b[1;36m9858\u001b[0m \u001b[33mend\u001b[0m=\u001b[1;36m9861\u001b[0m \u001b[33mtype\u001b[0m=\u001b[32m'name'\u001b[0m \u001b[33mvalue\u001b[0m=\u001b[32m'her2'\u001b[0m \u001b[33massertion\u001b[0m=\u001b[32m'present'\u001b[0m\n"
      ]
     },
     "metadata": {},
     "output_type": "display_data"
    },
    {
     "data": {
      "text/html": [
       "<pre style=\"white-space:pre;overflow-x:auto;line-height:normal;font-family:Menlo,'DejaVu Sans Mono',consolas,'Courier New',monospace\">============================================================================================\n",
       "</pre>\n"
      ],
      "text/plain": [
       "============================================================================================\n"
      ]
     },
     "metadata": {},
     "output_type": "display_data"
    },
    {
     "data": {
      "text/html": [
       "<pre style=\"white-space:pre;overflow-x:auto;line-height:normal;font-family:Menlo,'DejaVu Sans Mono',consolas,'Courier New',monospace\"><span style=\"color: #808000; text-decoration-color: #808000\">predicate</span>=<span style=\"color: #008000; text-decoration-color: #008000\">'has_her2_status'</span> <span style=\"color: #808000; text-decoration-color: #808000\">begin</span>=<span style=\"color: #008080; text-decoration-color: #008080; font-weight: bold\">9955</span> <span style=\"color: #808000; text-decoration-color: #808000\">end</span>=<span style=\"color: #008080; text-decoration-color: #008080; font-weight: bold\">9958</span> <span style=\"color: #808000; text-decoration-color: #808000\">type</span>=<span style=\"color: #008000; text-decoration-color: #008000\">'name'</span> <span style=\"color: #808000; text-decoration-color: #808000\">value</span>=<span style=\"color: #008000; text-decoration-color: #008000\">'her2'</span> <span style=\"color: #808000; text-decoration-color: #808000\">assertion</span>=<span style=\"color: #008000; text-decoration-color: #008000\">'present'</span>\n",
       "</pre>\n"
      ],
      "text/plain": [
       "\u001b[33mpredicate\u001b[0m=\u001b[32m'has_her2_status'\u001b[0m \u001b[33mbegin\u001b[0m=\u001b[1;36m9955\u001b[0m \u001b[33mend\u001b[0m=\u001b[1;36m9958\u001b[0m \u001b[33mtype\u001b[0m=\u001b[32m'name'\u001b[0m \u001b[33mvalue\u001b[0m=\u001b[32m'her2'\u001b[0m \u001b[33massertion\u001b[0m=\u001b[32m'present'\u001b[0m\n"
      ]
     },
     "metadata": {},
     "output_type": "display_data"
    },
    {
     "data": {
      "text/html": [
       "<pre style=\"white-space:pre;overflow-x:auto;line-height:normal;font-family:Menlo,'DejaVu Sans Mono',consolas,'Courier New',monospace\">============================================================================================\n",
       "</pre>\n"
      ],
      "text/plain": [
       "============================================================================================\n"
      ]
     },
     "metadata": {},
     "output_type": "display_data"
    },
    {
     "data": {
      "text/html": [
       "<pre style=\"white-space:pre;overflow-x:auto;line-height:normal;font-family:Menlo,'DejaVu Sans Mono',consolas,'Courier New',monospace\"><span style=\"color: #808000; text-decoration-color: #808000\">predicate</span>=<span style=\"color: #008000; text-decoration-color: #008000\">'has_her2_status'</span> <span style=\"color: #808000; text-decoration-color: #808000\">begin</span>=<span style=\"color: #008080; text-decoration-color: #008080; font-weight: bold\">9895</span> <span style=\"color: #808000; text-decoration-color: #808000\">end</span>=<span style=\"color: #008080; text-decoration-color: #008080; font-weight: bold\">9902</span> <span style=\"color: #808000; text-decoration-color: #808000\">type</span>=<span style=\"color: #008000; text-decoration-color: #008000\">'value'</span> <span style=\"color: #808000; text-decoration-color: #808000\">value</span>=<span style=\"color: #008000; text-decoration-color: #008000\">'positive'</span> \n",
       "<span style=\"color: #808000; text-decoration-color: #808000\">assertion</span>=<span style=\"color: #008000; text-decoration-color: #008000\">'present'</span>\n",
       "</pre>\n"
      ],
      "text/plain": [
       "\u001b[33mpredicate\u001b[0m=\u001b[32m'has_her2_status'\u001b[0m \u001b[33mbegin\u001b[0m=\u001b[1;36m9895\u001b[0m \u001b[33mend\u001b[0m=\u001b[1;36m9902\u001b[0m \u001b[33mtype\u001b[0m=\u001b[32m'value'\u001b[0m \u001b[33mvalue\u001b[0m=\u001b[32m'positive'\u001b[0m \n",
       "\u001b[33massertion\u001b[0m=\u001b[32m'present'\u001b[0m\n"
      ]
     },
     "metadata": {},
     "output_type": "display_data"
    },
    {
     "data": {
      "text/html": [
       "<pre style=\"white-space:pre;overflow-x:auto;line-height:normal;font-family:Menlo,'DejaVu Sans Mono',consolas,'Courier New',monospace\">============================================================================================\n",
       "</pre>\n"
      ],
      "text/plain": [
       "============================================================================================\n"
      ]
     },
     "metadata": {},
     "output_type": "display_data"
    },
    {
     "data": {
      "text/html": [
       "<pre style=\"white-space:pre;overflow-x:auto;line-height:normal;font-family:Menlo,'DejaVu Sans Mono',consolas,'Courier New',monospace\"><span style=\"color: #808000; text-decoration-color: #808000\">predicate</span>=<span style=\"color: #008000; text-decoration-color: #008000\">'has_her2_status'</span> <span style=\"color: #808000; text-decoration-color: #808000\">begin</span>=<span style=\"color: #008080; text-decoration-color: #008080; font-weight: bold\">9960</span> <span style=\"color: #808000; text-decoration-color: #808000\">end</span>=<span style=\"color: #008080; text-decoration-color: #008080; font-weight: bold\">9967</span> <span style=\"color: #808000; text-decoration-color: #808000\">type</span>=<span style=\"color: #008000; text-decoration-color: #008000\">'value'</span> <span style=\"color: #808000; text-decoration-color: #808000\">value</span>=<span style=\"color: #008000; text-decoration-color: #008000\">'negative'</span> \n",
       "<span style=\"color: #808000; text-decoration-color: #808000\">assertion</span>=<span style=\"color: #008000; text-decoration-color: #008000\">'present'</span>\n",
       "</pre>\n"
      ],
      "text/plain": [
       "\u001b[33mpredicate\u001b[0m=\u001b[32m'has_her2_status'\u001b[0m \u001b[33mbegin\u001b[0m=\u001b[1;36m9960\u001b[0m \u001b[33mend\u001b[0m=\u001b[1;36m9967\u001b[0m \u001b[33mtype\u001b[0m=\u001b[32m'value'\u001b[0m \u001b[33mvalue\u001b[0m=\u001b[32m'negative'\u001b[0m \n",
       "\u001b[33massertion\u001b[0m=\u001b[32m'present'\u001b[0m\n"
      ]
     },
     "metadata": {},
     "output_type": "display_data"
    },
    {
     "data": {
      "text/html": [
       "<pre style=\"white-space:pre;overflow-x:auto;line-height:normal;font-family:Menlo,'DejaVu Sans Mono',consolas,'Courier New',monospace\">============================================================================================\n",
       "</pre>\n"
      ],
      "text/plain": [
       "============================================================================================\n"
      ]
     },
     "metadata": {},
     "output_type": "display_data"
    },
    {
     "data": {
      "text/html": [
       "<pre style=\"white-space:pre;overflow-x:auto;line-height:normal;font-family:Menlo,'DejaVu Sans Mono',consolas,'Courier New',monospace\"><span style=\"color: #808000; text-decoration-color: #808000\">predicate</span>=<span style=\"color: #008000; text-decoration-color: #008000\">'has_her2_status'</span> <span style=\"color: #808000; text-decoration-color: #808000\">begin</span>=<span style=\"color: #008080; text-decoration-color: #008080; font-weight: bold\">9988</span> <span style=\"color: #808000; text-decoration-color: #808000\">end</span>=<span style=\"color: #008080; text-decoration-color: #008080; font-weight: bold\">9991</span> <span style=\"color: #808000; text-decoration-color: #808000\">type</span>=<span style=\"color: #008000; text-decoration-color: #008000\">'name'</span> <span style=\"color: #808000; text-decoration-color: #808000\">value</span>=<span style=\"color: #008000; text-decoration-color: #008000\">'her2'</span> <span style=\"color: #808000; text-decoration-color: #808000\">assertion</span>=<span style=\"color: #008000; text-decoration-color: #008000\">'present'</span>\n",
       "</pre>\n"
      ],
      "text/plain": [
       "\u001b[33mpredicate\u001b[0m=\u001b[32m'has_her2_status'\u001b[0m \u001b[33mbegin\u001b[0m=\u001b[1;36m9988\u001b[0m \u001b[33mend\u001b[0m=\u001b[1;36m9991\u001b[0m \u001b[33mtype\u001b[0m=\u001b[32m'name'\u001b[0m \u001b[33mvalue\u001b[0m=\u001b[32m'her2'\u001b[0m \u001b[33massertion\u001b[0m=\u001b[32m'present'\u001b[0m\n"
      ]
     },
     "metadata": {},
     "output_type": "display_data"
    },
    {
     "data": {
      "text/html": [
       "<pre style=\"white-space:pre;overflow-x:auto;line-height:normal;font-family:Menlo,'DejaVu Sans Mono',consolas,'Courier New',monospace\">============================================================================================\n",
       "</pre>\n"
      ],
      "text/plain": [
       "============================================================================================\n"
      ]
     },
     "metadata": {},
     "output_type": "display_data"
    },
    {
     "data": {
      "text/html": [
       "<pre style=\"white-space:pre;overflow-x:auto;line-height:normal;font-family:Menlo,'DejaVu Sans Mono',consolas,'Courier New',monospace\"><span style=\"color: #808000; text-decoration-color: #808000\">predicate</span>=<span style=\"color: #008000; text-decoration-color: #008000\">'has_her2_status'</span> <span style=\"color: #808000; text-decoration-color: #808000\">begin</span>=<span style=\"color: #008080; text-decoration-color: #008080; font-weight: bold\">9895</span> <span style=\"color: #808000; text-decoration-color: #808000\">end</span>=<span style=\"color: #008080; text-decoration-color: #008080; font-weight: bold\">9902</span> <span style=\"color: #808000; text-decoration-color: #808000\">type</span>=<span style=\"color: #008000; text-decoration-color: #008000\">'value'</span> <span style=\"color: #808000; text-decoration-color: #808000\">value</span>=<span style=\"color: #008000; text-decoration-color: #008000\">'positive'</span> \n",
       "<span style=\"color: #808000; text-decoration-color: #808000\">assertion</span>=<span style=\"color: #008000; text-decoration-color: #008000\">'present'</span>\n",
       "</pre>\n"
      ],
      "text/plain": [
       "\u001b[33mpredicate\u001b[0m=\u001b[32m'has_her2_status'\u001b[0m \u001b[33mbegin\u001b[0m=\u001b[1;36m9895\u001b[0m \u001b[33mend\u001b[0m=\u001b[1;36m9902\u001b[0m \u001b[33mtype\u001b[0m=\u001b[32m'value'\u001b[0m \u001b[33mvalue\u001b[0m=\u001b[32m'positive'\u001b[0m \n",
       "\u001b[33massertion\u001b[0m=\u001b[32m'present'\u001b[0m\n"
      ]
     },
     "metadata": {},
     "output_type": "display_data"
    },
    {
     "data": {
      "text/html": [
       "<pre style=\"white-space:pre;overflow-x:auto;line-height:normal;font-family:Menlo,'DejaVu Sans Mono',consolas,'Courier New',monospace\">============================================================================================\n",
       "</pre>\n"
      ],
      "text/plain": [
       "============================================================================================\n"
      ]
     },
     "metadata": {},
     "output_type": "display_data"
    },
    {
     "data": {
      "text/html": [
       "<pre style=\"white-space:pre;overflow-x:auto;line-height:normal;font-family:Menlo,'DejaVu Sans Mono',consolas,'Courier New',monospace\"><span style=\"color: #808000; text-decoration-color: #808000\">predicate</span>=<span style=\"color: #008000; text-decoration-color: #008000\">'has_her2_status'</span> <span style=\"color: #808000; text-decoration-color: #808000\">begin</span>=<span style=\"color: #008080; text-decoration-color: #008080; font-weight: bold\">9960</span> <span style=\"color: #808000; text-decoration-color: #808000\">end</span>=<span style=\"color: #008080; text-decoration-color: #008080; font-weight: bold\">9967</span> <span style=\"color: #808000; text-decoration-color: #808000\">type</span>=<span style=\"color: #008000; text-decoration-color: #008000\">'value'</span> <span style=\"color: #808000; text-decoration-color: #808000\">value</span>=<span style=\"color: #008000; text-decoration-color: #008000\">'negative'</span> \n",
       "<span style=\"color: #808000; text-decoration-color: #808000\">assertion</span>=<span style=\"color: #008000; text-decoration-color: #008000\">'present'</span>\n",
       "</pre>\n"
      ],
      "text/plain": [
       "\u001b[33mpredicate\u001b[0m=\u001b[32m'has_her2_status'\u001b[0m \u001b[33mbegin\u001b[0m=\u001b[1;36m9960\u001b[0m \u001b[33mend\u001b[0m=\u001b[1;36m9967\u001b[0m \u001b[33mtype\u001b[0m=\u001b[32m'value'\u001b[0m \u001b[33mvalue\u001b[0m=\u001b[32m'negative'\u001b[0m \n",
       "\u001b[33massertion\u001b[0m=\u001b[32m'present'\u001b[0m\n"
      ]
     },
     "metadata": {},
     "output_type": "display_data"
    },
    {
     "data": {
      "text/html": [
       "<pre style=\"white-space:pre;overflow-x:auto;line-height:normal;font-family:Menlo,'DejaVu Sans Mono',consolas,'Courier New',monospace\">============================================================================================\n",
       "</pre>\n"
      ],
      "text/plain": [
       "============================================================================================\n"
      ]
     },
     "metadata": {},
     "output_type": "display_data"
    },
    {
     "data": {
      "text/html": [
       "<pre style=\"white-space:pre;overflow-x:auto;line-height:normal;font-family:Menlo,'DejaVu Sans Mono',consolas,'Courier New',monospace\"><span style=\"color: #808000; text-decoration-color: #808000\">predicate</span>=<span style=\"color: #008000; text-decoration-color: #008000\">'has_her2_status'</span> <span style=\"color: #808000; text-decoration-color: #808000\">begin</span>=<span style=\"color: #008080; text-decoration-color: #008080; font-weight: bold\">10133</span> <span style=\"color: #808000; text-decoration-color: #808000\">end</span>=<span style=\"color: #008080; text-decoration-color: #008080; font-weight: bold\">10136</span> <span style=\"color: #808000; text-decoration-color: #808000\">type</span>=<span style=\"color: #008000; text-decoration-color: #008000\">'name'</span> <span style=\"color: #808000; text-decoration-color: #808000\">value</span>=<span style=\"color: #008000; text-decoration-color: #008000\">'her2'</span> \n",
       "<span style=\"color: #808000; text-decoration-color: #808000\">assertion</span>=<span style=\"color: #008000; text-decoration-color: #008000\">'present'</span>\n",
       "</pre>\n"
      ],
      "text/plain": [
       "\u001b[33mpredicate\u001b[0m=\u001b[32m'has_her2_status'\u001b[0m \u001b[33mbegin\u001b[0m=\u001b[1;36m10133\u001b[0m \u001b[33mend\u001b[0m=\u001b[1;36m10136\u001b[0m \u001b[33mtype\u001b[0m=\u001b[32m'name'\u001b[0m \u001b[33mvalue\u001b[0m=\u001b[32m'her2'\u001b[0m \n",
       "\u001b[33massertion\u001b[0m=\u001b[32m'present'\u001b[0m\n"
      ]
     },
     "metadata": {},
     "output_type": "display_data"
    },
    {
     "data": {
      "text/html": [
       "<pre style=\"white-space:pre;overflow-x:auto;line-height:normal;font-family:Menlo,'DejaVu Sans Mono',consolas,'Courier New',monospace\">============================================================================================\n",
       "</pre>\n"
      ],
      "text/plain": [
       "============================================================================================\n"
      ]
     },
     "metadata": {},
     "output_type": "display_data"
    },
    {
     "data": {
      "text/html": [
       "<pre style=\"white-space:pre;overflow-x:auto;line-height:normal;font-family:Menlo,'DejaVu Sans Mono',consolas,'Courier New',monospace\"><span style=\"color: #808000; text-decoration-color: #808000\">predicate</span>=<span style=\"color: #008000; text-decoration-color: #008000\">'has_her2_status'</span> <span style=\"color: #808000; text-decoration-color: #808000\">begin</span>=<span style=\"color: #008080; text-decoration-color: #008080; font-weight: bold\">10069</span> <span style=\"color: #808000; text-decoration-color: #808000\">end</span>=<span style=\"color: #008080; text-decoration-color: #008080; font-weight: bold\">10076</span> <span style=\"color: #808000; text-decoration-color: #808000\">type</span>=<span style=\"color: #008000; text-decoration-color: #008000\">'value'</span> <span style=\"color: #808000; text-decoration-color: #808000\">value</span>=<span style=\"color: #008000; text-decoration-color: #008000\">'negative'</span> \n",
       "<span style=\"color: #808000; text-decoration-color: #808000\">assertion</span>=<span style=\"color: #008000; text-decoration-color: #008000\">'present'</span>\n",
       "</pre>\n"
      ],
      "text/plain": [
       "\u001b[33mpredicate\u001b[0m=\u001b[32m'has_her2_status'\u001b[0m \u001b[33mbegin\u001b[0m=\u001b[1;36m10069\u001b[0m \u001b[33mend\u001b[0m=\u001b[1;36m10076\u001b[0m \u001b[33mtype\u001b[0m=\u001b[32m'value'\u001b[0m \u001b[33mvalue\u001b[0m=\u001b[32m'negative'\u001b[0m \n",
       "\u001b[33massertion\u001b[0m=\u001b[32m'present'\u001b[0m\n"
      ]
     },
     "metadata": {},
     "output_type": "display_data"
    },
    {
     "data": {
      "text/html": [
       "<pre style=\"white-space:pre;overflow-x:auto;line-height:normal;font-family:Menlo,'DejaVu Sans Mono',consolas,'Courier New',monospace\">============================================================================================\n",
       "</pre>\n"
      ],
      "text/plain": [
       "============================================================================================\n"
      ]
     },
     "metadata": {},
     "output_type": "display_data"
    },
    {
     "data": {
      "text/html": [
       "<pre style=\"white-space:pre;overflow-x:auto;line-height:normal;font-family:Menlo,'DejaVu Sans Mono',consolas,'Courier New',monospace\"><span style=\"color: #808000; text-decoration-color: #808000\">predicate</span>=<span style=\"color: #008000; text-decoration-color: #008000\">'has_her2_status'</span> <span style=\"color: #808000; text-decoration-color: #808000\">begin</span>=<span style=\"color: #008080; text-decoration-color: #008080; font-weight: bold\">10169</span> <span style=\"color: #808000; text-decoration-color: #808000\">end</span>=<span style=\"color: #008080; text-decoration-color: #008080; font-weight: bold\">10172</span> <span style=\"color: #808000; text-decoration-color: #808000\">type</span>=<span style=\"color: #008000; text-decoration-color: #008000\">'name'</span> <span style=\"color: #808000; text-decoration-color: #808000\">value</span>=<span style=\"color: #008000; text-decoration-color: #008000\">'her2'</span> \n",
       "<span style=\"color: #808000; text-decoration-color: #808000\">assertion</span>=<span style=\"color: #008000; text-decoration-color: #008000\">'present'</span>\n",
       "</pre>\n"
      ],
      "text/plain": [
       "\u001b[33mpredicate\u001b[0m=\u001b[32m'has_her2_status'\u001b[0m \u001b[33mbegin\u001b[0m=\u001b[1;36m10169\u001b[0m \u001b[33mend\u001b[0m=\u001b[1;36m10172\u001b[0m \u001b[33mtype\u001b[0m=\u001b[32m'name'\u001b[0m \u001b[33mvalue\u001b[0m=\u001b[32m'her2'\u001b[0m \n",
       "\u001b[33massertion\u001b[0m=\u001b[32m'present'\u001b[0m\n"
      ]
     },
     "metadata": {},
     "output_type": "display_data"
    },
    {
     "data": {
      "text/html": [
       "<pre style=\"white-space:pre;overflow-x:auto;line-height:normal;font-family:Menlo,'DejaVu Sans Mono',consolas,'Courier New',monospace\">============================================================================================\n",
       "</pre>\n"
      ],
      "text/plain": [
       "============================================================================================\n"
      ]
     },
     "metadata": {},
     "output_type": "display_data"
    },
    {
     "data": {
      "text/html": [
       "<pre style=\"white-space:pre;overflow-x:auto;line-height:normal;font-family:Menlo,'DejaVu Sans Mono',consolas,'Courier New',monospace\"><span style=\"color: #808000; text-decoration-color: #808000\">predicate</span>=<span style=\"color: #008000; text-decoration-color: #008000\">'has_her2_status'</span> <span style=\"color: #808000; text-decoration-color: #808000\">begin</span>=<span style=\"color: #008080; text-decoration-color: #008080; font-weight: bold\">10069</span> <span style=\"color: #808000; text-decoration-color: #808000\">end</span>=<span style=\"color: #008080; text-decoration-color: #008080; font-weight: bold\">10076</span> <span style=\"color: #808000; text-decoration-color: #808000\">type</span>=<span style=\"color: #008000; text-decoration-color: #008000\">'value'</span> <span style=\"color: #808000; text-decoration-color: #808000\">value</span>=<span style=\"color: #008000; text-decoration-color: #008000\">'negative'</span> \n",
       "<span style=\"color: #808000; text-decoration-color: #808000\">assertion</span>=<span style=\"color: #008000; text-decoration-color: #008000\">'present'</span>\n",
       "</pre>\n"
      ],
      "text/plain": [
       "\u001b[33mpredicate\u001b[0m=\u001b[32m'has_her2_status'\u001b[0m \u001b[33mbegin\u001b[0m=\u001b[1;36m10069\u001b[0m \u001b[33mend\u001b[0m=\u001b[1;36m10076\u001b[0m \u001b[33mtype\u001b[0m=\u001b[32m'value'\u001b[0m \u001b[33mvalue\u001b[0m=\u001b[32m'negative'\u001b[0m \n",
       "\u001b[33massertion\u001b[0m=\u001b[32m'present'\u001b[0m\n"
      ]
     },
     "metadata": {},
     "output_type": "display_data"
    },
    {
     "data": {
      "text/html": [
       "<pre style=\"white-space:pre;overflow-x:auto;line-height:normal;font-family:Menlo,'DejaVu Sans Mono',consolas,'Courier New',monospace\">============================================================================================\n",
       "</pre>\n"
      ],
      "text/plain": [
       "============================================================================================\n"
      ]
     },
     "metadata": {},
     "output_type": "display_data"
    },
    {
     "data": {
      "text/html": [
       "<pre style=\"white-space:pre;overflow-x:auto;line-height:normal;font-family:Menlo,'DejaVu Sans Mono',consolas,'Courier New',monospace\"><span style=\"color: #808000; text-decoration-color: #808000\">predicate</span>=<span style=\"color: #008000; text-decoration-color: #008000\">'has_her2_status'</span> <span style=\"color: #808000; text-decoration-color: #808000\">begin</span>=<span style=\"color: #008080; text-decoration-color: #008080; font-weight: bold\">10431</span> <span style=\"color: #808000; text-decoration-color: #808000\">end</span>=<span style=\"color: #008080; text-decoration-color: #008080; font-weight: bold\">10434</span> <span style=\"color: #808000; text-decoration-color: #808000\">type</span>=<span style=\"color: #008000; text-decoration-color: #008000\">'name'</span> <span style=\"color: #808000; text-decoration-color: #808000\">value</span>=<span style=\"color: #008000; text-decoration-color: #008000\">'her2'</span> \n",
       "<span style=\"color: #808000; text-decoration-color: #808000\">assertion</span>=<span style=\"color: #008000; text-decoration-color: #008000\">'present'</span>\n",
       "</pre>\n"
      ],
      "text/plain": [
       "\u001b[33mpredicate\u001b[0m=\u001b[32m'has_her2_status'\u001b[0m \u001b[33mbegin\u001b[0m=\u001b[1;36m10431\u001b[0m \u001b[33mend\u001b[0m=\u001b[1;36m10434\u001b[0m \u001b[33mtype\u001b[0m=\u001b[32m'name'\u001b[0m \u001b[33mvalue\u001b[0m=\u001b[32m'her2'\u001b[0m \n",
       "\u001b[33massertion\u001b[0m=\u001b[32m'present'\u001b[0m\n"
      ]
     },
     "metadata": {},
     "output_type": "display_data"
    },
    {
     "data": {
      "text/html": [
       "<pre style=\"white-space:pre;overflow-x:auto;line-height:normal;font-family:Menlo,'DejaVu Sans Mono',consolas,'Courier New',monospace\">============================================================================================\n",
       "</pre>\n"
      ],
      "text/plain": [
       "============================================================================================\n"
      ]
     },
     "metadata": {},
     "output_type": "display_data"
    },
    {
     "data": {
      "text/html": [
       "<pre style=\"white-space:pre;overflow-x:auto;line-height:normal;font-family:Menlo,'DejaVu Sans Mono',consolas,'Courier New',monospace\"><span style=\"color: #808000; text-decoration-color: #808000\">predicate</span>=<span style=\"color: #008000; text-decoration-color: #008000\">'has_her2_status'</span> <span style=\"color: #808000; text-decoration-color: #808000\">begin</span>=<span style=\"color: #008080; text-decoration-color: #008080; font-weight: bold\">10436</span> <span style=\"color: #808000; text-decoration-color: #808000\">end</span>=<span style=\"color: #008080; text-decoration-color: #008080; font-weight: bold\">10443</span> <span style=\"color: #808000; text-decoration-color: #808000\">type</span>=<span style=\"color: #008000; text-decoration-color: #008000\">'value'</span> <span style=\"color: #808000; text-decoration-color: #808000\">value</span>=<span style=\"color: #008000; text-decoration-color: #008000\">'negative'</span> \n",
       "<span style=\"color: #808000; text-decoration-color: #808000\">assertion</span>=<span style=\"color: #008000; text-decoration-color: #008000\">'present'</span>\n",
       "</pre>\n"
      ],
      "text/plain": [
       "\u001b[33mpredicate\u001b[0m=\u001b[32m'has_her2_status'\u001b[0m \u001b[33mbegin\u001b[0m=\u001b[1;36m10436\u001b[0m \u001b[33mend\u001b[0m=\u001b[1;36m10443\u001b[0m \u001b[33mtype\u001b[0m=\u001b[32m'value'\u001b[0m \u001b[33mvalue\u001b[0m=\u001b[32m'negative'\u001b[0m \n",
       "\u001b[33massertion\u001b[0m=\u001b[32m'present'\u001b[0m\n"
      ]
     },
     "metadata": {},
     "output_type": "display_data"
    },
    {
     "data": {
      "text/html": [
       "<pre style=\"white-space:pre;overflow-x:auto;line-height:normal;font-family:Menlo,'DejaVu Sans Mono',consolas,'Courier New',monospace\">============================================================================================\n",
       "</pre>\n"
      ],
      "text/plain": [
       "============================================================================================\n"
      ]
     },
     "metadata": {},
     "output_type": "display_data"
    },
    {
     "data": {
      "text/html": [
       "<pre style=\"white-space:pre;overflow-x:auto;line-height:normal;font-family:Menlo,'DejaVu Sans Mono',consolas,'Courier New',monospace\"><span style=\"color: #808000; text-decoration-color: #808000\">predicate</span>=<span style=\"color: #008000; text-decoration-color: #008000\">'has_her2_status'</span> <span style=\"color: #808000; text-decoration-color: #808000\">begin</span>=<span style=\"color: #008080; text-decoration-color: #008080; font-weight: bold\">10364</span> <span style=\"color: #808000; text-decoration-color: #808000\">end</span>=<span style=\"color: #008080; text-decoration-color: #008080; font-weight: bold\">10371</span> <span style=\"color: #808000; text-decoration-color: #808000\">type</span>=<span style=\"color: #008000; text-decoration-color: #008000\">'value'</span> <span style=\"color: #808000; text-decoration-color: #808000\">value</span>=<span style=\"color: #008000; text-decoration-color: #008000\">'negative'</span> \n",
       "<span style=\"color: #808000; text-decoration-color: #808000\">assertion</span>=<span style=\"color: #008000; text-decoration-color: #008000\">'present'</span>\n",
       "</pre>\n"
      ],
      "text/plain": [
       "\u001b[33mpredicate\u001b[0m=\u001b[32m'has_her2_status'\u001b[0m \u001b[33mbegin\u001b[0m=\u001b[1;36m10364\u001b[0m \u001b[33mend\u001b[0m=\u001b[1;36m10371\u001b[0m \u001b[33mtype\u001b[0m=\u001b[32m'value'\u001b[0m \u001b[33mvalue\u001b[0m=\u001b[32m'negative'\u001b[0m \n",
       "\u001b[33massertion\u001b[0m=\u001b[32m'present'\u001b[0m\n"
      ]
     },
     "metadata": {},
     "output_type": "display_data"
    },
    {
     "data": {
      "text/html": [
       "<pre style=\"white-space:pre;overflow-x:auto;line-height:normal;font-family:Menlo,'DejaVu Sans Mono',consolas,'Courier New',monospace\">============================================================================================\n",
       "</pre>\n"
      ],
      "text/plain": [
       "============================================================================================\n"
      ]
     },
     "metadata": {},
     "output_type": "display_data"
    },
    {
     "data": {
      "text/html": [
       "<pre style=\"white-space:pre;overflow-x:auto;line-height:normal;font-family:Menlo,'DejaVu Sans Mono',consolas,'Courier New',monospace\"><span style=\"color: #808000; text-decoration-color: #808000\">predicate</span>=<span style=\"color: #008000; text-decoration-color: #008000\">'has_her2_status'</span> <span style=\"color: #808000; text-decoration-color: #808000\">begin</span>=<span style=\"color: #008080; text-decoration-color: #008080; font-weight: bold\">10544</span> <span style=\"color: #808000; text-decoration-color: #808000\">end</span>=<span style=\"color: #008080; text-decoration-color: #008080; font-weight: bold\">10547</span> <span style=\"color: #808000; text-decoration-color: #808000\">type</span>=<span style=\"color: #008000; text-decoration-color: #008000\">'name'</span> <span style=\"color: #808000; text-decoration-color: #808000\">value</span>=<span style=\"color: #008000; text-decoration-color: #008000\">'her2'</span> \n",
       "<span style=\"color: #808000; text-decoration-color: #808000\">assertion</span>=<span style=\"color: #008000; text-decoration-color: #008000\">'present'</span>\n",
       "</pre>\n"
      ],
      "text/plain": [
       "\u001b[33mpredicate\u001b[0m=\u001b[32m'has_her2_status'\u001b[0m \u001b[33mbegin\u001b[0m=\u001b[1;36m10544\u001b[0m \u001b[33mend\u001b[0m=\u001b[1;36m10547\u001b[0m \u001b[33mtype\u001b[0m=\u001b[32m'name'\u001b[0m \u001b[33mvalue\u001b[0m=\u001b[32m'her2'\u001b[0m \n",
       "\u001b[33massertion\u001b[0m=\u001b[32m'present'\u001b[0m\n"
      ]
     },
     "metadata": {},
     "output_type": "display_data"
    },
    {
     "data": {
      "text/html": [
       "<pre style=\"white-space:pre;overflow-x:auto;line-height:normal;font-family:Menlo,'DejaVu Sans Mono',consolas,'Courier New',monospace\">============================================================================================\n",
       "</pre>\n"
      ],
      "text/plain": [
       "============================================================================================\n"
      ]
     },
     "metadata": {},
     "output_type": "display_data"
    },
    {
     "data": {
      "text/html": [
       "<pre style=\"white-space:pre;overflow-x:auto;line-height:normal;font-family:Menlo,'DejaVu Sans Mono',consolas,'Courier New',monospace\"><span style=\"color: #808000; text-decoration-color: #808000\">predicate</span>=<span style=\"color: #008000; text-decoration-color: #008000\">'has_her2_status'</span> <span style=\"color: #808000; text-decoration-color: #808000\">begin</span>=<span style=\"color: #008080; text-decoration-color: #008080; font-weight: bold\">10566</span> <span style=\"color: #808000; text-decoration-color: #808000\">end</span>=<span style=\"color: #008080; text-decoration-color: #008080; font-weight: bold\">10569</span> <span style=\"color: #808000; text-decoration-color: #808000\">type</span>=<span style=\"color: #008000; text-decoration-color: #008000\">'name'</span> <span style=\"color: #808000; text-decoration-color: #808000\">value</span>=<span style=\"color: #008000; text-decoration-color: #008000\">'her2'</span> \n",
       "<span style=\"color: #808000; text-decoration-color: #808000\">assertion</span>=<span style=\"color: #008000; text-decoration-color: #008000\">'present'</span>\n",
       "</pre>\n"
      ],
      "text/plain": [
       "\u001b[33mpredicate\u001b[0m=\u001b[32m'has_her2_status'\u001b[0m \u001b[33mbegin\u001b[0m=\u001b[1;36m10566\u001b[0m \u001b[33mend\u001b[0m=\u001b[1;36m10569\u001b[0m \u001b[33mtype\u001b[0m=\u001b[32m'name'\u001b[0m \u001b[33mvalue\u001b[0m=\u001b[32m'her2'\u001b[0m \n",
       "\u001b[33massertion\u001b[0m=\u001b[32m'present'\u001b[0m\n"
      ]
     },
     "metadata": {},
     "output_type": "display_data"
    },
    {
     "data": {
      "text/html": [
       "<pre style=\"white-space:pre;overflow-x:auto;line-height:normal;font-family:Menlo,'DejaVu Sans Mono',consolas,'Courier New',monospace\">============================================================================================\n",
       "</pre>\n"
      ],
      "text/plain": [
       "============================================================================================\n"
      ]
     },
     "metadata": {},
     "output_type": "display_data"
    },
    {
     "data": {
      "text/html": [
       "<pre style=\"white-space:pre;overflow-x:auto;line-height:normal;font-family:Menlo,'DejaVu Sans Mono',consolas,'Courier New',monospace\"><span style=\"color: #808000; text-decoration-color: #808000\">predicate</span>=<span style=\"color: #008000; text-decoration-color: #008000\">'has_her2_status'</span> <span style=\"color: #808000; text-decoration-color: #808000\">begin</span>=<span style=\"color: #008080; text-decoration-color: #008080; font-weight: bold\">10601</span> <span style=\"color: #808000; text-decoration-color: #808000\">end</span>=<span style=\"color: #008080; text-decoration-color: #008080; font-weight: bold\">10604</span> <span style=\"color: #808000; text-decoration-color: #808000\">type</span>=<span style=\"color: #008000; text-decoration-color: #008000\">'name'</span> <span style=\"color: #808000; text-decoration-color: #808000\">value</span>=<span style=\"color: #008000; text-decoration-color: #008000\">'her2'</span> \n",
       "<span style=\"color: #808000; text-decoration-color: #808000\">assertion</span>=<span style=\"color: #008000; text-decoration-color: #008000\">'present'</span>\n",
       "</pre>\n"
      ],
      "text/plain": [
       "\u001b[33mpredicate\u001b[0m=\u001b[32m'has_her2_status'\u001b[0m \u001b[33mbegin\u001b[0m=\u001b[1;36m10601\u001b[0m \u001b[33mend\u001b[0m=\u001b[1;36m10604\u001b[0m \u001b[33mtype\u001b[0m=\u001b[32m'name'\u001b[0m \u001b[33mvalue\u001b[0m=\u001b[32m'her2'\u001b[0m \n",
       "\u001b[33massertion\u001b[0m=\u001b[32m'present'\u001b[0m\n"
      ]
     },
     "metadata": {},
     "output_type": "display_data"
    },
    {
     "data": {
      "text/html": [
       "<pre style=\"white-space:pre;overflow-x:auto;line-height:normal;font-family:Menlo,'DejaVu Sans Mono',consolas,'Courier New',monospace\">============================================================================================\n",
       "</pre>\n"
      ],
      "text/plain": [
       "============================================================================================\n"
      ]
     },
     "metadata": {},
     "output_type": "display_data"
    },
    {
     "data": {
      "text/html": [
       "<pre style=\"white-space:pre;overflow-x:auto;line-height:normal;font-family:Menlo,'DejaVu Sans Mono',consolas,'Courier New',monospace\"><span style=\"color: #808000; text-decoration-color: #808000\">predicate</span>=<span style=\"color: #008000; text-decoration-color: #008000\">'has_her2_status'</span> <span style=\"color: #808000; text-decoration-color: #808000\">begin</span>=<span style=\"color: #008080; text-decoration-color: #008080; font-weight: bold\">10946</span> <span style=\"color: #808000; text-decoration-color: #808000\">end</span>=<span style=\"color: #008080; text-decoration-color: #008080; font-weight: bold\">10949</span> <span style=\"color: #808000; text-decoration-color: #808000\">type</span>=<span style=\"color: #008000; text-decoration-color: #008000\">'name'</span> <span style=\"color: #808000; text-decoration-color: #808000\">value</span>=<span style=\"color: #008000; text-decoration-color: #008000\">'her2'</span> \n",
       "<span style=\"color: #808000; text-decoration-color: #808000\">assertion</span>=<span style=\"color: #008000; text-decoration-color: #008000\">'present'</span>\n",
       "</pre>\n"
      ],
      "text/plain": [
       "\u001b[33mpredicate\u001b[0m=\u001b[32m'has_her2_status'\u001b[0m \u001b[33mbegin\u001b[0m=\u001b[1;36m10946\u001b[0m \u001b[33mend\u001b[0m=\u001b[1;36m10949\u001b[0m \u001b[33mtype\u001b[0m=\u001b[32m'name'\u001b[0m \u001b[33mvalue\u001b[0m=\u001b[32m'her2'\u001b[0m \n",
       "\u001b[33massertion\u001b[0m=\u001b[32m'present'\u001b[0m\n"
      ]
     },
     "metadata": {},
     "output_type": "display_data"
    },
    {
     "data": {
      "text/html": [
       "<pre style=\"white-space:pre;overflow-x:auto;line-height:normal;font-family:Menlo,'DejaVu Sans Mono',consolas,'Courier New',monospace\">============================================================================================\n",
       "</pre>\n"
      ],
      "text/plain": [
       "============================================================================================\n"
      ]
     },
     "metadata": {},
     "output_type": "display_data"
    },
    {
     "data": {
      "text/html": [
       "<pre style=\"white-space:pre;overflow-x:auto;line-height:normal;font-family:Menlo,'DejaVu Sans Mono',consolas,'Courier New',monospace\"><span style=\"color: #808000; text-decoration-color: #808000\">predicate</span>=<span style=\"color: #008000; text-decoration-color: #008000\">'has_her2_status'</span> <span style=\"color: #808000; text-decoration-color: #808000\">begin</span>=<span style=\"color: #008080; text-decoration-color: #008080; font-weight: bold\">10888</span> <span style=\"color: #808000; text-decoration-color: #808000\">end</span>=<span style=\"color: #008080; text-decoration-color: #008080; font-weight: bold\">10895</span> <span style=\"color: #808000; text-decoration-color: #808000\">type</span>=<span style=\"color: #008000; text-decoration-color: #008000\">'value'</span> <span style=\"color: #808000; text-decoration-color: #808000\">value</span>=<span style=\"color: #008000; text-decoration-color: #008000\">'positive'</span> \n",
       "<span style=\"color: #808000; text-decoration-color: #808000\">assertion</span>=<span style=\"color: #008000; text-decoration-color: #008000\">'present'</span>\n",
       "</pre>\n"
      ],
      "text/plain": [
       "\u001b[33mpredicate\u001b[0m=\u001b[32m'has_her2_status'\u001b[0m \u001b[33mbegin\u001b[0m=\u001b[1;36m10888\u001b[0m \u001b[33mend\u001b[0m=\u001b[1;36m10895\u001b[0m \u001b[33mtype\u001b[0m=\u001b[32m'value'\u001b[0m \u001b[33mvalue\u001b[0m=\u001b[32m'positive'\u001b[0m \n",
       "\u001b[33massertion\u001b[0m=\u001b[32m'present'\u001b[0m\n"
      ]
     },
     "metadata": {},
     "output_type": "display_data"
    },
    {
     "data": {
      "text/html": [
       "<pre style=\"white-space:pre;overflow-x:auto;line-height:normal;font-family:Menlo,'DejaVu Sans Mono',consolas,'Courier New',monospace\">============================================================================================\n",
       "</pre>\n"
      ],
      "text/plain": [
       "============================================================================================\n"
      ]
     },
     "metadata": {},
     "output_type": "display_data"
    },
    {
     "data": {
      "text/html": [
       "<pre style=\"white-space:pre;overflow-x:auto;line-height:normal;font-family:Menlo,'DejaVu Sans Mono',consolas,'Courier New',monospace\"><span style=\"color: #808000; text-decoration-color: #808000\">predicate</span>=<span style=\"color: #008000; text-decoration-color: #008000\">'has_her2_status'</span> <span style=\"color: #808000; text-decoration-color: #808000\">begin</span>=<span style=\"color: #008080; text-decoration-color: #008080; font-weight: bold\">10951</span> <span style=\"color: #808000; text-decoration-color: #808000\">end</span>=<span style=\"color: #008080; text-decoration-color: #008080; font-weight: bold\">10958</span> <span style=\"color: #808000; text-decoration-color: #808000\">type</span>=<span style=\"color: #008000; text-decoration-color: #008000\">'value'</span> <span style=\"color: #808000; text-decoration-color: #808000\">value</span>=<span style=\"color: #008000; text-decoration-color: #008000\">'negative'</span> \n",
       "<span style=\"color: #808000; text-decoration-color: #808000\">assertion</span>=<span style=\"color: #008000; text-decoration-color: #008000\">'present'</span>\n",
       "</pre>\n"
      ],
      "text/plain": [
       "\u001b[33mpredicate\u001b[0m=\u001b[32m'has_her2_status'\u001b[0m \u001b[33mbegin\u001b[0m=\u001b[1;36m10951\u001b[0m \u001b[33mend\u001b[0m=\u001b[1;36m10958\u001b[0m \u001b[33mtype\u001b[0m=\u001b[32m'value'\u001b[0m \u001b[33mvalue\u001b[0m=\u001b[32m'negative'\u001b[0m \n",
       "\u001b[33massertion\u001b[0m=\u001b[32m'present'\u001b[0m\n"
      ]
     },
     "metadata": {},
     "output_type": "display_data"
    },
    {
     "data": {
      "text/html": [
       "<pre style=\"white-space:pre;overflow-x:auto;line-height:normal;font-family:Menlo,'DejaVu Sans Mono',consolas,'Courier New',monospace\">============================================================================================\n",
       "</pre>\n"
      ],
      "text/plain": [
       "============================================================================================\n"
      ]
     },
     "metadata": {},
     "output_type": "display_data"
    },
    {
     "data": {
      "text/html": [
       "<pre style=\"white-space:pre;overflow-x:auto;line-height:normal;font-family:Menlo,'DejaVu Sans Mono',consolas,'Courier New',monospace\"><span style=\"color: #808000; text-decoration-color: #808000\">predicate</span>=<span style=\"color: #008000; text-decoration-color: #008000\">'has_her2_status'</span> <span style=\"color: #808000; text-decoration-color: #808000\">begin</span>=<span style=\"color: #008080; text-decoration-color: #008080; font-weight: bold\">11064</span> <span style=\"color: #808000; text-decoration-color: #808000\">end</span>=<span style=\"color: #008080; text-decoration-color: #008080; font-weight: bold\">11067</span> <span style=\"color: #808000; text-decoration-color: #808000\">type</span>=<span style=\"color: #008000; text-decoration-color: #008000\">'name'</span> <span style=\"color: #808000; text-decoration-color: #808000\">value</span>=<span style=\"color: #008000; text-decoration-color: #008000\">'her2'</span> \n",
       "<span style=\"color: #808000; text-decoration-color: #808000\">assertion</span>=<span style=\"color: #008000; text-decoration-color: #008000\">'present'</span>\n",
       "</pre>\n"
      ],
      "text/plain": [
       "\u001b[33mpredicate\u001b[0m=\u001b[32m'has_her2_status'\u001b[0m \u001b[33mbegin\u001b[0m=\u001b[1;36m11064\u001b[0m \u001b[33mend\u001b[0m=\u001b[1;36m11067\u001b[0m \u001b[33mtype\u001b[0m=\u001b[32m'name'\u001b[0m \u001b[33mvalue\u001b[0m=\u001b[32m'her2'\u001b[0m \n",
       "\u001b[33massertion\u001b[0m=\u001b[32m'present'\u001b[0m\n"
      ]
     },
     "metadata": {},
     "output_type": "display_data"
    },
    {
     "data": {
      "text/html": [
       "<pre style=\"white-space:pre;overflow-x:auto;line-height:normal;font-family:Menlo,'DejaVu Sans Mono',consolas,'Courier New',monospace\">============================================================================================\n",
       "</pre>\n"
      ],
      "text/plain": [
       "============================================================================================\n"
      ]
     },
     "metadata": {},
     "output_type": "display_data"
    }
   ],
   "source": [
    "for s in suggestions.abstractor_suggestions:\n",
    "    print(s)\n",
    "    print(\"=\"*92)"
   ]
  },
  {
   "cell_type": "code",
   "execution_count": null,
   "id": "879f14fd-7bb7-4900-b589-c81d93201597",
   "metadata": {},
   "outputs": [],
   "source": []
  }
 ],
 "metadata": {
  "kernelspec": {
   "display_name": "Python 3 (ipykernel)",
   "language": "python",
   "name": "python3"
  },
  "language_info": {
   "codemirror_mode": {
    "name": "ipython",
    "version": 3
   },
   "file_extension": ".py",
   "mimetype": "text/x-python",
   "name": "python",
   "nbconvert_exporter": "python",
   "pygments_lexer": "ipython3",
   "version": "3.10.5"
  }
 },
 "nbformat": 4,
 "nbformat_minor": 5
}
