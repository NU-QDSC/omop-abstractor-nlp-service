{
 "cells": [
  {
   "cell_type": "code",
   "execution_count": null,
   "id": "1b726056-b2d3-4ced-a43d-edd8212adaf3",
   "metadata": {},
   "outputs": [],
   "source": [
    "%load_ext autoreload\n",
    "%autoreload 2"
   ]
  },
  {
   "cell_type": "code",
   "execution_count": 1,
   "id": "e512dac9-4574-41a4-ad08-883dd8aaa033",
   "metadata": {},
   "outputs": [],
   "source": [
    "import json\n",
    "from pathlib import Path\n",
    "from typing import Dict, List\n",
    "from rich import print\n",
    "from rich.console import Console\n",
    "from rich.text import Text\n",
    "import textabstractor\n",
    "from textabstractor.dataclasses import *\n",
    "import clinspacy"
   ]
  },
  {
   "cell_type": "code",
   "execution_count": 2,
   "id": "bd9fdc99-8f83-4c23-98a5-9d30d77e4aad",
   "metadata": {},
   "outputs": [],
   "source": [
    "def load_schemas() -> Dict[int, AbstractionSchema]:\n",
    "    schemas = {}\n",
    "    for i in range(2055, 2069):\n",
    "        json_text = Path(f\"../textabstractor_testdata/prostate/{str(i)}.json\").read_text()\n",
    "        json_dict = json.loads(json_text)\n",
    "        schemas[i] = AbstractionSchema(**json_dict['abstractor_abstraction_schema'])\n",
    "    return schemas"
   ]
  },
  {
   "cell_type": "code",
   "execution_count": 3,
   "id": "9818c41b-a43f-4397-9b64-6b4c5edd4618",
   "metadata": {},
   "outputs": [],
   "source": [
    "request = SuggestRequest(**json.loads(Path(\"../../clinspacy/tests/data/prostate/request.json\").read_text()))\n",
    "\n",
    "schemas = load_schemas()\n",
    "for schema_meta_data in request.abstractor_abstraction_schemas:\n",
    "    textabstractor.textabstract.schema_cache[schema_meta_data.abstractor_abstraction_schema_uri] = (\n",
    "        schema_meta_data, schemas[schema_meta_data.abstractor_abstraction_schema_id]\n",
    "    )\n",
    "\n",
    "note_text = Path(\"../../clinspacy/tests/data/prostate/note-3-text.txt\").read_text()\n",
    "request.text = note_text\n",
    "suggestions = textabstractor.textabstract.extract_suggestions(\n",
    "    request=request\n",
    ")"
   ]
  },
  {
   "cell_type": "code",
   "execution_count": 4,
   "id": "b5786bdf-a3d7-4821-b4a3-c6ad6158b38d",
   "metadata": {},
   "outputs": [
    {
     "data": {
      "text/html": [
       "<pre style=\"white-space:pre;overflow-x:auto;line-height:normal;font-family:Menlo,'DejaVu Sans Mono',consolas,'Courier New',monospace\">--------------------------------------------------------------------------------------------\n",
       "</pre>\n"
      ],
      "text/plain": [
       "--------------------------------------------------------------------------------------------\n"
      ]
     },
     "metadata": {},
     "output_type": "display_data"
    },
    {
     "data": {
      "text/html": [
       "<pre style=\"white-space:pre;overflow-x:auto;line-height:normal;font-family:Menlo,'DejaVu Sans Mono',consolas,'Courier New',monospace\"><span style=\"color: #808000; text-decoration-color: #808000\">predicate</span>=<span style=\"color: #008000; text-decoration-color: #008000\">'has_extraprostatic_extension'</span> <span style=\"color: #808000; text-decoration-color: #808000\">begin</span>=<span style=\"color: #008080; text-decoration-color: #008080; font-weight: bold\">1060</span> <span style=\"color: #808000; text-decoration-color: #808000\">end</span>=<span style=\"color: #008080; text-decoration-color: #008080; font-weight: bold\">1083</span> <span style=\"color: #808000; text-decoration-color: #808000\">type</span>=<span style=\"color: #008000; text-decoration-color: #008000\">'name'</span> \n",
       "<span style=\"color: #808000; text-decoration-color: #808000\">value</span>=<span style=\"color: #008000; text-decoration-color: #008000\">'extraprostatic extension'</span> <span style=\"color: #808000; text-decoration-color: #808000\">assertion</span>=<span style=\"color: #008000; text-decoration-color: #008000\">'present'</span>\n",
       "</pre>\n"
      ],
      "text/plain": [
       "\u001b[33mpredicate\u001b[0m=\u001b[32m'has_extraprostatic_extension'\u001b[0m \u001b[33mbegin\u001b[0m=\u001b[1;36m1060\u001b[0m \u001b[33mend\u001b[0m=\u001b[1;36m1083\u001b[0m \u001b[33mtype\u001b[0m=\u001b[32m'name'\u001b[0m \n",
       "\u001b[33mvalue\u001b[0m=\u001b[32m'extraprostatic extension'\u001b[0m \u001b[33massertion\u001b[0m=\u001b[32m'present'\u001b[0m\n"
      ]
     },
     "metadata": {},
     "output_type": "display_data"
    },
    {
     "data": {
      "text/html": [
       "<pre style=\"white-space:pre;overflow-x:auto;line-height:normal;font-family:Menlo,'DejaVu Sans Mono',consolas,'Courier New',monospace\">Extraprostatic Extension\n",
       "</pre>\n"
      ],
      "text/plain": [
       "Extraprostatic Extension\n"
      ]
     },
     "metadata": {},
     "output_type": "display_data"
    },
    {
     "data": {
      "text/html": [
       "<pre style=\"white-space:pre;overflow-x:auto;line-height:normal;font-family:Menlo,'DejaVu Sans Mono',consolas,'Courier New',monospace\">--------------------------------------------------------------------------------------------\n",
       "</pre>\n"
      ],
      "text/plain": [
       "--------------------------------------------------------------------------------------------\n"
      ]
     },
     "metadata": {},
     "output_type": "display_data"
    },
    {
     "data": {
      "text/html": [
       "<pre style=\"white-space:pre;overflow-x:auto;line-height:normal;font-family:Menlo,'DejaVu Sans Mono',consolas,'Courier New',monospace\"><span style=\"color: #808000; text-decoration-color: #808000\">predicate</span>=<span style=\"color: #008000; text-decoration-color: #008000\">'has_extraprostatic_extension'</span> <span style=\"color: #808000; text-decoration-color: #808000\">begin</span>=<span style=\"color: #008080; text-decoration-color: #008080; font-weight: bold\">1099</span> <span style=\"color: #808000; text-decoration-color: #808000\">end</span>=<span style=\"color: #008080; text-decoration-color: #008080; font-weight: bold\">1108</span> <span style=\"color: #808000; text-decoration-color: #808000\">type</span>=<span style=\"color: #008000; text-decoration-color: #008000\">'value'</span> <span style=\"color: #808000; text-decoration-color: #808000\">value</span>=<span style=\"color: #008000; text-decoration-color: #008000\">'present'</span> \n",
       "<span style=\"color: #808000; text-decoration-color: #808000\">assertion</span>=<span style=\"color: #008000; text-decoration-color: #008000\">'present'</span>\n",
       "</pre>\n"
      ],
      "text/plain": [
       "\u001b[33mpredicate\u001b[0m=\u001b[32m'has_extraprostatic_extension'\u001b[0m \u001b[33mbegin\u001b[0m=\u001b[1;36m1099\u001b[0m \u001b[33mend\u001b[0m=\u001b[1;36m1108\u001b[0m \u001b[33mtype\u001b[0m=\u001b[32m'value'\u001b[0m \u001b[33mvalue\u001b[0m=\u001b[32m'present'\u001b[0m \n",
       "\u001b[33massertion\u001b[0m=\u001b[32m'present'\u001b[0m\n"
      ]
     },
     "metadata": {},
     "output_type": "display_data"
    },
    {
     "data": {
      "text/html": [
       "<pre style=\"white-space:pre;overflow-x:auto;line-height:normal;font-family:Menlo,'DejaVu Sans Mono',consolas,'Courier New',monospace\">identified\n",
       "</pre>\n"
      ],
      "text/plain": [
       "identified\n"
      ]
     },
     "metadata": {},
     "output_type": "display_data"
    },
    {
     "data": {
      "text/html": [
       "<pre style=\"white-space:pre;overflow-x:auto;line-height:normal;font-family:Menlo,'DejaVu Sans Mono',consolas,'Courier New',monospace\">--------------------------------------------------------------------------------------------\n",
       "</pre>\n"
      ],
      "text/plain": [
       "--------------------------------------------------------------------------------------------\n"
      ]
     },
     "metadata": {},
     "output_type": "display_data"
    },
    {
     "data": {
      "text/html": [
       "<pre style=\"white-space:pre;overflow-x:auto;line-height:normal;font-family:Menlo,'DejaVu Sans Mono',consolas,'Courier New',monospace\"><span style=\"color: #808000; text-decoration-color: #808000\">predicate</span>=<span style=\"color: #008000; text-decoration-color: #008000\">'has_extraprostatic_extension'</span> <span style=\"color: #808000; text-decoration-color: #808000\">begin</span>=<span style=\"color: #008080; text-decoration-color: #008080; font-weight: bold\">1871</span> <span style=\"color: #808000; text-decoration-color: #808000\">end</span>=<span style=\"color: #008080; text-decoration-color: #008080; font-weight: bold\">1894</span> <span style=\"color: #808000; text-decoration-color: #808000\">type</span>=<span style=\"color: #008000; text-decoration-color: #008000\">'name'</span> \n",
       "<span style=\"color: #808000; text-decoration-color: #808000\">value</span>=<span style=\"color: #008000; text-decoration-color: #008000\">'extraprostatic extension'</span> <span style=\"color: #808000; text-decoration-color: #808000\">assertion</span>=<span style=\"color: #008000; text-decoration-color: #008000\">'present'</span>\n",
       "</pre>\n"
      ],
      "text/plain": [
       "\u001b[33mpredicate\u001b[0m=\u001b[32m'has_extraprostatic_extension'\u001b[0m \u001b[33mbegin\u001b[0m=\u001b[1;36m1871\u001b[0m \u001b[33mend\u001b[0m=\u001b[1;36m1894\u001b[0m \u001b[33mtype\u001b[0m=\u001b[32m'name'\u001b[0m \n",
       "\u001b[33mvalue\u001b[0m=\u001b[32m'extraprostatic extension'\u001b[0m \u001b[33massertion\u001b[0m=\u001b[32m'present'\u001b[0m\n"
      ]
     },
     "metadata": {},
     "output_type": "display_data"
    },
    {
     "data": {
      "text/html": [
       "<pre style=\"white-space:pre;overflow-x:auto;line-height:normal;font-family:Menlo,'DejaVu Sans Mono',consolas,'Courier New',monospace\">Extraprostatic extension\n",
       "</pre>\n"
      ],
      "text/plain": [
       "Extraprostatic extension\n"
      ]
     },
     "metadata": {},
     "output_type": "display_data"
    },
    {
     "data": {
      "text/html": [
       "<pre style=\"white-space:pre;overflow-x:auto;line-height:normal;font-family:Menlo,'DejaVu Sans Mono',consolas,'Courier New',monospace\">--------------------------------------------------------------------------------------------\n",
       "</pre>\n"
      ],
      "text/plain": [
       "--------------------------------------------------------------------------------------------\n"
      ]
     },
     "metadata": {},
     "output_type": "display_data"
    },
    {
     "data": {
      "text/html": [
       "<pre style=\"white-space:pre;overflow-x:auto;line-height:normal;font-family:Menlo,'DejaVu Sans Mono',consolas,'Courier New',monospace\"><span style=\"color: #808000; text-decoration-color: #808000\">predicate</span>=<span style=\"color: #008000; text-decoration-color: #008000\">'has_extraprostatic_extension'</span> <span style=\"color: #808000; text-decoration-color: #808000\">begin</span>=<span style=\"color: #008080; text-decoration-color: #008080; font-weight: bold\">1901</span> <span style=\"color: #808000; text-decoration-color: #808000\">end</span>=<span style=\"color: #008080; text-decoration-color: #008080; font-weight: bold\">1924</span> <span style=\"color: #808000; text-decoration-color: #808000\">type</span>=<span style=\"color: #008000; text-decoration-color: #008000\">'name'</span> \n",
       "<span style=\"color: #808000; text-decoration-color: #808000\">value</span>=<span style=\"color: #008000; text-decoration-color: #008000\">'extraprostatic extension'</span> <span style=\"color: #808000; text-decoration-color: #808000\">assertion</span>=<span style=\"color: #008000; text-decoration-color: #008000\">'present'</span>\n",
       "</pre>\n"
      ],
      "text/plain": [
       "\u001b[33mpredicate\u001b[0m=\u001b[32m'has_extraprostatic_extension'\u001b[0m \u001b[33mbegin\u001b[0m=\u001b[1;36m1901\u001b[0m \u001b[33mend\u001b[0m=\u001b[1;36m1924\u001b[0m \u001b[33mtype\u001b[0m=\u001b[32m'name'\u001b[0m \n",
       "\u001b[33mvalue\u001b[0m=\u001b[32m'extraprostatic extension'\u001b[0m \u001b[33massertion\u001b[0m=\u001b[32m'present'\u001b[0m\n"
      ]
     },
     "metadata": {},
     "output_type": "display_data"
    },
    {
     "data": {
      "text/html": [
       "<pre style=\"white-space:pre;overflow-x:auto;line-height:normal;font-family:Menlo,'DejaVu Sans Mono',consolas,'Courier New',monospace\">Extraprostatic extension\n",
       "</pre>\n"
      ],
      "text/plain": [
       "Extraprostatic extension\n"
      ]
     },
     "metadata": {},
     "output_type": "display_data"
    },
    {
     "data": {
      "text/html": [
       "<pre style=\"white-space:pre;overflow-x:auto;line-height:normal;font-family:Menlo,'DejaVu Sans Mono',consolas,'Courier New',monospace\">--------------------------------------------------------------------------------------------\n",
       "</pre>\n"
      ],
      "text/plain": [
       "--------------------------------------------------------------------------------------------\n"
      ]
     },
     "metadata": {},
     "output_type": "display_data"
    }
   ],
   "source": [
    "print(\"-\"*92)\n",
    "for s in suggestions.abstractor_suggestions:\n",
    "    print(s)\n",
    "    print(note_text[s.begin:s.end+1])\n",
    "    print(\"-\"*92)"
   ]
  }
 ],
 "metadata": {
  "kernelspec": {
   "display_name": "Python 3 (ipykernel)",
   "language": "python",
   "name": "python3"
  },
  "language_info": {
   "codemirror_mode": {
    "name": "ipython",
    "version": 3
   },
   "file_extension": ".py",
   "mimetype": "text/x-python",
   "name": "python",
   "nbconvert_exporter": "python",
   "pygments_lexer": "ipython3",
   "version": "3.10.5"
  }
 },
 "nbformat": 4,
 "nbformat_minor": 5
}
